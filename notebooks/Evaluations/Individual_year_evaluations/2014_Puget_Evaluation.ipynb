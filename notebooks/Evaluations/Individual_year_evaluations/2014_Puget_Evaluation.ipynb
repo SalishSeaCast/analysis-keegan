{
 "cells": [
  {
   "cell_type": "code",
   "execution_count": 41,
   "metadata": {},
   "outputs": [],
   "source": [
    "import numpy as np\n",
    "import matplotlib.pyplot as plt\n",
    "import os\n",
    "import pandas as pd\n",
    "import netCDF4 as nc\n",
    "import datetime as dt\n",
    "from salishsea_tools import evaltools as et, viz_tools\n",
    "import gsw \n",
    "import matplotlib.gridspec as gridspec\n",
    "import matplotlib as mpl\n",
    "import matplotlib.dates as mdates\n",
    "import cmocean as cmo\n",
    "import scipy.interpolate as sinterp\n",
    "import pickle\n",
    "import cmocean\n",
    "import json\n",
    "import f90nml\n",
    "from collections import OrderedDict\n",
    "\n",
    "fs=16\n",
    "mpl.rc('xtick', labelsize=fs)\n",
    "mpl.rc('ytick', labelsize=fs)\n",
    "mpl.rc('legend', fontsize=fs)\n",
    "mpl.rc('axes', titlesize=fs)\n",
    "mpl.rc('axes', labelsize=fs)\n",
    "mpl.rc('figure', titlesize=fs)\n",
    "mpl.rc('font', size=fs)\n",
    "mpl.rc('font', family='sans-serif', weight='normal', style='normal')\n",
    "\n",
    "import warnings\n",
    "#warnings.filterwarnings('ignore')\n",
    "from IPython.display import Markdown, display\n",
    "\n",
    "%matplotlib inline"
   ]
  },
  {
   "cell_type": "raw",
   "metadata": {},
   "source": [
    "from IPython.display import HTML\n",
    "\n",
    "HTML('''<script>\n",
    "code_show=true; \n",
    "function code_toggle() {\n",
    " if (code_show){\n",
    " $('div.input').hide();\n",
    " } else {\n",
    " $('div.input').show();\n",
    " }\n",
    " code_show = !code_show\n",
    "} \n",
    "$( document ).ready(code_toggle);\n",
    "</script>\n",
    "\n",
    "<form action=\"javascript:code_toggle()\"><input type=\"submit\" value=\"Click here to toggle on/off the raw code.\"></form>''')\n"
   ]
  },
  {
   "cell_type": "code",
   "execution_count": 42,
   "metadata": {},
   "outputs": [],
   "source": [
    "year=2014\n",
    "PATH= '/results2/SalishSea/nowcast-green.201905/'\n",
    "datadir='/ocean/eolson/MEOPAR/obs/WADE/ptools_data/ecology'"
   ]
  },
  {
   "cell_type": "code",
   "execution_count": 43,
   "metadata": {},
   "outputs": [
    {
     "data": {
      "text/markdown": [
       "## Year: 2008"
      ],
      "text/plain": [
       "<IPython.core.display.Markdown object>"
      ]
     },
     "metadata": {},
     "output_type": "display_data"
    }
   ],
   "source": [
    "display(Markdown('''## Year: '''+ str(year)))"
   ]
  },
  {
   "cell_type": "code",
   "execution_count": 44,
   "metadata": {},
   "outputs": [
    {
     "data": {
      "text/markdown": [
       "### Model output: /results2/SalishSea/nowcast-green.201905/"
      ],
      "text/plain": [
       "<IPython.core.display.Markdown object>"
      ]
     },
     "metadata": {},
     "output_type": "display_data"
    }
   ],
   "source": [
    "display(Markdown('''### Model output: '''+ PATH))"
   ]
  },
  {
   "cell_type": "markdown",
   "metadata": {},
   "source": [
    "## Yearly model-data comparisons of nutrients, chlorophyll, temperature and salinity between 201905 runs and WADE observations"
   ]
  },
  {
   "cell_type": "markdown",
   "metadata": {},
   "source": [
    "### load observations"
   ]
  },
  {
   "cell_type": "code",
   "execution_count": 45,
   "metadata": {},
   "outputs": [],
   "source": [
    "dfSta=pickle.load(open(os.path.join(datadir,'sta_df.p'),'rb'))"
   ]
  },
  {
   "cell_type": "code",
   "execution_count": 46,
   "metadata": {},
   "outputs": [
    {
     "data": {
      "text/html": [
       "<div>\n",
       "<style scoped>\n",
       "    .dataframe tbody tr th:only-of-type {\n",
       "        vertical-align: middle;\n",
       "    }\n",
       "\n",
       "    .dataframe tbody tr th {\n",
       "        vertical-align: top;\n",
       "    }\n",
       "\n",
       "    .dataframe thead th {\n",
       "        text-align: right;\n",
       "    }\n",
       "</style>\n",
       "<table border=\"1\" class=\"dataframe\">\n",
       "  <thead>\n",
       "    <tr style=\"text-align: right;\">\n",
       "      <th></th>\n",
       "      <th>Desig</th>\n",
       "      <th>Descrip</th>\n",
       "      <th>Basin</th>\n",
       "      <th>Max_Depth</th>\n",
       "      <th>Latitude</th>\n",
       "      <th>Longitude</th>\n",
       "    </tr>\n",
       "    <tr>\n",
       "      <th>Station</th>\n",
       "      <th></th>\n",
       "      <th></th>\n",
       "      <th></th>\n",
       "      <th></th>\n",
       "      <th></th>\n",
       "      <th></th>\n",
       "    </tr>\n",
       "  </thead>\n",
       "  <tbody>\n",
       "    <tr>\n",
       "      <th>ADM001</th>\n",
       "      <td>C</td>\n",
       "      <td>Admiralty Inlet - Bush Pt.</td>\n",
       "      <td>Admiralty Inlet</td>\n",
       "      <td>114</td>\n",
       "      <td>48.029813</td>\n",
       "      <td>-122.617933</td>\n",
       "    </tr>\n",
       "    <tr>\n",
       "      <th>ADM002</th>\n",
       "      <td>C</td>\n",
       "      <td>Admiralty Inlet (north) - Quimper Pn.</td>\n",
       "      <td>Admiralty Inlet</td>\n",
       "      <td>79</td>\n",
       "      <td>48.187318</td>\n",
       "      <td>-122.842950</td>\n",
       "    </tr>\n",
       "    <tr>\n",
       "      <th>ADM003</th>\n",
       "      <td>C</td>\n",
       "      <td>Admiralty Inlet (south)</td>\n",
       "      <td>Admiralty Inlet</td>\n",
       "      <td>118</td>\n",
       "      <td>47.878983</td>\n",
       "      <td>-122.483195</td>\n",
       "    </tr>\n",
       "    <tr>\n",
       "      <th>BLL009</th>\n",
       "      <td>C</td>\n",
       "      <td>Bellingham Bay - Pt. Frances</td>\n",
       "      <td>Strait of Georgia</td>\n",
       "      <td>31</td>\n",
       "      <td>48.685940</td>\n",
       "      <td>-122.599618</td>\n",
       "    </tr>\n",
       "    <tr>\n",
       "      <th>BUD005</th>\n",
       "      <td>C</td>\n",
       "      <td>Budd Inlet - Olympia Shoal</td>\n",
       "      <td>South Basin</td>\n",
       "      <td>22</td>\n",
       "      <td>47.092040</td>\n",
       "      <td>-122.918197</td>\n",
       "    </tr>\n",
       "  </tbody>\n",
       "</table>\n",
       "</div>"
      ],
      "text/plain": [
       "        Desig                                Descrip              Basin  \\\n",
       "Station                                                                   \n",
       "ADM001      C             Admiralty Inlet - Bush Pt.    Admiralty Inlet   \n",
       "ADM002      C  Admiralty Inlet (north) - Quimper Pn.    Admiralty Inlet   \n",
       "ADM003      C                Admiralty Inlet (south)    Admiralty Inlet   \n",
       "BLL009      C           Bellingham Bay - Pt. Frances  Strait of Georgia   \n",
       "BUD005      C             Budd Inlet - Olympia Shoal        South Basin   \n",
       "\n",
       "         Max_Depth   Latitude   Longitude  \n",
       "Station                                    \n",
       "ADM001         114  48.029813 -122.617933  \n",
       "ADM002          79  48.187318 -122.842950  \n",
       "ADM003         118  47.878983 -122.483195  \n",
       "BLL009          31  48.685940 -122.599618  \n",
       "BUD005          22  47.092040 -122.918197  "
      ]
     },
     "execution_count": 46,
     "metadata": {},
     "output_type": "execute_result"
    }
   ],
   "source": [
    "dfSta.head()"
   ]
  },
  {
   "cell_type": "code",
   "execution_count": 47,
   "metadata": {},
   "outputs": [],
   "source": [
    "dfBot=pickle.load(open(os.path.join(datadir,f'Bottles_{str(year)}.p'),'rb'))"
   ]
  },
  {
   "cell_type": "code",
   "execution_count": 48,
   "metadata": {},
   "outputs": [
    {
     "data": {
      "text/html": [
       "<div>\n",
       "<style scoped>\n",
       "    .dataframe tbody tr th:only-of-type {\n",
       "        vertical-align: middle;\n",
       "    }\n",
       "\n",
       "    .dataframe tbody tr th {\n",
       "        vertical-align: top;\n",
       "    }\n",
       "\n",
       "    .dataframe thead th {\n",
       "        text-align: right;\n",
       "    }\n",
       "</style>\n",
       "<table border=\"1\" class=\"dataframe\">\n",
       "  <thead>\n",
       "    <tr style=\"text-align: right;\">\n",
       "      <th></th>\n",
       "      <th>Station</th>\n",
       "      <th>Date</th>\n",
       "      <th>UTCDateTime</th>\n",
       "      <th>Z</th>\n",
       "      <th>PO4(uM)D</th>\n",
       "      <th>SiOH4(uM)D</th>\n",
       "      <th>NO3(uM)D</th>\n",
       "      <th>NO2(uM)D</th>\n",
       "      <th>NH4(uM)D</th>\n",
       "      <th>DIN</th>\n",
       "      <th>Znom</th>\n",
       "    </tr>\n",
       "  </thead>\n",
       "  <tbody>\n",
       "    <tr>\n",
       "      <th>0</th>\n",
       "      <td>ADM001</td>\n",
       "      <td>2008-01-16</td>\n",
       "      <td>2008-01-16 18:29:59.999997</td>\n",
       "      <td>-9.791</td>\n",
       "      <td>2.515774</td>\n",
       "      <td>69.565697</td>\n",
       "      <td>28.578983</td>\n",
       "      <td>0.176679</td>\n",
       "      <td>0.000000</td>\n",
       "      <td>28.755662</td>\n",
       "      <td>-10.0</td>\n",
       "    </tr>\n",
       "    <tr>\n",
       "      <th>1</th>\n",
       "      <td>ADM001</td>\n",
       "      <td>2008-01-16</td>\n",
       "      <td>2008-01-16 18:29:59.999997</td>\n",
       "      <td>-0.921</td>\n",
       "      <td>2.522652</td>\n",
       "      <td>71.510185</td>\n",
       "      <td>28.859505</td>\n",
       "      <td>0.185250</td>\n",
       "      <td>0.000000</td>\n",
       "      <td>29.044755</td>\n",
       "      <td>-0.0</td>\n",
       "    </tr>\n",
       "    <tr>\n",
       "      <th>2</th>\n",
       "      <td>ADM001</td>\n",
       "      <td>2008-02-11</td>\n",
       "      <td>2008-02-11 17:53:00.000001</td>\n",
       "      <td>-30.097</td>\n",
       "      <td>2.505168</td>\n",
       "      <td>60.873280</td>\n",
       "      <td>29.307091</td>\n",
       "      <td>0.130660</td>\n",
       "      <td>0.038492</td>\n",
       "      <td>29.476243</td>\n",
       "      <td>-30.0</td>\n",
       "    </tr>\n",
       "    <tr>\n",
       "      <th>3</th>\n",
       "      <td>ADM001</td>\n",
       "      <td>2008-02-11</td>\n",
       "      <td>2008-02-11 17:53:00.000001</td>\n",
       "      <td>-10.121</td>\n",
       "      <td>2.412317</td>\n",
       "      <td>57.775993</td>\n",
       "      <td>28.054886</td>\n",
       "      <td>0.127318</td>\n",
       "      <td>0.000000</td>\n",
       "      <td>28.182204</td>\n",
       "      <td>-10.0</td>\n",
       "    </tr>\n",
       "    <tr>\n",
       "      <th>4</th>\n",
       "      <td>ADM001</td>\n",
       "      <td>2008-02-11</td>\n",
       "      <td>2008-02-11 17:53:00.000001</td>\n",
       "      <td>-0.948</td>\n",
       "      <td>2.525619</td>\n",
       "      <td>66.580368</td>\n",
       "      <td>30.189669</td>\n",
       "      <td>0.134782</td>\n",
       "      <td>0.000000</td>\n",
       "      <td>30.324451</td>\n",
       "      <td>-0.0</td>\n",
       "    </tr>\n",
       "  </tbody>\n",
       "</table>\n",
       "</div>"
      ],
      "text/plain": [
       "  Station       Date                UTCDateTime       Z  PO4(uM)D  SiOH4(uM)D  \\\n",
       "0  ADM001 2008-01-16 2008-01-16 18:29:59.999997  -9.791  2.515774   69.565697   \n",
       "1  ADM001 2008-01-16 2008-01-16 18:29:59.999997  -0.921  2.522652   71.510185   \n",
       "2  ADM001 2008-02-11 2008-02-11 17:53:00.000001 -30.097  2.505168   60.873280   \n",
       "3  ADM001 2008-02-11 2008-02-11 17:53:00.000001 -10.121  2.412317   57.775993   \n",
       "4  ADM001 2008-02-11 2008-02-11 17:53:00.000001  -0.948  2.525619   66.580368   \n",
       "\n",
       "    NO3(uM)D  NO2(uM)D  NH4(uM)D        DIN  Znom  \n",
       "0  28.578983  0.176679  0.000000  28.755662 -10.0  \n",
       "1  28.859505  0.185250  0.000000  29.044755  -0.0  \n",
       "2  29.307091  0.130660  0.038492  29.476243 -30.0  \n",
       "3  28.054886  0.127318  0.000000  28.182204 -10.0  \n",
       "4  30.189669  0.134782  0.000000  30.324451  -0.0  "
      ]
     },
     "execution_count": 48,
     "metadata": {},
     "output_type": "execute_result"
    }
   ],
   "source": [
    "dfBot.head()"
   ]
  },
  {
   "cell_type": "code",
   "execution_count": 49,
   "metadata": {
    "scrolled": true
   },
   "outputs": [
    {
     "data": {
      "text/html": [
       "<div>\n",
       "<style scoped>\n",
       "    .dataframe tbody tr th:only-of-type {\n",
       "        vertical-align: middle;\n",
       "    }\n",
       "\n",
       "    .dataframe tbody tr th {\n",
       "        vertical-align: top;\n",
       "    }\n",
       "\n",
       "    .dataframe thead th {\n",
       "        text-align: right;\n",
       "    }\n",
       "</style>\n",
       "<table border=\"1\" class=\"dataframe\">\n",
       "  <thead>\n",
       "    <tr style=\"text-align: right;\">\n",
       "      <th></th>\n",
       "      <th>Station</th>\n",
       "      <th>Desig</th>\n",
       "      <th>Descrip</th>\n",
       "      <th>Basin</th>\n",
       "      <th>Max_Depth</th>\n",
       "      <th>Latitude</th>\n",
       "      <th>Longitude</th>\n",
       "      <th>Date</th>\n",
       "      <th>UTCDateTime</th>\n",
       "      <th>Z</th>\n",
       "      <th>PO4(uM)D</th>\n",
       "      <th>SiOH4(uM)D</th>\n",
       "      <th>NO3(uM)D</th>\n",
       "      <th>NO2(uM)D</th>\n",
       "      <th>NH4(uM)D</th>\n",
       "      <th>DIN</th>\n",
       "      <th>Znom</th>\n",
       "    </tr>\n",
       "  </thead>\n",
       "  <tbody>\n",
       "    <tr>\n",
       "      <th>0</th>\n",
       "      <td>ADM001</td>\n",
       "      <td>C</td>\n",
       "      <td>Admiralty Inlet - Bush Pt.</td>\n",
       "      <td>Admiralty Inlet</td>\n",
       "      <td>114</td>\n",
       "      <td>48.029813</td>\n",
       "      <td>-122.617933</td>\n",
       "      <td>2008-01-16</td>\n",
       "      <td>2008-01-16 18:29:59.999997</td>\n",
       "      <td>-9.791</td>\n",
       "      <td>2.515774</td>\n",
       "      <td>69.565697</td>\n",
       "      <td>28.578983</td>\n",
       "      <td>0.176679</td>\n",
       "      <td>0.000000</td>\n",
       "      <td>28.755662</td>\n",
       "      <td>-10.0</td>\n",
       "    </tr>\n",
       "    <tr>\n",
       "      <th>1</th>\n",
       "      <td>ADM001</td>\n",
       "      <td>C</td>\n",
       "      <td>Admiralty Inlet - Bush Pt.</td>\n",
       "      <td>Admiralty Inlet</td>\n",
       "      <td>114</td>\n",
       "      <td>48.029813</td>\n",
       "      <td>-122.617933</td>\n",
       "      <td>2008-01-16</td>\n",
       "      <td>2008-01-16 18:29:59.999997</td>\n",
       "      <td>-0.921</td>\n",
       "      <td>2.522652</td>\n",
       "      <td>71.510185</td>\n",
       "      <td>28.859505</td>\n",
       "      <td>0.185250</td>\n",
       "      <td>0.000000</td>\n",
       "      <td>29.044755</td>\n",
       "      <td>-0.0</td>\n",
       "    </tr>\n",
       "    <tr>\n",
       "      <th>2</th>\n",
       "      <td>ADM001</td>\n",
       "      <td>C</td>\n",
       "      <td>Admiralty Inlet - Bush Pt.</td>\n",
       "      <td>Admiralty Inlet</td>\n",
       "      <td>114</td>\n",
       "      <td>48.029813</td>\n",
       "      <td>-122.617933</td>\n",
       "      <td>2008-02-11</td>\n",
       "      <td>2008-02-11 17:53:00.000001</td>\n",
       "      <td>-30.097</td>\n",
       "      <td>2.505168</td>\n",
       "      <td>60.873280</td>\n",
       "      <td>29.307091</td>\n",
       "      <td>0.130660</td>\n",
       "      <td>0.038492</td>\n",
       "      <td>29.476243</td>\n",
       "      <td>-30.0</td>\n",
       "    </tr>\n",
       "    <tr>\n",
       "      <th>3</th>\n",
       "      <td>ADM001</td>\n",
       "      <td>C</td>\n",
       "      <td>Admiralty Inlet - Bush Pt.</td>\n",
       "      <td>Admiralty Inlet</td>\n",
       "      <td>114</td>\n",
       "      <td>48.029813</td>\n",
       "      <td>-122.617933</td>\n",
       "      <td>2008-02-11</td>\n",
       "      <td>2008-02-11 17:53:00.000001</td>\n",
       "      <td>-10.121</td>\n",
       "      <td>2.412317</td>\n",
       "      <td>57.775993</td>\n",
       "      <td>28.054886</td>\n",
       "      <td>0.127318</td>\n",
       "      <td>0.000000</td>\n",
       "      <td>28.182204</td>\n",
       "      <td>-10.0</td>\n",
       "    </tr>\n",
       "    <tr>\n",
       "      <th>4</th>\n",
       "      <td>ADM001</td>\n",
       "      <td>C</td>\n",
       "      <td>Admiralty Inlet - Bush Pt.</td>\n",
       "      <td>Admiralty Inlet</td>\n",
       "      <td>114</td>\n",
       "      <td>48.029813</td>\n",
       "      <td>-122.617933</td>\n",
       "      <td>2008-02-11</td>\n",
       "      <td>2008-02-11 17:53:00.000001</td>\n",
       "      <td>-0.948</td>\n",
       "      <td>2.525619</td>\n",
       "      <td>66.580368</td>\n",
       "      <td>30.189669</td>\n",
       "      <td>0.134782</td>\n",
       "      <td>0.000000</td>\n",
       "      <td>30.324451</td>\n",
       "      <td>-0.0</td>\n",
       "    </tr>\n",
       "  </tbody>\n",
       "</table>\n",
       "</div>"
      ],
      "text/plain": [
       "  Station Desig                     Descrip            Basin  Max_Depth  \\\n",
       "0  ADM001     C  Admiralty Inlet - Bush Pt.  Admiralty Inlet        114   \n",
       "1  ADM001     C  Admiralty Inlet - Bush Pt.  Admiralty Inlet        114   \n",
       "2  ADM001     C  Admiralty Inlet - Bush Pt.  Admiralty Inlet        114   \n",
       "3  ADM001     C  Admiralty Inlet - Bush Pt.  Admiralty Inlet        114   \n",
       "4  ADM001     C  Admiralty Inlet - Bush Pt.  Admiralty Inlet        114   \n",
       "\n",
       "    Latitude   Longitude       Date                UTCDateTime       Z  \\\n",
       "0  48.029813 -122.617933 2008-01-16 2008-01-16 18:29:59.999997  -9.791   \n",
       "1  48.029813 -122.617933 2008-01-16 2008-01-16 18:29:59.999997  -0.921   \n",
       "2  48.029813 -122.617933 2008-02-11 2008-02-11 17:53:00.000001 -30.097   \n",
       "3  48.029813 -122.617933 2008-02-11 2008-02-11 17:53:00.000001 -10.121   \n",
       "4  48.029813 -122.617933 2008-02-11 2008-02-11 17:53:00.000001  -0.948   \n",
       "\n",
       "   PO4(uM)D  SiOH4(uM)D   NO3(uM)D  NO2(uM)D  NH4(uM)D        DIN  Znom  \n",
       "0  2.515774   69.565697  28.578983  0.176679  0.000000  28.755662 -10.0  \n",
       "1  2.522652   71.510185  28.859505  0.185250  0.000000  29.044755  -0.0  \n",
       "2  2.505168   60.873280  29.307091  0.130660  0.038492  29.476243 -30.0  \n",
       "3  2.412317   57.775993  28.054886  0.127318  0.000000  28.182204 -10.0  \n",
       "4  2.525619   66.580368  30.189669  0.134782  0.000000  30.324451  -0.0  "
      ]
     },
     "execution_count": 49,
     "metadata": {},
     "output_type": "execute_result"
    }
   ],
   "source": [
    "df1=pd.merge(left=dfSta,right=dfBot,how='right',\n",
    "             left_on='Station',right_on='Station')\n",
    "#right join means all rows in right table (dfBot) are included in output\n",
    "df1.head()"
   ]
  },
  {
   "cell_type": "code",
   "execution_count": 50,
   "metadata": {},
   "outputs": [
    {
     "data": {
      "text/html": [
       "<div>\n",
       "<style scoped>\n",
       "    .dataframe tbody tr th:only-of-type {\n",
       "        vertical-align: middle;\n",
       "    }\n",
       "\n",
       "    .dataframe tbody tr th {\n",
       "        vertical-align: top;\n",
       "    }\n",
       "\n",
       "    .dataframe thead th {\n",
       "        text-align: right;\n",
       "    }\n",
       "</style>\n",
       "<table border=\"1\" class=\"dataframe\">\n",
       "  <thead>\n",
       "    <tr style=\"text-align: right;\">\n",
       "      <th></th>\n",
       "      <th>Station</th>\n",
       "      <th>Desig</th>\n",
       "      <th>Descrip</th>\n",
       "      <th>Basin</th>\n",
       "      <th>Max_Depth</th>\n",
       "      <th>Latitude</th>\n",
       "      <th>Longitude</th>\n",
       "      <th>Date</th>\n",
       "      <th>UTCDateTime</th>\n",
       "      <th>Z</th>\n",
       "      <th>PO4(uM)D</th>\n",
       "      <th>SiOH4(uM)D</th>\n",
       "      <th>NO3(uM)D</th>\n",
       "      <th>NO2(uM)D</th>\n",
       "      <th>NH4(uM)D</th>\n",
       "      <th>DIN</th>\n",
       "      <th>Znom</th>\n",
       "    </tr>\n",
       "  </thead>\n",
       "  <tbody>\n",
       "  </tbody>\n",
       "</table>\n",
       "</div>"
      ],
      "text/plain": [
       "Empty DataFrame\n",
       "Columns: [Station, Desig, Descrip, Basin, Max_Depth, Latitude, Longitude, Date, UTCDateTime, Z, PO4(uM)D, SiOH4(uM)D, NO3(uM)D, NO2(uM)D, NH4(uM)D, DIN, Znom]\n",
       "Index: []"
      ]
     },
     "execution_count": 50,
     "metadata": {},
     "output_type": "execute_result"
    }
   ],
   "source": [
    "# check that there are no stations without lat and lon:\n",
    "df1.loc[pd.isnull(df1['Latitude'])]"
   ]
  },
  {
   "cell_type": "code",
   "execution_count": 51,
   "metadata": {},
   "outputs": [
    {
     "data": {
      "text/plain": [
       "(535, 535, 39)"
      ]
     },
     "execution_count": 51,
     "metadata": {},
     "output_type": "execute_result"
    }
   ],
   "source": [
    "# check one to one matches:\n",
    "len(df1),len(dfBot), len(dfSta)"
   ]
  },
  {
   "cell_type": "code",
   "execution_count": 52,
   "metadata": {},
   "outputs": [],
   "source": [
    "# where no time is provided, set time to midday Pacific time = ~ 20:00 UTC for now\n",
    "# (most sampling takes place during the day)\n",
    "# accurate times will be provided at a later date\n",
    "# the code below takes advantage of all elements in 'Date' having a time component \n",
    "# set to midnight\n",
    "df1['UTCDateTime']=[iiD+dt.timedelta(hours=20) if pd.isnull(iiU) \\\n",
    "                    else iiU for iiU,iiD in \\\n",
    "                    zip(df1['UTCDateTime'],df1['Date'])]"
   ]
  },
  {
   "cell_type": "code",
   "execution_count": 53,
   "metadata": {},
   "outputs": [
    {
     "data": {
      "text/html": [
       "<div>\n",
       "<style scoped>\n",
       "    .dataframe tbody tr th:only-of-type {\n",
       "        vertical-align: middle;\n",
       "    }\n",
       "\n",
       "    .dataframe tbody tr th {\n",
       "        vertical-align: top;\n",
       "    }\n",
       "\n",
       "    .dataframe thead th {\n",
       "        text-align: right;\n",
       "    }\n",
       "</style>\n",
       "<table border=\"1\" class=\"dataframe\">\n",
       "  <thead>\n",
       "    <tr style=\"text-align: right;\">\n",
       "      <th></th>\n",
       "      <th>Station</th>\n",
       "      <th>Desig</th>\n",
       "      <th>Descrip</th>\n",
       "      <th>Basin</th>\n",
       "      <th>Max_Depth</th>\n",
       "      <th>Lat</th>\n",
       "      <th>Lon</th>\n",
       "      <th>Date</th>\n",
       "      <th>dtUTC</th>\n",
       "      <th>Z</th>\n",
       "      <th>PO4(uM)D</th>\n",
       "      <th>SiOH4(uM)D</th>\n",
       "      <th>NO3(uM)D</th>\n",
       "      <th>NO2(uM)D</th>\n",
       "      <th>NH4(uM)D</th>\n",
       "      <th>DIN</th>\n",
       "      <th>Znom</th>\n",
       "    </tr>\n",
       "  </thead>\n",
       "  <tbody>\n",
       "    <tr>\n",
       "      <th>0</th>\n",
       "      <td>ADM001</td>\n",
       "      <td>C</td>\n",
       "      <td>Admiralty Inlet - Bush Pt.</td>\n",
       "      <td>Admiralty Inlet</td>\n",
       "      <td>114</td>\n",
       "      <td>48.029813</td>\n",
       "      <td>-122.617933</td>\n",
       "      <td>2008-01-16</td>\n",
       "      <td>2008-01-16 18:29:59.999997</td>\n",
       "      <td>9.791</td>\n",
       "      <td>2.515774</td>\n",
       "      <td>69.565697</td>\n",
       "      <td>28.578983</td>\n",
       "      <td>0.176679</td>\n",
       "      <td>0.000000</td>\n",
       "      <td>28.755662</td>\n",
       "      <td>-10.0</td>\n",
       "    </tr>\n",
       "    <tr>\n",
       "      <th>1</th>\n",
       "      <td>ADM001</td>\n",
       "      <td>C</td>\n",
       "      <td>Admiralty Inlet - Bush Pt.</td>\n",
       "      <td>Admiralty Inlet</td>\n",
       "      <td>114</td>\n",
       "      <td>48.029813</td>\n",
       "      <td>-122.617933</td>\n",
       "      <td>2008-01-16</td>\n",
       "      <td>2008-01-16 18:29:59.999997</td>\n",
       "      <td>0.921</td>\n",
       "      <td>2.522652</td>\n",
       "      <td>71.510185</td>\n",
       "      <td>28.859505</td>\n",
       "      <td>0.185250</td>\n",
       "      <td>0.000000</td>\n",
       "      <td>29.044755</td>\n",
       "      <td>-0.0</td>\n",
       "    </tr>\n",
       "    <tr>\n",
       "      <th>2</th>\n",
       "      <td>ADM001</td>\n",
       "      <td>C</td>\n",
       "      <td>Admiralty Inlet - Bush Pt.</td>\n",
       "      <td>Admiralty Inlet</td>\n",
       "      <td>114</td>\n",
       "      <td>48.029813</td>\n",
       "      <td>-122.617933</td>\n",
       "      <td>2008-02-11</td>\n",
       "      <td>2008-02-11 17:53:00.000001</td>\n",
       "      <td>30.097</td>\n",
       "      <td>2.505168</td>\n",
       "      <td>60.873280</td>\n",
       "      <td>29.307091</td>\n",
       "      <td>0.130660</td>\n",
       "      <td>0.038492</td>\n",
       "      <td>29.476243</td>\n",
       "      <td>-30.0</td>\n",
       "    </tr>\n",
       "    <tr>\n",
       "      <th>3</th>\n",
       "      <td>ADM001</td>\n",
       "      <td>C</td>\n",
       "      <td>Admiralty Inlet - Bush Pt.</td>\n",
       "      <td>Admiralty Inlet</td>\n",
       "      <td>114</td>\n",
       "      <td>48.029813</td>\n",
       "      <td>-122.617933</td>\n",
       "      <td>2008-02-11</td>\n",
       "      <td>2008-02-11 17:53:00.000001</td>\n",
       "      <td>10.121</td>\n",
       "      <td>2.412317</td>\n",
       "      <td>57.775993</td>\n",
       "      <td>28.054886</td>\n",
       "      <td>0.127318</td>\n",
       "      <td>0.000000</td>\n",
       "      <td>28.182204</td>\n",
       "      <td>-10.0</td>\n",
       "    </tr>\n",
       "    <tr>\n",
       "      <th>4</th>\n",
       "      <td>ADM001</td>\n",
       "      <td>C</td>\n",
       "      <td>Admiralty Inlet - Bush Pt.</td>\n",
       "      <td>Admiralty Inlet</td>\n",
       "      <td>114</td>\n",
       "      <td>48.029813</td>\n",
       "      <td>-122.617933</td>\n",
       "      <td>2008-02-11</td>\n",
       "      <td>2008-02-11 17:53:00.000001</td>\n",
       "      <td>0.948</td>\n",
       "      <td>2.525619</td>\n",
       "      <td>66.580368</td>\n",
       "      <td>30.189669</td>\n",
       "      <td>0.134782</td>\n",
       "      <td>0.000000</td>\n",
       "      <td>30.324451</td>\n",
       "      <td>-0.0</td>\n",
       "    </tr>\n",
       "  </tbody>\n",
       "</table>\n",
       "</div>"
      ],
      "text/plain": [
       "  Station Desig                     Descrip            Basin  Max_Depth  \\\n",
       "0  ADM001     C  Admiralty Inlet - Bush Pt.  Admiralty Inlet        114   \n",
       "1  ADM001     C  Admiralty Inlet - Bush Pt.  Admiralty Inlet        114   \n",
       "2  ADM001     C  Admiralty Inlet - Bush Pt.  Admiralty Inlet        114   \n",
       "3  ADM001     C  Admiralty Inlet - Bush Pt.  Admiralty Inlet        114   \n",
       "4  ADM001     C  Admiralty Inlet - Bush Pt.  Admiralty Inlet        114   \n",
       "\n",
       "         Lat         Lon       Date                      dtUTC       Z  \\\n",
       "0  48.029813 -122.617933 2008-01-16 2008-01-16 18:29:59.999997   9.791   \n",
       "1  48.029813 -122.617933 2008-01-16 2008-01-16 18:29:59.999997   0.921   \n",
       "2  48.029813 -122.617933 2008-02-11 2008-02-11 17:53:00.000001  30.097   \n",
       "3  48.029813 -122.617933 2008-02-11 2008-02-11 17:53:00.000001  10.121   \n",
       "4  48.029813 -122.617933 2008-02-11 2008-02-11 17:53:00.000001   0.948   \n",
       "\n",
       "   PO4(uM)D  SiOH4(uM)D   NO3(uM)D  NO2(uM)D  NH4(uM)D        DIN  Znom  \n",
       "0  2.515774   69.565697  28.578983  0.176679  0.000000  28.755662 -10.0  \n",
       "1  2.522652   71.510185  28.859505  0.185250  0.000000  29.044755  -0.0  \n",
       "2  2.505168   60.873280  29.307091  0.130660  0.038492  29.476243 -30.0  \n",
       "3  2.412317   57.775993  28.054886  0.127318  0.000000  28.182204 -10.0  \n",
       "4  2.525619   66.580368  30.189669  0.134782  0.000000  30.324451  -0.0  "
      ]
     },
     "execution_count": 53,
     "metadata": {},
     "output_type": "execute_result"
    }
   ],
   "source": [
    "# We require the following columns:\n",
    "#    dtUTC datetime\n",
    "#    Lat   Latitude\n",
    "#    Lon   Longitude\n",
    "#    Z     Depth, increasing downward (positive)\n",
    "df1.rename(columns={'UTCDateTime':'dtUTC','Latitude':'Lat','Longitude':'Lon'},inplace=True)\n",
    "df1['Z']=-1*df1['Z']\n",
    "df1.head()"
   ]
  },
  {
   "cell_type": "code",
   "execution_count": 54,
   "metadata": {},
   "outputs": [],
   "source": [
    "# It will also be useful to add/rename the following columns:\n",
    "df1['NO23']=df1['NO3(uM)D']+df1['NO2(uM)D'] # the model does not distinguish between NO2 and NO3\n",
    "df1['Amm']=df1['NH4(uM)D']\n",
    "df1['Si']=df1['SiOH4(uM)D']\n",
    "df1['Year']=[ii.year for ii in df1['dtUTC']]\n",
    "df1['YD']=et.datetimeToYD(df1['dtUTC'])"
   ]
  },
  {
   "cell_type": "markdown",
   "metadata": {},
   "source": [
    "## load CTD data and add CT and SA to nutrient data set"
   ]
  },
  {
   "cell_type": "code",
   "execution_count": 55,
   "metadata": {},
   "outputs": [],
   "source": [
    "dfCTD0=pickle.load(open(os.path.join(datadir,f'Casts_{str(year)}.p'),'rb'))\n",
    "dfCTD=pd.merge(left=dfSta,right=dfCTD0,how='right',\n",
    "             left_on='Station',right_on='Station')\n",
    "dfCTD['dtUTC']=[iiD+dt.timedelta(hours=20) for iiD in dfCTD['Date']] #Does this mean it also has that flaw where we are not sure when the data was collected?\n",
    "dfCTD.rename(columns={'Latitude':'Lat','Longitude':'Lon'},inplace=True)\n",
    "dfCTD['Z']=-1*dfCTD['Z']\n",
    "# Calculate Absolute (Reference) Salinity (g/kg) and Conservative Temperature (deg C) from \n",
    "# Salinity (psu) and Temperature (deg C):\n",
    "press=gsw.p_from_z(-1*dfCTD['Z'],dfCTD['Lat'])\n",
    "dfCTD['SA']=gsw.SA_from_SP(dfCTD['Salinity'],press,\n",
    "                           dfCTD['Lon'],dfCTD['Lat'])\n",
    "dfCTD['CT']=gsw.CT_from_t(dfCTD['SA'],dfCTD['Temperature'],press)\n",
    "\n",
    "dfCTD['Year']=[ii.year for ii in dfCTD['dtUTC']]\n",
    "dfCTD['YD']=et.datetimeToYD(dfCTD['dtUTC'])"
   ]
  },
  {
   "cell_type": "code",
   "execution_count": 56,
   "metadata": {},
   "outputs": [
    {
     "data": {
      "text/plain": [
       "Index(['Station', 'Desig', 'Descrip', 'Basin', 'Max_Depth', 'Lat', 'Lon',\n",
       "       'Salinity', 'Temperature', 'Sigma', 'Chl', 'DO', 'Turb', 'Z', 'Date',\n",
       "       'dtUTC', 'SA', 'CT', 'Year', 'YD'],\n",
       "      dtype='object')"
      ]
     },
     "execution_count": 56,
     "metadata": {},
     "output_type": "execute_result"
    }
   ],
   "source": [
    "dfCTD.keys()"
   ]
  },
  {
   "cell_type": "code",
   "execution_count": 57,
   "metadata": {},
   "outputs": [
    {
     "name": "stdout",
     "output_type": "stream",
     "text": [
      "this should be 1:  [1]\n"
     ]
    }
   ],
   "source": [
    "# check that there is never more than one ctd cast per station per day:\n",
    "test=dfCTD.groupby(['Station','Year','YD','Z']).count()\n",
    "print('this should be 1: ',test['Date'].unique())"
   ]
  },
  {
   "cell_type": "code",
   "execution_count": 58,
   "metadata": {},
   "outputs": [],
   "source": [
    "def interpCTDvar(sta,yr,yd,ztarget,ctdvar):\n",
    "    ctdlocs=(dfCTD.Station==sta)&(dfCTD.Year==yr)&(dfCTD.YD==yd)\n",
    "    if np.sum(ctdlocs)==0:\n",
    "        print(f'Warning: Station {sta}, Year {yr}, year day {yd} not found in dfCTD')\n",
    "        return np.nan\n",
    "    else:\n",
    "        val=np.interp(ztarget,dfCTD.loc[ctdlocs,['Z']].values.flatten(),\n",
    "                  dfCTD.loc[ctdlocs,[ctdvar]].values.flatten())\n",
    "        return val"
   ]
  },
  {
   "cell_type": "code",
   "execution_count": 59,
   "metadata": {},
   "outputs": [
    {
     "data": {
      "text/plain": [
       "array([  7,  35,  72,  99, 133, 163, 197, 219, 246, 301])"
      ]
     },
     "execution_count": 59,
     "metadata": {},
     "output_type": "execute_result"
    }
   ],
   "source": [
    "dfCTD.loc[dfCTD.Station=='PSS019']['YD'].unique()"
   ]
  },
  {
   "cell_type": "code",
   "execution_count": 60,
   "metadata": {},
   "outputs": [
    {
     "data": {
      "text/plain": [
       "array([  7,  35,  72,  99, 133, 163, 197, 219, 246, 301])"
      ]
     },
     "execution_count": 60,
     "metadata": {},
     "output_type": "execute_result"
    }
   ],
   "source": [
    "df1.loc[df1.Station=='PSS019']['YD'].unique()"
   ]
  },
  {
   "cell_type": "code",
   "execution_count": 61,
   "metadata": {},
   "outputs": [
    {
     "name": "stdout",
     "output_type": "stream",
     "text": [
      "Warning: Station GYS004, Year 2008, year day 56 not found in dfCTD\n",
      "Warning: Station GYS008, Year 2008, year day 238 not found in dfCTD\n",
      "Warning: Station GYS008, Year 2008, year day 238 not found in dfCTD\n",
      "Warning: Station PTH005, Year 2008, year day 246 not found in dfCTD\n",
      "Warning: Station PTH005, Year 2008, year day 246 not found in dfCTD\n",
      "Warning: Station SIN001, Year 2008, year day 46 not found in dfCTD\n",
      "Warning: Station SIN001, Year 2008, year day 46 not found in dfCTD\n",
      "Warning: Station SIN001, Year 2008, year day 206 not found in dfCTD\n",
      "Warning: Station SIN001, Year 2008, year day 206 not found in dfCTD\n",
      "Warning: Station WPA004, Year 2008, year day 210 not found in dfCTD\n"
     ]
    }
   ],
   "source": [
    "df1['SA']=[interpCTDvar(sta,yr,yd,ztarget,'SA') for sta, yr, yd, ztarget \\\n",
    "           in zip(df1['Station'],df1['Year'],df1['YD'],df1['Z'])]"
   ]
  },
  {
   "cell_type": "code",
   "execution_count": 62,
   "metadata": {},
   "outputs": [
    {
     "name": "stdout",
     "output_type": "stream",
     "text": [
      "Warning: Station GYS004, Year 2008, year day 56 not found in dfCTD\n",
      "Warning: Station GYS008, Year 2008, year day 238 not found in dfCTD\n",
      "Warning: Station GYS008, Year 2008, year day 238 not found in dfCTD\n",
      "Warning: Station PTH005, Year 2008, year day 246 not found in dfCTD\n",
      "Warning: Station PTH005, Year 2008, year day 246 not found in dfCTD\n",
      "Warning: Station SIN001, Year 2008, year day 46 not found in dfCTD\n",
      "Warning: Station SIN001, Year 2008, year day 46 not found in dfCTD\n",
      "Warning: Station SIN001, Year 2008, year day 206 not found in dfCTD\n",
      "Warning: Station SIN001, Year 2008, year day 206 not found in dfCTD\n",
      "Warning: Station WPA004, Year 2008, year day 210 not found in dfCTD\n"
     ]
    }
   ],
   "source": [
    "df1['CT']=[interpCTDvar(sta,yr,yd,ztarget,'CT') for sta, yr, yd, ztarget \\\n",
    "           in zip(df1['Station'],df1['Year'],df1['YD'],df1['Z'])]"
   ]
  },
  {
   "cell_type": "markdown",
   "metadata": {},
   "source": [
    "### set up variables for model-data matching"
   ]
  },
  {
   "cell_type": "code",
   "execution_count": 63,
   "metadata": {},
   "outputs": [],
   "source": [
    "fdict={'ptrc_T':1,'grid_T':1}\n",
    "# start_date and end_date are the first and last dates that will \n",
    "#  be included in the matched data set\n",
    "start_date = dt.datetime(year,1,1)\n",
    "end_date = dt.datetime(year,12,31)\n",
    "flen=1 # number of days per model output file. always 1 for 201905 and 201812 model runs\n",
    "namfmt='nowcast' # for 201905 and 201812 model runs, this should always be 'nowcast'\n",
    "# filemap is dictionary of the form variableName: fileType, where variableName is the name\n",
    "# of the variable you want to extract and fileType designates the type of \n",
    "# model output file it can be found in (usually ptrc_T for biology, grid_T for temperature and \n",
    "# salinity)\n",
    "filemap={'nitrate':'ptrc_T','silicon':'ptrc_T','ammonium':'ptrc_T','diatoms':'ptrc_T',\n",
    "         'ciliates':'ptrc_T','flagellates':'ptrc_T','votemper':'grid_T','vosaline':'grid_T'}\n",
    "# fdict is a dictionary mappy file type to its time resolution. Here, 1 means hourly output\n",
    "# (1h file) and 24 means daily output (1d file). In certain runs, multiple time resolutions \n",
    "# are available\n",
    "fdict={'ptrc_T':1,'grid_T':1}\n",
    "# Note: to switch between 201812 and 201905 model results, change PATH\n",
    "# to switch from hourly to daily model output, change fdict values from 1 to 24 (but daily \n",
    "#  files are not available for some runs and file types)"
   ]
  },
  {
   "cell_type": "code",
   "execution_count": null,
   "metadata": {},
   "outputs": [
    {
     "name": "stdout",
     "output_type": "stream",
     "text": [
      "(Lat,Lon)= 46.453155 -124.00960333333333  not matched to domain\n",
      "(Lat,Lon)= 46.463155 -123.94126833333334  not matched to domain\n",
      "(Lat,Lon)= 46.54537666666667 -123.98016166666666  not matched to domain\n",
      "(Lat,Lon)= 46.644 -123.993  not matched to domain\n",
      "(Lat,Lon)= 46.68676333333333 -123.9735  not matched to domain\n",
      "(Lat,Lon)= 46.68732166666667 -123.74988166666667  not matched to domain\n",
      "(Lat,Lon)= 46.703986666666665 -123.837385  not matched to domain\n",
      "(Lat,Lon)= 46.937313333333336 -123.91322333333333  not matched to domain\n",
      "(Lat,Lon)= 46.953421666666664 -124.09295  not matched to domain\n",
      "(Lat,Lon)= 46.97787 -123.78461  not matched to domain\n",
      "(Lat,Lon)= 47.21342666666666 -123.07765  not matched to domain\n"
     ]
    }
   ],
   "source": [
    "data=et.matchData(df1,filemap,fdict,start_date,end_date,'nowcast',PATH,1,quiet=False);"
   ]
  },
  {
   "cell_type": "code",
   "execution_count": null,
   "metadata": {},
   "outputs": [],
   "source": [
    "cm1=cmocean.cm.thermal\n",
    "with nc.Dataset('/data/eolson/results/MEOPAR/NEMO-forcing-new/grid/bathymetry_201702.nc') as bathy:\n",
    "    bathylon=np.copy(bathy.variables['nav_lon'][:,:])\n",
    "    bathylat=np.copy(bathy.variables['nav_lat'][:,:])\n",
    "    bathyZ=np.copy(bathy.variables['Bathymetry'][:,:])"
   ]
  },
  {
   "cell_type": "code",
   "execution_count": null,
   "metadata": {},
   "outputs": [],
   "source": [
    "fig, ax = plt.subplots(1,1,figsize = (6,6))\n",
    "with nc.Dataset('/data/vdo/MEOPAR/NEMO-forcing/grid/bathymetry_201702.nc') as grid:\n",
    "    viz_tools.plot_coastline(ax, grid, coords = 'map',isobath=.1)\n",
    "colors=('teal','green','firebrick','darkorange','darkviolet','fuchsia',\n",
    "        'royalblue','darkgoldenrod','mediumspringgreen','deepskyblue')\n",
    "datreg=dict()\n",
    "for ind, iregion in enumerate(data.Basin.unique()):\n",
    "    datreg[iregion] = data.loc[data.Basin==iregion]\n",
    "    ax.plot(datreg[iregion]['Lon'], datreg[iregion]['Lat'],'.',\n",
    "            color = colors[ind], label=iregion)\n",
    "ax.set_ylim(47, 49)\n",
    "ax.legend(bbox_to_anchor=[1,.6,0,0])\n",
    "ax.set_xlim(-124, -122);\n",
    "ax.set_title('Observation Locations');\n",
    "\n",
    "iz=(data.Z<15)\n",
    "JFM=data.loc[iz&(data.dtUTC<=dt.datetime(year,4,1)),:]\n",
    "Apr=data.loc[iz&(data.dtUTC<=dt.datetime(year,5,1))&(data.dtUTC>dt.datetime(year,4,1)),:]\n",
    "MJJA=data.loc[iz&(data.dtUTC<=dt.datetime(year,9,1))&(data.dtUTC>dt.datetime(year,5,1)),:]\n",
    "SOND=data.loc[iz&(data.dtUTC>dt.datetime(year,9,1)),:]"
   ]
  },
  {
   "cell_type": "code",
   "execution_count": null,
   "metadata": {},
   "outputs": [],
   "source": [
    "def byDepth(ax,obsvar,modvar,lims):\n",
    "    ps=et.varvarPlot(ax,data,obsvar,modvar,'Z',(15,22),'z','m',('mediumseagreen','darkturquoise','navy'))\n",
    "    l=ax.legend(handles=ps)\n",
    "    ax.set_xlabel('Obs')\n",
    "    ax.set_ylabel('Model')\n",
    "    ax.plot(lims,lims,'k-',alpha=.5)\n",
    "    ax.set_xlim(lims)\n",
    "    ax.set_ylim(lims)\n",
    "    ax.set_aspect(1)\n",
    "    return ps,l\n",
    "\n",
    "def byRegion(ax,obsvar,modvar,lims):\n",
    "    ps=[]\n",
    "    for ind, iregion in enumerate(data.Basin.unique()):\n",
    "        ax.plot(datreg[iregion]['Lon'], datreg[iregion]['Lat'],'.',\n",
    "                color = colors[ind], label=iregion)\n",
    "        ps0=et.varvarPlot(ax,datreg[iregion],obsvar,modvar,\n",
    "                          cols=(colors[ind],),lname=iregion)\n",
    "        ps.append(ps0)\n",
    "    l=ax.legend(handles=[ip[0][0] for ip in ps])\n",
    "    ax.set_xlabel('Obs')\n",
    "    ax.set_ylabel('Model')\n",
    "    ax.plot(lims,lims,'k-',alpha=.5)\n",
    "    ax.set_xlim(lims)\n",
    "    ax.set_ylim(lims)\n",
    "    ax.set_aspect(1)\n",
    "    return ps,l\n",
    "\n",
    "def bySeason(ax,obsvar,modvar,lims):\n",
    "    for axi in ax:\n",
    "        axi.plot(lims,lims,'k-')\n",
    "        axi.set_xlim(lims)\n",
    "        axi.set_ylim(lims)\n",
    "        axi.set_aspect(1)\n",
    "        axi.set_xlabel('Obs')\n",
    "        axi.set_ylabel('Model')\n",
    "    ps=et.varvarPlot(ax[0],JFM,obsvar,modvar,cols=('crimson','darkturquoise','navy'))\n",
    "    ax[0].set_title('Jan-Mar')\n",
    "    ps=et.varvarPlot(ax[1],Apr,obsvar,modvar,cols=('crimson','darkturquoise','navy'))\n",
    "    ax[1].set_title('Apr')\n",
    "    ps=et.varvarPlot(ax[2],MJJA,obsvar,modvar,cols=('crimson','darkturquoise','navy'))\n",
    "    ax[2].set_title('May-Aug')\n",
    "    ps=et.varvarPlot(ax[3],SOND,obsvar,modvar,cols=('crimson','darkturquoise','navy'))\n",
    "    ax[3].set_title('Sep-Dec')\n",
    "    return \n",
    "\n",
    "def ErrErr(fig,ax,obsvar1,modvar1,obsvar2,modvar2,lims1,lims2):\n",
    "    m=ax.scatter(data[modvar1]-data[obsvar1],data[modvar2]-data[obsvar2],c=data['Z'],s=1,cmap='gnuplot')\n",
    "    cb=fig.colorbar(m,ax=ax,label='Depth (m)')\n",
    "    ax.set_xlim(lims1)\n",
    "    ax.set_ylim(lims2)\n",
    "    ax.set_aspect((lims1[1]-lims1[0])/(lims2[1]-lims2[0]))\n",
    "    return m,cb"
   ]
  },
  {
   "cell_type": "code",
   "execution_count": null,
   "metadata": {},
   "outputs": [],
   "source": [
    "### These groupings will be used to calculate statistics. The keys are labels and\n",
    "### the values are corresponding dataframe views\n",
    "statsubs=OrderedDict({'z < 15 m':data.loc[data.Z<15],\n",
    "                      '15 m < z < 22 m':data.loc[(data.Z>=15)&(data.Z<22)],\n",
    "                      'z >= 22 m':data.loc[data.Z>=22],\n",
    "                      'z > 50 m':data.loc[data.Z>50],\n",
    "                      'all':data,\n",
    "                      'z < 15 m, JFM':JFM,\n",
    "                      'z < 15 m, Apr':Apr,\n",
    "                      'z < 15 m, MJJA':MJJA,\n",
    "                      'z < 15 m, SOND': SOND,})\n",
    "for iregion in data.Basin.unique():\n",
    "    statsubs[iregion]=datreg[iregion]\n",
    "statsubs.keys()"
   ]
  },
  {
   "cell_type": "markdown",
   "metadata": {},
   "source": [
    "# Nitrate"
   ]
  },
  {
   "cell_type": "code",
   "execution_count": null,
   "metadata": {},
   "outputs": [],
   "source": [
    "obsvar='NO23'\n",
    "modvar='mod_nitrate'\n",
    "statsDict={year:dict()}\n",
    "statsDict[year]['NO3']=OrderedDict()\n",
    "for isub in statsubs:\n",
    "    print(isub)\n",
    "    statsDict[year]['NO3'][isub]=dict()\n",
    "    var=statsDict[year]['NO3'][isub]\n",
    "    var['N'],mmean,omean,var['Bias'],var['RMSE'],var['WSS']=et.stats(statsubs[isub].loc[:,[obsvar]],\n",
    "                                                                     statsubs[isub].loc[:,[modvar]])\n",
    "tbl,tdf=et.displayStats(statsDict[year]['NO3'],level='Subset',suborder=list(statsubs.keys()))\n",
    "tbl"
   ]
  },
  {
   "cell_type": "code",
   "execution_count": null,
   "metadata": {},
   "outputs": [],
   "source": [
    "fig, ax = plt.subplots(1,2,figsize = (16,7))\n",
    "ps,l=byDepth(ax[0],obsvar,modvar,(0,40))\n",
    "ax[0].set_title('NO$_3$ ($\\mu$M) By Depth')\n",
    "\n",
    "ps,l=byRegion(ax[1],obsvar,modvar,(0,40))\n",
    "ax[1].set_title('NO$_3$ ($\\mu$M) By Region');"
   ]
  },
  {
   "cell_type": "code",
   "execution_count": null,
   "metadata": {},
   "outputs": [],
   "source": [
    "fig, ax = plt.subplots(1,4,figsize = (16,3.3))\n",
    "bySeason(ax,obsvar,modvar,(0,30))\n",
    "fig,ax=plt.subplots(1,1,figsize=(20,.3))\n",
    "ax.plot(data.dtUTC,np.ones(np.shape(data.dtUTC)),'k.')\n",
    "ax.set_xlim((dt.datetime(year,1,1),dt.datetime(year,12,31)))\n",
    "ax.set_title('Data Timing')\n",
    "ax.yaxis.set_visible(False)"
   ]
  },
  {
   "cell_type": "markdown",
   "metadata": {},
   "source": [
    "# Dissolved Silica"
   ]
  },
  {
   "cell_type": "code",
   "execution_count": null,
   "metadata": {},
   "outputs": [],
   "source": [
    "obsvar='Si'\n",
    "modvar='mod_silicon'\n",
    "statsDict[year]['dSi']=OrderedDict()\n",
    "for isub in statsubs:\n",
    "    statsDict[year]['dSi'][isub]=dict()\n",
    "    var=statsDict[year]['dSi'][isub]\n",
    "    var['N'],mmean,omean,var['Bias'],var['RMSE'],var['WSS']=et.stats(statsubs[isub].loc[:,[obsvar]],\n",
    "                                                                     statsubs[isub].loc[:,[modvar]])\n",
    "tbl,tdf=et.displayStats(statsDict[year]['dSi'],level='Subset',suborder=list(statsubs.keys()))\n",
    "tbl"
   ]
  },
  {
   "cell_type": "code",
   "execution_count": null,
   "metadata": {},
   "outputs": [],
   "source": [
    "mv=(0,105)\n",
    "fig, ax = plt.subplots(1,2,figsize = (16,7))\n",
    "ps,l=byDepth(ax[0],obsvar,modvar,mv)\n",
    "ax[0].set_title('Dissolved Silica ($\\mu$M) By Depth')\n",
    "\n",
    "ps,l=byRegion(ax[1],obsvar,modvar,mv)\n",
    "ax[1].set_title('Dissolved Silica ($\\mu$M) By Region');"
   ]
  },
  {
   "cell_type": "code",
   "execution_count": null,
   "metadata": {},
   "outputs": [],
   "source": [
    "fig, ax = plt.subplots(1,4,figsize = (16,3.3))\n",
    "bySeason(ax,obsvar,modvar,mv)\n",
    "fig,ax=plt.subplots(1,1,figsize=(20,.3))\n",
    "ax.plot(data.dtUTC,np.ones(np.shape(data.dtUTC)),'k.')\n",
    "ax.set_xlim((dt.datetime(year,1,1),dt.datetime(year,12,31)))\n",
    "ax.set_title('Data Timing')\n",
    "ax.yaxis.set_visible(False)"
   ]
  },
  {
   "cell_type": "markdown",
   "metadata": {},
   "source": [
    "### Profiles of NO3 and Dissolved Silica"
   ]
  },
  {
   "cell_type": "code",
   "execution_count": null,
   "metadata": {},
   "outputs": [],
   "source": [
    "fig, ax = plt.subplots(1,2,figsize = (15,8))\n",
    "cols=('crimson','red','orangered','darkorange','gold','chartreuse','green','lightseagreen','cyan',\n",
    "      'darkturquoise','royalblue','lightskyblue','blue','darkblue','mediumslateblue','blueviolet',\n",
    "      'darkmagenta','fuchsia','deeppink','pink')\n",
    "ii0=start_date\n",
    "for ii in range(0,int((end_date-start_date).days/30)):\n",
    "    iii=(data.dtUTC>=(start_date+dt.timedelta(days=ii*30)))&(data.dtUTC<(start_date+dt.timedelta(days=(ii+1)*30)))\n",
    "    ax[0].plot(data.loc[iii,['mod_nitrate']].values-data.loc[iii,['NO23']].values, data.loc[iii,['Z']].values, \n",
    "        '.', color = cols[ii],label=str(ii))\n",
    "    ax[1].plot(data.loc[iii,['mod_silicon']].values-data.loc[iii,['Si']].values, data.loc[iii,['Z']].values, \n",
    "        '.', color = cols[ii],label=str(ii))\n",
    "for axi in (ax[0],ax[1]):\n",
    "    axi.legend(loc=4)\n",
    "    axi.set_ylim(70,0)\n",
    "    axi.set_ylabel('Depth (m)')\n",
    "ax[0].set_xlabel('Model - Obs')\n",
    "ax[1].set_xlabel('Model - Obs')\n",
    "ax[0].set_xlim(-25,25)\n",
    "ax[1].set_xlim(-60,20)\n",
    "ax[0].set_title('NO3')\n",
    "ax[1].set_title('dSi')"
   ]
  },
  {
   "cell_type": "markdown",
   "metadata": {},
   "source": [
    "# dSi:NO3 Ratios"
   ]
  },
  {
   "cell_type": "code",
   "execution_count": null,
   "metadata": {},
   "outputs": [],
   "source": [
    "fig,ax=plt.subplots(1,2,figsize=(15,6))\n",
    "for ind,iregion in enumerate(data.Basin.unique()):\n",
    "    p1=ax[0].plot(datreg[iregion]['NO23'],datreg[iregion]['Si'],'.',\n",
    "                  color=colors[ind],label=iregion)\n",
    "ax[0].plot(np.arange(0,41),1.35*np.arange(0,41)+6.46,'k-',label='OBC')  \n",
    "ax[0].set_title('Observed')\n",
    "ax[0].set_xlabel('NO3')\n",
    "ax[0].set_ylabel('dSi')\n",
    "ax[0].set_xlim(0,40)\n",
    "ax[0].set_ylim(0,125)\n",
    "ax[0].legend()\n",
    "\n",
    "for ind,iregion in enumerate(data.Basin.unique()):\n",
    "    p=ax[1].plot(datreg[iregion]['mod_nitrate'],datreg[iregion]['mod_silicon'],'.',  \n",
    "                  color=colors[ind],label=iregion)\n",
    "ax[1].plot(np.arange(0,41),1.35*np.arange(0,41)+6.46,'k-',label='OBC')\n",
    "ax[1].set_title('Model')\n",
    "ax[1].set_xlabel('NO3')\n",
    "ax[1].set_ylabel('dSi')\n",
    "ax[1].set_xlim(0,40)\n",
    "ax[1].set_ylim(0,125)\n",
    "ax[1].legend()\n",
    "#ax[0].plot(np.arange(0,35),1.3*np.arange(0,35),'k-')\n",
    "#ax[1].plot(np.arange(0,35),1.3*np.arange(0,35),'k-')"
   ]
  },
  {
   "cell_type": "markdown",
   "metadata": {},
   "source": [
    "# NH4"
   ]
  },
  {
   "cell_type": "code",
   "execution_count": null,
   "metadata": {},
   "outputs": [],
   "source": [
    "obsvar='Amm'\n",
    "modvar='mod_ammonium'\n",
    "statsDict[year]['NH4']=OrderedDict()\n",
    "for isub in statsubs:\n",
    "    statsDict[year]['NH4'][isub]=dict()\n",
    "    var=statsDict[year]['NH4'][isub]\n",
    "    var['N'],mmean,omean,var['Bias'],var['RMSE'],var['WSS']=et.stats(statsubs[isub].loc[:,[obsvar]],\n",
    "                                                                     statsubs[isub].loc[:,[modvar]])\n",
    "tbl,tdf=et.displayStats(statsDict[year]['NH4'],level='Subset',suborder=list(statsubs.keys()))\n",
    "tbl"
   ]
  },
  {
   "cell_type": "code",
   "execution_count": null,
   "metadata": {},
   "outputs": [],
   "source": [
    "fig, ax = plt.subplots(1,2,figsize = (16,7))\n",
    "ps,l=byDepth(ax[0],obsvar,modvar,(0,8))\n",
    "ax[0].set_title('NH$_4$ ($\\mu$M) By Depth')\n",
    "\n",
    "ps,l=byRegion(ax[1],obsvar,modvar,(0,8))\n",
    "ax[1].set_title('NH$_4$ ($\\mu$M) By Region');"
   ]
  },
  {
   "cell_type": "code",
   "execution_count": null,
   "metadata": {},
   "outputs": [],
   "source": [
    "fig, ax = plt.subplots(1,4,figsize = (16,3.3))\n",
    "bySeason(ax,obsvar,modvar,(0,8))\n",
    "fig,ax=plt.subplots(1,1,figsize=(20,.3))\n",
    "ax.plot(data.dtUTC,np.ones(np.shape(data.dtUTC)),'k.')\n",
    "ax.set_xlim((dt.datetime(year,1,1),dt.datetime(year,12,31)))\n",
    "ax.set_title('Data Timing')\n",
    "ax.yaxis.set_visible(False)"
   ]
  },
  {
   "cell_type": "markdown",
   "metadata": {},
   "source": [
    "## Error vs temperature"
   ]
  },
  {
   "cell_type": "code",
   "execution_count": null,
   "metadata": {},
   "outputs": [],
   "source": [
    "fig,ax=plt.subplots(1,3,figsize=(12,3))\n",
    "fig.subplots_adjust(wspace=.6)\n",
    "m=ax[0].scatter(data['CT'],data['mod_nitrate']-data['NO23'],c=data['Z'],s=1,cmap='gnuplot') # what is a gnuplot and what are the other options for this?\n",
    "cb=fig.colorbar(m,ax=ax[0],label='Depth (m)')\n",
    "ax[0].set_xlabel('Obs Temperature C^o',fontsize=12)\n",
    "ax[0].set_ylabel('NO2+NO3 Error ($\\mu$M)',fontsize=12)\n",
    "\n",
    "m=ax[1].scatter(data['CT'],data['mod_silicon']-data['Si'],c=data['Z'],s=1,cmap='gnuplot')\n",
    "cb=fig.colorbar(m,ax=ax[1],label='Depth (m)')\n",
    "ax[1].set_xlabel('Obs Temperature C^o)',fontsize=12)\n",
    "ax[1].set_ylabel('DSi Error ($\\mu$M) Error',fontsize=12)\n",
    "\n",
    "m=ax[2].scatter(data['CT'],data['mod_ammonium']-data['Amm'],c=data['Z'],s=1,cmap='gnuplot')\n",
    "cb=fig.colorbar(m,ax=ax[2],label='Depth (m)')\n",
    "ax[2].set_xlabel('Obs Temperature C^o',fontsize=12)\n",
    "ax[2].set_ylabel('NH4 Error ($\\mu$M) Error',fontsize=12)"
   ]
  },
  {
   "cell_type": "markdown",
   "metadata": {},
   "source": [
    "## Error vs salinity"
   ]
  },
  {
   "cell_type": "code",
   "execution_count": null,
   "metadata": {},
   "outputs": [],
   "source": [
    "fig,ax=plt.subplots(1,3,figsize=(12,3))\n",
    "fig.subplots_adjust(wspace=.6)\n",
    "m=ax[0].scatter(data['SA'],data['mod_nitrate']-data['NO23'],c=data['Z'],s=1,cmap='gnuplot') # what is a gnuplot and what are the other options for this?\n",
    "cb=fig.colorbar(m,ax=ax[0],label='Depth (m)')\n",
    "ax[0].set_xlabel('Obs Salinity (g kg$^{-1}$)',fontsize=12)\n",
    "ax[0].set_ylabel('NO2+NO3 Error ($\\mu$M)',fontsize=12)\n",
    "\n",
    "m=ax[1].scatter(data['SA'],data['mod_silicon']-data['Si'],c=data['Z'],s=1,cmap='gnuplot')\n",
    "cb=fig.colorbar(m,ax=ax[1],label='Depth (m)')\n",
    "ax[1].set_xlabel('Obs Salinity (g kg$^{-1}$)',fontsize=12)\n",
    "ax[1].set_ylabel('DSi Error ($\\mu$M) Error',fontsize=12)\n",
    "\n",
    "m=ax[2].scatter(data['SA'],data['mod_ammonium']-data['Amm'],c=data['Z'],s=1,cmap='gnuplot')\n",
    "cb=fig.colorbar(m,ax=ax[2],label='Depth (m)')\n",
    "ax[2].set_xlabel('Obs Salinity (g kg$^{-1}$)',fontsize=12)\n",
    "ax[2].set_ylabel('NH4 Error ($\\mu$M) Error',fontsize=12)"
   ]
  },
  {
   "cell_type": "markdown",
   "metadata": {},
   "source": [
    "## Error vs salinity error"
   ]
  },
  {
   "cell_type": "code",
   "execution_count": null,
   "metadata": {},
   "outputs": [],
   "source": [
    "fig,ax=plt.subplots(1,2,figsize=(12,4))\n",
    "ax[0].set_xlabel('Salinity Error (g kg$^{-1}$)')\n",
    "ax[0].set_ylabel('DSi ($\\mu$M) Error')\n",
    "m,cb=ErrErr(fig,ax[0],'SA','mod_vosaline','Si','mod_silicon',(-20,20),(-80,20))\n",
    "ax[1].set_xlabel('Salinity Error (g kg$^{-1}$)')\n",
    "ax[1].set_ylabel('NH$_4$ ($\\mu$M) Error')\n",
    "m,cb=ErrErr(fig,ax[1],'SA','mod_vosaline','Amm','mod_ammonium',(-20,20),(-5,5))"
   ]
  },
  {
   "cell_type": "markdown",
   "metadata": {},
   "source": [
    "## Error vs lat"
   ]
  },
  {
   "cell_type": "code",
   "execution_count": null,
   "metadata": {},
   "outputs": [],
   "source": [
    "fig,ax=plt.subplots(3,1,figsize=(4,8))\n",
    "fig.subplots_adjust(wspace=.6)\n",
    "m=ax[0].scatter(data['Lat'],data['mod_nitrate']-data['NO23'],c=data['Z'],s=1,cmap='gnuplot')\n",
    "cb=fig.colorbar(m,ax=ax[0],label='Depth (m)')\n",
    "ax[0].set_xlabel('Lat',fontsize=12)\n",
    "ax[0].set_ylabel('NO2+NO3 Error ($\\mu$M)',fontsize=12)\n",
    "\n",
    "m=ax[1].scatter(data['Lat'],data['mod_silicon']-data['Si'],c=data['Z'],s=1,cmap='gnuplot')\n",
    "cb=fig.colorbar(m,ax=ax[1],label='Depth (m)')\n",
    "ax[1].set_xlabel('Lat',fontsize=12)\n",
    "ax[1].set_ylabel('DSi Error ($\\mu$M) Error',fontsize=12)\n",
    "\n",
    "m=ax[2].scatter(data['Lat'],data['mod_ammonium']-data['Amm'],c=data['Z'],s=1,cmap='gnuplot')\n",
    "cb=fig.colorbar(m,ax=ax[2],label='Depth (m)')\n",
    "ax[2].set_xlabel('Lat',fontsize=12)\n",
    "ax[2].set_ylabel('NH4 Error ($\\mu$M) Error',fontsize=12)"
   ]
  },
  {
   "cell_type": "code",
   "execution_count": null,
   "metadata": {},
   "outputs": [],
   "source": [
    "tbl,tdf=et.displayStats(statsDict[year],level='Variable',suborder=list(statsubs.keys()))\n",
    "tbl"
   ]
  }
 ],
 "metadata": {
  "anaconda-cloud": {},
  "kernelspec": {
   "display_name": "Python (py39)",
   "language": "python",
   "name": "py39"
  },
  "language_info": {
   "codemirror_mode": {
    "name": "ipython",
    "version": 3
   },
   "file_extension": ".py",
   "mimetype": "text/x-python",
   "name": "python",
   "nbconvert_exporter": "python",
   "pygments_lexer": "ipython3",
   "version": "3.9.1"
  }
 },
 "nbformat": 4,
 "nbformat_minor": 4
}
