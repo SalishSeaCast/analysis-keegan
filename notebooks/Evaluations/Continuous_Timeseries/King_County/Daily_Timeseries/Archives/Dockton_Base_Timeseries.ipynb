{
 "cells": [
  {
   "cell_type": "markdown",
   "metadata": {},
   "source": [
    "This notebook will hopefully contain timeseries that plot continuous data from moorings alongside model output. "
   ]
  },
  {
   "cell_type": "code",
   "execution_count": 1,
   "metadata": {},
   "outputs": [],
   "source": [
    "import sys\n",
    "sys.path.append('/ocean/kflanaga/MEOPAR/analysis-keegan/notebooks/Tools')"
   ]
  },
  {
   "cell_type": "code",
   "execution_count": null,
   "metadata": {},
   "outputs": [],
   "source": [
    "import numpy as np\n",
    "import matplotlib.pyplot as plt\n",
    "import os\n",
    "import pandas as pd\n",
    "import netCDF4 as nc\n",
    "import xarray as xr\n",
    "import datetime as dt\n",
    "from salishsea_tools import evaltools as et, viz_tools\n",
    "import gsw \n",
    "import matplotlib.gridspec as gridspec\n",
    "import matplotlib as mpl\n",
    "import matplotlib.dates as mdates\n",
    "import cmocean as cmo\n",
    "import scipy.interpolate as sinterp\n",
    "import pickle\n",
    "import cmocean\n",
    "import json\n",
    "import f90nml\n",
    "import Keegan_eval_tools as ket\n",
    "from collections import OrderedDict\n",
    "from matplotlib.colors import LogNorm\n",
    "\n",
    "fs=16\n",
    "mpl.rc('xtick', labelsize=fs)\n",
    "mpl.rc('ytick', labelsize=fs)\n",
    "mpl.rc('legend', fontsize=fs)\n",
    "mpl.rc('axes', titlesize=fs)\n",
    "mpl.rc('axes', labelsize=fs)\n",
    "mpl.rc('figure', titlesize=fs)\n",
    "mpl.rc('font', size=fs)\n",
    "mpl.rc('font', family='sans-serif', weight='normal', style='normal')\n",
    "\n",
    "import warnings\n",
    "#warnings.filterwarnings('ignore')\n",
    "from IPython.display import Markdown, display\n",
    "\n",
    "%matplotlib inline"
   ]
  },
  {
   "cell_type": "code",
   "execution_count": null,
   "metadata": {
    "tags": [
     "parameters"
    ]
   },
   "outputs": [],
   "source": [
    "saveloc='/ocean/kflanaga/MEOPAR/mooredData'\n",
    "PATH='/results2/SalishSea/nowcast-green.201905/'\n",
    "year=2015\n",
    "Mooring='Dockton'"
   ]
  },
  {
   "cell_type": "code",
   "execution_count": null,
   "metadata": {},
   "outputs": [],
   "source": [
    "##### Loading in pickle file data\n",
    "with open(os.path.join(saveloc,f'daily_data_{Mooring}_{year}.pkl'),'rb') as hh:\n",
    "    data=pickle.load(hh)"
   ]
  },
  {
   "cell_type": "code",
   "execution_count": null,
   "metadata": {},
   "outputs": [],
   "source": [
    "%%time\n",
    "start= dt.datetime(year,1,1)\n",
    "end=dt.datetime(year,12,31) # the code called below (evaltools.index_model_files) includes the end date \n",
    "                          # in the values returned\n",
    "basedir=PATH\n",
    "nam_fmt='nowcast'\n",
    "flen=1 # files contain 1 day of data each\n",
    "ftype= 'grid_T' # load grid files\n",
    "tres=24 # 1: hourly resolution; 24: daily resolution   <- try changing to 1 and loading hourly data\n",
    "flist=et.index_model_files(start,end,basedir,nam_fmt,flen,ftype,tres)\n",
    "# flist contains paths: file pathes; t_0 timestemp of start of each file; t_n: timestamp of start of next file\n",
    "\n",
    "#Loading the coordinate data for the different stations\n",
    "jjii = xr.open_dataset('/ocean/kflanaga/MEOPAR/grid/grid_from_lat_lon_mask999.nc')\n"
   ]
  },
  {
   "cell_type": "code",
   "execution_count": null,
   "metadata": {},
   "outputs": [],
   "source": [
    "def get_ij(lat,lon):\n",
    "    method = 'nearest'\n",
    "    jj = jjii.jj.sel(lats=lat, lons=lon, method=method).item()\n",
    "    ii = jjii.ii.sel(lats=lat, lons=lon, method=method).item()\n",
    "    return ii, jj"
   ]
  },
  {
   "cell_type": "code",
   "execution_count": null,
   "metadata": {},
   "outputs": [],
   "source": [
    "# get model i,j of location S3 from places\n",
    "ii,ij=get_ij(data['Lat'].unique(),data['Lon'].unique())\n",
    "ik=7 # choose surface level\n"
   ]
  },
  {
   "cell_type": "code",
   "execution_count": null,
   "metadata": {},
   "outputs": [],
   "source": [
    "grid=xr.open_mfdataset(flist['paths'])"
   ]
  },
  {
   "cell_type": "code",
   "execution_count": null,
   "metadata": {},
   "outputs": [],
   "source": [
    "%%time\n",
    "tt=grid.time_counter\n",
    "vot=grid.votemper.isel(deptht=ik,y=ij,x=ii)\n",
    "vos=grid.vosaline.isel(deptht=ik,y=ij,x=ii)"
   ]
  },
  {
   "cell_type": "code",
   "execution_count": null,
   "metadata": {},
   "outputs": [],
   "source": [
    "obsvar='CT'\n",
    "start_date=dt.datetime(year,1,1)\n",
    "end_date=dt.datetime(year,12,31)\n",
    "obs0=et._deframe(data.loc[(data['dtUTC'] >= start_date)&(data['dtUTC']<= end_date)&(data['SA'] > 10),[obsvar]])\n",
    "time0=et._deframe(data.loc[(data['dtUTC'] >= start_date)&(data['dtUTC']<= end_date)&(data['SA'] > 10),['dtUTC']])\n",
    "fig,ax=plt.subplots(1,1,figsize=(14,7))\n",
    "\n",
    "ps=[]\n",
    "p0,=ax.plot(time0,obs0,'-',color='blue',label=f'Observed ')\n",
    "ps.append(p0)\n",
    "p0,=ax.plot(tt,vot,'-',color='red',label='Modeled')\n",
    "ps.append(p0)\n",
    "ax.legend(handles=ps)\n",
    "ax.set_ylabel(f'{obsvar}')\n",
    "ax.set_xlabel('Date')\n",
    "ax.set_title('Temperature timeseries')\n",
    "plt.setp(ax.get_xticklabels(), rotation=30, horizontalalignment='right')\n",
    "M = 15\n",
    "xticks = mpl.ticker.MaxNLocator(M)\n",
    "ax.xaxis.set_major_locator(xticks)\n",
    "yearsFmt = mdates.DateFormatter('%d %b %y')\n",
    "ax.xaxis.set_major_formatter(yearsFmt)"
   ]
  },
  {
   "cell_type": "code",
   "execution_count": null,
   "metadata": {},
   "outputs": [],
   "source": [
    "obsvar='SA'\n",
    "start_date=dt.datetime(year,1,1)\n",
    "end_date=dt.datetime(year,12,31)\n",
    "obs0=et._deframe(data.loc[(data['dtUTC'] >= start_date)&(data['dtUTC']<= end_date)&(data['SA'] > 10),[obsvar]])\n",
    "time0=et._deframe(data.loc[(data['dtUTC'] >= start_date)&(data['dtUTC']<= end_date)&(data['SA'] > 10),['dtUTC']])\n",
    "fig,ax=plt.subplots(1,1,figsize=(14,7))\n",
    "\n",
    "ps=[]\n",
    "p0,=ax.plot(time0,obs0,'-',color='blue',label=f'Observed ')\n",
    "ps.append(p0)\n",
    "p0,=ax.plot(tt,vos,'-',color='red',label='Modeled')\n",
    "ps.append(p0)\n",
    "ax.legend(handles=ps)\n",
    "ax.set_ylabel(f'{obsvar}')\n",
    "ax.set_xlabel('Date')\n",
    "ax.set_title('Salinity timeseries')\n",
    "plt.setp(ax.get_xticklabels(), rotation=30, horizontalalignment='right')\n",
    "M = 15\n",
    "xticks = mpl.ticker.MaxNLocator(M)\n",
    "ax.xaxis.set_major_locator(xticks)\n",
    "yearsFmt = mdates.DateFormatter('%d %b %y')\n",
    "ax.xaxis.set_major_formatter(yearsFmt)"
   ]
  },
  {
   "cell_type": "code",
   "execution_count": null,
   "metadata": {},
   "outputs": [],
   "source": [
    "grid.close()"
   ]
  },
  {
   "cell_type": "code",
   "execution_count": null,
   "metadata": {},
   "outputs": [],
   "source": [
    "%%time\n",
    "start= dt.datetime(year,1,1)\n",
    "end=dt.datetime(year,12,31) # the code called below (evaltools.index_model_files) includes the end date \n",
    "                          # in the values returned\n",
    "basedir=PATH\n",
    "nam_fmt='nowcast'\n",
    "flen=1 # files contain 1 day of data each\n",
    "ftype= 'ptrc_T' # load bio files\n",
    "tres=24 # 1: hourly resolution; 24: daily resolution   <- try changing to 1 and loading hourly data\n",
    "flist=et.index_model_files(start,end,basedir,nam_fmt,flen,ftype,tres)\n",
    "# flist contains paths: file pathes; t_0 timestemp of start of each file; t_n: timestamp of start of next file\n",
    "\n",
    "#opening biological data files.\n",
    "bio=xr.open_mfdataset(flist['paths'])"
   ]
  },
  {
   "cell_type": "code",
   "execution_count": null,
   "metadata": {},
   "outputs": [],
   "source": [
    "%%time\n",
    "tt=bio.time_counter\n",
    "diatom=bio.diatoms.isel(deptht=ik,y=ij,x=ii)\n",
    "flagellate=bio.flagellates.isel(deptht=ik,y=ij,x=ii)\n",
    "ciliate=bio.ciliates.isel(deptht=ik,y=ij,x=ii)\n",
    "mod_Chl=(diatom+flagellate+ciliate)*1.8"
   ]
  },
  {
   "cell_type": "code",
   "execution_count": null,
   "metadata": {},
   "outputs": [],
   "source": [
    "obsvar='Chl'\n",
    "start_date=dt.datetime(year,1,1)\n",
    "end_date=dt.datetime(year,12,31)\n",
    "obs0=et._deframe(data.loc[(data['dtUTC'] >= start_date)&(data['dtUTC']<= end_date),[obsvar]])\n",
    "time0=et._deframe(data.loc[(data['dtUTC'] >= start_date)&(data['dtUTC']<= end_date),['dtUTC']])\n",
    "fig,ax=plt.subplots(1,1,figsize=(14,7))\n",
    "\n",
    "ps=[]\n",
    "p0,=ax.plot(time0,obs0,'-',color='blue',label=f'Observed ')\n",
    "ps.append(p0)\n",
    "p0,=ax.plot(tt,mod_Chl,'-',color='red',label='Modeled')\n",
    "ps.append(p0)\n",
    "ax.legend(handles=ps)\n",
    "ax.set_ylabel(f'{obsvar}')\n",
    "ax.set_xlabel('Date')\n",
    "ax.set_title('Chlorophyll timeseries')\n",
    "plt.setp(ax.get_xticklabels(), rotation=30, horizontalalignment='right')\n",
    "M = 15\n",
    "xticks = mpl.ticker.MaxNLocator(M)\n",
    "ax.xaxis.set_major_locator(xticks)\n",
    "yearsFmt = mdates.DateFormatter('%d %b %y')\n",
    "ax.xaxis.set_major_formatter(yearsFmt)"
   ]
  },
  {
   "cell_type": "code",
   "execution_count": null,
   "metadata": {},
   "outputs": [],
   "source": [
    "bio.close()"
   ]
  }
 ],
 "metadata": {
  "kernelspec": {
   "display_name": "Python (py39)",
   "language": "python",
   "name": "py39"
  },
  "language_info": {
   "codemirror_mode": {
    "name": "ipython",
    "version": 3
   },
   "file_extension": ".py",
   "mimetype": "text/x-python",
   "name": "python",
   "nbconvert_exporter": "python",
   "pygments_lexer": "ipython3",
   "version": "3.9.1"
  }
 },
 "nbformat": 4,
 "nbformat_minor": 4
}
