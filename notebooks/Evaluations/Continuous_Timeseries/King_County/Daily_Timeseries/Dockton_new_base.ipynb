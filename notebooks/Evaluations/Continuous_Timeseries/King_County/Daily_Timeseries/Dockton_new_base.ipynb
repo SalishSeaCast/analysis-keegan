{
 "cells": [
  {
   "cell_type": "markdown",
   "metadata": {},
   "source": [
    "A notebook that contains evaluation timeseries and correlation plots that compare data from the ORCA buoy in hood canal to the model data. For now, it is only looking at 2007. "
   ]
  },
  {
   "cell_type": "code",
   "execution_count": 1,
   "metadata": {
    "papermill": {
     "duration": 0.03473,
     "end_time": "2021-02-24T18:47:31.358435",
     "exception": false,
     "start_time": "2021-02-24T18:47:31.323705",
     "status": "completed"
    },
    "tags": []
   },
   "outputs": [],
   "source": [
    "import sys\n",
    "sys.path.append('/ocean/kflanaga/MEOPAR/analysis-keegan/notebooks/Tools')"
   ]
  },
  {
   "cell_type": "code",
   "execution_count": 2,
   "metadata": {},
   "outputs": [],
   "source": [
    "import numpy as np\n",
    "import matplotlib.pyplot as plt\n",
    "import os\n",
    "import pandas as pd\n",
    "import netCDF4 as nc\n",
    "import datetime as dt\n",
    "from salishsea_tools import evaltools as et, viz_tools, places, geo_tools\n",
    "import gsw\n",
    "import pickle\n",
    "import matplotlib.gridspec as gridspec\n",
    "import matplotlib as mpl\n",
    "import matplotlib.dates as mdates\n",
    "import cmocean as cmo\n",
    "from matplotlib.colors import LogNorm\n",
    "import Keegan_eval_tools as ket\n",
    "#import scipy.io as so"
   ]
  },
  {
   "cell_type": "code",
   "execution_count": 3,
   "metadata": {},
   "outputs": [],
   "source": [
    "choosepoint=False\n",
    "if choosepoint==True:\n",
    "    with nc.Dataset('/data/eolson/results/MEOPAR/NEMO-forcing-new/grid/bathymetry_201702.nc') as bathy:\n",
    "        navlat=bathy.variables['nav_lat'][:,:]\n",
    "        navlon=bathy.variables['nav_lon'][:,:]\n",
    "    with nc.Dataset('/data/eolson/results/MEOPAR/NEMO-forcing-new/grid/mesh_mask201702.nc') as mesh:\n",
    "        tmask=mesh.variables['tmask'][0,:,:,:]\n",
    "    indj,indi=geo_tools.find_closest_model_point(-123.93,49.75,navlon,navlat,land_mask=np.abs(tmask[0,:,:]-1))\n",
    "    print(indj,indi)\n",
    "\n",
    "    fig,ax=plt.subplots(1,1,figsize=(3,4))\n",
    "    ax.pcolormesh(tmask[0,:,:])\n",
    "    ax.plot(282,598,'r*')\n",
    "    ax.set_ylim(550,700)\n",
    "    ax.set_xlim(150,300)\n",
    "    viz_tools.set_aspect(ax)\n",
    "\n",
    "    fig,ax=plt.subplots(1,1,figsize=(3,2))\n",
    "    ax.pcolormesh(tmask[:,598,:])\n",
    "    ax.set_ylim(40,0)\n",
    "    ax.plot(282,0,'r*')\n",
    "    #ax.set_ylim(550,700)\n",
    "    ax.set_xlim(150,300)\n",
    "    #viz_tools.set_aspect(ax)\n",
    "else:\n",
    "    indj,indi=places.PLACES['Egmont']['NEMO grid ji']"
   ]
  },
  {
   "cell_type": "code",
   "execution_count": 4,
   "metadata": {},
   "outputs": [],
   "source": [
    "year=2015\n",
    "chlToN=1.8\n",
    "indk=0\n",
    "mooring='Dockton'\n",
    "saveloc='/ocean/kflanaga/MEOPAR/savedData/King_CountyData'"
   ]
  },
  {
   "cell_type": "code",
   "execution_count": 5,
   "metadata": {},
   "outputs": [],
   "source": [
    "datelims=(dt.datetime(2005,1,1),dt.datetime(2020,1,1))\n",
    "start_date=datelims[0]\n",
    "end_date=datelims[1]\n",
    "citez=1.0"
   ]
  },
  {
   "cell_type": "code",
   "execution_count": 6,
   "metadata": {},
   "outputs": [],
   "source": [
    "##### Loading in pickle file data\n",
    "with open(os.path.join(saveloc,f'daily_data_{mooring}_{year}.pkl'),'rb') as hh:\n",
    "    df0=pickle.load(hh)"
   ]
  },
  {
   "cell_type": "code",
   "execution_count": 7,
   "metadata": {},
   "outputs": [],
   "source": [
    "Lat=df0.Lat.unique()[0]\n",
    "Lon=df0.Lon.unique()[0]"
   ]
  },
  {
   "cell_type": "code",
   "execution_count": 8,
   "metadata": {},
   "outputs": [],
   "source": [
    "ii,jj=geo_tools.get_ij_coordinates(Lat,Lon,\n",
    "                                   grid_loc='/ocean/kflanaga/MEOPAR/grid/grid_from_lat_lon_mask999.nc')"
   ]
  },
  {
   "cell_type": "code",
   "execution_count": 9,
   "metadata": {},
   "outputs": [],
   "source": [
    "PATH= '/results2/SalishSea/nowcast-green.201905/'\n",
    "start_date = df0['dtUTC'].iloc[0]\n",
    "end_date = df0['dtUTC'].iloc[-1]+dt.timedelta(days=1)\n",
    "flen=1\n",
    "namfmt='nowcast'\n",
    "filemap={'diatoms':'ptrc_T','ciliates':'ptrc_T','flagellates':'ptrc_T',\n",
    "         'vosaline':'grid_T','votemper':'grid_T'}\n",
    "fdict={'ptrc_T':1,'grid_T':1}\n",
    "df0['i']=ii\n",
    "df0['j']=jj\n",
    "df0['k']=3"
   ]
  },
  {
   "cell_type": "code",
   "execution_count": null,
   "metadata": {},
   "outputs": [],
   "source": [
    "# note: I only ran the first 365 data points to save time\n",
    "df=et.matchData(df0,filemap,fdict,start_date,end_date,namfmt,PATH,1,preIndexed=True);"
   ]
  },
  {
   "cell_type": "code",
   "execution_count": null,
   "metadata": {},
   "outputs": [],
   "source": [
    "df['mod_chl']=chlToN*(df['mod_diatoms']+df['mod_ciliates']+df['mod_flagellates'])\n",
    "df['log_mod_chl']=ket.logt(df['mod_chl'])\n",
    "df['log_chl']=ket.logt(df['Chl'])"
   ]
  },
  {
   "cell_type": "code",
   "execution_count": null,
   "metadata": {},
   "outputs": [],
   "source": [
    "def quick_ts(obsvar,modvar):\n",
    "    ps=[]\n",
    "    fig,ax=plt.subplots(1,1,figsize=(12,8))\n",
    "    #Plotting the data\n",
    "    p0,=ax.plot(df['dtUTC'],df[obsvar],'r.',label='Obs')\n",
    "    ps.append(p0)\n",
    "    p0,=ax.plot(df['dtUTC'],df[modvar],'c-',label='Mod')\n",
    "    ps.append(p0)\n",
    "    #altering the labels. \n",
    "    ax.set_xlabel(f'Date',fontsize=20)\n",
    "    ax.set_ylabel(f'{obsvar}',fontsize=20)\n",
    "    ax.set_title(str(2007), fontsize=20)\n",
    "    ax.xaxis.set_tick_params(labelsize=16)\n",
    "    ax.yaxis.set_tick_params(labelsize=16)\n",
    "    legend = plt.legend(handles=ps,bbox_to_anchor=[1,.6,0,0])\n",
    "    plt.setp(ax.get_xticklabels(), rotation=30, horizontalalignment='right')\n",
    "    M = 11\n",
    "    xticks = mpl.ticker.MaxNLocator(M)\n",
    "    ax.xaxis.set_major_locator(xticks)\n",
    "    plt.gca().add_artist(legend)\n",
    "    yearsFmt = mdates.DateFormatter('%y %d %b')\n",
    "    ax.xaxis.set_major_formatter(yearsFmt)\n",
    "    return ps, ax\n",
    "\n",
    "def quick_varvar(ax,df,obsvar,modvar,lims):\n",
    "    ps=et.varvarPlot(ax,df,obsvar,modvar)\n",
    "    ax.set_xlabel('Obs')\n",
    "    ax.set_ylabel('Model')\n",
    "    ax.plot(lims,lims,'k-',alpha=.5)\n",
    "    ax.set_xlim(lims)\n",
    "    ax.set_ylim(lims)\n",
    "    ax.set_aspect(1)\n",
    "    return ps"
   ]
  },
  {
   "cell_type": "markdown",
   "metadata": {},
   "source": [
    "# Chlorophyll"
   ]
  },
  {
   "cell_type": "code",
   "execution_count": null,
   "metadata": {},
   "outputs": [],
   "source": [
    "obsvar='Chl'\n",
    "modvar='mod_chl'\n",
    "ps,ax=quick_ts(obsvar,modvar)\n",
    "ax.set_title('Observed vs Modeled Chlorophyll')"
   ]
  },
  {
   "cell_type": "code",
   "execution_count": null,
   "metadata": {},
   "outputs": [],
   "source": [
    "obsvar='Chl'\n",
    "modvar='mod_chl'\n",
    "lims=(0,60)\n",
    "fig,ax=plt.subplots(1,1,figsize=(8,8))\n",
    "ps=quick_varvar(ax,df,obsvar,modvar,lims)\n",
    "ax.set_title('Observed vs model Chlorophyll')"
   ]
  },
  {
   "cell_type": "markdown",
   "metadata": {},
   "source": [
    "# Log Transformed Chlorophyll "
   ]
  },
  {
   "cell_type": "code",
   "execution_count": null,
   "metadata": {},
   "outputs": [],
   "source": [
    "obsvar='log_chl'\n",
    "modvar='log_mod_chl'\n",
    "ps,ax=quick_ts(obsvar,modvar)\n",
    "ax.set_title('Observed vs Modeled log10[Chlorophyll]')"
   ]
  },
  {
   "cell_type": "code",
   "execution_count": null,
   "metadata": {},
   "outputs": [],
   "source": [
    "obsvar='log_chl'\n",
    "modvar='log_mod_chl'\n",
    "lims=(-2,6)\n",
    "fig,ax=plt.subplots(1,1,figsize=(8,8))\n",
    "ps=quick_varvar(ax,df,obsvar,modvar,lims)\n",
    "ax.set_title('Observed vs model log10[Chlorophyll]')\n",
    "ax.set_ylim(-2,3)"
   ]
  },
  {
   "cell_type": "markdown",
   "metadata": {},
   "source": [
    "# Salinity"
   ]
  },
  {
   "cell_type": "code",
   "execution_count": null,
   "metadata": {},
   "outputs": [],
   "source": [
    "obsvar='SA'\n",
    "modvar='mod_vosaline'\n",
    "ps,ax=quick_ts(obsvar,modvar)\n",
    "ax.set_title('Observed vs Modeled Salinity')"
   ]
  },
  {
   "cell_type": "code",
   "execution_count": null,
   "metadata": {},
   "outputs": [],
   "source": [
    "obsvar='SA'\n",
    "modvar='mod_vosaline'\n",
    "lims=(0,40)\n",
    "fig,ax=plt.subplots(1,1,figsize=(8,8))\n",
    "ps=quick_varvar(ax,df,obsvar,modvar,lims)\n",
    "ax.set_title('Observed vs model Salinity')"
   ]
  },
  {
   "cell_type": "markdown",
   "metadata": {},
   "source": [
    "# Temperature "
   ]
  },
  {
   "cell_type": "code",
   "execution_count": null,
   "metadata": {},
   "outputs": [],
   "source": [
    "obsvar='CT'\n",
    "modvar='mod_votemper'\n",
    "ps,ax=quick_ts(obsvar,modvar)\n",
    "ax.set_title('Observed vs Modeled Temperature')"
   ]
  },
  {
   "cell_type": "code",
   "execution_count": null,
   "metadata": {},
   "outputs": [],
   "source": [
    "obsvar='CT'\n",
    "modvar='mod_votemper'\n",
    "lims=(0,40)\n",
    "fig,ax=plt.subplots(1,1,figsize=(8,8))\n",
    "ps=quick_varvar(ax,df,obsvar,modvar,lims)\n",
    "ax.set_title('Observed vs model Temperature')"
   ]
  },
  {
   "cell_type": "code",
   "execution_count": null,
   "metadata": {},
   "outputs": [],
   "source": []
  }
 ],
 "metadata": {
  "kernelspec": {
   "display_name": "Python (py39)",
   "language": "python",
   "name": "py39"
  },
  "language_info": {
   "codemirror_mode": {
    "name": "ipython",
    "version": 3
   },
   "file_extension": ".py",
   "mimetype": "text/x-python",
   "name": "python",
   "nbconvert_exporter": "python",
   "pygments_lexer": "ipython3",
   "version": "3.9.1"
  }
 },
 "nbformat": 4,
 "nbformat_minor": 4
}
