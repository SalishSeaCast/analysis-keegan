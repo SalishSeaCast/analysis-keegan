{
 "cells": [
  {
   "cell_type": "markdown",
   "metadata": {},
   "source": [
    "Hopefully, This script will allow me to load up and fix up the moored data"
   ]
  },
  {
   "cell_type": "code",
   "execution_count": 1,
   "metadata": {},
   "outputs": [],
   "source": [
    "import numpy as np\n",
    "import matplotlib.pyplot as plt\n",
    "import os\n",
    "import pandas as pd\n",
    "import netCDF4 as nc\n",
    "import datetime as dt\n",
    "from salishsea_tools import evaltools as et, viz_tools\n",
    "import gsw \n",
    "import matplotlib.gridspec as gridspec\n",
    "import matplotlib as mpl\n",
    "import matplotlib.dates as mdates\n",
    "import cmocean as cmo\n",
    "import scipy.interpolate as sinterp\n",
    "import pickle\n",
    "import cmocean\n",
    "import json\n",
    "import f90nml\n",
    "from collections import OrderedDict\n",
    "from matplotlib.colors import LogNorm\n",
    "\n",
    "fs=16\n",
    "mpl.rc('xtick', labelsize=fs)\n",
    "mpl.rc('ytick', labelsize=fs)\n",
    "mpl.rc('legend', fontsize=fs)\n",
    "mpl.rc('axes', titlesize=fs)\n",
    "mpl.rc('axes', labelsize=fs)\n",
    "mpl.rc('figure', titlesize=fs)\n",
    "mpl.rc('font', size=fs)\n",
    "mpl.rc('font', family='sans-serif', weight='normal', style='normal')\n",
    "\n",
    "import warnings\n",
    "#warnings.filterwarnings('ignore')\n",
    "from IPython.display import Markdown, display\n",
    "\n",
    "%matplotlib inline"
   ]
  },
  {
   "cell_type": "code",
   "execution_count": 2,
   "metadata": {},
   "outputs": [],
   "source": [
    "saveloc='/ocean/kflanaga/MEOPAR/mooredData'\n",
    "year=2015\n",
    "Mooring='Dockton'"
   ]
  },
  {
   "cell_type": "code",
   "execution_count": 3,
   "metadata": {},
   "outputs": [],
   "source": [
    "df = pd.read_csv(f'{saveloc}/{Mooring}_1_1_{year}_to_12_31_{year}.csv')"
   ]
  },
  {
   "cell_type": "code",
   "execution_count": 4,
   "metadata": {},
   "outputs": [],
   "source": [
    "Lat=float(df['**Legend**'][20][24:32])\n",
    "Lon=float(df['**Legend**'][20][39:49])"
   ]
  },
  {
   "cell_type": "code",
   "execution_count": 5,
   "metadata": {},
   "outputs": [
    {
     "name": "stdout",
     "output_type": "stream",
     "text": [
      "47.37611\n",
      "-122.45722\n"
     ]
    }
   ],
   "source": [
    "print(Lat)\n",
    "print(Lon)"
   ]
  },
  {
   "cell_type": "code",
   "execution_count": 6,
   "metadata": {},
   "outputs": [
    {
     "name": "stderr",
     "output_type": "stream",
     "text": [
      "/home/kflanaga/miniconda3/envs/py39/lib/python3.9/site-packages/pandas/core/indexes/base.py:4114: FutureWarning: Using a non-tuple sequence for multidimensional indexing is deprecated; use `arr[tuple(seq)]` instead of `arr[seq]`. In the future this will be interpreted as an array index, `arr[np.array(seq)]`, which will result either in an error or a different result.\n",
      "  result = getitem(key)\n"
     ]
    }
   ],
   "source": [
    "df.drop(df.index[[tuple(range(0,48))]],inplace=True)"
   ]
  },
  {
   "cell_type": "code",
   "execution_count": 7,
   "metadata": {},
   "outputs": [],
   "source": [
    "df.columns=df.iloc[0]"
   ]
  },
  {
   "cell_type": "code",
   "execution_count": 8,
   "metadata": {},
   "outputs": [],
   "source": [
    "df.drop(df.index[[0]],inplace=True)\n",
    "df.drop(df.index[[-1]],inplace=True)"
   ]
  },
  {
   "cell_type": "code",
   "execution_count": 9,
   "metadata": {},
   "outputs": [],
   "source": [
    "df=df.reset_index()"
   ]
  },
  {
   "cell_type": "code",
   "execution_count": 10,
   "metadata": {},
   "outputs": [],
   "source": [
    "df=df.drop('index',axis=1)\n",
    "df=df.drop('Sonde_ID',axis=1)\n",
    "df=df.drop('Sonde_Batt_V',axis=1)\n",
    "df=df.drop('Logger_Batt_V',axis=1)"
   ]
  },
  {
   "cell_type": "code",
   "execution_count": 11,
   "metadata": {},
   "outputs": [
    {
     "data": {
      "text/plain": [
       "Index(['Date', 'Depth_m', 'Qual_Depth', 'Water_Temperature_degC',\n",
       "       'Qual_Water_Temperature', 'Salinity_PSU', 'Qual_Salinity',\n",
       "       'Chlorophyll_Fluorescence_ug/L', 'Qual_Chlorophyll_Fluorescence'],\n",
       "      dtype='object', name=48)"
      ]
     },
     "execution_count": 11,
     "metadata": {},
     "output_type": "execute_result"
    }
   ],
   "source": [
    "df.columns"
   ]
  },
  {
   "cell_type": "code",
   "execution_count": 12,
   "metadata": {},
   "outputs": [],
   "source": [
    "df[df.columns[1:-1]]=df[df.columns[1:-1]].apply(lambda col:pd.to_numeric(col, errors='coerce'))"
   ]
  },
  {
   "cell_type": "code",
   "execution_count": 13,
   "metadata": {},
   "outputs": [
    {
     "data": {
      "text/plain": [
       "0        7.26\n",
       "1        7.43\n",
       "2        7.54\n",
       "3        7.66\n",
       "4        7.79\n",
       "         ... \n",
       "34918    7.44\n",
       "34919    7.36\n",
       "34920    7.28\n",
       "34921    7.21\n",
       "34922    7.10\n",
       "Name: Depth_m, Length: 34923, dtype: float64"
      ]
     },
     "execution_count": 13,
     "metadata": {},
     "output_type": "execute_result"
    }
   ],
   "source": [
    "df['Depth_m']"
   ]
  },
  {
   "cell_type": "code",
   "execution_count": 14,
   "metadata": {},
   "outputs": [],
   "source": [
    "df['Z']=df['Depth_m']\n",
    "#df.head()"
   ]
  },
  {
   "cell_type": "code",
   "execution_count": 15,
   "metadata": {},
   "outputs": [],
   "source": [
    "df['dtUTC']=pd.to_datetime(df['Date'],format='%m/%d/%Y %I:%M:%S %p')\n",
    "df['Lat']=Lat\n",
    "df['Lon']=Lon\n",
    "df['Z']=df['Depth_m']\n",
    "press=gsw.p_from_z(-1*df['Z'],df['Lat'])\n",
    "df['SA']=gsw.SA_from_SP(df['Salinity_PSU'],press,\n",
    "                       df['Lon'],df['Lat'])\n",
    "df['CT']=gsw.CT_from_t(df['SA'],df['Water_Temperature_degC'],press)\n",
    "df['Chl']=df['Chlorophyll_Fluorescence_ug/L']\n",
    "df['YD']=et.datetimeToYD(df['dtUTC'])"
   ]
  },
  {
   "cell_type": "code",
   "execution_count": 16,
   "metadata": {},
   "outputs": [],
   "source": [
    "dfg=df.groupby(by='YD')"
   ]
  },
  {
   "cell_type": "code",
   "execution_count": 17,
   "metadata": {},
   "outputs": [],
   "source": [
    "df_daily_avg=dfg.mean()\n",
    "df_daily_avg['Lat']=Lat\n",
    "df_daily_avg['Lon']=Lon"
   ]
  },
  {
   "cell_type": "code",
   "execution_count": 19,
   "metadata": {},
   "outputs": [
    {
     "data": {
      "text/html": [
       "<div>\n",
       "<style scoped>\n",
       "    .dataframe tbody tr th:only-of-type {\n",
       "        vertical-align: middle;\n",
       "    }\n",
       "\n",
       "    .dataframe tbody tr th {\n",
       "        vertical-align: top;\n",
       "    }\n",
       "\n",
       "    .dataframe thead th {\n",
       "        text-align: right;\n",
       "    }\n",
       "</style>\n",
       "<table border=\"1\" class=\"dataframe\">\n",
       "  <thead>\n",
       "    <tr style=\"text-align: right;\">\n",
       "      <th>48</th>\n",
       "      <th>Depth_m</th>\n",
       "      <th>Qual_Depth</th>\n",
       "      <th>Water_Temperature_degC</th>\n",
       "      <th>Qual_Water_Temperature</th>\n",
       "      <th>Salinity_PSU</th>\n",
       "      <th>Qual_Salinity</th>\n",
       "      <th>Chlorophyll_Fluorescence_ug/L</th>\n",
       "      <th>Z</th>\n",
       "      <th>Lat</th>\n",
       "      <th>Lon</th>\n",
       "      <th>SA</th>\n",
       "      <th>CT</th>\n",
       "      <th>Chl</th>\n",
       "    </tr>\n",
       "    <tr>\n",
       "      <th>YD</th>\n",
       "      <th></th>\n",
       "      <th></th>\n",
       "      <th></th>\n",
       "      <th></th>\n",
       "      <th></th>\n",
       "      <th></th>\n",
       "      <th></th>\n",
       "      <th></th>\n",
       "      <th></th>\n",
       "      <th></th>\n",
       "      <th></th>\n",
       "      <th></th>\n",
       "      <th></th>\n",
       "    </tr>\n",
       "  </thead>\n",
       "  <tbody>\n",
       "    <tr>\n",
       "      <th>1</th>\n",
       "      <td>7.133854</td>\n",
       "      <td>111.0</td>\n",
       "      <td>9.305000</td>\n",
       "      <td>111.0</td>\n",
       "      <td>28.590625</td>\n",
       "      <td>313.0</td>\n",
       "      <td>3.902083</td>\n",
       "      <td>7.133854</td>\n",
       "      <td>47.37611</td>\n",
       "      <td>-122.45722</td>\n",
       "      <td>28.728168</td>\n",
       "      <td>9.403922</td>\n",
       "      <td>3.902083</td>\n",
       "    </tr>\n",
       "    <tr>\n",
       "      <th>2</th>\n",
       "      <td>7.166354</td>\n",
       "      <td>111.0</td>\n",
       "      <td>8.936250</td>\n",
       "      <td>111.0</td>\n",
       "      <td>28.265521</td>\n",
       "      <td>313.0</td>\n",
       "      <td>5.617708</td>\n",
       "      <td>7.166354</td>\n",
       "      <td>47.37611</td>\n",
       "      <td>-122.45722</td>\n",
       "      <td>28.401499</td>\n",
       "      <td>9.037190</td>\n",
       "      <td>5.617708</td>\n",
       "    </tr>\n",
       "    <tr>\n",
       "      <th>3</th>\n",
       "      <td>7.191458</td>\n",
       "      <td>111.0</td>\n",
       "      <td>8.766458</td>\n",
       "      <td>111.0</td>\n",
       "      <td>28.220729</td>\n",
       "      <td>313.0</td>\n",
       "      <td>4.513542</td>\n",
       "      <td>7.191458</td>\n",
       "      <td>47.37611</td>\n",
       "      <td>-122.45722</td>\n",
       "      <td>28.356491</td>\n",
       "      <td>8.866717</td>\n",
       "      <td>4.513542</td>\n",
       "    </tr>\n",
       "    <tr>\n",
       "      <th>4</th>\n",
       "      <td>7.234792</td>\n",
       "      <td>111.0</td>\n",
       "      <td>8.913542</td>\n",
       "      <td>111.0</td>\n",
       "      <td>28.318437</td>\n",
       "      <td>313.0</td>\n",
       "      <td>5.042708</td>\n",
       "      <td>7.234792</td>\n",
       "      <td>47.37611</td>\n",
       "      <td>-122.45722</td>\n",
       "      <td>28.454668</td>\n",
       "      <td>9.013627</td>\n",
       "      <td>5.042708</td>\n",
       "    </tr>\n",
       "    <tr>\n",
       "      <th>5</th>\n",
       "      <td>7.315729</td>\n",
       "      <td>111.0</td>\n",
       "      <td>8.914375</td>\n",
       "      <td>111.0</td>\n",
       "      <td>28.054792</td>\n",
       "      <td>313.0</td>\n",
       "      <td>3.234375</td>\n",
       "      <td>7.315729</td>\n",
       "      <td>47.37611</td>\n",
       "      <td>-122.45722</td>\n",
       "      <td>28.189751</td>\n",
       "      <td>9.018700</td>\n",
       "      <td>3.234375</td>\n",
       "    </tr>\n",
       "    <tr>\n",
       "      <th>...</th>\n",
       "      <td>...</td>\n",
       "      <td>...</td>\n",
       "      <td>...</td>\n",
       "      <td>...</td>\n",
       "      <td>...</td>\n",
       "      <td>...</td>\n",
       "      <td>...</td>\n",
       "      <td>...</td>\n",
       "      <td>...</td>\n",
       "      <td>...</td>\n",
       "      <td>...</td>\n",
       "      <td>...</td>\n",
       "      <td>...</td>\n",
       "    </tr>\n",
       "    <tr>\n",
       "      <th>361</th>\n",
       "      <td>7.507292</td>\n",
       "      <td>111.0</td>\n",
       "      <td>10.559479</td>\n",
       "      <td>111.0</td>\n",
       "      <td>28.811146</td>\n",
       "      <td>323.0</td>\n",
       "      <td>1.177083</td>\n",
       "      <td>7.507292</td>\n",
       "      <td>47.37611</td>\n",
       "      <td>-122.45722</td>\n",
       "      <td>28.949738</td>\n",
       "      <td>10.664677</td>\n",
       "      <td>1.177083</td>\n",
       "    </tr>\n",
       "    <tr>\n",
       "      <th>362</th>\n",
       "      <td>7.449375</td>\n",
       "      <td>111.0</td>\n",
       "      <td>10.550937</td>\n",
       "      <td>111.0</td>\n",
       "      <td>28.842292</td>\n",
       "      <td>323.0</td>\n",
       "      <td>1.237500</td>\n",
       "      <td>7.449375</td>\n",
       "      <td>47.37611</td>\n",
       "      <td>-122.45722</td>\n",
       "      <td>28.981035</td>\n",
       "      <td>10.655506</td>\n",
       "      <td>1.237500</td>\n",
       "    </tr>\n",
       "    <tr>\n",
       "      <th>363</th>\n",
       "      <td>7.413750</td>\n",
       "      <td>111.0</td>\n",
       "      <td>10.556875</td>\n",
       "      <td>111.0</td>\n",
       "      <td>28.859896</td>\n",
       "      <td>323.0</td>\n",
       "      <td>1.336458</td>\n",
       "      <td>7.413750</td>\n",
       "      <td>47.37611</td>\n",
       "      <td>-122.45722</td>\n",
       "      <td>28.998725</td>\n",
       "      <td>10.661171</td>\n",
       "      <td>1.336458</td>\n",
       "    </tr>\n",
       "    <tr>\n",
       "      <th>364</th>\n",
       "      <td>7.378958</td>\n",
       "      <td>111.0</td>\n",
       "      <td>10.484271</td>\n",
       "      <td>111.0</td>\n",
       "      <td>28.833437</td>\n",
       "      <td>323.0</td>\n",
       "      <td>1.425000</td>\n",
       "      <td>7.378958</td>\n",
       "      <td>47.37611</td>\n",
       "      <td>-122.45722</td>\n",
       "      <td>28.972141</td>\n",
       "      <td>10.588475</td>\n",
       "      <td>1.425000</td>\n",
       "    </tr>\n",
       "    <tr>\n",
       "      <th>365</th>\n",
       "      <td>7.354792</td>\n",
       "      <td>111.0</td>\n",
       "      <td>10.149792</td>\n",
       "      <td>111.0</td>\n",
       "      <td>28.826042</td>\n",
       "      <td>323.0</td>\n",
       "      <td>1.639583</td>\n",
       "      <td>7.354792</td>\n",
       "      <td>47.37611</td>\n",
       "      <td>-122.45722</td>\n",
       "      <td>28.964710</td>\n",
       "      <td>10.251466</td>\n",
       "      <td>1.639583</td>\n",
       "    </tr>\n",
       "  </tbody>\n",
       "</table>\n",
       "<p>365 rows × 13 columns</p>\n",
       "</div>"
      ],
      "text/plain": [
       "48    Depth_m  Qual_Depth  Water_Temperature_degC  Qual_Water_Temperature  \\\n",
       "YD                                                                          \n",
       "1    7.133854       111.0                9.305000                   111.0   \n",
       "2    7.166354       111.0                8.936250                   111.0   \n",
       "3    7.191458       111.0                8.766458                   111.0   \n",
       "4    7.234792       111.0                8.913542                   111.0   \n",
       "5    7.315729       111.0                8.914375                   111.0   \n",
       "..        ...         ...                     ...                     ...   \n",
       "361  7.507292       111.0               10.559479                   111.0   \n",
       "362  7.449375       111.0               10.550937                   111.0   \n",
       "363  7.413750       111.0               10.556875                   111.0   \n",
       "364  7.378958       111.0               10.484271                   111.0   \n",
       "365  7.354792       111.0               10.149792                   111.0   \n",
       "\n",
       "48   Salinity_PSU  Qual_Salinity  Chlorophyll_Fluorescence_ug/L         Z  \\\n",
       "YD                                                                          \n",
       "1       28.590625          313.0                       3.902083  7.133854   \n",
       "2       28.265521          313.0                       5.617708  7.166354   \n",
       "3       28.220729          313.0                       4.513542  7.191458   \n",
       "4       28.318437          313.0                       5.042708  7.234792   \n",
       "5       28.054792          313.0                       3.234375  7.315729   \n",
       "..            ...            ...                            ...       ...   \n",
       "361     28.811146          323.0                       1.177083  7.507292   \n",
       "362     28.842292          323.0                       1.237500  7.449375   \n",
       "363     28.859896          323.0                       1.336458  7.413750   \n",
       "364     28.833437          323.0                       1.425000  7.378958   \n",
       "365     28.826042          323.0                       1.639583  7.354792   \n",
       "\n",
       "48        Lat        Lon         SA         CT       Chl  \n",
       "YD                                                        \n",
       "1    47.37611 -122.45722  28.728168   9.403922  3.902083  \n",
       "2    47.37611 -122.45722  28.401499   9.037190  5.617708  \n",
       "3    47.37611 -122.45722  28.356491   8.866717  4.513542  \n",
       "4    47.37611 -122.45722  28.454668   9.013627  5.042708  \n",
       "5    47.37611 -122.45722  28.189751   9.018700  3.234375  \n",
       "..        ...        ...        ...        ...       ...  \n",
       "361  47.37611 -122.45722  28.949738  10.664677  1.177083  \n",
       "362  47.37611 -122.45722  28.981035  10.655506  1.237500  \n",
       "363  47.37611 -122.45722  28.998725  10.661171  1.336458  \n",
       "364  47.37611 -122.45722  28.972141  10.588475  1.425000  \n",
       "365  47.37611 -122.45722  28.964710  10.251466  1.639583  \n",
       "\n",
       "[365 rows x 13 columns]"
      ]
     },
     "execution_count": 19,
     "metadata": {},
     "output_type": "execute_result"
    }
   ],
   "source": [
    "df_daily_avg"
   ]
  },
  {
   "cell_type": "code",
   "execution_count": 18,
   "metadata": {},
   "outputs": [],
   "source": [
    "##### Saving data as Pickle files to be used in the summary file\n",
    "saveloc='/ocean/kflanaga/MEOPAR/mooredData'\n",
    "with open(os.path.join(saveloc,f'data_{Mooring}_{year}.pkl'),'wb') as hh:\n",
    "    pickle.dump(df,hh)\n",
    "    \n",
    "with open(os.path.join(saveloc,f'daily_data_{Mooring}_{year}.pkl'),'wb') as hh:\n",
    "    pickle.dump(df_daily_avg,hh)"
   ]
  },
  {
   "cell_type": "markdown",
   "metadata": {},
   "source": [
    "Use group by yearday and then apply mean to everything. Oooohhh. That causes a problem. "
   ]
  }
 ],
 "metadata": {
  "kernelspec": {
   "display_name": "Python (py39)",
   "language": "python",
   "name": "py39"
  },
  "language_info": {
   "codemirror_mode": {
    "name": "ipython",
    "version": 3
   },
   "file_extension": ".py",
   "mimetype": "text/x-python",
   "name": "python",
   "nbconvert_exporter": "python",
   "pygments_lexer": "ipython3",
   "version": "3.9.1"
  }
 },
 "nbformat": 4,
 "nbformat_minor": 4
}
