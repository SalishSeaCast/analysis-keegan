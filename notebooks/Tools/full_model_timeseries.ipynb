{
 "cells": [
  {
   "cell_type": "markdown",
   "metadata": {},
   "source": [
    "A notebook which contains timeseries of SalishSeaCast model output and observed data within PugetSound for the year 2009. This script is designed so that model and observed data can be easily compared across multiple different stations. "
   ]
  },
  {
   "cell_type": "code",
   "execution_count": 38,
   "metadata": {},
   "outputs": [],
   "source": [
    "import sys\n",
    "sys.path.append('/ocean/kflanaga/MEOPAR/analysis-keegan/notebooks/Tools')"
   ]
  },
  {
   "cell_type": "code",
   "execution_count": 39,
   "metadata": {},
   "outputs": [],
   "source": [
    "import numpy as np\n",
    "import numpy.polynomial.polynomial as poly\n",
    "import matplotlib.pyplot as plt\n",
    "import os\n",
    "import math\n",
    "import pandas as pd\n",
    "from erddapy import ERDDAP\n",
    "import netCDF4 as nc\n",
    "import datetime as dt\n",
    "from salishsea_tools import evaltools as et, viz_tools, places\n",
    "import gsw \n",
    "import matplotlib.gridspec as gridspec\n",
    "import matplotlib as mpl\n",
    "import matplotlib.dates as mdates\n",
    "import cmocean as cmo\n",
    "import scipy.interpolate as sinterp\n",
    "import pickle\n",
    "import cmocean\n",
    "import json\n",
    "import f90nml\n",
    "import xarray as xr\n",
    "import datetime as dt\n",
    "import Keegan_eval_tools as ket\n",
    "from collections import OrderedDict\n",
    "\n",
    "fs=16\n",
    "mpl.rc('xtick', labelsize=fs)\n",
    "mpl.rc('ytick', labelsize=fs)\n",
    "mpl.rc('legend', fontsize=fs)\n",
    "mpl.rc('axes', titlesize=fs)\n",
    "mpl.rc('axes', labelsize=fs)\n",
    "mpl.rc('figure', titlesize=fs)\n",
    "mpl.rc('font', size=fs)\n",
    "mpl.rc('font', family='sans-serif', weight='normal', style='normal')\n",
    "\n",
    "import warnings\n",
    "#warnings.filterwarnings('ignore')\n",
    "from IPython.display import Markdown, display\n",
    "\n",
    "%matplotlib inline"
   ]
  },
  {
   "cell_type": "raw",
   "metadata": {},
   "source": [
    "from IPython.display import HTML\n",
    "\n",
    "HTML('''<script>\n",
    "code_show=true; \n",
    "function code_toggle() {\n",
    " if (code_show){\n",
    " $('div.input').hide();\n",
    " } else {\n",
    " $('div.input').show();\n",
    " }\n",
    " code_show = !code_show\n",
    "} \n",
    "$( document ).ready(code_toggle);\n",
    "</script>\n",
    "\n",
    "<form action=\"javascript:code_toggle()\"><input type=\"submit\" value=\"Click here to toggle on/off the raw code.\"></form>''')\n"
   ]
  },
  {
   "cell_type": "code",
   "execution_count": 40,
   "metadata": {},
   "outputs": [],
   "source": [
    "year=2010\n",
    "modelversion='nowcast-green.201905'\n",
    "PATH= '/results2/SalishSea/nowcast-green.201905/'\n",
    "datadir='/ocean/eolson/MEOPAR/obs/WADE/ptools_data/ecology'"
   ]
  },
  {
   "cell_type": "code",
   "execution_count": 41,
   "metadata": {},
   "outputs": [],
   "source": [
    "##### Loading in pickle file data\n",
    "saveloc='/ocean/kflanaga/MEOPAR/savedData'\n",
    "\n",
    "with open(os.path.join(saveloc,f'data_WADE_{modelversion}_{year}.pkl'),'rb') as hh:\n",
    "    data=pickle.load(hh)"
   ]
  },
  {
   "cell_type": "code",
   "execution_count": 42,
   "metadata": {},
   "outputs": [],
   "source": [
    "#creating new dictionaries that make it easy to call on specific years.\n",
    "datstat=dict()\n",
    "for ind, istation in enumerate(data.Station.unique()):\n",
    "    datstat[istation]=data.loc[data.Station == istation]"
   ]
  },
  {
   "cell_type": "code",
   "execution_count": 43,
   "metadata": {},
   "outputs": [
    {
     "name": "stdout",
     "output_type": "stream",
     "text": [
      "CPU times: user 0 ns, sys: 0 ns, total: 0 ns\n",
      "Wall time: 6.17 ms\n"
     ]
    }
   ],
   "source": [
    "%%time\n",
    "start= dt.datetime(2010,1,1)\n",
    "end=dt.datetime(2010,1,4) # the code called below (evaltools.index_model_files) includes the end date \n",
    "                          # in the values returned\n",
    "basedir='/results2/SalishSea/nowcast-green.201905/'\n",
    "nam_fmt='nowcast'\n",
    "flen=1 # files contain 1 day of data each\n",
    "ftype= 'ptrc_T' # load bio files\n",
    "tres=24 # 1: hourly resolution; 24: daily resolution   <- try changing to 1 and loading hourly data\n",
    "flist=et.index_model_files(start,end,basedir,nam_fmt,flen,ftype,tres)\n",
    "# flist contains paths: file pathes; t_0 timestemp of start of each file; t_n: timestamp of start of next file\n"
   ]
  },
  {
   "cell_type": "code",
   "execution_count": 44,
   "metadata": {},
   "outputs": [],
   "source": [
    "# get model i,j of location S3 from places\n",
    "ij,ii=places.PLACES['S3']['NEMO grid ji']\n",
    "ik=2 # choose surface level"
   ]
  },
  {
   "cell_type": "code",
   "execution_count": 45,
   "metadata": {},
   "outputs": [],
   "source": [
    "ii=data[data.Station == 'BUD005'].i.unique()[0]\n",
    "ij=data[data.Station == 'BUD005'].j.unique()[0]\n",
    "ik=2"
   ]
  },
  {
   "cell_type": "code",
   "execution_count": 46,
   "metadata": {},
   "outputs": [],
   "source": [
    "#bio=xr.open_mfdataset(flist['paths'])"
   ]
  },
  {
   "cell_type": "code",
   "execution_count": 47,
   "metadata": {},
   "outputs": [],
   "source": [
    "#%%time\n",
    "#tt=bio.time_counter\n",
    "#NO23=bio.nitrate.isel(deptht=ik,y=ij,x=ii) #.cell will give closest to two meters \n",
    "#this is where we have the depth problem. "
   ]
  },
  {
   "cell_type": "code",
   "execution_count": 48,
   "metadata": {},
   "outputs": [],
   "source": [
    "def TsByStation_ind2 (df,datstat,regions,obsvar,modvar,year,ylim,figsize=(14,40),loc='lower left',depth=5):  \n",
    "    stations=[]\n",
    "    for r in regions:\n",
    "        sta0=df[df['Basin']==r].Station.unique()\n",
    "        stations.append(sta0)\n",
    "    stations = [val for sublist in stations for val in sublist]\n",
    "    fig,ax=plt.subplots(math.ceil(len(stations)/2),2,figsize=figsize)\n",
    "    new_stat = [stations[i:i+2] for i in range(0, len(stations), 2)]\n",
    "    for si,axi in zip(new_stat,ax):\n",
    "        for sj,axj in zip(si,axi):\n",
    "            #The creation of the observed data points\n",
    "            ps=[]\n",
    "            obs0=et._deframe(df.loc[(df['dtUTC'] >= dt.datetime(year,1,1))&(df['dtUTC']<= dt.datetime(year,12,31))&(df['Station']==sj)&(df['Z']<=depth),[obsvar]])\n",
    "            time0=et._deframe(df.loc[(df['dtUTC'] >= dt.datetime(year,1,1))&(df['dtUTC']<= dt.datetime(year,12,31))&(df['Station']==sj)&(df['Z']<=depth),['dtUTC']])\n",
    "            p0,=axj.plot(time0,obs0,'.',color='blue',label=f'Observed {obsvar}',marker='o',fillstyle='none')\n",
    "            ps.append(p0)\n",
    "            # The creation of the model data line \n",
    "            ii=data[data.Station == sj].i.unique()[0]\n",
    "            ij=data[data.Station == sj].j.unique()[0]\n",
    "            ik=0\n",
    "            tt=bio.time_counter\n",
    "            NO23=bio[modvar].isel(deptht=ik,y=ij,x=ii)\n",
    "            p0,=axj.plot(tt,NO23,'-',color='darkorange',label='Nitrate')\n",
    "            ps.append(p0)\n",
    "            #labeling and formatting\n",
    "            axj.set_ylabel('Concentration ($\\mu$M)')\n",
    "            axj.set_xlim(tt[0],tt[-1])\n",
    "            axj.legend(handles=ps,prop={'size': 10},loc=loc)\n",
    "            axj.set_xlabel(f'Date',fontsize=13)\n",
    "            axj.set_ylabel(f'{obsvar} ($\\mu$M)',fontsize=13)\n",
    "            axj.set_title(f'{df[df.Station==sj].Basin.unique()[0]} ({sj})', fontsize=13)\n",
    "            axj.set_ylim(ylim)\n",
    "            yearsFmt = mdates.DateFormatter('%d %b')\n",
    "            axj.xaxis.set_major_formatter(yearsFmt)\n",
    "            for tick in axj.xaxis.get_major_ticks():\n",
    "                tick.label.set_fontsize(13)\n",
    "            for tick in axj.yaxis.get_major_ticks():\n",
    "                tick.label.set_fontsize(13)\n",
    "            plt.tight_layout()\n",
    "            plt.setp(axj.get_xticklabels(), rotation=30, horizontalalignment='right')"
   ]
  },
  {
   "cell_type": "code",
   "execution_count": 49,
   "metadata": {},
   "outputs": [],
   "source": [
    "#obsvar='NO23'\n",
    "#modvar='nitrate'\n",
    "#regions=['Hood Canal Basin']\n",
    "#lims=(0,40)\n",
    "\n",
    "#TsByStation_ind2(data,datstat,regions,obsvar,modvar,year,lims,figsize=(14,14),loc='lower left')"
   ]
  },
  {
   "cell_type": "code",
   "execution_count": 50,
   "metadata": {},
   "outputs": [],
   "source": [
    "#bio.close()"
   ]
  },
  {
   "cell_type": "markdown",
   "metadata": {},
   "source": [
    "Hmmm The fact that there are multiple different points at different depths make this technique mostly useless. Even if I fix it so that there are multiple lines or something, it will take so long it will be almost useless. Perhaps If I only look at observations at a certain depth it can be at least a little helpful. "
   ]
  },
  {
   "cell_type": "code",
   "execution_count": 63,
   "metadata": {},
   "outputs": [
    {
     "name": "stdout",
     "output_type": "stream",
     "text": [
      "{'time>=': '2015-02-01T00:00:00Z', 'time<=': '2015-04-01T00:00:00Z'}\n"
     ]
    }
   ],
   "source": [
    "# Now we are actually loading everything from a website/ online database instead of from our own results storage.\n",
    "server = \"https://salishsea.eos.ubc.ca/erddap\"\n",
    "\n",
    "protocol = \"griddap\"\n",
    "\n",
    "dataset_id = \"ubcSSg3DBiologyFields1hV19-05\"\n",
    "\n",
    "response = \"nc\"\n",
    "\n",
    "variables = [\n",
    "    \"nitrate\",\n",
    "    \"time\",\n",
    "]\n",
    "\n",
    "fourkmlat = 4/110.574\n",
    "fourkmlon = 4/(111.320*np.cos(50*np.pi/180.))\n",
    "lon, lat = places.PLACES['S3']['lon lat']\n",
    "\n",
    "constraints = {\n",
    "    \"time>=\": \"2015-02-01T00:00:00Z\",\n",
    "    \"time<=\": \"2015-04-01T00:00:00Z\",\n",
    "}\n",
    "\n",
    "print(constraints)"
   ]
  },
  {
   "cell_type": "code",
   "execution_count": 64,
   "metadata": {},
   "outputs": [],
   "source": [
    "obs = ERDDAP(server=server, protocol=protocol,)\n",
    "\n",
    "obs.dataset_id = dataset_id\n",
    "obs.variables = variables\n",
    "obs.constraints = constraints"
   ]
  },
  {
   "cell_type": "code",
   "execution_count": 65,
   "metadata": {},
   "outputs": [
    {
     "name": "stdout",
     "output_type": "stream",
     "text": [
      "https://salishsea.eos.ubc.ca/erddap/griddap/ubcSSg3DBiologyFields1hV19-05.html?nitrate,time&time>=1422748800.0&time<=1427846400.0\n"
     ]
    }
   ],
   "source": [
    "obs\n",
    "print(obs.get_download_url())"
   ]
  },
  {
   "cell_type": "code",
   "execution_count": 66,
   "metadata": {},
   "outputs": [
    {
     "ename": "HTTPError",
     "evalue": "<!DOCTYPE html><html><head><title>Apache Tomcat/8.0.28 - Error report</title><style type=\"text/css\">H1 {font-family:Tahoma,Arial,sans-serif;color:white;background-color:#525D76;font-size:22px;} H2 {font-family:Tahoma,Arial,sans-serif;color:white;background-color:#525D76;font-size:16px;} H3 {font-family:Tahoma,Arial,sans-serif;color:white;background-color:#525D76;font-size:14px;} BODY {font-family:Tahoma,Arial,sans-serif;color:black;background-color:white;} B {font-family:Tahoma,Arial,sans-serif;color:white;background-color:#525D76;} P {font-family:Tahoma,Arial,sans-serif;background:white;color:black;font-size:12px;}A {color : black;}A.name {color : black;}.line {height: 1px; background-color: #525D76; border: none;}</style> </head><body><h1>HTTP Status 500 - Query error: In a griddap query, '&amp;' must be followed by a .graphicsCommand.</h1><div class=\"line\"></div><p><b>type</b> Status report</p><p><b>message</b> <u>Query error: In a griddap query, '&amp;' must be followed by a .graphicsCommand.</u></p><p><b>description</b> <u>The server encountered an internal error that prevented it from fulfilling this request.</u></p><hr class=\"line\"><h3>Apache Tomcat/8.0.28</h3></body></html>",
     "output_type": "error",
     "traceback": [
      "\u001b[0;31m---------------------------------------------------------------------------\u001b[0m",
      "\u001b[0;31mHTTPError\u001b[0m                                 Traceback (most recent call last)",
      "\u001b[0;32m~/miniconda3/envs/py39/lib/python3.9/site-packages/erddapy/url_handling.py\u001b[0m in \u001b[0;36m_urlopen\u001b[0;34m(url, auth, **kwargs)\u001b[0m\n\u001b[1;32m     18\u001b[0m     \u001b[0;32mtry\u001b[0m\u001b[0;34m:\u001b[0m\u001b[0;34m\u001b[0m\u001b[0;34m\u001b[0m\u001b[0m\n\u001b[0;32m---> 19\u001b[0;31m         \u001b[0mresponse\u001b[0m\u001b[0;34m.\u001b[0m\u001b[0mraise_for_status\u001b[0m\u001b[0;34m(\u001b[0m\u001b[0;34m)\u001b[0m\u001b[0;34m\u001b[0m\u001b[0;34m\u001b[0m\u001b[0m\n\u001b[0m\u001b[1;32m     20\u001b[0m     \u001b[0;32mexcept\u001b[0m \u001b[0mrequests\u001b[0m\u001b[0;34m.\u001b[0m\u001b[0mexceptions\u001b[0m\u001b[0;34m.\u001b[0m\u001b[0mHTTPError\u001b[0m \u001b[0;32mas\u001b[0m \u001b[0merr\u001b[0m\u001b[0;34m:\u001b[0m\u001b[0;34m\u001b[0m\u001b[0;34m\u001b[0m\u001b[0m\n",
      "\u001b[0;32m~/miniconda3/envs/py39/lib/python3.9/site-packages/requests/models.py\u001b[0m in \u001b[0;36mraise_for_status\u001b[0;34m(self)\u001b[0m\n\u001b[1;32m    942\u001b[0m         \u001b[0;32mif\u001b[0m \u001b[0mhttp_error_msg\u001b[0m\u001b[0;34m:\u001b[0m\u001b[0;34m\u001b[0m\u001b[0;34m\u001b[0m\u001b[0m\n\u001b[0;32m--> 943\u001b[0;31m             \u001b[0;32mraise\u001b[0m \u001b[0mHTTPError\u001b[0m\u001b[0;34m(\u001b[0m\u001b[0mhttp_error_msg\u001b[0m\u001b[0;34m,\u001b[0m \u001b[0mresponse\u001b[0m\u001b[0;34m=\u001b[0m\u001b[0mself\u001b[0m\u001b[0;34m)\u001b[0m\u001b[0;34m\u001b[0m\u001b[0;34m\u001b[0m\u001b[0m\n\u001b[0m\u001b[1;32m    944\u001b[0m \u001b[0;34m\u001b[0m\u001b[0m\n",
      "\u001b[0;31mHTTPError\u001b[0m: 500 Server Error: Internal Server Error for url: https://salishsea.eos.ubc.ca/erddap/griddap/ubcSSg3DBiologyFields1hV19-05.csvp?nitrate,time&time%3E=1422748800.0&time%3C=1427846400.0",
      "\nThe above exception was the direct cause of the following exception:\n",
      "\u001b[0;31mHTTPError\u001b[0m                                 Traceback (most recent call last)",
      "\u001b[0;32m<ipython-input-66-5dbc0a7b4927>\u001b[0m in \u001b[0;36m<module>\u001b[0;34m\u001b[0m\n\u001b[0;32m----> 1\u001b[0;31m \u001b[0mobs_pd\u001b[0m \u001b[0;34m=\u001b[0m \u001b[0mobs\u001b[0m\u001b[0;34m.\u001b[0m\u001b[0mto_pandas\u001b[0m\u001b[0;34m(\u001b[0m\u001b[0mindex_col\u001b[0m\u001b[0;34m=\u001b[0m\u001b[0;34m\"time (UTC)\"\u001b[0m\u001b[0;34m,\u001b[0m \u001b[0mparse_dates\u001b[0m\u001b[0;34m=\u001b[0m\u001b[0;32mTrue\u001b[0m\u001b[0;34m,\u001b[0m\u001b[0;34m)\u001b[0m\u001b[0;34m.\u001b[0m\u001b[0mdropna\u001b[0m\u001b[0;34m(\u001b[0m\u001b[0;34m)\u001b[0m\u001b[0;34m\u001b[0m\u001b[0;34m\u001b[0m\u001b[0m\n\u001b[0m\u001b[1;32m      2\u001b[0m \u001b[0mobs_pd\u001b[0m\u001b[0;34m\u001b[0m\u001b[0;34m\u001b[0m\u001b[0m\n",
      "\u001b[0;32m~/miniconda3/envs/py39/lib/python3.9/site-packages/erddapy/erddapy.py\u001b[0m in \u001b[0;36mto_pandas\u001b[0;34m(self, **kw)\u001b[0m\n\u001b[1;32m    387\u001b[0m         \u001b[0mresponse\u001b[0m \u001b[0;34m=\u001b[0m \u001b[0mkw\u001b[0m\u001b[0;34m.\u001b[0m\u001b[0mpop\u001b[0m\u001b[0;34m(\u001b[0m\u001b[0;34m\"response\"\u001b[0m\u001b[0;34m,\u001b[0m \u001b[0;34m\"csvp\"\u001b[0m\u001b[0;34m)\u001b[0m\u001b[0;34m\u001b[0m\u001b[0;34m\u001b[0m\u001b[0m\n\u001b[1;32m    388\u001b[0m         \u001b[0murl\u001b[0m \u001b[0;34m=\u001b[0m \u001b[0mself\u001b[0m\u001b[0;34m.\u001b[0m\u001b[0mget_download_url\u001b[0m\u001b[0;34m(\u001b[0m\u001b[0mresponse\u001b[0m\u001b[0;34m=\u001b[0m\u001b[0mresponse\u001b[0m\u001b[0;34m,\u001b[0m \u001b[0;34m**\u001b[0m\u001b[0mkw\u001b[0m\u001b[0;34m)\u001b[0m\u001b[0;34m\u001b[0m\u001b[0;34m\u001b[0m\u001b[0m\n\u001b[0;32m--> 389\u001b[0;31m         \u001b[0mdata\u001b[0m \u001b[0;34m=\u001b[0m \u001b[0murlopen\u001b[0m\u001b[0;34m(\u001b[0m\u001b[0murl\u001b[0m\u001b[0;34m,\u001b[0m \u001b[0mauth\u001b[0m\u001b[0;34m=\u001b[0m\u001b[0mself\u001b[0m\u001b[0;34m.\u001b[0m\u001b[0mauth\u001b[0m\u001b[0;34m,\u001b[0m \u001b[0;34m**\u001b[0m\u001b[0mself\u001b[0m\u001b[0;34m.\u001b[0m\u001b[0mrequests_kwargs\u001b[0m\u001b[0;34m)\u001b[0m\u001b[0;34m\u001b[0m\u001b[0;34m\u001b[0m\u001b[0m\n\u001b[0m\u001b[1;32m    390\u001b[0m         \u001b[0;32mreturn\u001b[0m \u001b[0mpd\u001b[0m\u001b[0;34m.\u001b[0m\u001b[0mread_csv\u001b[0m\u001b[0;34m(\u001b[0m\u001b[0mdata\u001b[0m\u001b[0;34m,\u001b[0m \u001b[0;34m**\u001b[0m\u001b[0mkw\u001b[0m\u001b[0;34m)\u001b[0m\u001b[0;34m\u001b[0m\u001b[0;34m\u001b[0m\u001b[0m\n\u001b[1;32m    391\u001b[0m \u001b[0;34m\u001b[0m\u001b[0m\n",
      "\u001b[0;32m~/miniconda3/envs/py39/lib/python3.9/site-packages/erddapy/url_handling.py\u001b[0m in \u001b[0;36murlopen\u001b[0;34m(url, auth, **kwargs)\u001b[0m\n\u001b[1;32m     30\u001b[0m     \"\"\"\n\u001b[1;32m     31\u001b[0m     \u001b[0;31m# Ignoring type checks here b/c mypy does not support decorated functions.\u001b[0m\u001b[0;34m\u001b[0m\u001b[0;34m\u001b[0m\u001b[0;34m\u001b[0m\u001b[0m\n\u001b[0;32m---> 32\u001b[0;31m     \u001b[0mdata\u001b[0m \u001b[0;34m=\u001b[0m \u001b[0m_urlopen\u001b[0m\u001b[0;34m(\u001b[0m\u001b[0murl\u001b[0m\u001b[0;34m=\u001b[0m\u001b[0murl\u001b[0m\u001b[0;34m,\u001b[0m \u001b[0mauth\u001b[0m\u001b[0;34m=\u001b[0m\u001b[0mauth\u001b[0m\u001b[0;34m,\u001b[0m \u001b[0;34m**\u001b[0m\u001b[0mkwargs\u001b[0m\u001b[0;34m)\u001b[0m  \u001b[0;31m# type: ignore\u001b[0m\u001b[0;34m\u001b[0m\u001b[0;34m\u001b[0m\u001b[0m\n\u001b[0m\u001b[1;32m     33\u001b[0m     \u001b[0mdata\u001b[0m\u001b[0;34m.\u001b[0m\u001b[0mseek\u001b[0m\u001b[0;34m(\u001b[0m\u001b[0;36m0\u001b[0m\u001b[0;34m)\u001b[0m\u001b[0;34m\u001b[0m\u001b[0;34m\u001b[0m\u001b[0m\n\u001b[1;32m     34\u001b[0m     \u001b[0;32mreturn\u001b[0m \u001b[0mdata\u001b[0m\u001b[0;34m\u001b[0m\u001b[0;34m\u001b[0m\u001b[0m\n",
      "\u001b[0;32m~/miniconda3/envs/py39/lib/python3.9/site-packages/erddapy/url_handling.py\u001b[0m in \u001b[0;36m_urlopen\u001b[0;34m(url, auth, **kwargs)\u001b[0m\n\u001b[1;32m     19\u001b[0m         \u001b[0mresponse\u001b[0m\u001b[0;34m.\u001b[0m\u001b[0mraise_for_status\u001b[0m\u001b[0;34m(\u001b[0m\u001b[0;34m)\u001b[0m\u001b[0;34m\u001b[0m\u001b[0;34m\u001b[0m\u001b[0m\n\u001b[1;32m     20\u001b[0m     \u001b[0;32mexcept\u001b[0m \u001b[0mrequests\u001b[0m\u001b[0;34m.\u001b[0m\u001b[0mexceptions\u001b[0m\u001b[0;34m.\u001b[0m\u001b[0mHTTPError\u001b[0m \u001b[0;32mas\u001b[0m \u001b[0merr\u001b[0m\u001b[0;34m:\u001b[0m\u001b[0;34m\u001b[0m\u001b[0;34m\u001b[0m\u001b[0m\n\u001b[0;32m---> 21\u001b[0;31m         \u001b[0;32mraise\u001b[0m \u001b[0mrequests\u001b[0m\u001b[0;34m.\u001b[0m\u001b[0mexceptions\u001b[0m\u001b[0;34m.\u001b[0m\u001b[0mHTTPError\u001b[0m\u001b[0;34m(\u001b[0m\u001b[0;34mf\"{response.content.decode()}\"\u001b[0m\u001b[0;34m)\u001b[0m \u001b[0;32mfrom\u001b[0m \u001b[0merr\u001b[0m\u001b[0;34m\u001b[0m\u001b[0;34m\u001b[0m\u001b[0m\n\u001b[0m\u001b[1;32m     22\u001b[0m     \u001b[0;32mreturn\u001b[0m \u001b[0mio\u001b[0m\u001b[0;34m.\u001b[0m\u001b[0mBytesIO\u001b[0m\u001b[0;34m(\u001b[0m\u001b[0mresponse\u001b[0m\u001b[0;34m.\u001b[0m\u001b[0mcontent\u001b[0m\u001b[0;34m)\u001b[0m\u001b[0;34m\u001b[0m\u001b[0;34m\u001b[0m\u001b[0m\n\u001b[1;32m     23\u001b[0m \u001b[0;34m\u001b[0m\u001b[0m\n",
      "\u001b[0;31mHTTPError\u001b[0m: <!DOCTYPE html><html><head><title>Apache Tomcat/8.0.28 - Error report</title><style type=\"text/css\">H1 {font-family:Tahoma,Arial,sans-serif;color:white;background-color:#525D76;font-size:22px;} H2 {font-family:Tahoma,Arial,sans-serif;color:white;background-color:#525D76;font-size:16px;} H3 {font-family:Tahoma,Arial,sans-serif;color:white;background-color:#525D76;font-size:14px;} BODY {font-family:Tahoma,Arial,sans-serif;color:black;background-color:white;} B {font-family:Tahoma,Arial,sans-serif;color:white;background-color:#525D76;} P {font-family:Tahoma,Arial,sans-serif;background:white;color:black;font-size:12px;}A {color : black;}A.name {color : black;}.line {height: 1px; background-color: #525D76; border: none;}</style> </head><body><h1>HTTP Status 500 - Query error: In a griddap query, '&amp;' must be followed by a .graphicsCommand.</h1><div class=\"line\"></div><p><b>type</b> Status report</p><p><b>message</b> <u>Query error: In a griddap query, '&amp;' must be followed by a .graphicsCommand.</u></p><p><b>description</b> <u>The server encountered an internal error that prevented it from fulfilling this request.</u></p><hr class=\"line\"><h3>Apache Tomcat/8.0.28</h3></body></html>"
     ]
    }
   ],
   "source": [
    "obs_pd = obs.to_pandas(index_col=\"time (UTC)\", parse_dates=True,).dropna()\n",
    "obs_pd"
   ]
  },
  {
   "cell_type": "code",
   "execution_count": 30,
   "metadata": {},
   "outputs": [
    {
     "name": "stdout",
     "output_type": "stream",
     "text": [
      "{'time>=': '2015-02-01T00:00:00Z', 'time<=': '2015-04-01T00:00:00Z', 'latitude>=': 49.08882513068171, 'latitude<=': 49.16117486931829, 'longitude>=': -123.61390096395475, 'longitude<=': -123.50209903604527}\n"
     ]
    }
   ],
   "source": [
    "server = \"https://salishsea.eos.ubc.ca/erddap\"\n",
    "\n",
    "protocol = \"tabledap\"\n",
    "\n",
    "dataset_id = \"ubcONCTWDP1mV18-01\"\n",
    "\n",
    "response = \"nc\"\n",
    "\n",
    "variables = [\n",
    "    \"latitude\",\n",
    "    \"longitude\",\n",
    "    \"chlorophyll\",\n",
    "    \"time\",\n",
    "]\n",
    "\n",
    "fourkmlat = 4/110.574\n",
    "fourkmlon = 4/(111.320*np.cos(50*np.pi/180.))\n",
    "lon, lat = places.PLACES['S3']['lon lat']\n",
    "\n",
    "constraints = {\n",
    "    \"time>=\": \"2015-02-01T00:00:00Z\",\n",
    "    \"time<=\": \"2015-04-01T00:00:00Z\",\n",
    "    \"latitude>=\": lat - fourkmlat,\n",
    "    \"latitude<=\": lat + fourkmlat,\n",
    "    \"longitude>=\": lon - fourkmlon,\n",
    "    \"longitude<=\": lon + fourkmlon,\n",
    "}\n",
    "\n",
    "print(constraints)"
   ]
  },
  {
   "cell_type": "code",
   "execution_count": 31,
   "metadata": {},
   "outputs": [],
   "source": [
    "obs = ERDDAP(server=server, protocol=protocol,)\n",
    "\n",
    "obs.dataset_id = dataset_id\n",
    "obs.variables = variables\n",
    "obs.constraints = constraints"
   ]
  },
  {
   "cell_type": "code",
   "execution_count": 32,
   "metadata": {},
   "outputs": [],
   "source": [
    "obs_pd = obs.to_pandas(index_col=\"time (UTC)\", parse_dates=True,).dropna()"
   ]
  },
  {
   "cell_type": "code",
   "execution_count": 34,
   "metadata": {},
   "outputs": [
    {
     "data": {
      "text/html": [
       "<div>\n",
       "<style scoped>\n",
       "    .dataframe tbody tr th:only-of-type {\n",
       "        vertical-align: middle;\n",
       "    }\n",
       "\n",
       "    .dataframe tbody tr th {\n",
       "        vertical-align: top;\n",
       "    }\n",
       "\n",
       "    .dataframe thead th {\n",
       "        text-align: right;\n",
       "    }\n",
       "</style>\n",
       "<table border=\"1\" class=\"dataframe\">\n",
       "  <thead>\n",
       "    <tr style=\"text-align: right;\">\n",
       "      <th></th>\n",
       "      <th>latitude (degrees_north)</th>\n",
       "      <th>longitude (degrees_east)</th>\n",
       "      <th>chlorophyll (ug/l)</th>\n",
       "    </tr>\n",
       "    <tr>\n",
       "      <th>time (UTC)</th>\n",
       "      <th></th>\n",
       "      <th></th>\n",
       "      <th></th>\n",
       "    </tr>\n",
       "  </thead>\n",
       "  <tbody>\n",
       "    <tr>\n",
       "      <th>2015-03-07 16:45:00+00:00</th>\n",
       "      <td>49.128117</td>\n",
       "      <td>-123.507033</td>\n",
       "      <td>9.968383</td>\n",
       "    </tr>\n",
       "    <tr>\n",
       "      <th>2015-03-07 16:46:00+00:00</th>\n",
       "      <td>49.130533</td>\n",
       "      <td>-123.513517</td>\n",
       "      <td>9.544883</td>\n",
       "    </tr>\n",
       "    <tr>\n",
       "      <th>2015-03-07 16:47:00+00:00</th>\n",
       "      <td>49.133000</td>\n",
       "      <td>-123.520033</td>\n",
       "      <td>9.571100</td>\n",
       "    </tr>\n",
       "    <tr>\n",
       "      <th>2015-03-07 16:48:00+00:00</th>\n",
       "      <td>49.135417</td>\n",
       "      <td>-123.526583</td>\n",
       "      <td>9.843350</td>\n",
       "    </tr>\n",
       "    <tr>\n",
       "      <th>2015-03-07 16:49:00+00:00</th>\n",
       "      <td>49.137833</td>\n",
       "      <td>-123.533183</td>\n",
       "      <td>10.087367</td>\n",
       "    </tr>\n",
       "    <tr>\n",
       "      <th>...</th>\n",
       "      <td>...</td>\n",
       "      <td>...</td>\n",
       "      <td>...</td>\n",
       "    </tr>\n",
       "    <tr>\n",
       "      <th>2015-03-26 23:24:00+00:00</th>\n",
       "      <td>49.151150</td>\n",
       "      <td>-123.584750</td>\n",
       "      <td>0.062517</td>\n",
       "    </tr>\n",
       "    <tr>\n",
       "      <th>2015-03-26 23:25:00+00:00</th>\n",
       "      <td>49.153417</td>\n",
       "      <td>-123.591550</td>\n",
       "      <td>0.064533</td>\n",
       "    </tr>\n",
       "    <tr>\n",
       "      <th>2015-03-26 23:26:00+00:00</th>\n",
       "      <td>49.155717</td>\n",
       "      <td>-123.598400</td>\n",
       "      <td>0.066550</td>\n",
       "    </tr>\n",
       "    <tr>\n",
       "      <th>2015-03-26 23:27:00+00:00</th>\n",
       "      <td>49.158033</td>\n",
       "      <td>-123.605250</td>\n",
       "      <td>0.064533</td>\n",
       "    </tr>\n",
       "    <tr>\n",
       "      <th>2015-03-26 23:28:00+00:00</th>\n",
       "      <td>49.160317</td>\n",
       "      <td>-123.612017</td>\n",
       "      <td>0.052433</td>\n",
       "    </tr>\n",
       "  </tbody>\n",
       "</table>\n",
       "<p>2109 rows × 3 columns</p>\n",
       "</div>"
      ],
      "text/plain": [
       "                           latitude (degrees_north)  longitude (degrees_east)  \\\n",
       "time (UTC)                                                                      \n",
       "2015-03-07 16:45:00+00:00                 49.128117               -123.507033   \n",
       "2015-03-07 16:46:00+00:00                 49.130533               -123.513517   \n",
       "2015-03-07 16:47:00+00:00                 49.133000               -123.520033   \n",
       "2015-03-07 16:48:00+00:00                 49.135417               -123.526583   \n",
       "2015-03-07 16:49:00+00:00                 49.137833               -123.533183   \n",
       "...                                             ...                       ...   \n",
       "2015-03-26 23:24:00+00:00                 49.151150               -123.584750   \n",
       "2015-03-26 23:25:00+00:00                 49.153417               -123.591550   \n",
       "2015-03-26 23:26:00+00:00                 49.155717               -123.598400   \n",
       "2015-03-26 23:27:00+00:00                 49.158033               -123.605250   \n",
       "2015-03-26 23:28:00+00:00                 49.160317               -123.612017   \n",
       "\n",
       "                           chlorophyll (ug/l)  \n",
       "time (UTC)                                     \n",
       "2015-03-07 16:45:00+00:00            9.968383  \n",
       "2015-03-07 16:46:00+00:00            9.544883  \n",
       "2015-03-07 16:47:00+00:00            9.571100  \n",
       "2015-03-07 16:48:00+00:00            9.843350  \n",
       "2015-03-07 16:49:00+00:00           10.087367  \n",
       "...                                       ...  \n",
       "2015-03-26 23:24:00+00:00            0.062517  \n",
       "2015-03-26 23:25:00+00:00            0.064533  \n",
       "2015-03-26 23:26:00+00:00            0.066550  \n",
       "2015-03-26 23:27:00+00:00            0.064533  \n",
       "2015-03-26 23:28:00+00:00            0.052433  \n",
       "\n",
       "[2109 rows x 3 columns]"
      ]
     },
     "execution_count": 34,
     "metadata": {},
     "output_type": "execute_result"
    }
   ],
   "source": [
    "obs_pd"
   ]
  },
  {
   "cell_type": "code",
   "execution_count": null,
   "metadata": {},
   "outputs": [],
   "source": []
  }
 ],
 "metadata": {
  "kernelspec": {
   "display_name": "Python (py39)",
   "language": "python",
   "name": "py39"
  },
  "language_info": {
   "codemirror_mode": {
    "name": "ipython",
    "version": 3
   },
   "file_extension": ".py",
   "mimetype": "text/x-python",
   "name": "python",
   "nbconvert_exporter": "python",
   "pygments_lexer": "ipython3",
   "version": "3.9.1"
  }
 },
 "nbformat": 4,
 "nbformat_minor": 4
}
