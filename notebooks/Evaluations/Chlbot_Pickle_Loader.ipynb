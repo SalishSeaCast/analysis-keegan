{
 "cells": [
  {
   "cell_type": "markdown",
   "metadata": {},
   "source": [
    "This Script only exists as a place to load up all of the pickle files files while I am busy doing other things."
   ]
  },
  {
   "cell_type": "code",
   "execution_count": 1,
   "metadata": {},
   "outputs": [],
   "source": [
    "import numpy as np\n",
    "import matplotlib.pyplot as plt\n",
    "import os\n",
    "import pandas as pd\n",
    "import netCDF4 as nc\n",
    "import datetime as dt\n",
    "from salishsea_tools import evaltools as et, viz_tools\n",
    "import gsw \n",
    "import matplotlib.gridspec as gridspec\n",
    "import matplotlib as mpl\n",
    "import matplotlib.dates as mdates\n",
    "import cmocean as cmo\n",
    "import scipy.interpolate as sinterp\n",
    "import pickle\n",
    "import cmocean\n",
    "import json\n",
    "import f90nml\n",
    "from collections import OrderedDict\n",
    "from matplotlib.colors import LogNorm\n",
    "\n",
    "fs=16\n",
    "mpl.rc('xtick', labelsize=fs)\n",
    "mpl.rc('ytick', labelsize=fs)\n",
    "mpl.rc('legend', fontsize=fs)\n",
    "mpl.rc('axes', titlesize=fs)\n",
    "mpl.rc('axes', labelsize=fs)\n",
    "mpl.rc('figure', titlesize=fs)\n",
    "mpl.rc('font', size=fs)\n",
    "mpl.rc('font', family='sans-serif', weight='normal', style='normal')\n",
    "\n",
    "import warnings\n",
    "#warnings.filterwarnings('ignore')\n",
    "from IPython.display import Markdown, display\n",
    "\n",
    "%matplotlib inline"
   ]
  },
  {
   "cell_type": "raw",
   "metadata": {},
   "source": [
    "from IPython.display import HTML\n",
    "\n",
    "HTML('''<script>\n",
    "code_show=true; \n",
    "function code_toggle() {\n",
    " if (code_show){\n",
    " $('div.input').hide();\n",
    " } else {\n",
    " $('div.input').show();\n",
    " }\n",
    " code_show = !code_show\n",
    "} \n",
    "$( document ).ready(code_toggle);\n",
    "</script>\n",
    "\n",
    "<form action=\"javascript:code_toggle()\"><input type=\"submit\" value=\"Click here to toggle on/off the raw code.\"></form>''')\n"
   ]
  },
  {
   "cell_type": "code",
   "execution_count": 2,
   "metadata": {},
   "outputs": [],
   "source": [
    "year=2009\n",
    "modelversion='nowcast-green.201905'\n",
    "PATH= '/results2/SalishSea/nowcast-green.201905/'\n",
    "datadir='/ocean/eolson/MEOPAR/obs/WADE/ptools_data/ecology'"
   ]
  },
  {
   "cell_type": "markdown",
   "metadata": {},
   "source": [
    "### load observations"
   ]
  },
  {
   "cell_type": "code",
   "execution_count": 3,
   "metadata": {},
   "outputs": [],
   "source": [
    "dfTime=pd.read_excel('/ocean/eolson/MEOPAR/obs/WADE/WDE_Data/OlsonSuchyAllen_UBC_PDR_P003790-010721.xlsx',\n",
    "                    engine='openpyxl',sheet_name='EventDateTime')"
   ]
  },
  {
   "cell_type": "code",
   "execution_count": 4,
   "metadata": {},
   "outputs": [],
   "source": [
    "## duplicate Station/Date entries with different times seem to be always within a couple of hours, \n",
    "# so just take the first (next cell)\n",
    "test=dfTime.groupby(['FlightDate','SiteCode'])['TimeDown \\n(Local - PST or PDT)'].count()"
   ]
  },
  {
   "cell_type": "code",
   "execution_count": 5,
   "metadata": {},
   "outputs": [
    {
     "name": "stdout",
     "output_type": "stream",
     "text": [
      "Index(['FlightYear', 'FlightMonth', 'FlightDate', 'SiteCode', 'Sampled',\n",
      "       'TimeDown \\n(Local - PST or PDT)', 'FieldComment'],\n",
      "      dtype='object')\n"
     ]
    }
   ],
   "source": [
    "# drop duplicate rows\n",
    "dfTime.drop_duplicates(subset=['FlightDate','SiteCode'],keep='first',inplace=True)\n",
    "print(dfTime.keys())"
   ]
  },
  {
   "cell_type": "code",
   "execution_count": 6,
   "metadata": {},
   "outputs": [],
   "source": [
    "dfTime['dtPac']=[dt.datetime.combine(idate, itime) for idate, itime \\\n",
    "         in zip(dfTime['FlightDate'],dfTime['TimeDown \\n(Local - PST or PDT)'])]\n",
    "dfTime['dtUTC']=[et.pac_to_utc(ii) for ii in dfTime['dtPac']]"
   ]
  },
  {
   "cell_type": "code",
   "execution_count": 7,
   "metadata": {},
   "outputs": [],
   "source": [
    "# PROCESS STATION LOCATION INFO (based on Parker's code)\n",
    "sta_fn='/ocean/eolson/MEOPAR/obs/WADE/WDE_Data/OlsonSuchyAllen_UBC_PDR_P003790-010721.xlsx'\n",
    "sheetname='Site Info'\n",
    "sta_df =pd.read_excel(sta_fn,engine='openpyxl',sheet_name=sheetname)\n",
    "sta_df.dropna(how='any',subset=['Lat_NAD83 (deg / dec_min)','Long_NAD83 (deg / dec_min)','Station'],inplace=True)\n",
    "sta_df = sta_df.set_index('Station')\n",
    "# get locations in decimal degrees\n",
    "for sta in sta_df.index:\n",
    "    lat_str = sta_df.loc[sta, 'Lat_NAD83 (deg / dec_min)']\n",
    "    lat_deg = float(lat_str.split()[0]) + float(lat_str.split()[1])/60\n",
    "    sta_df.loc[sta,'Lat'] = lat_deg\n",
    "    #\n",
    "    lon_str = sta_df.loc[sta, 'Long_NAD83 (deg / dec_min)']\n",
    "    lon_deg = float(lon_str.split()[0]) + float(lon_str.split()[1])/60\n",
    "    sta_df.loc[sta,'Lon'] = -lon_deg    \n",
    "sta_df.pop('Lat_NAD83 (deg / dec_min)');\n",
    "sta_df.pop('Long_NAD83 (deg / dec_min)');"
   ]
  },
  {
   "cell_type": "code",
   "execution_count": 8,
   "metadata": {},
   "outputs": [],
   "source": [
    "fn='/ocean/eolson/MEOPAR/obs/WADE/WDE_Data/OlsonSuchyAllen_UBC_PDR_P003790-010721.xlsx'\n",
    "sheetname='LabChlaPheo'\n",
    "chlPheo =pd.read_excel(fn,engine='openpyxl',sheet_name=sheetname)"
   ]
  },
  {
   "cell_type": "code",
   "execution_count": 9,
   "metadata": {},
   "outputs": [],
   "source": [
    "chlPheo.dropna(how='any',subset=['Date','Station','SamplingDepth'],inplace=True)"
   ]
  },
  {
   "cell_type": "code",
   "execution_count": 10,
   "metadata": {},
   "outputs": [],
   "source": [
    "# average over replicates\n",
    "chlPheo2=pd.DataFrame(chlPheo.groupby(['Date','Station','SamplingDepth'],as_index=False).mean())"
   ]
  },
  {
   "cell_type": "code",
   "execution_count": 11,
   "metadata": {},
   "outputs": [],
   "source": [
    "# join to station info (lat/lon)\n",
    "chlPheo3=pd.merge(left=sta_df,right=chlPheo2,how='right',\n",
    "                 left_on='Station',right_on='Station')"
   ]
  },
  {
   "cell_type": "code",
   "execution_count": 12,
   "metadata": {},
   "outputs": [],
   "source": [
    "# join to date/time\n",
    "dfTime['dtUTC']=[et.pac_to_utc(dt.datetime.combine(idate,itime)) for idate,itime in \\\n",
    "                zip(dfTime['FlightDate'],dfTime['TimeDown \\n(Local - PST or PDT)'])]\n",
    "dfTime2=dfTime.loc[:,['FlightDate','SiteCode','dtUTC']]\n",
    "chlPheoFinal=pd.merge(left=chlPheo3,right=dfTime2,how='left',\n",
    "                      left_on=['Date','Station'],right_on=['FlightDate','SiteCode'])"
   ]
  },
  {
   "cell_type": "code",
   "execution_count": 43,
   "metadata": {},
   "outputs": [],
   "source": [
    "chlPheoFinal.dropna(how='any',subset=['dtUTC'],inplace=True)"
   ]
  },
  {
   "cell_type": "code",
   "execution_count": 45,
   "metadata": {},
   "outputs": [],
   "source": [
    "chlPheoFinal['Z']=chlPheoFinal['SamplingDepth']\n",
    "chlPheoFinal['Year']=[ii.year for ii in chlPheoFinal['dtUTC']]\n",
    "chlPheoFinal['YD']=et.datetimeToYD(chlPheoFinal['dtUTC'])"
   ]
  },
  {
   "cell_type": "code",
   "execution_count": 46,
   "metadata": {},
   "outputs": [
    {
     "data": {
      "text/plain": [
       "(11422, 11469, 5186)"
      ]
     },
     "execution_count": 46,
     "metadata": {},
     "output_type": "execute_result"
    }
   ],
   "source": [
    "len(chlPheoFinal),len(chlPheo3),len(dfTime2)"
   ]
  },
  {
   "cell_type": "markdown",
   "metadata": {},
   "source": [
    "## load CTD data"
   ]
  },
  {
   "cell_type": "code",
   "execution_count": 15,
   "metadata": {},
   "outputs": [],
   "source": [
    "dfCTD0=pickle.load(open(os.path.join(datadir,f'Casts_{str(year)}.p'),'rb'))\n",
    "dfCTD=pd.merge(left=sta_df,right=dfCTD0,how='right',\n",
    "             left_on='Station',right_on='Station')\n",
    "dfCTD['dtUTC']=[iiD+dt.timedelta(hours=20) for iiD in dfCTD['Date']] #Does this mean it also has that flaw where we are not sure when the data was collected?\n",
    "dfCTD.rename(columns={'Latitude':'Lat','Longitude':'Lon'},inplace=True)\n",
    "dfCTD['Z']=-1*dfCTD['Z']\n",
    "# Calculate Absolute (Reference) Salinity (g/kg) and Conservative Temperature (deg C) from \n",
    "# Salinity (psu) and Temperature (deg C):\n",
    "press=gsw.p_from_z(-1*dfCTD['Z'],dfCTD['Lat'])\n",
    "dfCTD['SA']=gsw.SA_from_SP(dfCTD['Salinity'],press,\n",
    "                           dfCTD['Lon'],dfCTD['Lat'])\n",
    "dfCTD['CT']=gsw.CT_from_t(dfCTD['SA'],dfCTD['Temperature'],press)\n",
    "\n",
    "dfCTD['Year']=[ii.year for ii in dfCTD['dtUTC']]\n",
    "dfCTD['YD']=et.datetimeToYD(dfCTD['dtUTC'])"
   ]
  },
  {
   "cell_type": "code",
   "execution_count": 16,
   "metadata": {},
   "outputs": [
    {
     "data": {
      "text/plain": [
       "Index(['Station', 'Desig', 'Descrip', 'Basin', '*Max_Depth', 'Lat', 'Lon',\n",
       "       'Salinity', 'Temperature', 'Sigma', 'Chl', 'DO', 'Turb', 'Z', 'Date',\n",
       "       'dtUTC', 'SA', 'CT', 'Year', 'YD'],\n",
       "      dtype='object')"
      ]
     },
     "execution_count": 16,
     "metadata": {},
     "output_type": "execute_result"
    }
   ],
   "source": [
    "dfCTD.keys()"
   ]
  },
  {
   "cell_type": "code",
   "execution_count": 17,
   "metadata": {},
   "outputs": [
    {
     "name": "stdout",
     "output_type": "stream",
     "text": [
      "this should be 1:  [1]\n"
     ]
    }
   ],
   "source": [
    "# check that there is never more than one ctd cast per station per day:\n",
    "test=dfCTD.groupby(['Station','Year','YD','Z']).count()\n",
    "print('this should be 1: ',test['Date'].unique())"
   ]
  },
  {
   "cell_type": "markdown",
   "metadata": {},
   "source": [
    "## Creating Nutrients matched dataset with added CT and SA from CTD"
   ]
  },
  {
   "cell_type": "code",
   "execution_count": 18,
   "metadata": {},
   "outputs": [],
   "source": [
    "def interpCTDvar(sta,yr,yd,ztarget,ctdvar):\n",
    "    ctdlocs=(dfCTD.Station==sta)&(dfCTD.Year==yr)&(dfCTD.YD==yd)\n",
    "    if np.sum(ctdlocs)==0:\n",
    "        print(f'Warning: Station {sta}, Year {yr}, year day {yd} not found in dfCTD')\n",
    "        return np.nan\n",
    "    else:\n",
    "        val=np.interp(ztarget,dfCTD.loc[ctdlocs,['Z']].values.flatten(),\n",
    "                  dfCTD.loc[ctdlocs,[ctdvar]].values.flatten())\n",
    "        return val"
   ]
  },
  {
   "cell_type": "code",
   "execution_count": 19,
   "metadata": {},
   "outputs": [
    {
     "data": {
      "text/plain": [
       "array([110, 138, 159, 201, 230, 257, 285, 336])"
      ]
     },
     "execution_count": 19,
     "metadata": {},
     "output_type": "execute_result"
    }
   ],
   "source": [
    "dfCTD.loc[dfCTD.Station=='PSS019']['YD'].unique()"
   ]
  },
  {
   "cell_type": "code",
   "execution_count": 56,
   "metadata": {},
   "outputs": [],
   "source": [
    "chlPheoFinal.loc[chlPheoFinal.Station=='PSS019']['YD'].unique()\n",
    "chlPheoYear=pd.DataFrame(chlPheoFinal.loc[chlPheoFinal.Year==year])"
   ]
  },
  {
   "cell_type": "code",
   "execution_count": 57,
   "metadata": {},
   "outputs": [
    {
     "name": "stdout",
     "output_type": "stream",
     "text": [
      "Warning: Station PSS019, Year 2009, year day 258 not found in dfCTD\n",
      "Warning: Station PSS019, Year 2009, year day 258 not found in dfCTD\n",
      "Warning: Station PSS019, Year 2009, year day 258 not found in dfCTD\n"
     ]
    }
   ],
   "source": [
    "chlPheoYear['SA']=[interpCTDvar(sta,yr,yd,ztarget,'SA') for sta, yr, yd, ztarget \\\n",
    "           in zip(chlPheoYear['Station'],chlPheoYear['Year'],chlPheoYear['YD'],chlPheoYear['Z'])]"
   ]
  },
  {
   "cell_type": "code",
   "execution_count": 58,
   "metadata": {},
   "outputs": [
    {
     "name": "stdout",
     "output_type": "stream",
     "text": [
      "Warning: Station PSS019, Year 2009, year day 258 not found in dfCTD\n",
      "Warning: Station PSS019, Year 2009, year day 258 not found in dfCTD\n",
      "Warning: Station PSS019, Year 2009, year day 258 not found in dfCTD\n"
     ]
    }
   ],
   "source": [
    "chlPheoYear['CT']=[interpCTDvar(sta,yr,yd,ztarget,'CT') for sta, yr, yd, ztarget \\\n",
    "           in zip(chlPheoYear['Station'],chlPheoYear['Year'],chlPheoYear['YD'],chlPheoYear['Z'])]"
   ]
  },
  {
   "cell_type": "code",
   "execution_count": 59,
   "metadata": {},
   "outputs": [
    {
     "data": {
      "text/html": [
       "<div>\n",
       "<style scoped>\n",
       "    .dataframe tbody tr th:only-of-type {\n",
       "        vertical-align: middle;\n",
       "    }\n",
       "\n",
       "    .dataframe tbody tr th {\n",
       "        vertical-align: top;\n",
       "    }\n",
       "\n",
       "    .dataframe thead th {\n",
       "        text-align: right;\n",
       "    }\n",
       "</style>\n",
       "<table border=\"1\" class=\"dataframe\">\n",
       "  <thead>\n",
       "    <tr style=\"text-align: right;\">\n",
       "      <th></th>\n",
       "      <th>Station</th>\n",
       "      <th>Desig</th>\n",
       "      <th>Descrip</th>\n",
       "      <th>Basin</th>\n",
       "      <th>*Max_Depth</th>\n",
       "      <th>Lat</th>\n",
       "      <th>Lon</th>\n",
       "      <th>Date</th>\n",
       "      <th>SamplingDepth</th>\n",
       "      <th>CTD Cast Rep</th>\n",
       "      <th>...</th>\n",
       "      <th>Pheo_QA</th>\n",
       "      <th>Pheo_SampleFieldReplicateNumber</th>\n",
       "      <th>FlightDate</th>\n",
       "      <th>SiteCode</th>\n",
       "      <th>dtUTC</th>\n",
       "      <th>Z</th>\n",
       "      <th>Year</th>\n",
       "      <th>YD</th>\n",
       "      <th>SA</th>\n",
       "      <th>CT</th>\n",
       "    </tr>\n",
       "  </thead>\n",
       "  <tbody>\n",
       "    <tr>\n",
       "      <th>131</th>\n",
       "      <td>ADM001</td>\n",
       "      <td>C</td>\n",
       "      <td>Admiralty Inlet - Bush Pt.</td>\n",
       "      <td>Admiralty Inlet</td>\n",
       "      <td>114.0</td>\n",
       "      <td>48.029813</td>\n",
       "      <td>-122.617933</td>\n",
       "      <td>2009-04-06</td>\n",
       "      <td>1.014000</td>\n",
       "      <td>1.0</td>\n",
       "      <td>...</td>\n",
       "      <td>3.0</td>\n",
       "      <td>1.0</td>\n",
       "      <td>2009-04-06</td>\n",
       "      <td>ADM001</td>\n",
       "      <td>2009-04-06 19:02:00</td>\n",
       "      <td>1.014000</td>\n",
       "      <td>2009</td>\n",
       "      <td>96</td>\n",
       "      <td>29.886843</td>\n",
       "      <td>7.932160</td>\n",
       "    </tr>\n",
       "    <tr>\n",
       "      <th>132</th>\n",
       "      <td>ADM001</td>\n",
       "      <td>C</td>\n",
       "      <td>Admiralty Inlet - Bush Pt.</td>\n",
       "      <td>Admiralty Inlet</td>\n",
       "      <td>114.0</td>\n",
       "      <td>48.029813</td>\n",
       "      <td>-122.617933</td>\n",
       "      <td>2009-04-06</td>\n",
       "      <td>9.866000</td>\n",
       "      <td>1.0</td>\n",
       "      <td>...</td>\n",
       "      <td>3.0</td>\n",
       "      <td>1.0</td>\n",
       "      <td>2009-04-06</td>\n",
       "      <td>ADM001</td>\n",
       "      <td>2009-04-06 19:02:00</td>\n",
       "      <td>9.866000</td>\n",
       "      <td>2009</td>\n",
       "      <td>96</td>\n",
       "      <td>29.886843</td>\n",
       "      <td>7.932160</td>\n",
       "    </tr>\n",
       "    <tr>\n",
       "      <th>133</th>\n",
       "      <td>ADM001</td>\n",
       "      <td>C</td>\n",
       "      <td>Admiralty Inlet - Bush Pt.</td>\n",
       "      <td>Admiralty Inlet</td>\n",
       "      <td>114.0</td>\n",
       "      <td>48.029813</td>\n",
       "      <td>-122.617933</td>\n",
       "      <td>2009-04-06</td>\n",
       "      <td>29.737000</td>\n",
       "      <td>1.0</td>\n",
       "      <td>...</td>\n",
       "      <td>3.0</td>\n",
       "      <td>1.0</td>\n",
       "      <td>2009-04-06</td>\n",
       "      <td>ADM001</td>\n",
       "      <td>2009-04-06 19:02:00</td>\n",
       "      <td>29.737000</td>\n",
       "      <td>2009</td>\n",
       "      <td>96</td>\n",
       "      <td>29.886843</td>\n",
       "      <td>7.932160</td>\n",
       "    </tr>\n",
       "    <tr>\n",
       "      <th>134</th>\n",
       "      <td>ADM001</td>\n",
       "      <td>C</td>\n",
       "      <td>Admiralty Inlet - Bush Pt.</td>\n",
       "      <td>Admiralty Inlet</td>\n",
       "      <td>114.0</td>\n",
       "      <td>48.029813</td>\n",
       "      <td>-122.617933</td>\n",
       "      <td>2009-05-20</td>\n",
       "      <td>1.033000</td>\n",
       "      <td>1.0</td>\n",
       "      <td>...</td>\n",
       "      <td>3.0</td>\n",
       "      <td>1.0</td>\n",
       "      <td>2009-05-20</td>\n",
       "      <td>ADM001</td>\n",
       "      <td>2009-05-20 19:35:00</td>\n",
       "      <td>1.033000</td>\n",
       "      <td>2009</td>\n",
       "      <td>140</td>\n",
       "      <td>28.448336</td>\n",
       "      <td>10.232581</td>\n",
       "    </tr>\n",
       "    <tr>\n",
       "      <th>135</th>\n",
       "      <td>ADM001</td>\n",
       "      <td>C</td>\n",
       "      <td>Admiralty Inlet - Bush Pt.</td>\n",
       "      <td>Admiralty Inlet</td>\n",
       "      <td>114.0</td>\n",
       "      <td>48.029813</td>\n",
       "      <td>-122.617933</td>\n",
       "      <td>2009-05-20</td>\n",
       "      <td>9.818000</td>\n",
       "      <td>1.0</td>\n",
       "      <td>...</td>\n",
       "      <td>3.0</td>\n",
       "      <td>1.0</td>\n",
       "      <td>2009-05-20</td>\n",
       "      <td>ADM001</td>\n",
       "      <td>2009-05-20 19:35:00</td>\n",
       "      <td>9.818000</td>\n",
       "      <td>2009</td>\n",
       "      <td>140</td>\n",
       "      <td>28.448336</td>\n",
       "      <td>10.232581</td>\n",
       "    </tr>\n",
       "    <tr>\n",
       "      <th>...</th>\n",
       "      <td>...</td>\n",
       "      <td>...</td>\n",
       "      <td>...</td>\n",
       "      <td>...</td>\n",
       "      <td>...</td>\n",
       "      <td>...</td>\n",
       "      <td>...</td>\n",
       "      <td>...</td>\n",
       "      <td>...</td>\n",
       "      <td>...</td>\n",
       "      <td>...</td>\n",
       "      <td>...</td>\n",
       "      <td>...</td>\n",
       "      <td>...</td>\n",
       "      <td>...</td>\n",
       "      <td>...</td>\n",
       "      <td>...</td>\n",
       "      <td>...</td>\n",
       "      <td>...</td>\n",
       "      <td>...</td>\n",
       "      <td>...</td>\n",
       "    </tr>\n",
       "    <tr>\n",
       "      <th>11190</th>\n",
       "      <td>RSR837</td>\n",
       "      <td>C</td>\n",
       "      <td>Rosario Strait - Peapod Rock</td>\n",
       "      <td>Strait of Georgia</td>\n",
       "      <td>56.0</td>\n",
       "      <td>48.616492</td>\n",
       "      <td>-122.762958</td>\n",
       "      <td>2009-10-12</td>\n",
       "      <td>9.925000</td>\n",
       "      <td>1.0</td>\n",
       "      <td>...</td>\n",
       "      <td>3.0</td>\n",
       "      <td>1.0</td>\n",
       "      <td>2009-10-12</td>\n",
       "      <td>RSR837</td>\n",
       "      <td>2009-10-12 18:46:00</td>\n",
       "      <td>9.925000</td>\n",
       "      <td>2009</td>\n",
       "      <td>285</td>\n",
       "      <td>30.772577</td>\n",
       "      <td>10.431024</td>\n",
       "    </tr>\n",
       "    <tr>\n",
       "      <th>11191</th>\n",
       "      <td>RSR837</td>\n",
       "      <td>C</td>\n",
       "      <td>Rosario Strait - Peapod Rock</td>\n",
       "      <td>Strait of Georgia</td>\n",
       "      <td>56.0</td>\n",
       "      <td>48.616492</td>\n",
       "      <td>-122.762958</td>\n",
       "      <td>2009-10-12</td>\n",
       "      <td>30.006001</td>\n",
       "      <td>1.0</td>\n",
       "      <td>...</td>\n",
       "      <td>3.0</td>\n",
       "      <td>1.0</td>\n",
       "      <td>2009-10-12</td>\n",
       "      <td>RSR837</td>\n",
       "      <td>2009-10-12 18:46:00</td>\n",
       "      <td>30.006001</td>\n",
       "      <td>2009</td>\n",
       "      <td>285</td>\n",
       "      <td>30.772577</td>\n",
       "      <td>10.431024</td>\n",
       "    </tr>\n",
       "    <tr>\n",
       "      <th>11192</th>\n",
       "      <td>RSR837</td>\n",
       "      <td>C</td>\n",
       "      <td>Rosario Strait - Peapod Rock</td>\n",
       "      <td>Strait of Georgia</td>\n",
       "      <td>56.0</td>\n",
       "      <td>48.616492</td>\n",
       "      <td>-122.762958</td>\n",
       "      <td>2009-12-02</td>\n",
       "      <td>1.283000</td>\n",
       "      <td>1.0</td>\n",
       "      <td>...</td>\n",
       "      <td>3.0</td>\n",
       "      <td>1.0</td>\n",
       "      <td>2009-12-02</td>\n",
       "      <td>RSR837</td>\n",
       "      <td>2009-12-02 20:26:00</td>\n",
       "      <td>1.283000</td>\n",
       "      <td>2009</td>\n",
       "      <td>336</td>\n",
       "      <td>29.567478</td>\n",
       "      <td>8.858209</td>\n",
       "    </tr>\n",
       "    <tr>\n",
       "      <th>11193</th>\n",
       "      <td>RSR837</td>\n",
       "      <td>C</td>\n",
       "      <td>Rosario Strait - Peapod Rock</td>\n",
       "      <td>Strait of Georgia</td>\n",
       "      <td>56.0</td>\n",
       "      <td>48.616492</td>\n",
       "      <td>-122.762958</td>\n",
       "      <td>2009-12-02</td>\n",
       "      <td>11.049000</td>\n",
       "      <td>1.0</td>\n",
       "      <td>...</td>\n",
       "      <td>3.0</td>\n",
       "      <td>1.0</td>\n",
       "      <td>2009-12-02</td>\n",
       "      <td>RSR837</td>\n",
       "      <td>2009-12-02 20:26:00</td>\n",
       "      <td>11.049000</td>\n",
       "      <td>2009</td>\n",
       "      <td>336</td>\n",
       "      <td>29.567478</td>\n",
       "      <td>8.858209</td>\n",
       "    </tr>\n",
       "    <tr>\n",
       "      <th>11194</th>\n",
       "      <td>RSR837</td>\n",
       "      <td>C</td>\n",
       "      <td>Rosario Strait - Peapod Rock</td>\n",
       "      <td>Strait of Georgia</td>\n",
       "      <td>56.0</td>\n",
       "      <td>48.616492</td>\n",
       "      <td>-122.762958</td>\n",
       "      <td>2009-12-02</td>\n",
       "      <td>31.018999</td>\n",
       "      <td>1.0</td>\n",
       "      <td>...</td>\n",
       "      <td>3.0</td>\n",
       "      <td>1.0</td>\n",
       "      <td>2009-12-02</td>\n",
       "      <td>RSR837</td>\n",
       "      <td>2009-12-02 20:26:00</td>\n",
       "      <td>31.018999</td>\n",
       "      <td>2009</td>\n",
       "      <td>336</td>\n",
       "      <td>29.567478</td>\n",
       "      <td>8.858209</td>\n",
       "    </tr>\n",
       "  </tbody>\n",
       "</table>\n",
       "<p>582 rows × 28 columns</p>\n",
       "</div>"
      ],
      "text/plain": [
       "      Station Desig                       Descrip              Basin  \\\n",
       "131    ADM001     C    Admiralty Inlet - Bush Pt.    Admiralty Inlet   \n",
       "132    ADM001     C    Admiralty Inlet - Bush Pt.    Admiralty Inlet   \n",
       "133    ADM001     C    Admiralty Inlet - Bush Pt.    Admiralty Inlet   \n",
       "134    ADM001     C    Admiralty Inlet - Bush Pt.    Admiralty Inlet   \n",
       "135    ADM001     C    Admiralty Inlet - Bush Pt.    Admiralty Inlet   \n",
       "...       ...   ...                           ...                ...   \n",
       "11190  RSR837     C  Rosario Strait - Peapod Rock  Strait of Georgia   \n",
       "11191  RSR837     C  Rosario Strait - Peapod Rock  Strait of Georgia   \n",
       "11192  RSR837     C  Rosario Strait - Peapod Rock  Strait of Georgia   \n",
       "11193  RSR837     C  Rosario Strait - Peapod Rock  Strait of Georgia   \n",
       "11194  RSR837     C  Rosario Strait - Peapod Rock  Strait of Georgia   \n",
       "\n",
       "       *Max_Depth        Lat         Lon       Date  SamplingDepth  \\\n",
       "131         114.0  48.029813 -122.617933 2009-04-06       1.014000   \n",
       "132         114.0  48.029813 -122.617933 2009-04-06       9.866000   \n",
       "133         114.0  48.029813 -122.617933 2009-04-06      29.737000   \n",
       "134         114.0  48.029813 -122.617933 2009-05-20       1.033000   \n",
       "135         114.0  48.029813 -122.617933 2009-05-20       9.818000   \n",
       "...           ...        ...         ...        ...            ...   \n",
       "11190        56.0  48.616492 -122.762958 2009-10-12       9.925000   \n",
       "11191        56.0  48.616492 -122.762958 2009-10-12      30.006001   \n",
       "11192        56.0  48.616492 -122.762958 2009-12-02       1.283000   \n",
       "11193        56.0  48.616492 -122.762958 2009-12-02      11.049000   \n",
       "11194        56.0  48.616492 -122.762958 2009-12-02      31.018999   \n",
       "\n",
       "       CTD Cast Rep  ...  Pheo_QA  Pheo_SampleFieldReplicateNumber  \\\n",
       "131             1.0  ...      3.0                              1.0   \n",
       "132             1.0  ...      3.0                              1.0   \n",
       "133             1.0  ...      3.0                              1.0   \n",
       "134             1.0  ...      3.0                              1.0   \n",
       "135             1.0  ...      3.0                              1.0   \n",
       "...             ...  ...      ...                              ...   \n",
       "11190           1.0  ...      3.0                              1.0   \n",
       "11191           1.0  ...      3.0                              1.0   \n",
       "11192           1.0  ...      3.0                              1.0   \n",
       "11193           1.0  ...      3.0                              1.0   \n",
       "11194           1.0  ...      3.0                              1.0   \n",
       "\n",
       "       FlightDate  SiteCode               dtUTC          Z  Year   YD  \\\n",
       "131    2009-04-06    ADM001 2009-04-06 19:02:00   1.014000  2009   96   \n",
       "132    2009-04-06    ADM001 2009-04-06 19:02:00   9.866000  2009   96   \n",
       "133    2009-04-06    ADM001 2009-04-06 19:02:00  29.737000  2009   96   \n",
       "134    2009-05-20    ADM001 2009-05-20 19:35:00   1.033000  2009  140   \n",
       "135    2009-05-20    ADM001 2009-05-20 19:35:00   9.818000  2009  140   \n",
       "...           ...       ...                 ...        ...   ...  ...   \n",
       "11190  2009-10-12    RSR837 2009-10-12 18:46:00   9.925000  2009  285   \n",
       "11191  2009-10-12    RSR837 2009-10-12 18:46:00  30.006001  2009  285   \n",
       "11192  2009-12-02    RSR837 2009-12-02 20:26:00   1.283000  2009  336   \n",
       "11193  2009-12-02    RSR837 2009-12-02 20:26:00  11.049000  2009  336   \n",
       "11194  2009-12-02    RSR837 2009-12-02 20:26:00  31.018999  2009  336   \n",
       "\n",
       "              SA         CT  \n",
       "131    29.886843   7.932160  \n",
       "132    29.886843   7.932160  \n",
       "133    29.886843   7.932160  \n",
       "134    28.448336  10.232581  \n",
       "135    28.448336  10.232581  \n",
       "...          ...        ...  \n",
       "11190  30.772577  10.431024  \n",
       "11191  30.772577  10.431024  \n",
       "11192  29.567478   8.858209  \n",
       "11193  29.567478   8.858209  \n",
       "11194  29.567478   8.858209  \n",
       "\n",
       "[582 rows x 28 columns]"
      ]
     },
     "execution_count": 59,
     "metadata": {},
     "output_type": "execute_result"
    }
   ],
   "source": [
    "chlPheoYear"
   ]
  },
  {
   "cell_type": "markdown",
   "metadata": {},
   "source": [
    "### set up variables for model-data matching"
   ]
  },
  {
   "cell_type": "code",
   "execution_count": 60,
   "metadata": {},
   "outputs": [],
   "source": [
    "start_date = dt.datetime(year,1,1)\n",
    "end_date = dt.datetime(year,12,31)\n",
    "flen=1 # number of days per model output file. always 1 for 201905 and 201812 model runs\n",
    "namfmt='nowcast' # for 201905 and 201812 model runs, this should always be 'nowcast'\n",
    "filemap={'diatoms':'ptrc_T','ciliates':'ptrc_T','flagellates':'ptrc_T','votemper':'grid_T','vosaline':'grid_T'}\n",
    "fdict={'ptrc_T':1,'grid_T':1}"
   ]
  },
  {
   "cell_type": "code",
   "execution_count": 61,
   "metadata": {},
   "outputs": [
    {
     "name": "stdout",
     "output_type": "stream",
     "text": [
      "(Lat,Lon)= 47.21342666666666 -123.07765  not matched to domain\n"
     ]
    }
   ],
   "source": [
    "data_Phea=et.matchData(chlPheoYear,filemap,fdict,start_date,end_date,'nowcast',PATH,1,quiet=False);"
   ]
  },
  {
   "cell_type": "code",
   "execution_count": 28,
   "metadata": {},
   "outputs": [],
   "source": [
    "##### Saving data as Pickle files to be used in the summary file\n",
    "saveloc='/ocean/kflanaga/MEOPAR/savedData'\n",
    "with open(os.path.join(saveloc,f'data_Phea_{modelversion}_{year}.pkl'),'wb') as hh:\n",
    "    pickle.dump(data_Phea,hh)"
   ]
  }
 ],
 "metadata": {
  "kernelspec": {
   "display_name": "Python (py39)",
   "language": "python",
   "name": "py39"
  },
  "language_info": {
   "codemirror_mode": {
    "name": "ipython",
    "version": 3
   },
   "file_extension": ".py",
   "mimetype": "text/x-python",
   "name": "python",
   "nbconvert_exporter": "python",
   "pygments_lexer": "ipython3",
   "version": "3.9.1"
  }
 },
 "nbformat": 4,
 "nbformat_minor": 4
}
