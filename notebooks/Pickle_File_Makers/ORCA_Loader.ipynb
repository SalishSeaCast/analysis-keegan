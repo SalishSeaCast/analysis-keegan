{
 "cells": [
  {
   "cell_type": "markdown",
   "metadata": {},
   "source": [
    "Hopefully, This script will allow me to load up and fix up the moored data"
   ]
  },
  {
   "cell_type": "code",
   "execution_count": 15,
   "metadata": {},
   "outputs": [],
   "source": [
    "import numpy as np\n",
    "import matplotlib.pyplot as plt\n",
    "import os\n",
    "import pandas as pd\n",
    "import netCDF4 as nc\n",
    "import datetime as dt\n",
    "from salishsea_tools import evaltools as et, viz_tools\n",
    "import gsw \n",
    "import matplotlib.gridspec as gridspec\n",
    "import matplotlib as mpl\n",
    "import matplotlib.dates as mdates\n",
    "import cmocean as cmo\n",
    "import scipy.interpolate as sinterp\n",
    "from scipy import io\n",
    "import pickle\n",
    "import cmocean\n",
    "import json\n",
    "import f90nml\n",
    "from collections import OrderedDict\n",
    "from matplotlib.colors import LogNorm\n",
    "\n",
    "fs=16\n",
    "mpl.rc('xtick', labelsize=fs)\n",
    "mpl.rc('ytick', labelsize=fs)\n",
    "mpl.rc('legend', fontsize=fs)\n",
    "mpl.rc('axes', titlesize=fs)\n",
    "mpl.rc('axes', labelsize=fs)\n",
    "mpl.rc('figure', titlesize=fs)\n",
    "mpl.rc('font', size=fs)\n",
    "mpl.rc('font', family='sans-serif', weight='normal', style='normal')\n",
    "\n",
    "import warnings\n",
    "#warnings.filterwarnings('ignore')\n",
    "from IPython.display import Markdown, display\n",
    "\n",
    "%matplotlib inline"
   ]
  },
  {
   "cell_type": "code",
   "execution_count": 16,
   "metadata": {},
   "outputs": [],
   "source": [
    "saveloc='/ocean/kflanaga/MEOPAR/ORCAData'\n",
    "year=2018\n",
    "Mooring='Dockton'"
   ]
  },
  {
   "cell_type": "code",
   "execution_count": 17,
   "metadata": {},
   "outputs": [],
   "source": [
    "df=io.loadmat(f'{saveloc}/Hoodsport.mat')"
   ]
  },
  {
   "cell_type": "markdown",
   "metadata": {},
   "source": [
    "Alright. I am going to say that Btemp=temperature, Bdepth=depth, Bfluor= chlorophyll fluorescence\n",
    "Bsal=Salinity"
   ]
  },
  {
   "cell_type": "code",
   "execution_count": 18,
   "metadata": {},
   "outputs": [
    {
     "data": {
      "text/plain": [
       "array([2119.88475405, 2120.01527199,           nan, ..., 7738.51439525,\n",
       "       7739.0154456 , 7740.01556713])"
      ]
     },
     "execution_count": 18,
     "metadata": {},
     "output_type": "execute_result"
    }
   ],
   "source": [
    "df['Btime'][1]"
   ]
  },
  {
   "cell_type": "code",
   "execution_count": 19,
   "metadata": {},
   "outputs": [
    {
     "data": {
      "text/plain": [
       "21974"
      ]
     },
     "execution_count": 19,
     "metadata": {},
     "output_type": "execute_result"
    }
   ],
   "source": [
    "len(df['Btime'][1])"
   ]
  },
  {
   "cell_type": "code",
   "execution_count": 20,
   "metadata": {},
   "outputs": [
    {
     "data": {
      "text/plain": [
       "19199"
      ]
     },
     "execution_count": 20,
     "metadata": {},
     "output_type": "execute_result"
    }
   ],
   "source": [
    "np.count_nonzero(~np.isnan(df['Btime'][1]))"
   ]
  },
  {
   "cell_type": "code",
   "execution_count": 26,
   "metadata": {},
   "outputs": [],
   "source": [
    "newData=list(zip(df['Btime'][1],df['Bdepth'][1],df['Btemp'][1],df['Bsal'][1],df['Bfluor'][1]))\n",
    "columns=['Time','Z','Temperature','Salinity','Chlorophyll']\n",
    "df2=pd.DataFrame(newData,columns=columns)"
   ]
  },
  {
   "cell_type": "code",
   "execution_count": 27,
   "metadata": {},
   "outputs": [],
   "source": [
    "UTC=[]\n",
    "for yd in df2['Time']:\n",
    "    if np.isnan(yd) == True:\n",
    "        UTC.append(float(\"NaN\"))\n",
    "    else:\n",
    "        start = dt.datetime(1999,12,31)      \n",
    "        delta = dt.timedelta(yd)     \n",
    "        offset = start + delta \n",
    "        UTC.append(offset)"
   ]
  },
  {
   "cell_type": "code",
   "execution_count": 29,
   "metadata": {},
   "outputs": [],
   "source": [
    "df2['dtUTC']=UTC\n",
    "Lat=47.421817\n",
    "Lon=-123.112583\n",
    "press=gsw.p_from_z(-1*df2['Z'],Lat)\n",
    "df2['SA']=gsw.SA_from_SP(df2['Salinity'],press,\n",
    "                       Lon,Lat)\n",
    "df2['CT']=gsw.CT_from_t(df2['SA'],df2['Temperature'],press)"
   ]
  },
  {
   "cell_type": "code",
   "execution_count": 30,
   "metadata": {},
   "outputs": [
    {
     "data": {
      "text/html": [
       "<div>\n",
       "<style scoped>\n",
       "    .dataframe tbody tr th:only-of-type {\n",
       "        vertical-align: middle;\n",
       "    }\n",
       "\n",
       "    .dataframe tbody tr th {\n",
       "        vertical-align: top;\n",
       "    }\n",
       "\n",
       "    .dataframe thead th {\n",
       "        text-align: right;\n",
       "    }\n",
       "</style>\n",
       "<table border=\"1\" class=\"dataframe\">\n",
       "  <thead>\n",
       "    <tr style=\"text-align: right;\">\n",
       "      <th></th>\n",
       "      <th>Time</th>\n",
       "      <th>Z</th>\n",
       "      <th>Temperature</th>\n",
       "      <th>Salinity</th>\n",
       "      <th>Chlorophyll</th>\n",
       "      <th>dtUTC</th>\n",
       "      <th>SA</th>\n",
       "      <th>CT</th>\n",
       "    </tr>\n",
       "  </thead>\n",
       "  <tbody>\n",
       "    <tr>\n",
       "      <th>0</th>\n",
       "      <td>2119.884754</td>\n",
       "      <td>2.478400</td>\n",
       "      <td>11.842760</td>\n",
       "      <td>28.817560</td>\n",
       "      <td>NaN</td>\n",
       "      <td>2005-10-19 21:14:02.749997</td>\n",
       "      <td>28.956310</td>\n",
       "      <td>11.958722</td>\n",
       "    </tr>\n",
       "    <tr>\n",
       "      <th>1</th>\n",
       "      <td>2120.015272</td>\n",
       "      <td>2.455000</td>\n",
       "      <td>11.678373</td>\n",
       "      <td>29.004173</td>\n",
       "      <td>NaN</td>\n",
       "      <td>2005-10-20 00:21:59.500003</td>\n",
       "      <td>29.143822</td>\n",
       "      <td>11.789294</td>\n",
       "    </tr>\n",
       "    <tr>\n",
       "      <th>2</th>\n",
       "      <td>NaN</td>\n",
       "      <td>NaN</td>\n",
       "      <td>NaN</td>\n",
       "      <td>NaN</td>\n",
       "      <td>NaN</td>\n",
       "      <td>NaT</td>\n",
       "      <td>NaN</td>\n",
       "      <td>NaN</td>\n",
       "    </tr>\n",
       "    <tr>\n",
       "      <th>3</th>\n",
       "      <td>2131.884751</td>\n",
       "      <td>2.457510</td>\n",
       "      <td>11.530739</td>\n",
       "      <td>29.527516</td>\n",
       "      <td>NaN</td>\n",
       "      <td>2005-10-31 21:14:02.499998</td>\n",
       "      <td>29.669685</td>\n",
       "      <td>11.630162</td>\n",
       "    </tr>\n",
       "    <tr>\n",
       "      <th>4</th>\n",
       "      <td>2132.015726</td>\n",
       "      <td>2.781848</td>\n",
       "      <td>11.533157</td>\n",
       "      <td>30.464067</td>\n",
       "      <td>NaN</td>\n",
       "      <td>2005-11-01 00:22:38.750001</td>\n",
       "      <td>30.610734</td>\n",
       "      <td>11.613944</td>\n",
       "    </tr>\n",
       "    <tr>\n",
       "      <th>...</th>\n",
       "      <td>...</td>\n",
       "      <td>...</td>\n",
       "      <td>...</td>\n",
       "      <td>...</td>\n",
       "      <td>...</td>\n",
       "      <td>...</td>\n",
       "      <td>...</td>\n",
       "      <td>...</td>\n",
       "    </tr>\n",
       "    <tr>\n",
       "      <th>21969</th>\n",
       "      <td>7736.514421</td>\n",
       "      <td>2.582894</td>\n",
       "      <td>9.051028</td>\n",
       "      <td>26.634174</td>\n",
       "      <td>0.738204</td>\n",
       "      <td>2021-03-06 12:20:46.000003</td>\n",
       "      <td>26.762409</td>\n",
       "      <td>9.179861</td>\n",
       "    </tr>\n",
       "    <tr>\n",
       "      <th>21970</th>\n",
       "      <td>7737.514505</td>\n",
       "      <td>2.562979</td>\n",
       "      <td>9.214279</td>\n",
       "      <td>27.302415</td>\n",
       "      <td>0.529442</td>\n",
       "      <td>2021-03-07 12:20:53.250004</td>\n",
       "      <td>27.433867</td>\n",
       "      <td>9.334069</td>\n",
       "    </tr>\n",
       "    <tr>\n",
       "      <th>21971</th>\n",
       "      <td>7738.514395</td>\n",
       "      <td>2.586478</td>\n",
       "      <td>9.290576</td>\n",
       "      <td>28.400130</td>\n",
       "      <td>0.681259</td>\n",
       "      <td>2021-03-08 12:20:43.749995</td>\n",
       "      <td>28.536867</td>\n",
       "      <td>9.393057</td>\n",
       "    </tr>\n",
       "    <tr>\n",
       "      <th>21972</th>\n",
       "      <td>7739.015446</td>\n",
       "      <td>2.590265</td>\n",
       "      <td>9.173806</td>\n",
       "      <td>27.369057</td>\n",
       "      <td>0.811092</td>\n",
       "      <td>2021-03-09 00:22:14.499996</td>\n",
       "      <td>27.500829</td>\n",
       "      <td>9.292107</td>\n",
       "    </tr>\n",
       "    <tr>\n",
       "      <th>21973</th>\n",
       "      <td>7740.015567</td>\n",
       "      <td>2.656106</td>\n",
       "      <td>9.144530</td>\n",
       "      <td>27.651349</td>\n",
       "      <td>1.196032</td>\n",
       "      <td>2021-03-10 00:22:24.999996</td>\n",
       "      <td>27.784478</td>\n",
       "      <td>9.257959</td>\n",
       "    </tr>\n",
       "  </tbody>\n",
       "</table>\n",
       "<p>21974 rows × 8 columns</p>\n",
       "</div>"
      ],
      "text/plain": [
       "              Time         Z  Temperature   Salinity  Chlorophyll  \\\n",
       "0      2119.884754  2.478400    11.842760  28.817560          NaN   \n",
       "1      2120.015272  2.455000    11.678373  29.004173          NaN   \n",
       "2              NaN       NaN          NaN        NaN          NaN   \n",
       "3      2131.884751  2.457510    11.530739  29.527516          NaN   \n",
       "4      2132.015726  2.781848    11.533157  30.464067          NaN   \n",
       "...            ...       ...          ...        ...          ...   \n",
       "21969  7736.514421  2.582894     9.051028  26.634174     0.738204   \n",
       "21970  7737.514505  2.562979     9.214279  27.302415     0.529442   \n",
       "21971  7738.514395  2.586478     9.290576  28.400130     0.681259   \n",
       "21972  7739.015446  2.590265     9.173806  27.369057     0.811092   \n",
       "21973  7740.015567  2.656106     9.144530  27.651349     1.196032   \n",
       "\n",
       "                           dtUTC         SA         CT  \n",
       "0     2005-10-19 21:14:02.749997  28.956310  11.958722  \n",
       "1     2005-10-20 00:21:59.500003  29.143822  11.789294  \n",
       "2                            NaT        NaN        NaN  \n",
       "3     2005-10-31 21:14:02.499998  29.669685  11.630162  \n",
       "4     2005-11-01 00:22:38.750001  30.610734  11.613944  \n",
       "...                          ...        ...        ...  \n",
       "21969 2021-03-06 12:20:46.000003  26.762409   9.179861  \n",
       "21970 2021-03-07 12:20:53.250004  27.433867   9.334069  \n",
       "21971 2021-03-08 12:20:43.749995  28.536867   9.393057  \n",
       "21972 2021-03-09 00:22:14.499996  27.500829   9.292107  \n",
       "21973 2021-03-10 00:22:24.999996  27.784478   9.257959  \n",
       "\n",
       "[21974 rows x 8 columns]"
      ]
     },
     "execution_count": 30,
     "metadata": {},
     "output_type": "execute_result"
    }
   ],
   "source": [
    "df2"
   ]
  },
  {
   "cell_type": "code",
   "execution_count": 10,
   "metadata": {},
   "outputs": [],
   "source": [
    "##### Saving data as Pickle files to be used in the summary file\n",
    "#saveloc='/ocean/kflanaga/MEOPAR/mooredData'\n",
    "#with open(os.path.join(saveloc,f'data_{Mooring}_{year}.pkl'),'wb') as hh:\n",
    "#    pickle.dump(df,hh)\n",
    "    \n",
    "#with open(os.path.join(saveloc,f'daily_data_{Mooring}_{year}.pkl'),'wb') as hh:\n",
    "#    pickle.dump(df_daily_avg,hh)"
   ]
  }
 ],
 "metadata": {
  "kernelspec": {
   "display_name": "Python (py39)",
   "language": "python",
   "name": "py39"
  },
  "language_info": {
   "codemirror_mode": {
    "name": "ipython",
    "version": 3
   },
   "file_extension": ".py",
   "mimetype": "text/x-python",
   "name": "python",
   "nbconvert_exporter": "python",
   "pygments_lexer": "ipython3",
   "version": "3.9.1"
  }
 },
 "nbformat": 4,
 "nbformat_minor": 4
}
