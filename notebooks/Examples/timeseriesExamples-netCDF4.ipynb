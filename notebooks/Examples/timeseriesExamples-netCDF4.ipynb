{
 "cells": [
  {
   "cell_type": "code",
   "execution_count": 1,
   "metadata": {},
   "outputs": [],
   "source": [
    "import numpy as np\n",
    "import matplotlib.pyplot as plt\n",
    "import netCDF4 as nc\n",
    "import datetime as dt\n",
    "from salishsea_tools import evaltools as et, places\n",
    "import xarray as xr\n",
    "\n",
    "%matplotlib inline"
   ]
  },
  {
   "cell_type": "markdown",
   "metadata": {},
   "source": [
    "#### Example 1: load a time series at one location by accessing netCDF4 files stored on /results or /results2"
   ]
  },
  {
   "cell_type": "code",
   "execution_count": 2,
   "metadata": {},
   "outputs": [
    {
     "name": "stdout",
     "output_type": "stream",
     "text": [
      "                                                paths        t_0        t_n\n",
      "0   /results/SalishSea/nowcast-green.201812/01mar1... 2017-03-01 2017-03-02\n",
      "1   /results/SalishSea/nowcast-green.201812/02mar1... 2017-03-02 2017-03-03\n",
      "2   /results/SalishSea/nowcast-green.201812/03mar1... 2017-03-03 2017-03-04\n",
      "3   /results/SalishSea/nowcast-green.201812/04mar1... 2017-03-04 2017-03-05\n",
      "4   /results/SalishSea/nowcast-green.201812/05mar1... 2017-03-05 2017-03-06\n",
      "5   /results/SalishSea/nowcast-green.201812/06mar1... 2017-03-06 2017-03-07\n",
      "6   /results/SalishSea/nowcast-green.201812/07mar1... 2017-03-07 2017-03-08\n",
      "7   /results/SalishSea/nowcast-green.201812/08mar1... 2017-03-08 2017-03-09\n",
      "8   /results/SalishSea/nowcast-green.201812/09mar1... 2017-03-09 2017-03-10\n",
      "9   /results/SalishSea/nowcast-green.201812/10mar1... 2017-03-10 2017-03-11\n",
      "10  /results/SalishSea/nowcast-green.201812/11mar1... 2017-03-11 2017-03-12\n",
      "11  /results/SalishSea/nowcast-green.201812/12mar1... 2017-03-12 2017-03-13\n",
      "12  /results/SalishSea/nowcast-green.201812/13mar1... 2017-03-13 2017-03-14\n",
      "13  /results/SalishSea/nowcast-green.201812/14mar1... 2017-03-14 2017-03-15\n",
      "14  /results/SalishSea/nowcast-green.201812/15mar1... 2017-03-15 2017-03-16\n",
      "15  /results/SalishSea/nowcast-green.201812/16mar1... 2017-03-16 2017-03-17\n",
      "16  /results/SalishSea/nowcast-green.201812/17mar1... 2017-03-17 2017-03-18\n",
      "17  /results/SalishSea/nowcast-green.201812/18mar1... 2017-03-18 2017-03-19\n",
      "18  /results/SalishSea/nowcast-green.201812/19mar1... 2017-03-19 2017-03-20\n",
      "19  /results/SalishSea/nowcast-green.201812/20mar1... 2017-03-20 2017-03-21\n",
      "20  /results/SalishSea/nowcast-green.201812/21mar1... 2017-03-21 2017-03-22\n",
      "21  /results/SalishSea/nowcast-green.201812/22mar1... 2017-03-22 2017-03-23\n",
      "22  /results/SalishSea/nowcast-green.201812/23mar1... 2017-03-23 2017-03-24\n",
      "23  /results/SalishSea/nowcast-green.201812/24mar1... 2017-03-24 2017-03-25\n",
      "24  /results/SalishSea/nowcast-green.201812/25mar1... 2017-03-25 2017-03-26\n",
      "25  /results/SalishSea/nowcast-green.201812/26mar1... 2017-03-26 2017-03-27\n",
      "26  /results/SalishSea/nowcast-green.201812/27mar1... 2017-03-27 2017-03-28\n",
      "27  /results/SalishSea/nowcast-green.201812/28mar1... 2017-03-28 2017-03-29\n",
      "28  /results/SalishSea/nowcast-green.201812/29mar1... 2017-03-29 2017-03-30\n",
      "29  /results/SalishSea/nowcast-green.201812/30mar1... 2017-03-30 2017-03-31\n",
      "30  /results/SalishSea/nowcast-green.201812/31mar1... 2017-03-31 2017-04-01\n",
      "31  /results/SalishSea/nowcast-green.201812/01apr1... 2017-04-01 2017-04-02\n",
      "CPU times: user 48 ms, sys: 0 ns, total: 48 ms\n",
      "Wall time: 62.6 ms\n"
     ]
    }
   ],
   "source": [
    "%%time\n",
    "start= dt.datetime(2017,3,1)\n",
    "end=dt.datetime(2017,4,1) # the code called below (evaltools.index_model_files) includes the end date \n",
    "                          # in the values returned\n",
    "basedir='/results/SalishSea/nowcast-green.201812/'\n",
    "nam_fmt='nowcast'\n",
    "flen=1 # files contain 1 day of data each\n",
    "ftype= 'ptrc_T' # load bio files\n",
    "tres=24 # 1: hourly resolution; 24: daily resolution   <- try changing to 1 and loading hourly data\n",
    "flist=et.index_model_files(start,end,basedir,nam_fmt,flen,ftype,tres)\n",
    "# flist contains paths: file pathes; t_0 timestemp of start of each file; t_n: timestamp of start of next file\n",
    "print(flist)"
   ]
  },
  {
   "cell_type": "code",
   "execution_count": 3,
   "metadata": {},
   "outputs": [
    {
     "name": "stdout",
     "output_type": "stream",
     "text": [
      "dict_keys(['nav_lat', 'nav_lon', 'bounds_lon', 'bounds_lat', 'area', 'deptht', 'deptht_bounds', 'nitrate', 'time_centered', 'time_centered_bounds', 'time_counter', 'time_counter_bounds', 'ammonium', 'silicon', 'diatoms', 'flagellates', 'ciliates', 'microzooplankton', 'dissolved_organic_nitrogen', 'particulate_organic_nitrogen', 'biogenic_silicon', 'Fraser_tracer', 'mesozooplankton'])\n",
      "time origin: 1900-01-01 00:00:00\n"
     ]
    }
   ],
   "source": [
    "# reminder of variable names in ptrc files:\n",
    "with nc.Dataset(flist.loc[0,['paths']].values[0]) as ff: #  <-when you access elements of a pandas array, sometimes\n",
    "                                                         #    you get an array output, even if it only contains one\n",
    "                                                         #    element. To get the element rather than the array \n",
    "                                                         #     containing it, use [0]\n",
    "    print(ff.variables.keys())\n",
    "    # also grab time reference:\n",
    "    torig=dt.datetime.strptime(ff.variables['time_centered'].time_origin,'%Y-%m-%d %H:%M:%S')\n",
    "    print('time origin:',torig)"
   ]
  },
  {
   "cell_type": "code",
   "execution_count": 4,
   "metadata": {},
   "outputs": [],
   "source": [
    "# get model i,j of location S3 from places\n",
    "ij,ii=places.PLACES['S3']['NEMO grid ji']\n",
    "ik=0 # choose surface level\n",
    "\n",
    "nlen= int(tres*24/flen) # number of data points per file"
   ]
  },
  {
   "cell_type": "code",
   "execution_count": 5,
   "metadata": {},
   "outputs": [
    {
     "name": "stdout",
     "output_type": "stream",
     "text": [
      "CPU times: user 8.99 s, sys: 1.64 s, total: 10.6 s\n",
      "Wall time: 18.8 s\n"
     ]
    }
   ],
   "source": [
    "%%time\n",
    "# create empty numpy arrays of shape of desired timeseries (1 dimension, length of flist)\n",
    "tt= np.zeros((flist.shape[0]*nlen,),dtype=object) # array to hold times\n",
    "micZ= np.zeros((flist.shape[0]*nlen,)) # array to hold microzo conc\n",
    "diat= np.zeros((flist.shape[0]*nlen,)) # array to hold diatom conc\n",
    "for ind, row in flist.iterrows():\n",
    "    with nc.Dataset(row['paths']) as ff:\n",
    "        tt[ind*nlen:(ind+1)*nlen]=[torig+dt.timedelta(seconds=xx) for xx in ff.variables['time_centered'][:]]\n",
    "        micZ[ind*nlen:(ind+1)*nlen]=ff.variables['microzooplankton'][:,ik,ij,ii]\n",
    "        diat[ind*nlen:(ind+1)*nlen]=ff.variables['diatoms'][:,ik,ij,ii]"
   ]
  },
  {
   "cell_type": "code",
   "execution_count": 6,
   "metadata": {},
   "outputs": [
    {
     "name": "stdout",
     "output_type": "stream",
     "text": [
      "CPU times: user 56 ms, sys: 0 ns, total: 56 ms\n",
      "Wall time: 57.6 ms\n"
     ]
    },
    {
     "data": {
      "text/plain": [
       "(17226.5, 17257.5)"
      ]
     },
     "execution_count": 6,
     "metadata": {},
     "output_type": "execute_result"
    },
    {
     "data": {
      "image/png": "[encoded data removed]",
      "text/plain": [
       "<Figure size 864x216 with 1 Axes>"
      ]
     },
     "metadata": {
      "needs_background": "light"
     },
     "output_type": "display_data"
    }
   ],
   "source": [
    "%%time\n",
    "fig,ax=plt.subplots(1,1,figsize=(12,3))\n",
    "ax.plot(tt,diat,'c-',label='diatoms')\n",
    "ax.plot(tt,micZ,'-',color='darkorange',label='microzooplankton')\n",
    "ax.legend(loc=2);\n",
    "ax.set_ylabel('Concentration ($\\mu$M N)')\n",
    "ax.set_xlim(tt[0],tt[-1])"
   ]
  },
  {
   "cell_type": "markdown",
   "metadata": {},
   "source": [
    "### repeat with hourly data over a shorter interval"
   ]
  },
  {
   "cell_type": "code",
   "execution_count": 7,
   "metadata": {},
   "outputs": [
    {
     "data": {
      "text/html": [
       "<div>\n",
       "<style scoped>\n",
       "    .dataframe tbody tr th:only-of-type {\n",
       "        vertical-align: middle;\n",
       "    }\n",
       "\n",
       "    .dataframe tbody tr th {\n",
       "        vertical-align: top;\n",
       "    }\n",
       "\n",
       "    .dataframe thead th {\n",
       "        text-align: right;\n",
       "    }\n",
       "</style>\n",
       "<table border=\"1\" class=\"dataframe\">\n",
       "  <thead>\n",
       "    <tr style=\"text-align: right;\">\n",
       "      <th></th>\n",
       "      <th>paths</th>\n",
       "      <th>t_0</th>\n",
       "      <th>t_n</th>\n",
       "    </tr>\n",
       "  </thead>\n",
       "  <tbody>\n",
       "    <tr>\n",
       "      <th>0</th>\n",
       "      <td>/results/SalishSea/nowcast-green.201812/01mar1...</td>\n",
       "      <td>2017-03-01</td>\n",
       "      <td>2017-03-02</td>\n",
       "    </tr>\n",
       "    <tr>\n",
       "      <th>1</th>\n",
       "      <td>/results/SalishSea/nowcast-green.201812/02mar1...</td>\n",
       "      <td>2017-03-02</td>\n",
       "      <td>2017-03-03</td>\n",
       "    </tr>\n",
       "    <tr>\n",
       "      <th>2</th>\n",
       "      <td>/results/SalishSea/nowcast-green.201812/03mar1...</td>\n",
       "      <td>2017-03-03</td>\n",
       "      <td>2017-03-04</td>\n",
       "    </tr>\n",
       "    <tr>\n",
       "      <th>3</th>\n",
       "      <td>/results/SalishSea/nowcast-green.201812/04mar1...</td>\n",
       "      <td>2017-03-04</td>\n",
       "      <td>2017-03-05</td>\n",
       "    </tr>\n",
       "    <tr>\n",
       "      <th>4</th>\n",
       "      <td>/results/SalishSea/nowcast-green.201812/05mar1...</td>\n",
       "      <td>2017-03-05</td>\n",
       "      <td>2017-03-06</td>\n",
       "    </tr>\n",
       "  </tbody>\n",
       "</table>\n",
       "</div>"
      ],
      "text/plain": [
       "                                               paths        t_0        t_n\n",
       "0  /results/SalishSea/nowcast-green.201812/01mar1... 2017-03-01 2017-03-02\n",
       "1  /results/SalishSea/nowcast-green.201812/02mar1... 2017-03-02 2017-03-03\n",
       "2  /results/SalishSea/nowcast-green.201812/03mar1... 2017-03-03 2017-03-04\n",
       "3  /results/SalishSea/nowcast-green.201812/04mar1... 2017-03-04 2017-03-05\n",
       "4  /results/SalishSea/nowcast-green.201812/05mar1... 2017-03-05 2017-03-06"
      ]
     },
     "execution_count": 7,
     "metadata": {},
     "output_type": "execute_result"
    }
   ],
   "source": [
    "start= dt.datetime(2017,3,1)\n",
    "end=dt.datetime(2017,3,5) # the code called below (evaltools.index_model_files) includes the end date \n",
    "                          # in the values returned\n",
    "tres=1 # 1: hourly resolution; 24: daily resolution   <- try changing to 1 and loading hourly data\n",
    "flist=et.index_model_files(start,end,basedir,nam_fmt,flen,ftype,tres)\n",
    "# flist contains paths: file pathes; t_0 timestemp of start of each file; t_n: timestamp of start of next file\n",
    "flist"
   ]
  },
  {
   "cell_type": "code",
   "execution_count": 8,
   "metadata": {},
   "outputs": [],
   "source": [
    "# get model i,j of location S3 from places\n",
    "ij,ii=places.PLACES['S3']['NEMO grid ji']\n",
    "ik=0 # choose surface level\n",
    "\n",
    "nlen= int(tres*24/flen) # number of data points per file"
   ]
  },
  {
   "cell_type": "code",
   "execution_count": 9,
   "metadata": {},
   "outputs": [
    {
     "name": "stdout",
     "output_type": "stream",
     "text": [
      "CPU times: user 32.4 s, sys: 5.78 s, total: 38.1 s\n",
      "Wall time: 40 s\n"
     ]
    }
   ],
   "source": [
    "%%time\n",
    "# create empty numpy arrays of shape of desired timeseries (1 dimension, length of flist)\n",
    "tt= np.zeros((flist.shape[0]*nlen,),dtype=object) # array to hold times\n",
    "micZ= np.zeros((flist.shape[0]*nlen,)) # array to hold microzo conc\n",
    "diat= np.zeros((flist.shape[0]*nlen,)) # array to hold diatom conc\n",
    "for ind, row in flist.iterrows():\n",
    "    with nc.Dataset(row['paths']) as ff:\n",
    "        tt[ind*nlen:(ind+1)*nlen]=[torig+dt.timedelta(seconds=xx) for xx in ff.variables['time_centered'][:]]\n",
    "        micZ[ind*nlen:(ind+1)*nlen]=ff.variables['microzooplankton'][:,ik,ij,ii]\n",
    "        diat[ind*nlen:(ind+1)*nlen]=ff.variables['diatoms'][:,ik,ij,ii]"
   ]
  },
  {
   "cell_type": "code",
   "execution_count": 10,
   "metadata": {},
   "outputs": [
    {
     "name": "stdout",
     "output_type": "stream",
     "text": [
      "CPU times: user 12 ms, sys: 4 ms, total: 16 ms\n",
      "Wall time: 14 ms\n"
     ]
    },
    {
     "data": {
      "text/plain": [
       "(17226.020833333332, 17230.979166666668)"
      ]
     },
     "execution_count": 10,
     "metadata": {},
     "output_type": "execute_result"
    },
    {
     "data": {
      "image/png": "[encoded data removed]",
      "text/plain": [
       "<Figure size 864x216 with 1 Axes>"
      ]
     },
     "metadata": {
      "needs_background": "light"
     },
     "output_type": "display_data"
    }
   ],
   "source": [
    "%%time\n",
    "fig,ax=plt.subplots(1,1,figsize=(12,3))\n",
    "ax.plot(tt,diat,'c-',label='diatoms')\n",
    "ax.plot(tt,micZ,'-',color='darkorange',label='microzooplankton')\n",
    "ax.legend(loc=2);\n",
    "ax.set_ylabel('Concentration ($\\mu$M N)')\n",
    "ax.set_xlim(tt[0],tt[-1])"
   ]
  },
  {
   "cell_type": "code",
   "execution_count": null,
   "metadata": {},
   "outputs": [],
   "source": []
  }
 ],
 "metadata": {
  "kernelspec": {
   "display_name": "Python (py39)",
   "language": "python",
   "name": "py39"
  },
  "language_info": {
   "codemirror_mode": {
    "name": "ipython",
    "version": 3
   },
   "file_extension": ".py",
   "mimetype": "text/x-python",
   "name": "python",
   "nbconvert_exporter": "python",
   "pygments_lexer": "ipython3",
   "version": "3.9.1"
  }
 },
 "nbformat": 4,
 "nbformat_minor": 4
}
