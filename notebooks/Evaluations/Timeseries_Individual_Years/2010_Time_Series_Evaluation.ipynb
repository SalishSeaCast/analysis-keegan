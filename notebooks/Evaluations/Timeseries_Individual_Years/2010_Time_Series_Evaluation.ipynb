{
 "cells": [
  {
   "cell_type": "markdown",
   "metadata": {},
   "source": [
    "A notebook which contains timeseries of SalishSeaCast model output and observed data within PugetSound for the year 2009. This script is designed so that changes the the observed and model data over time can be easily compared."
   ]
  },
  {
   "cell_type": "code",
   "execution_count": 2,
   "metadata": {},
   "outputs": [],
   "source": [
    "import sys\n",
    "sys.path.append('/ocean/kflanaga/MEOPAR/analysis-keegan/notebooks/Tools')"
   ]
  },
  {
   "cell_type": "code",
   "execution_count": 3,
   "metadata": {},
   "outputs": [],
   "source": [
    "import numpy as np\n",
    "import matplotlib.pyplot as plt\n",
    "import os\n",
    "import math\n",
    "import pandas as pd\n",
    "import netCDF4 as nc\n",
    "import datetime as dt\n",
    "from salishsea_tools import evaltools as et, viz_tools\n",
    "import gsw \n",
    "import matplotlib.gridspec as gridspec\n",
    "import matplotlib as mpl\n",
    "import matplotlib.dates as mdates\n",
    "import cmocean as cmo\n",
    "import scipy.interpolate as sinterp\n",
    "import pickle\n",
    "import cmocean\n",
    "import json\n",
    "import f90nml\n",
    "import xarray as xr\n",
    "import datetime as dt\n",
    "import Keegan_eval_tools as ket\n",
    "from collections import OrderedDict\n",
    "\n",
    "fs=16\n",
    "mpl.rc('xtick', labelsize=fs)\n",
    "mpl.rc('ytick', labelsize=fs)\n",
    "mpl.rc('legend', fontsize=fs)\n",
    "mpl.rc('axes', titlesize=fs)\n",
    "mpl.rc('axes', labelsize=fs)\n",
    "mpl.rc('figure', titlesize=fs)\n",
    "mpl.rc('font', size=fs)\n",
    "mpl.rc('font', family='sans-serif', weight='normal', style='normal')\n",
    "\n",
    "import warnings\n",
    "#warnings.filterwarnings('ignore')\n",
    "from IPython.display import Markdown, display\n",
    "\n",
    "%matplotlib inline"
   ]
  },
  {
   "cell_type": "raw",
   "metadata": {},
   "source": [
    "from IPython.display import HTML\n",
    "\n",
    "HTML('''<script>\n",
    "code_show=true; \n",
    "function code_toggle() {\n",
    " if (code_show){\n",
    " $('div.input').hide();\n",
    " } else {\n",
    " $('div.input').show();\n",
    " }\n",
    " code_show = !code_show\n",
    "} \n",
    "$( document ).ready(code_toggle);\n",
    "</script>\n",
    "\n",
    "<form action=\"javascript:code_toggle()\"><input type=\"submit\" value=\"Click here to toggle on/off the raw code.\"></form>''')\n"
   ]
  },
  {
   "cell_type": "code",
   "execution_count": 4,
   "metadata": {},
   "outputs": [],
   "source": [
    "year=2010\n",
    "modelversion='nowcast-green.201905'\n",
    "PATH= '/results2/SalishSea/nowcast-green.201905/'\n",
    "datadir='/ocean/eolson/MEOPAR/obs/WADE/ptools_data/ecology'"
   ]
  },
  {
   "cell_type": "code",
   "execution_count": 5,
   "metadata": {},
   "outputs": [
    {
     "data": {
      "text/markdown": [
       "## Year: 2010"
      ],
      "text/plain": [
       "<IPython.core.display.Markdown object>"
      ]
     },
     "metadata": {},
     "output_type": "display_data"
    }
   ],
   "source": [
    "display(Markdown('''## Year: '''+ str(year)))"
   ]
  },
  {
   "cell_type": "code",
   "execution_count": 6,
   "metadata": {},
   "outputs": [
    {
     "data": {
      "text/markdown": [
       "### Model output: /results2/SalishSea/nowcast-green.201905/"
      ],
      "text/plain": [
       "<IPython.core.display.Markdown object>"
      ]
     },
     "metadata": {},
     "output_type": "display_data"
    }
   ],
   "source": [
    "display(Markdown('''### Model output: '''+ PATH))"
   ]
  },
  {
   "cell_type": "code",
   "execution_count": 7,
   "metadata": {},
   "outputs": [
    {
     "ename": "FileNotFoundError",
     "evalue": "[Errno 2] No such file or directory: '/ocean/kflanaga/MEOPAR/savedData/data_Pheo_nowcast-green.201905_2010.pkl'",
     "output_type": "error",
     "traceback": [
      "\u001b[0;31m---------------------------------------------------------------------------\u001b[0m",
      "\u001b[0;31mFileNotFoundError\u001b[0m                         Traceback (most recent call last)",
      "\u001b[0;32m<ipython-input-7-4e1b00465074>\u001b[0m in \u001b[0;36m<module>\u001b[0;34m\u001b[0m\n\u001b[1;32m      5\u001b[0m     \u001b[0mdata\u001b[0m\u001b[0;34m=\u001b[0m\u001b[0mpickle\u001b[0m\u001b[0;34m.\u001b[0m\u001b[0mload\u001b[0m\u001b[0;34m(\u001b[0m\u001b[0mhh\u001b[0m\u001b[0;34m)\u001b[0m\u001b[0;34m\u001b[0m\u001b[0;34m\u001b[0m\u001b[0m\n\u001b[1;32m      6\u001b[0m \u001b[0;34m\u001b[0m\u001b[0m\n\u001b[0;32m----> 7\u001b[0;31m \u001b[0;32mwith\u001b[0m \u001b[0mopen\u001b[0m\u001b[0;34m(\u001b[0m\u001b[0mos\u001b[0m\u001b[0;34m.\u001b[0m\u001b[0mpath\u001b[0m\u001b[0;34m.\u001b[0m\u001b[0mjoin\u001b[0m\u001b[0;34m(\u001b[0m\u001b[0msaveloc\u001b[0m\u001b[0;34m,\u001b[0m\u001b[0;34mf'data_Pheo_{modelversion}_{year}.pkl'\u001b[0m\u001b[0;34m)\u001b[0m\u001b[0;34m,\u001b[0m\u001b[0;34m'rb'\u001b[0m\u001b[0;34m)\u001b[0m \u001b[0;32mas\u001b[0m \u001b[0mhh\u001b[0m\u001b[0;34m:\u001b[0m\u001b[0;34m\u001b[0m\u001b[0;34m\u001b[0m\u001b[0m\n\u001b[0m\u001b[1;32m      8\u001b[0m     \u001b[0mdata_Pheo\u001b[0m\u001b[0;34m=\u001b[0m\u001b[0mpickle\u001b[0m\u001b[0;34m.\u001b[0m\u001b[0mload\u001b[0m\u001b[0;34m(\u001b[0m\u001b[0mhh\u001b[0m\u001b[0;34m)\u001b[0m\u001b[0;34m\u001b[0m\u001b[0;34m\u001b[0m\u001b[0m\n",
      "\u001b[0;31mFileNotFoundError\u001b[0m: [Errno 2] No such file or directory: '/ocean/kflanaga/MEOPAR/savedData/data_Pheo_nowcast-green.201905_2010.pkl'"
     ]
    }
   ],
   "source": [
    "##### Loading in pickle file data\n",
    "saveloc='/ocean/kflanaga/MEOPAR/savedData'\n",
    "\n",
    "with open(os.path.join(saveloc,f'data_WADE_{modelversion}_{year}.pkl'),'rb') as hh:\n",
    "    data=pickle.load(hh)\n",
    "    \n",
    "with open(os.path.join(saveloc,f'data_Pheo_{modelversion}_{year}.pkl'),'rb') as hh:\n",
    "    data_Pheo=pickle.load(hh)"
   ]
  },
  {
   "cell_type": "code",
   "execution_count": null,
   "metadata": {},
   "outputs": [],
   "source": [
    "def TsByRegion(datreg,regions,obsvar,modvar,year,loc='lower left',units='($\\mu$M)'):\n",
    "    fig,ax=plt.subplots(math.ceil(len(regions)/2),2,figsize=(13,13))\n",
    "    new_reg = [regions[i:i+2] for i in range(0, len(regions), 2)]\n",
    "    for ri,axi in zip(new_reg,ax):\n",
    "        for rj,axj in zip(ri,axi):\n",
    "            ps=ket.tsertser_graph(axj,datreg[rj],obsvar,modvar,dt.datetime(year,1,1),dt.datetime(year,12,31))\n",
    "            axj.legend(handles=ps,prop={'size': 10},loc=loc)\n",
    "            axj.set_xlabel(f'Date',fontsize=13)\n",
    "            axj.set_ylabel(f'{obsvar} {units}',fontsize=13)\n",
    "            axj.set_title(f'Time series for {rj}', fontsize=13)\n",
    "            yearsFmt = mdates.DateFormatter('%d %b')\n",
    "            axj.xaxis.set_major_formatter(yearsFmt)\n",
    "            for tick in axj.xaxis.get_major_ticks():\n",
    "                tick.label.set_fontsize(13)\n",
    "            for tick in axj.yaxis.get_major_ticks():\n",
    "                tick.label.set_fontsize(13)\n",
    "            plt.tight_layout()\n",
    "            plt.setp(axj.get_xticklabels(), rotation=30, horizontalalignment='right')\n",
    "\n",
    "def TsByDepth(df,obsvar,modvar,year,title,units='($\\mu$M)'):\n",
    "    fig,ax=plt.subplots(1,1,figsize=(18,8))\n",
    "    ps=ket.tsertser_graph(ax,df,obsvar,modvar,dt.datetime(year,1,1),dt.datetime(year,12,31))\n",
    "    ax.legend(handles=ps,bbox_to_anchor=[1,.6,0,0])\n",
    "    ax.set_xlabel(f'Date',fontsize=20)\n",
    "    ax.set_ylabel(f'{obsvar} {units}',fontsize=20)\n",
    "    ax.set_title(f'{title}', fontsize=22)\n",
    "    yearsFmt = mdates.DateFormatter('%d %b')\n",
    "    ax.xaxis.set_major_formatter(yearsFmt)\n",
    "\n",
    "# I know I found a solution to this problem of mine in the past that     \n",
    "    \n",
    "def TsByStation(df,region,datstat,obsvar,modvar,year):\n",
    "    for s,a in df[df.Basin == region].Station.unique():\n",
    "        fig,ax=plt.subplots(1,1,figsize=(18,8))\n",
    "        ps=ket.tsertser_graph(ax,datstat[s],obsvar,modvar,dt.datetime(year,1,1),dt.datetime(year,12,31))\n",
    "        ax.legend(handles=ps,bbox_to_anchor=[1,.6,0,0])\n",
    "        ax.set_xlabel(f'Date',fontsize=20)\n",
    "        ax.set_ylabel(f'{obsvar} ($\\mu$M)',fontsize=20)\n",
    "        ax.set_title(f'{s}', fontsize=22)\n",
    "        yearsFmt = mdates.DateFormatter('%d %b')\n",
    "        ax.xaxis.set_major_formatter(yearsFmt)"
   ]
  },
  {
   "cell_type": "code",
   "execution_count": null,
   "metadata": {},
   "outputs": [],
   "source": [
    "cm1=cmocean.cm.thermal\n",
    "with nc.Dataset('/data/eolson/results/MEOPAR/NEMO-forcing-new/grid/bathymetry_201702.nc') as bathy:\n",
    "    bathylon=np.copy(bathy.variables['nav_lon'][:,:])\n",
    "    bathylat=np.copy(bathy.variables['nav_lat'][:,:])\n",
    "    bathyZ=np.copy(bathy.variables['Bathymetry'][:,:])"
   ]
  },
  {
   "cell_type": "code",
   "execution_count": null,
   "metadata": {},
   "outputs": [],
   "source": [
    "fig, ax = plt.subplots(1,1,figsize = (6,6))\n",
    "with nc.Dataset('/data/vdo/MEOPAR/NEMO-forcing/grid/bathymetry_201702.nc') as grid:\n",
    "    viz_tools.plot_coastline(ax, grid, coords = 'map',isobath=.1)\n",
    "colors=('blue','green','firebrick','darkorange','darkviolet','fuchsia',\n",
    "        'royalblue','darkgoldenrod','mediumspringgreen','deepskyblue')\n",
    "datreg=dict()\n",
    "for ind, iregion in enumerate(data.Basin.unique()):\n",
    "    datreg[iregion] = data.loc[data.Basin==iregion]\n",
    "    ax.plot(datreg[iregion]['Lon'], datreg[iregion]['Lat'],'.',\n",
    "            color = colors[ind], label=iregion)\n",
    "ax.set_ylim(47, 49)\n",
    "ax.legend(bbox_to_anchor=[1,.6,0,0])\n",
    "ax.set_xlim(-124, -122);\n",
    "ax.set_title('Observation Locations');"
   ]
  },
  {
   "cell_type": "code",
   "execution_count": null,
   "metadata": {},
   "outputs": [],
   "source": [
    "#creating new dictionaries that make it easy to call on specific years.\n",
    "datstat=dict()\n",
    "for ind, istation in enumerate(data.Station.unique()):\n",
    "    datstat[istation]=data.loc[data.Station == istation]\n",
    "    \n",
    "datreg=dict()\n",
    "for iregion in data.Basin.unique():\n",
    "    datreg[iregion] = data.loc[data.Basin==iregion] \n",
    "    \n",
    "datyear=dict()\n",
    "for ind, iyear in enumerate(data.dtUTC.dt.year.unique()):\n",
    "    datyear[iyear] = data.loc[data.dtUTC.dt.year==iyear]\n",
    "    \n",
    "#Adding extra columns to assist in chlorophyll analysis.\n",
    "data_Pheo['log_Chl']=ket.logt(data_Pheo['Chla_Lab'])\n",
    "data_Pheo['log_mod_diatoms']=ket.logt(data_Pheo['mod_diatoms']*1.8)\n",
    "data_Pheo['log_mod_ciliates']=ket.logt(data_Pheo['mod_ciliates']*1.8)\n",
    "data_Pheo['log_mod_flagellates']=ket.logt(data_Pheo['mod_flagellates']*1.8)\n",
    "data_Pheo['mod_Chl']=((data_Pheo['mod_diatoms']*1.8)+(data_Pheo['mod_ciliates']*1.8)+(data_Pheo['mod_flagellates']*1.8))\n",
    "data_Pheo['log_mod_Chl']=ket.logt((data_Pheo['mod_diatoms']*1.8)+(data_Pheo['mod_ciliates']*1.8)+(data_Pheo['mod_flagellates']*1.8))\n",
    "\n",
    "# defning a dictionary that brakes the data down by individual stations\n",
    "datstat_Pheo=dict()\n",
    "for ind, istation in enumerate(data_Pheo.Station.unique()):\n",
    "    datstat_Pheo[istation]=data_Pheo.loc[data_Pheo.Station == istation]\n",
    "\n",
    "datreg_Pheo=dict()\n",
    "for iregion in data_Pheo.Basin.unique():\n",
    "    datreg_Pheo[iregion] = data_Pheo.loc[data_Pheo.Basin==iregion] \n",
    "    \n",
    "datyear_Pheo=dict()\n",
    "for iyear in data_Pheo.dtUTC.dt.year.unique():\n",
    "    datyear_Pheo[iyear] = data_Pheo.loc[data_Pheo.dtUTC.dt.year==iyear]"
   ]
  },
  {
   "cell_type": "markdown",
   "metadata": {},
   "source": [
    "# Nitrate\n",
    "## Observed nitrate and model nitrate over time with depth"
   ]
  },
  {
   "cell_type": "code",
   "execution_count": null,
   "metadata": {},
   "outputs": [],
   "source": [
    "obsvar='NO23'\n",
    "modvar='mod_nitrate'\n",
    "\n",
    "ket.multi_timese_graph(data,year,obsvar,modvar,(16,8))"
   ]
  },
  {
   "cell_type": "markdown",
   "metadata": {},
   "source": [
    "## Observed nitrate and model nitrate over time for different regions"
   ]
  },
  {
   "cell_type": "code",
   "execution_count": null,
   "metadata": {},
   "outputs": [],
   "source": [
    "TsByRegion(datreg,data.Basin.unique(),obsvar,modvar,year)"
   ]
  },
  {
   "cell_type": "markdown",
   "metadata": {},
   "source": [
    "## Observed nitrate and model nitrate over time individual depths"
   ]
  },
  {
   "cell_type": "code",
   "execution_count": null,
   "metadata": {},
   "outputs": [],
   "source": [
    "title='Time series for less than 15 metres depth'\n",
    "TsByDepth(data[data.Z < 15],obsvar,modvar,year,title)\n",
    "\n",
    "title='Time series for greater than 22 metres depth'\n",
    "TsByDepth(data[data.Z > 22],obsvar,modvar,year,title)"
   ]
  },
  {
   "cell_type": "markdown",
   "metadata": {},
   "source": [
    "## Model Error over time"
   ]
  },
  {
   "cell_type": "code",
   "execution_count": null,
   "metadata": {},
   "outputs": [],
   "source": [
    "ket.multi_timerror_graph(data,datyear,year,obsvar,modvar,(16,9))"
   ]
  },
  {
   "cell_type": "markdown",
   "metadata": {},
   "source": [
    "# Silicon\n",
    "## Observed Silicon and model Silicon over time with depth"
   ]
  },
  {
   "cell_type": "code",
   "execution_count": null,
   "metadata": {},
   "outputs": [],
   "source": [
    "obsvar='Si'\n",
    "modvar='mod_silicon'\n",
    "\n",
    "ket.multi_timese_graph(data,year,obsvar,modvar,(16,8))"
   ]
  },
  {
   "cell_type": "markdown",
   "metadata": {},
   "source": [
    "## Observed Silicon and model Silicon over time for different regions"
   ]
  },
  {
   "cell_type": "code",
   "execution_count": null,
   "metadata": {},
   "outputs": [],
   "source": [
    "TsByRegion(datreg,data.Basin.unique(),obsvar,modvar,year)"
   ]
  },
  {
   "cell_type": "markdown",
   "metadata": {},
   "source": [
    "## Observed Silicon and model Silicon over time individual depths"
   ]
  },
  {
   "cell_type": "code",
   "execution_count": null,
   "metadata": {},
   "outputs": [],
   "source": [
    "title='Time series for less than 15 metres depth'\n",
    "TsByDepth(data[data.Z < 15],obsvar,modvar,year,title)\n",
    "\n",
    "title='Time series for greater than 22 metres depth'\n",
    "TsByDepth(data[data.Z > 22],obsvar,modvar,year,title)"
   ]
  },
  {
   "cell_type": "markdown",
   "metadata": {},
   "source": [
    "Interesting, for below 22 metres there is a clearly a seasonal pattern to the observed silicon levels, but the modeled silicon levels stay almost completely constant. "
   ]
  },
  {
   "cell_type": "markdown",
   "metadata": {},
   "source": [
    "## Model Error over time"
   ]
  },
  {
   "cell_type": "code",
   "execution_count": null,
   "metadata": {},
   "outputs": [],
   "source": [
    "ket.multi_timerror_graph(data,datyear,year,obsvar,modvar,(16,9))"
   ]
  },
  {
   "cell_type": "markdown",
   "metadata": {},
   "source": [
    "# Ammonium"
   ]
  },
  {
   "cell_type": "markdown",
   "metadata": {},
   "source": [
    "## Observed Ammonium and model Ammonium over time by "
   ]
  },
  {
   "cell_type": "code",
   "execution_count": null,
   "metadata": {},
   "outputs": [],
   "source": [
    "obsvar='Amm'\n",
    "modvar='mod_ammonium'\n",
    "\n",
    "ket.multi_timese_graph(data,year,obsvar,modvar,(16,8))"
   ]
  },
  {
   "cell_type": "markdown",
   "metadata": {},
   "source": [
    "## Observed Ammonium and model Ammonium over time for different regions"
   ]
  },
  {
   "cell_type": "code",
   "execution_count": null,
   "metadata": {},
   "outputs": [],
   "source": [
    "TsByRegion(datreg,data.Basin.unique(),obsvar,modvar,year,loc='upper left')"
   ]
  },
  {
   "cell_type": "markdown",
   "metadata": {},
   "source": [
    "## Observe Ammonium and model Ammonium over time individual depths"
   ]
  },
  {
   "cell_type": "code",
   "execution_count": null,
   "metadata": {},
   "outputs": [],
   "source": [
    "title='Time series for less than 15 metres depth'\n",
    "TsByDepth(data[data.Z < 15],obsvar,modvar,year,title)\n",
    "\n",
    "title='Time series for greater than 22 metres depth'\n",
    "TsByDepth(data[data.Z > 22],obsvar,modvar,year,title)"
   ]
  },
  {
   "cell_type": "markdown",
   "metadata": {},
   "source": [
    "# Error vs time of year"
   ]
  },
  {
   "cell_type": "code",
   "execution_count": null,
   "metadata": {},
   "outputs": [],
   "source": [
    "ket.multi_timerror_graph(data,datyear,year,obsvar,modvar,(16,9))"
   ]
  },
  {
   "cell_type": "markdown",
   "metadata": {},
   "source": [
    "# Salinity"
   ]
  },
  {
   "cell_type": "markdown",
   "metadata": {},
   "source": [
    "## Observed Salinity and model Salinity over time "
   ]
  },
  {
   "cell_type": "code",
   "execution_count": null,
   "metadata": {},
   "outputs": [],
   "source": [
    "obsvar='SA'\n",
    "modvar='mod_vosaline'\n",
    "\n",
    "ket.multi_timese_graph(data,year,obsvar,modvar,(16,8),units='(g/kg)')"
   ]
  },
  {
   "cell_type": "markdown",
   "metadata": {},
   "source": [
    "## Observed Salinity and model Salinity over time for different regions"
   ]
  },
  {
   "cell_type": "code",
   "execution_count": null,
   "metadata": {},
   "outputs": [],
   "source": [
    "TsByRegion(datreg,data.Basin.unique(),obsvar,modvar,year,loc='upper left',units='(g/kg)')"
   ]
  },
  {
   "cell_type": "markdown",
   "metadata": {},
   "source": [
    "## Observe Salinity and model Salinity over time individual depths"
   ]
  },
  {
   "cell_type": "code",
   "execution_count": null,
   "metadata": {},
   "outputs": [],
   "source": [
    "title='Time series for less than 15 metres depth'\n",
    "TsByDepth(data[data.Z < 15],obsvar,modvar,year,title,units='(g/kg)')\n",
    "\n",
    "title='Time series for greater than 22 metres depth'\n",
    "TsByDepth(data[data.Z > 22],obsvar,modvar,year,title,units='(g/kg)')"
   ]
  },
  {
   "cell_type": "markdown",
   "metadata": {},
   "source": [
    "# Error vs time of year"
   ]
  },
  {
   "cell_type": "code",
   "execution_count": null,
   "metadata": {},
   "outputs": [],
   "source": [
    "ket.multi_timerror_graph(data,datyear,year,obsvar,modvar,(16,9),units='(g/kg)')"
   ]
  },
  {
   "cell_type": "markdown",
   "metadata": {},
   "source": [
    "# Temperature"
   ]
  },
  {
   "cell_type": "markdown",
   "metadata": {},
   "source": [
    "## Observed Temperature and model Temperature over time "
   ]
  },
  {
   "cell_type": "code",
   "execution_count": null,
   "metadata": {},
   "outputs": [],
   "source": [
    "obsvar='CT'\n",
    "modvar='mod_votemper'\n",
    "\n",
    "ket.multi_timese_graph(data,year,obsvar,modvar,(16,8),units='(C$^o$)')"
   ]
  },
  {
   "cell_type": "markdown",
   "metadata": {},
   "source": [
    "## Observed Temperature and model Temperature over time for different regions"
   ]
  },
  {
   "cell_type": "code",
   "execution_count": null,
   "metadata": {},
   "outputs": [],
   "source": [
    "TsByRegion(datreg,data.Basin.unique(),obsvar,modvar,year,loc='upper left',units='(C$^o$)')"
   ]
  },
  {
   "cell_type": "markdown",
   "metadata": {},
   "source": [
    "## Observe Temperature and model Temperature over time individual depths"
   ]
  },
  {
   "cell_type": "code",
   "execution_count": null,
   "metadata": {},
   "outputs": [],
   "source": [
    "title='Time series for less than 15 metres depth'\n",
    "TsByDepth(data[data.Z < 15],obsvar,modvar,year,title,units='(C$^o$)')\n",
    "\n",
    "title='Time series for greater than 22 metres depth'\n",
    "TsByDepth(data[data.Z > 22],obsvar,modvar,year,title,units='(C$^o$)')"
   ]
  },
  {
   "cell_type": "markdown",
   "metadata": {},
   "source": [
    "# Error vs time of year"
   ]
  },
  {
   "cell_type": "code",
   "execution_count": null,
   "metadata": {},
   "outputs": [],
   "source": [
    "ket.multi_timerror_graph(data,datyear,year,obsvar,modvar,(16,9),units='(C$^o$)')"
   ]
  },
  {
   "cell_type": "markdown",
   "metadata": {},
   "source": [
    "# Log transformed Chlorophyll\n",
    "## Observed Chlorophyll and model chlorophyll over time with depth"
   ]
  },
  {
   "cell_type": "code",
   "execution_count": null,
   "metadata": {},
   "outputs": [],
   "source": [
    "obsvar='log_Chl'\n",
    "modvar='log_mod_Chl'\n",
    "\n",
    "ket.multi_timese_graph(data_Pheo,year,obsvar,modvar,(16,8))"
   ]
  },
  {
   "cell_type": "markdown",
   "metadata": {},
   "source": [
    "## Observed nitrate and model nitrate over time for different regions"
   ]
  },
  {
   "cell_type": "code",
   "execution_count": null,
   "metadata": {},
   "outputs": [],
   "source": [
    "obsvar='log_Chl'\n",
    "modvar='log_mod_Chl'\n",
    "\n",
    "TsByRegion(datreg_Pheo,data.Basin.unique(),obsvar,modvar,year,loc='upper left')"
   ]
  },
  {
   "cell_type": "markdown",
   "metadata": {},
   "source": [
    "## Observed nitrate and model nitrate over time individual depths"
   ]
  },
  {
   "cell_type": "code",
   "execution_count": null,
   "metadata": {},
   "outputs": [],
   "source": [
    "title='Time series for less than 15 metres depth'\n",
    "TsByDepth(data_Pheo[data_Pheo.Z < 15],obsvar,modvar,year,title)\n",
    "\n",
    "title='Time series for greater than 22 metres depth'\n",
    "TsByDepth(data_Pheo[data_Pheo.Z > 22],obsvar,modvar,year,title)"
   ]
  },
  {
   "cell_type": "markdown",
   "metadata": {},
   "source": [
    "## Model Error over time"
   ]
  },
  {
   "cell_type": "code",
   "execution_count": null,
   "metadata": {},
   "outputs": [],
   "source": [
    "ket.multi_timerror_graph(data_Pheo,datyear_Pheo,year,obsvar,modvar,(16,9))"
   ]
  },
  {
   "cell_type": "markdown",
   "metadata": {},
   "source": [
    "# Chlorophyll\n",
    "## Observed Chlorophyll and model chlorophyll over time with depth"
   ]
  },
  {
   "cell_type": "code",
   "execution_count": null,
   "metadata": {},
   "outputs": [],
   "source": [
    "obsvar='Chla_Lab'\n",
    "modvar='mod_Chl'\n",
    "\n",
    "ket.multi_timese_graph(data_Pheo,year,obsvar,modvar,(16,8))"
   ]
  },
  {
   "cell_type": "markdown",
   "metadata": {},
   "source": [
    "## Observed Temperature and model nitrate over time for different regions"
   ]
  },
  {
   "cell_type": "code",
   "execution_count": null,
   "metadata": {},
   "outputs": [],
   "source": [
    "TsByRegion(datreg_Pheo,data.Basin.unique(),obsvar,modvar,year,loc='upper left')"
   ]
  },
  {
   "cell_type": "markdown",
   "metadata": {},
   "source": [
    "## Observed nitrate and model nitrate over time individual depths"
   ]
  },
  {
   "cell_type": "code",
   "execution_count": null,
   "metadata": {},
   "outputs": [],
   "source": [
    "title='Time series for less than 15 metres depth'\n",
    "TsByDepth(data_Pheo[data_Pheo.Z < 15],obsvar,modvar,year,title)\n",
    "\n",
    "title='Time series for greater than 22 metres depth'\n",
    "TsByDepth(data_Pheo[data_Pheo.Z > 22],obsvar,modvar,year,title)"
   ]
  },
  {
   "cell_type": "markdown",
   "metadata": {},
   "source": [
    "## Model Error over time"
   ]
  },
  {
   "cell_type": "code",
   "execution_count": null,
   "metadata": {},
   "outputs": [],
   "source": [
    "ket.multi_timerror_graph(data_Pheo,datyear_Pheo,year,obsvar,modvar,(16,9))"
   ]
  }
 ],
 "metadata": {
  "kernelspec": {
   "display_name": "Python (py39)",
   "language": "python",
   "name": "py39"
  },
  "language_info": {
   "codemirror_mode": {
    "name": "ipython",
    "version": 3
   },
   "file_extension": ".py",
   "mimetype": "text/x-python",
   "name": "python",
   "nbconvert_exporter": "python",
   "pygments_lexer": "ipython3",
   "version": "3.9.1"
  }
 },
 "nbformat": 4,
 "nbformat_minor": 4
}
