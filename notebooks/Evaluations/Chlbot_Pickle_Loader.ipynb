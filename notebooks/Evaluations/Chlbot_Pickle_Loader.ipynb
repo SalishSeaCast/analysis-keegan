{
 "cells": [
  {
   "cell_type": "markdown",
   "metadata": {},
   "source": [
    "This Script only exists as a place to load up all of the pickle files files while I am busy doing other things."
   ]
  },
  {
   "cell_type": "code",
   "execution_count": 1,
   "metadata": {},
   "outputs": [],
   "source": [
    "import numpy as np\n",
    "import matplotlib.pyplot as plt\n",
    "import os\n",
    "import pandas as pd\n",
    "import netCDF4 as nc\n",
    "import datetime as dt\n",
    "from salishsea_tools import evaltools as et, viz_tools\n",
    "import gsw \n",
    "import matplotlib.gridspec as gridspec\n",
    "import matplotlib as mpl\n",
    "import matplotlib.dates as mdates\n",
    "import cmocean as cmo\n",
    "import scipy.interpolate as sinterp\n",
    "import pickle\n",
    "import cmocean\n",
    "import json\n",
    "import f90nml\n",
    "from collections import OrderedDict\n",
    "from matplotlib.colors import LogNorm\n",
    "\n",
    "fs=16\n",
    "mpl.rc('xtick', labelsize=fs)\n",
    "mpl.rc('ytick', labelsize=fs)\n",
    "mpl.rc('legend', fontsize=fs)\n",
    "mpl.rc('axes', titlesize=fs)\n",
    "mpl.rc('axes', labelsize=fs)\n",
    "mpl.rc('figure', titlesize=fs)\n",
    "mpl.rc('font', size=fs)\n",
    "mpl.rc('font', family='sans-serif', weight='normal', style='normal')\n",
    "\n",
    "import warnings\n",
    "#warnings.filterwarnings('ignore')\n",
    "from IPython.display import Markdown, display\n",
    "\n",
    "%matplotlib inline"
   ]
  },
  {
   "cell_type": "raw",
   "metadata": {},
   "source": [
    "from IPython.display import HTML\n",
    "\n",
    "HTML('''<script>\n",
    "code_show=true; \n",
    "function code_toggle() {\n",
    " if (code_show){\n",
    " $('div.input').hide();\n",
    " } else {\n",
    " $('div.input').show();\n",
    " }\n",
    " code_show = !code_show\n",
    "} \n",
    "$( document ).ready(code_toggle);\n",
    "</script>\n",
    "\n",
    "<form action=\"javascript:code_toggle()\"><input type=\"submit\" value=\"Click here to toggle on/off the raw code.\"></form>''')\n"
   ]
  },
  {
   "cell_type": "code",
   "execution_count": 2,
   "metadata": {},
   "outputs": [],
   "source": [
    "year=2018\n",
    "modelversion='nowcast-green.201905'\n",
    "PATH= '/results2/SalishSea/nowcast-green.201905/'\n",
    "datadir='/ocean/eolson/MEOPAR/obs/WADE/ptools_data/ecology'"
   ]
  },
  {
   "cell_type": "markdown",
   "metadata": {},
   "source": [
    "### load observations"
   ]
  },
  {
   "cell_type": "code",
   "execution_count": 3,
   "metadata": {},
   "outputs": [],
   "source": [
    "dfTime=pd.read_excel('/ocean/eolson/MEOPAR/obs/WADE/WDE_Data/OlsonSuchyAllen_UBC_PDR_P003790-010721.xlsx',\n",
    "                    engine='openpyxl',sheet_name='EventDateTime')"
   ]
  },
  {
   "cell_type": "code",
   "execution_count": 4,
   "metadata": {},
   "outputs": [],
   "source": [
    "## duplicate Station/Date entries with different times seem to be always within a couple of hours, \n",
    "# so just take the first (next cell)\n",
    "test=dfTime.groupby(['FlightDate','SiteCode'])['TimeDown \\n(Local - PST or PDT)'].count()"
   ]
  },
  {
   "cell_type": "code",
   "execution_count": 5,
   "metadata": {},
   "outputs": [
    {
     "name": "stdout",
     "output_type": "stream",
     "text": [
      "Index(['FlightYear', 'FlightMonth', 'FlightDate', 'SiteCode', 'Sampled',\n",
      "       'TimeDown \\n(Local - PST or PDT)', 'FieldComment'],\n",
      "      dtype='object')\n"
     ]
    }
   ],
   "source": [
    "# drop duplicate rows\n",
    "dfTime.drop_duplicates(subset=['FlightDate','SiteCode'],keep='first',inplace=True)\n",
    "print(dfTime.keys())"
   ]
  },
  {
   "cell_type": "code",
   "execution_count": 6,
   "metadata": {},
   "outputs": [],
   "source": [
    "dfTime['dtPac']=[dt.datetime.combine(idate, itime) for idate, itime \\\n",
    "         in zip(dfTime['FlightDate'],dfTime['TimeDown \\n(Local - PST or PDT)'])]\n",
    "dfTime['dtUTC']=[et.pac_to_utc(ii) for ii in dfTime['dtPac']]"
   ]
  },
  {
   "cell_type": "code",
   "execution_count": 7,
   "metadata": {},
   "outputs": [],
   "source": [
    "# PROCESS STATION LOCATION INFO (based on Parker's code)\n",
    "sta_fn='/ocean/eolson/MEOPAR/obs/WADE/WDE_Data/OlsonSuchyAllen_UBC_PDR_P003790-010721.xlsx'\n",
    "sheetname='Site Info'\n",
    "sta_df =pd.read_excel(sta_fn,engine='openpyxl',sheet_name=sheetname)\n",
    "sta_df.dropna(how='any',subset=['Lat_NAD83 (deg / dec_min)','Long_NAD83 (deg / dec_min)','Station'],inplace=True)\n",
    "sta_df = sta_df.set_index('Station')\n",
    "# get locations in decimal degrees\n",
    "for sta in sta_df.index:\n",
    "    lat_str = sta_df.loc[sta, 'Lat_NAD83 (deg / dec_min)']\n",
    "    lat_deg = float(lat_str.split()[0]) + float(lat_str.split()[1])/60\n",
    "    sta_df.loc[sta,'Lat'] = lat_deg\n",
    "    #\n",
    "    lon_str = sta_df.loc[sta, 'Long_NAD83 (deg / dec_min)']\n",
    "    lon_deg = float(lon_str.split()[0]) + float(lon_str.split()[1])/60\n",
    "    sta_df.loc[sta,'Lon'] = -lon_deg    \n",
    "sta_df.pop('Lat_NAD83 (deg / dec_min)');\n",
    "sta_df.pop('Long_NAD83 (deg / dec_min)');"
   ]
  },
  {
   "cell_type": "code",
   "execution_count": 8,
   "metadata": {},
   "outputs": [],
   "source": [
    "fn='/ocean/eolson/MEOPAR/obs/WADE/WDE_Data/OlsonSuchyAllen_UBC_PDR_P003790-010721.xlsx'\n",
    "sheetname='LabChlaPheo'\n",
    "chlPheo =pd.read_excel(fn,engine='openpyxl',sheet_name=sheetname)"
   ]
  },
  {
   "cell_type": "code",
   "execution_count": 9,
   "metadata": {},
   "outputs": [],
   "source": [
    "chlPheo.dropna(how='any',subset=['Date','Station','SamplingDepth'],inplace=True)"
   ]
  },
  {
   "cell_type": "code",
   "execution_count": 10,
   "metadata": {},
   "outputs": [],
   "source": [
    "# average over replicates\n",
    "chlPheo2=pd.DataFrame(chlPheo.groupby(['Date','Station','SamplingDepth'],as_index=False).mean())"
   ]
  },
  {
   "cell_type": "code",
   "execution_count": 11,
   "metadata": {},
   "outputs": [],
   "source": [
    "# join to station info (lat/lon)\n",
    "chlPheo3=pd.merge(left=sta_df,right=chlPheo2,how='right',\n",
    "                 left_on='Station',right_on='Station')"
   ]
  },
  {
   "cell_type": "code",
   "execution_count": 12,
   "metadata": {},
   "outputs": [],
   "source": [
    "# join to date/time\n",
    "dfTime['dtUTC']=[et.pac_to_utc(dt.datetime.combine(idate,itime)) for idate,itime in \\\n",
    "                zip(dfTime['FlightDate'],dfTime['TimeDown \\n(Local - PST or PDT)'])]\n",
    "dfTime2=dfTime.loc[:,['FlightDate','SiteCode','dtUTC']]\n",
    "chlPheoFinal=pd.merge(left=chlPheo3,right=dfTime2,how='left',\n",
    "                      left_on=['Date','Station'],right_on=['FlightDate','SiteCode'])"
   ]
  },
  {
   "cell_type": "code",
   "execution_count": 13,
   "metadata": {},
   "outputs": [],
   "source": [
    "chlPheoFinal.dropna(how='any',subset=['dtUTC'],inplace=True)"
   ]
  },
  {
   "cell_type": "code",
   "execution_count": 14,
   "metadata": {},
   "outputs": [],
   "source": [
    "chlPheoFinal['Z']=chlPheoFinal['SamplingDepth']\n",
    "chlPheoFinal['Year']=[ii.year for ii in chlPheoFinal['dtUTC']]\n",
    "chlPheoFinal['YD']=et.datetimeToYD(chlPheoFinal['dtUTC'])\n",
    "chlPheoYear=pd.DataFrame(chlPheoFinal.loc[chlPheoFinal.Year==year])"
   ]
  },
  {
   "cell_type": "code",
   "execution_count": 15,
   "metadata": {},
   "outputs": [
    {
     "data": {
      "text/plain": [
       "(11422, 11469, 5186)"
      ]
     },
     "execution_count": 15,
     "metadata": {},
     "output_type": "execute_result"
    }
   ],
   "source": [
    "len(chlPheoFinal),len(chlPheo3),len(dfTime2)"
   ]
  },
  {
   "cell_type": "markdown",
   "metadata": {},
   "source": [
    "## load CTD data"
   ]
  },
  {
   "cell_type": "code",
   "execution_count": 16,
   "metadata": {},
   "outputs": [],
   "source": [
    "dfCTD0=pickle.load(open(os.path.join(datadir,f'Casts_{str(year)}.p'),'rb'))\n",
    "dfCTD=pd.merge(left=sta_df,right=dfCTD0,how='right',\n",
    "             left_on='Station',right_on='Station')\n",
    "dfCTD['dtUTC']=[iiD+dt.timedelta(hours=20) for iiD in dfCTD['Date']] #Does this mean it also has that flaw where we are not sure when the data was collected?\n",
    "dfCTD.rename(columns={'Latitude':'Lat','Longitude':'Lon'},inplace=True)\n",
    "dfCTD['Z']=-1*dfCTD['Z']\n",
    "# Calculate Absolute (Reference) Salinity (g/kg) and Conservative Temperature (deg C) from \n",
    "# Salinity (psu) and Temperature (deg C):\n",
    "press=gsw.p_from_z(-1*dfCTD['Z'],dfCTD['Lat'])\n",
    "dfCTD['SA']=gsw.SA_from_SP(dfCTD['Salinity'],press,\n",
    "                           dfCTD['Lon'],dfCTD['Lat'])\n",
    "dfCTD['CT']=gsw.CT_from_t(dfCTD['SA'],dfCTD['Temperature'],press)\n",
    "\n",
    "dfCTD['Year']=[ii.year for ii in dfCTD['dtUTC']]\n",
    "dfCTD['YD']=et.datetimeToYD(dfCTD['dtUTC'])"
   ]
  },
  {
   "cell_type": "code",
   "execution_count": 17,
   "metadata": {},
   "outputs": [
    {
     "data": {
      "text/plain": [
       "Index(['Station', 'Desig', 'Descrip', 'Basin', '*Max_Depth', 'Lat', 'Lon',\n",
       "       'Salinity', 'Temperature', 'Sigma', 'DO', 'Z', 'Date', 'Turb', 'Chl',\n",
       "       'dtUTC', 'SA', 'CT', 'Year', 'YD'],\n",
       "      dtype='object')"
      ]
     },
     "execution_count": 17,
     "metadata": {},
     "output_type": "execute_result"
    }
   ],
   "source": [
    "dfCTD.keys()"
   ]
  },
  {
   "cell_type": "code",
   "execution_count": 18,
   "metadata": {},
   "outputs": [
    {
     "name": "stdout",
     "output_type": "stream",
     "text": [
      "this should be 1:  [1]\n"
     ]
    }
   ],
   "source": [
    "# check that there is never more than one ctd cast per station per day:\n",
    "test=dfCTD.groupby(['Station','Year','YD','Z']).count()\n",
    "print('this should be 1: ',test['Date'].unique())"
   ]
  },
  {
   "cell_type": "markdown",
   "metadata": {},
   "source": [
    "## Creating Chlorophyll matched dataset with added CT and SA from CTD"
   ]
  },
  {
   "cell_type": "code",
   "execution_count": 19,
   "metadata": {},
   "outputs": [],
   "source": [
    "def interpCTDvar(sta,yr,yd,ztarget,ctdvar):\n",
    "    ctdlocs=(dfCTD.Station==sta)&(dfCTD.Year==yr)&(dfCTD.YD==yd)\n",
    "    if np.sum(ctdlocs)==0:\n",
    "        print(f'Warning: Station {sta}, Year {yr}, year day {yd} not found in dfCTD')\n",
    "        return np.nan\n",
    "    else:\n",
    "        val=np.interp(ztarget,dfCTD.loc[ctdlocs,['Z']].values.flatten(),\n",
    "                  dfCTD.loc[ctdlocs,[ctdvar]].values.flatten())\n",
    "        return val"
   ]
  },
  {
   "cell_type": "code",
   "execution_count": 20,
   "metadata": {},
   "outputs": [
    {
     "data": {
      "text/plain": [
       "array([ 10,  66, 114, 143, 163, 198, 248, 276, 310, 338])"
      ]
     },
     "execution_count": 20,
     "metadata": {},
     "output_type": "execute_result"
    }
   ],
   "source": [
    "dfCTD.loc[dfCTD.Station=='PSS019']['YD'].unique()"
   ]
  },
  {
   "cell_type": "code",
   "execution_count": 21,
   "metadata": {},
   "outputs": [
    {
     "data": {
      "text/plain": [
       "array([193, 242, 271, 334,  83, 109, 137, 173, 207, 234, 258, 284, 314,\n",
       "       354,  23,  57, 141, 170, 199, 232, 362,  51,  88, 115, 176, 204,\n",
       "       233, 336,  87, 139, 174, 196, 231, 309,  50,  70, 124, 153, 223,\n",
       "       265, 300,  34,  68, 108, 130, 158, 206, 235, 255, 306,  18,  45,\n",
       "        86, 107, 135, 156, 226, 254, 275,  31,  92, 121, 155, 197, 219,\n",
       "       281, 323, 346,   7,  35,  72,  99, 163, 246, 301, 110, 138, 159,\n",
       "       201, 230,  22,  48,  76, 103, 292,   4,  66, 116, 214, 249, 355,\n",
       "        11,  37,  69, 101, 123, 213, 261, 299, 332,  16,  78,  98, 140,\n",
       "       168, 302, 326, 345,  56, 111, 127, 210, 259,  21,  55, 119, 166,\n",
       "       187, 264, 327, 350,  25,  53,  82, 188, 236, 256,  54,  94, 129,\n",
       "       165, 228, 296, 341,  10, 114, 143, 198, 248, 276, 310, 338,   8,\n",
       "       157, 225, 267, 303, 318])"
      ]
     },
     "execution_count": 21,
     "metadata": {},
     "output_type": "execute_result"
    }
   ],
   "source": [
    "chlPheoFinal.loc[chlPheoFinal.Station=='PSS019']['YD'].unique()"
   ]
  },
  {
   "cell_type": "code",
   "execution_count": 22,
   "metadata": {},
   "outputs": [],
   "source": [
    "chlPheoYear['SA']=[interpCTDvar(sta,yr,yd,ztarget,'SA') for sta, yr, yd, ztarget \\\n",
    "           in zip(chlPheoYear['Station'],chlPheoYear['Year'],chlPheoYear['YD'],chlPheoYear['Z'])]"
   ]
  },
  {
   "cell_type": "code",
   "execution_count": 23,
   "metadata": {},
   "outputs": [],
   "source": [
    "chlPheoYear['CT']=[interpCTDvar(sta,yr,yd,ztarget,'CT') for sta, yr, yd, ztarget \\\n",
    "           in zip(chlPheoYear['Station'],chlPheoYear['Year'],chlPheoYear['YD'],chlPheoYear['Z'])]"
   ]
  },
  {
   "cell_type": "markdown",
   "metadata": {},
   "source": [
    "### set up variables for model-data matching"
   ]
  },
  {
   "cell_type": "code",
   "execution_count": 24,
   "metadata": {},
   "outputs": [],
   "source": [
    "start_date = dt.datetime(year,1,1)\n",
    "end_date = dt.datetime(year,12,31)\n",
    "flen=1 # number of days per model output file. always 1 for 201905 and 201812 model runs\n",
    "namfmt='nowcast' # for 201905 and 201812 model runs, this should always be 'nowcast'\n",
    "filemap={'diatoms':'ptrc_T','ciliates':'ptrc_T','flagellates':'ptrc_T','votemper':'grid_T','vosaline':'grid_T'}\n",
    "fdict={'ptrc_T':1,'grid_T':1}"
   ]
  },
  {
   "cell_type": "code",
   "execution_count": 25,
   "metadata": {},
   "outputs": [
    {
     "name": "stdout",
     "output_type": "stream",
     "text": [
      "(Lat,Lon)= 47.21342666666666 -123.07765  not matched to domain\n"
     ]
    }
   ],
   "source": [
    "data_Pheo=et.matchData(chlPheoYear,filemap,fdict,start_date,end_date,'nowcast',PATH,1,quiet=False);"
   ]
  },
  {
   "cell_type": "code",
   "execution_count": 26,
   "metadata": {},
   "outputs": [],
   "source": [
    "##### Saving data as Pickle files to be used in the summary file\n",
    "saveloc='/ocean/kflanaga/MEOPAR/savedData'\n",
    "with open(os.path.join(saveloc,f'data_Pheo_{modelversion}_{year}.pkl'),'wb') as hh:\n",
    "    pickle.dump(data_Pheo,hh)"
   ]
  },
  {
   "cell_type": "code",
   "execution_count": 27,
   "metadata": {},
   "outputs": [
    {
     "data": {
      "text/html": [
       "<div>\n",
       "<style scoped>\n",
       "    .dataframe tbody tr th:only-of-type {\n",
       "        vertical-align: middle;\n",
       "    }\n",
       "\n",
       "    .dataframe tbody tr th {\n",
       "        vertical-align: top;\n",
       "    }\n",
       "\n",
       "    .dataframe thead th {\n",
       "        text-align: right;\n",
       "    }\n",
       "</style>\n",
       "<table border=\"1\" class=\"dataframe\">\n",
       "  <thead>\n",
       "    <tr style=\"text-align: right;\">\n",
       "      <th></th>\n",
       "      <th>Station</th>\n",
       "      <th>Desig</th>\n",
       "      <th>Descrip</th>\n",
       "      <th>Basin</th>\n",
       "      <th>*Max_Depth</th>\n",
       "      <th>Lat</th>\n",
       "      <th>Lon</th>\n",
       "      <th>Date</th>\n",
       "      <th>SamplingDepth</th>\n",
       "      <th>CTD Cast Rep</th>\n",
       "      <th>...</th>\n",
       "      <th>SA</th>\n",
       "      <th>CT</th>\n",
       "      <th>j</th>\n",
       "      <th>i</th>\n",
       "      <th>mod_diatoms</th>\n",
       "      <th>mod_ciliates</th>\n",
       "      <th>mod_flagellates</th>\n",
       "      <th>mod_votemper</th>\n",
       "      <th>mod_vosaline</th>\n",
       "      <th>k</th>\n",
       "    </tr>\n",
       "  </thead>\n",
       "  <tbody>\n",
       "    <tr>\n",
       "      <th>0</th>\n",
       "      <td>SKG003</td>\n",
       "      <td>C</td>\n",
       "      <td>Skagit Bay - Str. Point Red Buoy</td>\n",
       "      <td>Whidbey Basin</td>\n",
       "      <td>25.0</td>\n",
       "      <td>48.296488</td>\n",
       "      <td>-122.489605</td>\n",
       "      <td>2018-01-10</td>\n",
       "      <td>1.358</td>\n",
       "      <td>1.0</td>\n",
       "      <td>...</td>\n",
       "      <td>21.226320</td>\n",
       "      <td>8.207603</td>\n",
       "      <td>214</td>\n",
       "      <td>311</td>\n",
       "      <td>0.003049</td>\n",
       "      <td>0.133161</td>\n",
       "      <td>0.262520</td>\n",
       "      <td>7.637747</td>\n",
       "      <td>23.993107</td>\n",
       "      <td>1</td>\n",
       "    </tr>\n",
       "    <tr>\n",
       "      <th>1</th>\n",
       "      <td>SKG003</td>\n",
       "      <td>C</td>\n",
       "      <td>Skagit Bay - Str. Point Red Buoy</td>\n",
       "      <td>Whidbey Basin</td>\n",
       "      <td>25.0</td>\n",
       "      <td>48.296488</td>\n",
       "      <td>-122.489605</td>\n",
       "      <td>2018-01-10</td>\n",
       "      <td>9.143</td>\n",
       "      <td>1.0</td>\n",
       "      <td>...</td>\n",
       "      <td>21.226320</td>\n",
       "      <td>8.207603</td>\n",
       "      <td>214</td>\n",
       "      <td>311</td>\n",
       "      <td>0.001736</td>\n",
       "      <td>0.072375</td>\n",
       "      <td>0.136832</td>\n",
       "      <td>9.914739</td>\n",
       "      <td>29.161905</td>\n",
       "      <td>9</td>\n",
       "    </tr>\n",
       "    <tr>\n",
       "      <th>2</th>\n",
       "      <td>SAR003</td>\n",
       "      <td>C</td>\n",
       "      <td>Saratoga Passage - East Point</td>\n",
       "      <td>Whidbey Basin</td>\n",
       "      <td>123.0</td>\n",
       "      <td>48.107595</td>\n",
       "      <td>-122.491542</td>\n",
       "      <td>2018-01-10</td>\n",
       "      <td>1.462</td>\n",
       "      <td>1.0</td>\n",
       "      <td>...</td>\n",
       "      <td>24.481707</td>\n",
       "      <td>8.117859</td>\n",
       "      <td>178</td>\n",
       "      <td>288</td>\n",
       "      <td>0.002713</td>\n",
       "      <td>0.145440</td>\n",
       "      <td>0.282199</td>\n",
       "      <td>7.267853</td>\n",
       "      <td>24.124052</td>\n",
       "      <td>1</td>\n",
       "    </tr>\n",
       "    <tr>\n",
       "      <th>3</th>\n",
       "      <td>SAR003</td>\n",
       "      <td>C</td>\n",
       "      <td>Saratoga Passage - East Point</td>\n",
       "      <td>Whidbey Basin</td>\n",
       "      <td>123.0</td>\n",
       "      <td>48.107595</td>\n",
       "      <td>-122.491542</td>\n",
       "      <td>2018-01-10</td>\n",
       "      <td>11.146</td>\n",
       "      <td>1.0</td>\n",
       "      <td>...</td>\n",
       "      <td>24.481707</td>\n",
       "      <td>8.117859</td>\n",
       "      <td>178</td>\n",
       "      <td>288</td>\n",
       "      <td>0.002038</td>\n",
       "      <td>0.113663</td>\n",
       "      <td>0.203736</td>\n",
       "      <td>9.314622</td>\n",
       "      <td>28.430378</td>\n",
       "      <td>11</td>\n",
       "    </tr>\n",
       "    <tr>\n",
       "      <th>4</th>\n",
       "      <td>SAR003</td>\n",
       "      <td>C</td>\n",
       "      <td>Saratoga Passage - East Point</td>\n",
       "      <td>Whidbey Basin</td>\n",
       "      <td>123.0</td>\n",
       "      <td>48.107595</td>\n",
       "      <td>-122.491542</td>\n",
       "      <td>2018-01-10</td>\n",
       "      <td>31.057</td>\n",
       "      <td>1.0</td>\n",
       "      <td>...</td>\n",
       "      <td>24.481707</td>\n",
       "      <td>8.117859</td>\n",
       "      <td>178</td>\n",
       "      <td>288</td>\n",
       "      <td>0.001637</td>\n",
       "      <td>0.052295</td>\n",
       "      <td>0.098624</td>\n",
       "      <td>9.901065</td>\n",
       "      <td>29.983347</td>\n",
       "      <td>21</td>\n",
       "    </tr>\n",
       "    <tr>\n",
       "      <th>...</th>\n",
       "      <td>...</td>\n",
       "      <td>...</td>\n",
       "      <td>...</td>\n",
       "      <td>...</td>\n",
       "      <td>...</td>\n",
       "      <td>...</td>\n",
       "      <td>...</td>\n",
       "      <td>...</td>\n",
       "      <td>...</td>\n",
       "      <td>...</td>\n",
       "      <td>...</td>\n",
       "      <td>...</td>\n",
       "      <td>...</td>\n",
       "      <td>...</td>\n",
       "      <td>...</td>\n",
       "      <td>...</td>\n",
       "      <td>...</td>\n",
       "      <td>...</td>\n",
       "      <td>...</td>\n",
       "      <td>...</td>\n",
       "      <td>...</td>\n",
       "    </tr>\n",
       "    <tr>\n",
       "      <th>668</th>\n",
       "      <td>NSQ002</td>\n",
       "      <td>C</td>\n",
       "      <td>Nisqually Reach - Devils Head</td>\n",
       "      <td>South Basin</td>\n",
       "      <td>111.0</td>\n",
       "      <td>47.167317</td>\n",
       "      <td>-122.788190</td>\n",
       "      <td>2018-12-10</td>\n",
       "      <td>9.954</td>\n",
       "      <td>1.0</td>\n",
       "      <td>...</td>\n",
       "      <td>30.023432</td>\n",
       "      <td>10.425697</td>\n",
       "      <td>16</td>\n",
       "      <td>130</td>\n",
       "      <td>0.001168</td>\n",
       "      <td>0.107811</td>\n",
       "      <td>0.100976</td>\n",
       "      <td>10.440682</td>\n",
       "      <td>28.746672</td>\n",
       "      <td>9</td>\n",
       "    </tr>\n",
       "    <tr>\n",
       "      <th>669</th>\n",
       "      <td>NSQ002</td>\n",
       "      <td>C</td>\n",
       "      <td>Nisqually Reach - Devils Head</td>\n",
       "      <td>South Basin</td>\n",
       "      <td>111.0</td>\n",
       "      <td>47.167317</td>\n",
       "      <td>-122.788190</td>\n",
       "      <td>2018-12-10</td>\n",
       "      <td>29.753</td>\n",
       "      <td>1.0</td>\n",
       "      <td>...</td>\n",
       "      <td>30.023432</td>\n",
       "      <td>10.425697</td>\n",
       "      <td>16</td>\n",
       "      <td>130</td>\n",
       "      <td>0.001583</td>\n",
       "      <td>0.095142</td>\n",
       "      <td>0.085531</td>\n",
       "      <td>10.791705</td>\n",
       "      <td>29.177507</td>\n",
       "      <td>21</td>\n",
       "    </tr>\n",
       "    <tr>\n",
       "      <th>670</th>\n",
       "      <td>GOR001</td>\n",
       "      <td>C</td>\n",
       "      <td>Gordon Point</td>\n",
       "      <td>South Basin</td>\n",
       "      <td>114.0</td>\n",
       "      <td>47.183152</td>\n",
       "      <td>-122.634572</td>\n",
       "      <td>2018-12-10</td>\n",
       "      <td>1.015</td>\n",
       "      <td>1.0</td>\n",
       "      <td>...</td>\n",
       "      <td>30.254766</td>\n",
       "      <td>10.678081</td>\n",
       "      <td>8</td>\n",
       "      <td>155</td>\n",
       "      <td>0.002302</td>\n",
       "      <td>0.104419</td>\n",
       "      <td>0.099314</td>\n",
       "      <td>10.536727</td>\n",
       "      <td>29.025257</td>\n",
       "      <td>1</td>\n",
       "    </tr>\n",
       "    <tr>\n",
       "      <th>671</th>\n",
       "      <td>GOR001</td>\n",
       "      <td>C</td>\n",
       "      <td>Gordon Point</td>\n",
       "      <td>South Basin</td>\n",
       "      <td>114.0</td>\n",
       "      <td>47.183152</td>\n",
       "      <td>-122.634572</td>\n",
       "      <td>2018-12-10</td>\n",
       "      <td>9.664</td>\n",
       "      <td>1.0</td>\n",
       "      <td>...</td>\n",
       "      <td>30.254766</td>\n",
       "      <td>10.678081</td>\n",
       "      <td>8</td>\n",
       "      <td>155</td>\n",
       "      <td>0.002171</td>\n",
       "      <td>0.099095</td>\n",
       "      <td>0.096539</td>\n",
       "      <td>10.647862</td>\n",
       "      <td>29.108067</td>\n",
       "      <td>9</td>\n",
       "    </tr>\n",
       "    <tr>\n",
       "      <th>672</th>\n",
       "      <td>GOR001</td>\n",
       "      <td>C</td>\n",
       "      <td>Gordon Point</td>\n",
       "      <td>South Basin</td>\n",
       "      <td>114.0</td>\n",
       "      <td>47.183152</td>\n",
       "      <td>-122.634572</td>\n",
       "      <td>2018-12-10</td>\n",
       "      <td>29.547</td>\n",
       "      <td>1.0</td>\n",
       "      <td>...</td>\n",
       "      <td>30.254766</td>\n",
       "      <td>10.678081</td>\n",
       "      <td>8</td>\n",
       "      <td>155</td>\n",
       "      <td>0.002329</td>\n",
       "      <td>0.093231</td>\n",
       "      <td>0.091023</td>\n",
       "      <td>10.665268</td>\n",
       "      <td>29.223711</td>\n",
       "      <td>21</td>\n",
       "    </tr>\n",
       "  </tbody>\n",
       "</table>\n",
       "<p>673 rows × 36 columns</p>\n",
       "</div>"
      ],
      "text/plain": [
       "    Station Desig                           Descrip          Basin  \\\n",
       "0    SKG003     C  Skagit Bay - Str. Point Red Buoy  Whidbey Basin   \n",
       "1    SKG003     C  Skagit Bay - Str. Point Red Buoy  Whidbey Basin   \n",
       "2    SAR003     C     Saratoga Passage - East Point  Whidbey Basin   \n",
       "3    SAR003     C     Saratoga Passage - East Point  Whidbey Basin   \n",
       "4    SAR003     C     Saratoga Passage - East Point  Whidbey Basin   \n",
       "..      ...   ...                               ...            ...   \n",
       "668  NSQ002     C     Nisqually Reach - Devils Head    South Basin   \n",
       "669  NSQ002     C     Nisqually Reach - Devils Head    South Basin   \n",
       "670  GOR001     C                      Gordon Point    South Basin   \n",
       "671  GOR001     C                      Gordon Point    South Basin   \n",
       "672  GOR001     C                      Gordon Point    South Basin   \n",
       "\n",
       "     *Max_Depth        Lat         Lon       Date  SamplingDepth  \\\n",
       "0          25.0  48.296488 -122.489605 2018-01-10          1.358   \n",
       "1          25.0  48.296488 -122.489605 2018-01-10          9.143   \n",
       "2         123.0  48.107595 -122.491542 2018-01-10          1.462   \n",
       "3         123.0  48.107595 -122.491542 2018-01-10         11.146   \n",
       "4         123.0  48.107595 -122.491542 2018-01-10         31.057   \n",
       "..          ...        ...         ...        ...            ...   \n",
       "668       111.0  47.167317 -122.788190 2018-12-10          9.954   \n",
       "669       111.0  47.167317 -122.788190 2018-12-10         29.753   \n",
       "670       114.0  47.183152 -122.634572 2018-12-10          1.015   \n",
       "671       114.0  47.183152 -122.634572 2018-12-10          9.664   \n",
       "672       114.0  47.183152 -122.634572 2018-12-10         29.547   \n",
       "\n",
       "     CTD Cast Rep  ...         SA         CT    j    i  mod_diatoms  \\\n",
       "0             1.0  ...  21.226320   8.207603  214  311     0.003049   \n",
       "1             1.0  ...  21.226320   8.207603  214  311     0.001736   \n",
       "2             1.0  ...  24.481707   8.117859  178  288     0.002713   \n",
       "3             1.0  ...  24.481707   8.117859  178  288     0.002038   \n",
       "4             1.0  ...  24.481707   8.117859  178  288     0.001637   \n",
       "..            ...  ...        ...        ...  ...  ...          ...   \n",
       "668           1.0  ...  30.023432  10.425697   16  130     0.001168   \n",
       "669           1.0  ...  30.023432  10.425697   16  130     0.001583   \n",
       "670           1.0  ...  30.254766  10.678081    8  155     0.002302   \n",
       "671           1.0  ...  30.254766  10.678081    8  155     0.002171   \n",
       "672           1.0  ...  30.254766  10.678081    8  155     0.002329   \n",
       "\n",
       "     mod_ciliates  mod_flagellates  mod_votemper  mod_vosaline   k  \n",
       "0        0.133161         0.262520      7.637747     23.993107   1  \n",
       "1        0.072375         0.136832      9.914739     29.161905   9  \n",
       "2        0.145440         0.282199      7.267853     24.124052   1  \n",
       "3        0.113663         0.203736      9.314622     28.430378  11  \n",
       "4        0.052295         0.098624      9.901065     29.983347  21  \n",
       "..            ...              ...           ...           ...  ..  \n",
       "668      0.107811         0.100976     10.440682     28.746672   9  \n",
       "669      0.095142         0.085531     10.791705     29.177507  21  \n",
       "670      0.104419         0.099314     10.536727     29.025257   1  \n",
       "671      0.099095         0.096539     10.647862     29.108067   9  \n",
       "672      0.093231         0.091023     10.665268     29.223711  21  \n",
       "\n",
       "[673 rows x 36 columns]"
      ]
     },
     "execution_count": 27,
     "metadata": {},
     "output_type": "execute_result"
    }
   ],
   "source": [
    "data_Pheo"
   ]
  },
  {
   "cell_type": "code",
   "execution_count": null,
   "metadata": {},
   "outputs": [],
   "source": []
  }
 ],
 "metadata": {
  "kernelspec": {
   "display_name": "Python (py39)",
   "language": "python",
   "name": "py39"
  },
  "language_info": {
   "codemirror_mode": {
    "name": "ipython",
    "version": 3
   },
   "file_extension": ".py",
   "mimetype": "text/x-python",
   "name": "python",
   "nbconvert_exporter": "python",
   "pygments_lexer": "ipython3",
   "version": "3.9.1"
  }
 },
 "nbformat": 4,
 "nbformat_minor": 4
}
