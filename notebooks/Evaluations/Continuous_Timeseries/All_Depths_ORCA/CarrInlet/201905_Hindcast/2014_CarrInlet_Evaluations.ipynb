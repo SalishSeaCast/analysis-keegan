{
 "cells": [
  {
   "cell_type": "markdown",
   "id": "skilled-clothing",
   "metadata": {
    "tags": [
     "papermill-error-cell-tag"
    ]
   },
   "source": [
    "<span style=\"color:red; font-family:Helvetica Neue, Helvetica, Arial, sans-serif; font-size:2em;\">An Exception was encountered at '<a href=\"#papermill-error-cell\">In [8]</a>'.</span>"
   ]
  },
  {
   "cell_type": "markdown",
   "id": "latest-guidance",
   "metadata": {
    "papermill": {
     "duration": 0.016595,
     "end_time": "2021-04-26T21:51:31.689801",
     "exception": false,
     "start_time": "2021-04-26T21:51:31.673206",
     "status": "completed"
    },
    "tags": []
   },
   "source": [
    "This notebook contains Hovmoller plots that compare the model output over many different depths to the results from the ORCA Buoy data. "
   ]
  },
  {
   "cell_type": "code",
   "execution_count": 1,
   "id": "comfortable-store",
   "metadata": {
    "execution": {
     "iopub.execute_input": "2021-04-26T21:51:31.738031Z",
     "iopub.status.busy": "2021-04-26T21:51:31.737687Z",
     "iopub.status.idle": "2021-04-26T21:51:31.739445Z",
     "shell.execute_reply": "2021-04-26T21:51:31.739076Z"
    },
    "papermill": {
     "duration": 0.02252,
     "end_time": "2021-04-26T21:51:31.739548",
     "exception": false,
     "start_time": "2021-04-26T21:51:31.717028",
     "status": "completed"
    },
    "tags": []
   },
   "outputs": [],
   "source": [
    "import sys\n",
    "sys.path.append('/ocean/kflanaga/MEOPAR/analysis-keegan/notebooks/Tools')"
   ]
  },
  {
   "cell_type": "code",
   "execution_count": 2,
   "id": "neither-savage",
   "metadata": {
    "execution": {
     "iopub.execute_input": "2021-04-26T21:51:31.776039Z",
     "iopub.status.busy": "2021-04-26T21:51:31.775654Z",
     "iopub.status.idle": "2021-04-26T21:51:34.213729Z",
     "shell.execute_reply": "2021-04-26T21:51:34.213330Z"
    },
    "papermill": {
     "duration": 2.456126,
     "end_time": "2021-04-26T21:51:34.213828",
     "exception": false,
     "start_time": "2021-04-26T21:51:31.757702",
     "status": "completed"
    },
    "tags": []
   },
   "outputs": [],
   "source": [
    "import numpy as np\n",
    "import matplotlib.pyplot as plt\n",
    "import os\n",
    "import pandas as pd\n",
    "import netCDF4 as nc\n",
    "import xarray as xr\n",
    "import datetime as dt\n",
    "from salishsea_tools import evaltools as et, viz_tools, places\n",
    "import gsw \n",
    "import matplotlib.gridspec as gridspec\n",
    "import matplotlib as mpl\n",
    "import matplotlib.dates as mdates\n",
    "import cmocean as cmo\n",
    "import scipy.interpolate as sinterp\n",
    "import math\n",
    "from scipy import io\n",
    "import pickle\n",
    "import cmocean\n",
    "import json\n",
    "import Keegan_eval_tools as ket\n",
    "from collections import OrderedDict\n",
    "from matplotlib.colors import LogNorm\n",
    "\n",
    "fs=16\n",
    "mpl.rc('xtick', labelsize=fs)\n",
    "mpl.rc('ytick', labelsize=fs)\n",
    "mpl.rc('legend', fontsize=fs)\n",
    "mpl.rc('axes', titlesize=fs)\n",
    "mpl.rc('axes', labelsize=fs)\n",
    "mpl.rc('figure', titlesize=fs)\n",
    "mpl.rc('font', size=fs)\n",
    "mpl.rc('font', family='sans-serif', weight='normal', style='normal')\n",
    "\n",
    "import warnings\n",
    "#warnings.filterwarnings('ignore')\n",
    "from IPython.display import Markdown, display\n",
    "\n",
    "%matplotlib inline"
   ]
  },
  {
   "cell_type": "code",
   "execution_count": 3,
   "id": "surgical-internet",
   "metadata": {
    "execution": {
     "iopub.execute_input": "2021-04-26T21:51:34.243493Z",
     "iopub.status.busy": "2021-04-26T21:51:34.243115Z",
     "iopub.status.idle": "2021-04-26T21:51:34.244639Z",
     "shell.execute_reply": "2021-04-26T21:51:34.244923Z"
    },
    "papermill": {
     "duration": 0.018029,
     "end_time": "2021-04-26T21:51:34.245020",
     "exception": false,
     "start_time": "2021-04-26T21:51:34.226991",
     "status": "completed"
    },
    "tags": [
     "parameters"
    ]
   },
   "outputs": [],
   "source": [
    "ptrcloc='/ocean/kflanaga/MEOPAR/savedData/201905_ptrc_data'\n",
    "modver='HC201905' #HC202007 is the other option. \n",
    "gridloc='/ocean/kflanaga/MEOPAR/savedData/201905_grid_data'\n",
    "ORCAloc='/ocean/kflanaga/MEOPAR/savedData/ORCAData'\n",
    "year=2019\n",
    "mooring='Twanoh'"
   ]
  },
  {
   "cell_type": "code",
   "execution_count": 4,
   "id": "improved-degree",
   "metadata": {
    "execution": {
     "iopub.execute_input": "2021-04-26T21:51:34.317959Z",
     "iopub.status.busy": "2021-04-26T21:51:34.317388Z",
     "iopub.status.idle": "2021-04-26T21:51:34.319952Z",
     "shell.execute_reply": "2021-04-26T21:51:34.319406Z"
    },
    "papermill": {
     "duration": 0.061848,
     "end_time": "2021-04-26T21:51:34.320079",
     "exception": false,
     "start_time": "2021-04-26T21:51:34.258231",
     "status": "completed"
    },
    "tags": [
     "injected-parameters"
    ]
   },
   "outputs": [],
   "source": [
    "# Parameters\n",
    "year = 2014\n",
    "modver = \"HC201905\"\n",
    "mooring = \"CarrInlet\"\n",
    "ptrcloc = \"/ocean/kflanaga/MEOPAR/savedData/201905_ptrc_data\"\n",
    "gridloc = \"/ocean/kflanaga/MEOPAR/savedData/201905_grid_data\"\n",
    "ORCAloc = \"/ocean/kflanaga/MEOPAR/savedData/ORCAData\"\n"
   ]
  },
  {
   "cell_type": "code",
   "execution_count": 5,
   "id": "positive-classification",
   "metadata": {
    "execution": {
     "iopub.execute_input": "2021-04-26T21:51:34.372410Z",
     "iopub.status.busy": "2021-04-26T21:51:34.371824Z",
     "iopub.status.idle": "2021-04-26T21:51:34.961764Z",
     "shell.execute_reply": "2021-04-26T21:51:34.961406Z"
    },
    "papermill": {
     "duration": 0.620789,
     "end_time": "2021-04-26T21:51:34.961854",
     "exception": false,
     "start_time": "2021-04-26T21:51:34.341065",
     "status": "completed"
    },
    "tags": []
   },
   "outputs": [],
   "source": [
    "orca_dict=io.loadmat(f'{ORCAloc}/{mooring}.mat')"
   ]
  },
  {
   "cell_type": "code",
   "execution_count": 6,
   "id": "sealed-rocket",
   "metadata": {
    "execution": {
     "iopub.execute_input": "2021-04-26T21:51:35.000864Z",
     "iopub.status.busy": "2021-04-26T21:51:35.000342Z",
     "iopub.status.idle": "2021-04-26T21:51:35.002118Z",
     "shell.execute_reply": "2021-04-26T21:51:35.002522Z"
    },
    "papermill": {
     "duration": 0.029922,
     "end_time": "2021-04-26T21:51:35.002650",
     "exception": false,
     "start_time": "2021-04-26T21:51:34.972728",
     "status": "completed"
    },
    "tags": []
   },
   "outputs": [],
   "source": [
    "def ORCA_dd_to_dt(date_list):\n",
    "    UTC=[]\n",
    "    for yd in date_list:\n",
    "        if np.isnan(yd) == True:\n",
    "            UTC.append(float(\"NaN\"))\n",
    "        else:\n",
    "            start = dt.datetime(1999,12,31)      \n",
    "            delta = dt.timedelta(yd)     \n",
    "            offset = start + delta\n",
    "            time=offset.replace(microsecond=0)\n",
    "            UTC.append(time)\n",
    "    return UTC"
   ]
  },
  {
   "cell_type": "code",
   "execution_count": 7,
   "id": "monetary-damage",
   "metadata": {
    "execution": {
     "iopub.execute_input": "2021-04-26T21:51:35.505161Z",
     "iopub.status.busy": "2021-04-26T21:51:35.495054Z",
     "iopub.status.idle": "2021-04-26T21:51:35.521769Z",
     "shell.execute_reply": "2021-04-26T21:51:35.521494Z"
    },
    "papermill": {
     "duration": 0.50408,
     "end_time": "2021-04-26T21:51:35.521858",
     "exception": false,
     "start_time": "2021-04-26T21:51:35.017778",
     "status": "completed"
    },
    "tags": []
   },
   "outputs": [
    {
     "name": "stderr",
     "output_type": "stream",
     "text": [
      "<ipython-input-7-df801a97040c>:3: RuntimeWarning: Mean of empty slice\n",
      "  obs_tt.append(np.nanmean(orca_dict['Btime'][:,i]))\n",
      "<ipython-input-7-df801a97040c>:13: RuntimeWarning: Mean of empty slice\n",
      "  obs_dep.append(np.nanmean(i))\n"
     ]
    }
   ],
   "source": [
    "obs_tt=[]\n",
    "for i in range(len(orca_dict['Btime'][1])):\n",
    "    obs_tt.append(np.nanmean(orca_dict['Btime'][:,i]))\n",
    "#I should also change this obs_tt thing I have here into datetimes    \n",
    "YD_rounded=[]\n",
    "for yd in obs_tt:\n",
    "    if np.isnan(yd) == True:\n",
    "        YD_rounded.append(float(\"NaN\"))\n",
    "    else:\n",
    "        YD_rounded.append(math.floor(yd))\n",
    "obs_dep=[]\n",
    "for i in orca_dict['Bdepth']:\n",
    "    obs_dep.append(np.nanmean(i))"
   ]
  },
  {
   "cell_type": "markdown",
   "id": "accredited-belgium",
   "metadata": {
    "tags": [
     "papermill-error-cell-tag"
    ]
   },
   "source": [
    "<span id=\"papermill-error-cell\" style=\"color:red; font-family:Helvetica Neue, Helvetica, Arial, sans-serif; font-size:2em;\">Execution using papermill encountered an exception here and stopped:</span>"
   ]
  },
  {
   "cell_type": "code",
   "execution_count": 8,
   "id": "adequate-pointer",
   "metadata": {
    "execution": {
     "iopub.execute_input": "2021-04-26T21:51:35.563684Z",
     "iopub.status.busy": "2021-04-26T21:51:35.563299Z",
     "iopub.status.idle": "2021-04-26T21:51:35.736574Z",
     "shell.execute_reply": "2021-04-26T21:51:35.735736Z"
    },
    "papermill": {
     "duration": 0.190569,
     "end_time": "2021-04-26T21:51:35.736727",
     "exception": true,
     "start_time": "2021-04-26T21:51:35.546158",
     "status": "failed"
    },
    "tags": []
   },
   "outputs": [
    {
     "ename": "OSError",
     "evalue": "no files to open",
     "output_type": "error",
     "traceback": [
      "\u001b[0;31m---------------------------------------------------------------------------\u001b[0m",
      "\u001b[0;31mOSError\u001b[0m                                   Traceback (most recent call last)",
      "\u001b[0;32m<ipython-input-8-01fe656fa751>\u001b[0m in \u001b[0;36m<module>\u001b[0;34m\u001b[0m\n\u001b[0;32m----> 1\u001b[0;31m \u001b[0mgrid\u001b[0m\u001b[0;34m=\u001b[0m\u001b[0mxr\u001b[0m\u001b[0;34m.\u001b[0m\u001b[0mopen_mfdataset\u001b[0m\u001b[0;34m(\u001b[0m\u001b[0mgridloc\u001b[0m\u001b[0;34m+\u001b[0m\u001b[0;34mf'/ts_{modver}_{year}_{mooring}.nc'\u001b[0m\u001b[0;34m)\u001b[0m\u001b[0;34m\u001b[0m\u001b[0;34m\u001b[0m\u001b[0m\n\u001b[0m",
      "\u001b[0;32m~/miniconda3/envs/py39/lib/python3.9/site-packages/xarray/backends/api.py\u001b[0m in \u001b[0;36mopen_mfdataset\u001b[0;34m(paths, chunks, concat_dim, compat, preprocess, engine, lock, data_vars, coords, combine, autoclose, parallel, join, attrs_file, **kwargs)\u001b[0m\n\u001b[1;32m    919\u001b[0m \u001b[0;34m\u001b[0m\u001b[0m\n\u001b[1;32m    920\u001b[0m     \u001b[0;32mif\u001b[0m \u001b[0;32mnot\u001b[0m \u001b[0mpaths\u001b[0m\u001b[0;34m:\u001b[0m\u001b[0;34m\u001b[0m\u001b[0;34m\u001b[0m\u001b[0m\n\u001b[0;32m--> 921\u001b[0;31m         \u001b[0;32mraise\u001b[0m \u001b[0mOSError\u001b[0m\u001b[0;34m(\u001b[0m\u001b[0;34m\"no files to open\"\u001b[0m\u001b[0;34m)\u001b[0m\u001b[0;34m\u001b[0m\u001b[0;34m\u001b[0m\u001b[0m\n\u001b[0m\u001b[1;32m    922\u001b[0m \u001b[0;34m\u001b[0m\u001b[0m\n\u001b[1;32m    923\u001b[0m     \u001b[0;31m# If combine='by_coords' then this is unnecessary, but quick.\u001b[0m\u001b[0;34m\u001b[0m\u001b[0;34m\u001b[0m\u001b[0;34m\u001b[0m\u001b[0m\n",
      "\u001b[0;31mOSError\u001b[0m: no files to open"
     ]
    }
   ],
   "source": [
    "grid=xr.open_mfdataset(gridloc+f'/ts_{modver}_{year}_{mooring}.nc')"
   ]
  },
  {
   "cell_type": "code",
   "execution_count": null,
   "id": "floating-enlargement",
   "metadata": {
    "papermill": {
     "duration": null,
     "end_time": null,
     "exception": null,
     "start_time": null,
     "status": "pending"
    },
    "tags": []
   },
   "outputs": [],
   "source": [
    "tt=np.array(grid.time_counter)\n",
    "mod_depth=np.array(grid.deptht)\n",
    "mod_votemper=(grid.votemper.isel(y=0,x=0))\n",
    "mod_vosaline=(grid.vosaline.isel(y=0,x=0))\n",
    "\n",
    "mod_votemper = (np.array(mod_votemper))\n",
    "mod_votemper = np.ma.masked_equal(mod_votemper,0).T\n",
    "mod_vosaline = (np.array(mod_vosaline))\n",
    "mod_vosaline = np.ma.masked_equal(mod_vosaline,0).T"
   ]
  },
  {
   "cell_type": "code",
   "execution_count": null,
   "id": "differential-savage",
   "metadata": {
    "papermill": {
     "duration": null,
     "end_time": null,
     "exception": null,
     "start_time": null,
     "status": "pending"
    },
    "tags": []
   },
   "outputs": [],
   "source": [
    "def Process_ORCA(orca_var,depths,dates,year):\n",
    "    # Transpose the columns so that a yearday column can be added. \n",
    "    df_1=pd.DataFrame(orca_var).transpose()\n",
    "    df_YD=pd.DataFrame(dates,columns=['yearday'])\n",
    "    df_1=pd.concat((df_1,df_YD),axis=1)\n",
    "    #Group by yearday so that you can take the daily mean values. \n",
    "    dfg=df_1.groupby(by='yearday')\n",
    "    df_mean=dfg.mean()\n",
    "    df_mean=df_mean.reset_index()\n",
    "    # Convert the yeardays to datetime UTC\n",
    "    UTC=ORCA_dd_to_dt(df_mean['yearday'])\n",
    "    df_mean['yearday']=UTC\n",
    "    # Select the range of dates that you would like. \n",
    "    df_year=df_mean[(df_mean.yearday >= dt.datetime(year,1,1))&(df_mean.yearday <= dt.datetime(year,12,31))]\n",
    "    df_year=df_year.set_index('yearday')\n",
    "    #Add in any missing date values \n",
    "    idx=pd.date_range(df_year.index[0],df_year.index[-1])\n",
    "    df_full=df_year.reindex(idx,fill_value=-1)\n",
    "    #Transpose again so that you can add a depth column. \n",
    "    df_full=df_full.transpose()\n",
    "    df_full['depth']=obs_dep\n",
    "    # Remove any rows that have NA values for depth. \n",
    "    df_full=df_full.dropna(how='all',subset=['depth'])\n",
    "    df_full=df_full.set_index('depth')\n",
    "    #Mask any NA values and any negative values. \n",
    "    df_final=np.ma.masked_invalid(np.array(df_full))\n",
    "    df_final=np.ma.masked_less(df_final,0)\n",
    "    return df_final, df_full.index, df_full.columns"
   ]
  },
  {
   "cell_type": "markdown",
   "id": "burning-meeting",
   "metadata": {
    "papermill": {
     "duration": null,
     "end_time": null,
     "exception": null,
     "start_time": null,
     "status": "pending"
    },
    "tags": []
   },
   "source": [
    "## Map of Buoy Location."
   ]
  },
  {
   "cell_type": "code",
   "execution_count": null,
   "id": "silver-clearance",
   "metadata": {
    "papermill": {
     "duration": null,
     "end_time": null,
     "exception": null,
     "start_time": null,
     "status": "pending"
    },
    "tags": []
   },
   "outputs": [],
   "source": [
    "lon,lat=places.PLACES[mooring]['lon lat']\n",
    "\n",
    "fig, ax = plt.subplots(1,1,figsize = (6,6))\n",
    "with nc.Dataset('/data/vdo/MEOPAR/NEMO-forcing/grid/bathymetry_201702.nc') as bathy:\n",
    "    viz_tools.plot_coastline(ax, bathy, coords = 'map',isobath=.1)\n",
    "color=('firebrick')\n",
    "ax.plot(lon, lat,'o',color = 'firebrick', label=mooring)\n",
    "ax.set_ylim(47, 49)\n",
    "ax.legend(bbox_to_anchor=[1,.6,0.45,0])\n",
    "ax.set_xlim(-124, -122);\n",
    "ax.set_title('Buoy Location');"
   ]
  },
  {
   "cell_type": "markdown",
   "id": "handed-branch",
   "metadata": {
    "papermill": {
     "duration": null,
     "end_time": null,
     "exception": null,
     "start_time": null,
     "status": "pending"
    },
    "tags": []
   },
   "source": [
    "## Temperature"
   ]
  },
  {
   "cell_type": "code",
   "execution_count": null,
   "id": "acoustic-boating",
   "metadata": {
    "papermill": {
     "duration": null,
     "end_time": null,
     "exception": null,
     "start_time": null,
     "status": "pending"
    },
    "tags": []
   },
   "outputs": [],
   "source": [
    "df,dep,tim= Process_ORCA(orca_dict['Btemp'],obs_dep,YD_rounded,year)\n",
    "date_range=(dt.datetime(year,1,1),dt.datetime(year,12,31))"
   ]
  },
  {
   "cell_type": "code",
   "execution_count": null,
   "id": "beginning-recycling",
   "metadata": {
    "papermill": {
     "duration": null,
     "end_time": null,
     "exception": null,
     "start_time": null,
     "status": "pending"
    },
    "tags": []
   },
   "outputs": [],
   "source": [
    "ax=ket.hovmoeller(df,dep,tim,(2,15),date_range,title='Observed Temperature Series',\n",
    "                  var_title='Temperature (C$^0$)',vmax=23,vmin=8,cmap=cmo.cm.thermal)\n",
    "\n",
    "ax=ket.hovmoeller(mod_votemper, mod_depth, tt, (2,15),date_range, title='Modeled Temperature Series',\n",
    "               var_title='Temperature (C$^0$)',vmax=23,vmin=8,cmap=cmo.cm.thermal)"
   ]
  },
  {
   "cell_type": "markdown",
   "id": "confidential-queens",
   "metadata": {
    "papermill": {
     "duration": null,
     "end_time": null,
     "exception": null,
     "start_time": null,
     "status": "pending"
    },
    "tags": []
   },
   "source": [
    "# Salinity"
   ]
  },
  {
   "cell_type": "code",
   "execution_count": null,
   "id": "muslim-exemption",
   "metadata": {
    "papermill": {
     "duration": null,
     "end_time": null,
     "exception": null,
     "start_time": null,
     "status": "pending"
    },
    "tags": []
   },
   "outputs": [],
   "source": [
    "df,dep,tim= Process_ORCA(orca_dict['Bsal'],obs_dep,YD_rounded,year)"
   ]
  },
  {
   "cell_type": "code",
   "execution_count": null,
   "id": "urban-tract",
   "metadata": {
    "papermill": {
     "duration": null,
     "end_time": null,
     "exception": null,
     "start_time": null,
     "status": "pending"
    },
    "tags": []
   },
   "outputs": [],
   "source": [
    "ax=ket.hovmoeller(df,dep,tim,(2,15),date_range,title='Observed Absolute Salinity Series',\n",
    "               var_title='SA (g/kg)',vmax=31,vmin=14,cmap=cmo.cm.haline)\n",
    "\n",
    "ax=ket.hovmoeller(mod_vosaline, mod_depth, tt, (2,15),date_range,title='Modeled Absolute Salinity Series',\n",
    "               var_title='SA (g/kg)',vmax=31,vmin=14,cmap=cmo.cm.haline)"
   ]
  },
  {
   "cell_type": "code",
   "execution_count": null,
   "id": "informational-prospect",
   "metadata": {
    "papermill": {
     "duration": null,
     "end_time": null,
     "exception": null,
     "start_time": null,
     "status": "pending"
    },
    "tags": []
   },
   "outputs": [],
   "source": [
    "grid.close()"
   ]
  },
  {
   "cell_type": "code",
   "execution_count": null,
   "id": "incomplete-little",
   "metadata": {
    "papermill": {
     "duration": null,
     "end_time": null,
     "exception": null,
     "start_time": null,
     "status": "pending"
    },
    "tags": []
   },
   "outputs": [],
   "source": [
    "bio=xr.open_mfdataset(ptrcloc+f'/ts_{modver}_{year}_{mooring}.nc')"
   ]
  },
  {
   "cell_type": "code",
   "execution_count": null,
   "id": "reasonable-teens",
   "metadata": {
    "papermill": {
     "duration": null,
     "end_time": null,
     "exception": null,
     "start_time": null,
     "status": "pending"
    },
    "tags": []
   },
   "outputs": [],
   "source": [
    "tt=np.array(bio.time_counter)\n",
    "mod_depth=np.array(bio.deptht)\n",
    "mod_flagellatets=(bio.flagellates.isel(y=0,x=0))\n",
    "mod_ciliates=(bio.ciliates.isel(y=0,x=0))\n",
    "mod_diatoms=(bio.diatoms.isel(y=0,x=0))\n",
    "\n",
    "mod_Chl = np.array((mod_flagellatets+mod_ciliates+mod_diatoms)*1.8)\n",
    "mod_Chl = np.ma.masked_equal(mod_Chl,0).T"
   ]
  },
  {
   "cell_type": "code",
   "execution_count": null,
   "id": "spatial-cigarette",
   "metadata": {
    "papermill": {
     "duration": null,
     "end_time": null,
     "exception": null,
     "start_time": null,
     "status": "pending"
    },
    "tags": []
   },
   "outputs": [],
   "source": [
    "df,dep,tim= Process_ORCA(orca_dict['Bfluor'],obs_dep,YD_rounded,year)"
   ]
  },
  {
   "cell_type": "code",
   "execution_count": null,
   "id": "immediate-establishment",
   "metadata": {
    "papermill": {
     "duration": null,
     "end_time": null,
     "exception": null,
     "start_time": null,
     "status": "pending"
    },
    "tags": []
   },
   "outputs": [],
   "source": [
    "ax=ket.hovmoeller(df,dep,tim,(2,15),date_range,title='Observed Chlorophyll Series',\n",
    "               var_title='Chlorophyll (mg Chl/m$^3$)',vmin=0,vmax=30,cmap=cmo.cm.algae)\n",
    "\n",
    "ax=ket.hovmoeller(mod_Chl, mod_depth, tt, (2,15),date_range,title='Modeled Chlorophyll Series',\n",
    "               var_title='Chlorophyll (mg Chl/m$^3$)',vmin=0,vmax=30,cmap=cmo.cm.algae)"
   ]
  },
  {
   "cell_type": "code",
   "execution_count": null,
   "id": "sixth-credits",
   "metadata": {
    "papermill": {
     "duration": null,
     "end_time": null,
     "exception": null,
     "start_time": null,
     "status": "pending"
    },
    "tags": []
   },
   "outputs": [],
   "source": [
    "bio.close()"
   ]
  },
  {
   "cell_type": "code",
   "execution_count": null,
   "id": "persistent-brass",
   "metadata": {
    "papermill": {
     "duration": null,
     "end_time": null,
     "exception": null,
     "start_time": null,
     "status": "pending"
    },
    "tags": []
   },
   "outputs": [],
   "source": []
  }
 ],
 "metadata": {
  "kernelspec": {
   "display_name": "Python (py39)",
   "language": "python",
   "name": "py39"
  },
  "language_info": {
   "codemirror_mode": {
    "name": "ipython",
    "version": 3
   },
   "file_extension": ".py",
   "mimetype": "text/x-python",
   "name": "python",
   "nbconvert_exporter": "python",
   "pygments_lexer": "ipython3",
   "version": "3.9.1"
  },
  "papermill": {
   "default_parameters": {},
   "duration": 5.732893,
   "end_time": "2021-04-26T21:51:36.240418",
   "environment_variables": {},
   "exception": true,
   "input_path": "Base_All_Depths.ipynb",
   "output_path": "CarrInlet/201905_Hindcast/2014_CarrInlet_Evaluations.ipynb",
   "parameters": {
    "ORCAloc": "/ocean/kflanaga/MEOPAR/savedData/ORCAData",
    "gridloc": "/ocean/kflanaga/MEOPAR/savedData/201905_grid_data",
    "modver": "HC201905",
    "mooring": "CarrInlet",
    "ptrcloc": "/ocean/kflanaga/MEOPAR/savedData/201905_ptrc_data",
    "year": 2014
   },
   "start_time": "2021-04-26T21:51:30.507525",
   "version": "2.3.0"
  }
 },
 "nbformat": 4,
 "nbformat_minor": 5
}