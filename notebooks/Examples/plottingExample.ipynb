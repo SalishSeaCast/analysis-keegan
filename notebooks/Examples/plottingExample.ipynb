{
 "cells": [
  {
   "cell_type": "code",
   "execution_count": 1,
   "metadata": {},
   "outputs": [],
   "source": [
    "import numpy as np\n",
    "import matplotlib.pyplot as plt\n",
    "import netCDF4 as nc \n",
    "import datetime as dt\n",
    "import os\n",
    "import glob\n",
    "import cmocean\n",
    "from salishsea_tools import viz_tools, places, visualisations\n",
    "\n",
    "%matplotlib inline"
   ]
  },
  {
   "cell_type": "code",
   "execution_count": 2,
   "metadata": {},
   "outputs": [
    {
     "name": "stdout",
     "output_type": "stream",
     "text": [
      "x: [0 1 2 3 4 5 6 7 8 9]\n",
      "y: [4 5 6 7]\n",
      "last element: 9\n",
      "all of x: [0 1 2 3 4 5 6 7 8 9]\n"
     ]
    }
   ],
   "source": [
    "x=np.arange(0,10)\n",
    "print('x:',x)\n",
    "y=x[4:8]\n",
    "print('y:',y)\n",
    "print('last element:', x[-1])\n",
    "print('all of x:',x[:])"
   ]
  },
  {
   "cell_type": "code",
   "execution_count": 3,
   "metadata": {},
   "outputs": [
    {
     "data": {
      "text/plain": [
       "{'lon lat': (-123.558, 49.125),\n",
       " 'NEMO grid ji': (450, 258),\n",
       " 'GEM2.5 grid ji': (138, 144)}"
      ]
     },
     "execution_count": 3,
     "metadata": {},
     "output_type": "execute_result"
    }
   ],
   "source": [
    "places.PLACES['S3']"
   ]
  },
  {
   "cell_type": "markdown",
   "metadata": {},
   "source": [
    "### Load a file from the 201812 hindcast"
   ]
  },
  {
   "cell_type": "code",
   "execution_count": 4,
   "metadata": {},
   "outputs": [],
   "source": [
    "f=nc.Dataset('/results/SalishSea/nowcast-green.201812/01apr15/SalishSea_1h_20150401_20150401_ptrc_T.nc')"
   ]
  },
  {
   "cell_type": "code",
   "execution_count": 5,
   "metadata": {},
   "outputs": [
    {
     "name": "stdout",
     "output_type": "stream",
     "text": [
      "dict_keys(['nav_lat', 'nav_lon', 'bounds_lon', 'bounds_lat', 'area', 'deptht', 'deptht_bounds', 'nitrate', 'time_centered', 'time_centered_bounds', 'time_counter', 'time_counter_bounds', 'ammonium', 'silicon', 'diatoms', 'flagellates', 'ciliates', 'microzooplankton', 'dissolved_organic_nitrogen', 'particulate_organic_nitrogen', 'biogenic_silicon', 'mesozooplankton'])\n"
     ]
    }
   ],
   "source": [
    "print(f.variables.keys())"
   ]
  },
  {
   "cell_type": "code",
   "execution_count": 6,
   "metadata": {},
   "outputs": [],
   "source": [
    "fe3t=nc.Dataset('/results/SalishSea/nowcast-green.201812/01apr15/SalishSea_1h_20150401_20150401_carp_T.nc')"
   ]
  },
  {
   "cell_type": "code",
   "execution_count": 7,
   "metadata": {},
   "outputs": [
    {
     "name": "stdout",
     "output_type": "stream",
     "text": [
      "dict_keys(['nav_lat', 'nav_lon', 'bounds_lon', 'bounds_lat', 'area', 'deptht', 'deptht_bounds', 'PAR', 'time_centered', 'time_centered_bounds', 'time_counter', 'time_counter_bounds', 'sigma_theta', 'e3t', 'dissolved_inorganic_carbon', 'total_alkalinity', 'dissolved_oxygen'])\n"
     ]
    }
   ],
   "source": [
    "print(fe3t.variables.keys())"
   ]
  },
  {
   "cell_type": "code",
   "execution_count": 8,
   "metadata": {},
   "outputs": [
    {
     "data": {
      "text/plain": [
       "<class 'netCDF4._netCDF4.Variable'>\n",
       "float64 time_centered(time_counter)\n",
       "    standard_name: time\n",
       "    long_name: Time axis\n",
       "    calendar: gregorian\n",
       "    units: seconds since 1900-01-01 00:00:00\n",
       "    time_origin: 1900-01-01 00:00:00\n",
       "    bounds: time_centered_bounds\n",
       "unlimited dimensions: time_counter\n",
       "current shape = (24,)\n",
       "filling on, default _FillValue of 9.969209968386869e+36 used"
      ]
     },
     "execution_count": 8,
     "metadata": {},
     "output_type": "execute_result"
    }
   ],
   "source": [
    "fe3t.variables['time_centered']"
   ]
  },
  {
   "cell_type": "code",
   "execution_count": 9,
   "metadata": {},
   "outputs": [],
   "source": [
    "# return times as datetime objects:\n",
    "torig=dt.datetime.strptime(f.variables['time_centered'].time_origin,'%Y-%m-%d %H:%M:%S')"
   ]
  },
  {
   "cell_type": "code",
   "execution_count": 10,
   "metadata": {},
   "outputs": [
    {
     "data": {
      "text/plain": [
       "datetime.datetime(1900, 1, 1, 0, 0)"
      ]
     },
     "execution_count": 10,
     "metadata": {},
     "output_type": "execute_result"
    }
   ],
   "source": [
    "torig"
   ]
  },
  {
   "cell_type": "code",
   "execution_count": 11,
   "metadata": {},
   "outputs": [
    {
     "data": {
      "text/plain": [
       "masked_array(data=[3.6368370e+09, 3.6368406e+09, 3.6368442e+09,\n",
       "                   3.6368478e+09, 3.6368514e+09, 3.6368550e+09,\n",
       "                   3.6368586e+09, 3.6368622e+09, 3.6368658e+09,\n",
       "                   3.6368694e+09, 3.6368730e+09, 3.6368766e+09,\n",
       "                   3.6368802e+09, 3.6368838e+09, 3.6368874e+09,\n",
       "                   3.6368910e+09, 3.6368946e+09, 3.6368982e+09,\n",
       "                   3.6369018e+09, 3.6369054e+09, 3.6369090e+09,\n",
       "                   3.6369126e+09, 3.6369162e+09, 3.6369198e+09],\n",
       "             mask=False,\n",
       "       fill_value=1e+20)"
      ]
     },
     "execution_count": 11,
     "metadata": {},
     "output_type": "execute_result"
    }
   ],
   "source": [
    "f.variables['time_centered'][:]"
   ]
  },
  {
   "cell_type": "code",
   "execution_count": 12,
   "metadata": {},
   "outputs": [],
   "source": [
    "times=np.array([torig+dt.timedelta(seconds=ii) for ii in \\\n",
    "               f.variables['time_centered'][:]])"
   ]
  },
  {
   "cell_type": "code",
   "execution_count": 13,
   "metadata": {},
   "outputs": [
    {
     "data": {
      "text/plain": [
       "array([datetime.datetime(2015, 4, 1, 0, 30),\n",
       "       datetime.datetime(2015, 4, 1, 1, 30),\n",
       "       datetime.datetime(2015, 4, 1, 2, 30),\n",
       "       datetime.datetime(2015, 4, 1, 3, 30),\n",
       "       datetime.datetime(2015, 4, 1, 4, 30),\n",
       "       datetime.datetime(2015, 4, 1, 5, 30),\n",
       "       datetime.datetime(2015, 4, 1, 6, 30),\n",
       "       datetime.datetime(2015, 4, 1, 7, 30),\n",
       "       datetime.datetime(2015, 4, 1, 8, 30),\n",
       "       datetime.datetime(2015, 4, 1, 9, 30),\n",
       "       datetime.datetime(2015, 4, 1, 10, 30),\n",
       "       datetime.datetime(2015, 4, 1, 11, 30),\n",
       "       datetime.datetime(2015, 4, 1, 12, 30),\n",
       "       datetime.datetime(2015, 4, 1, 13, 30),\n",
       "       datetime.datetime(2015, 4, 1, 14, 30),\n",
       "       datetime.datetime(2015, 4, 1, 15, 30),\n",
       "       datetime.datetime(2015, 4, 1, 16, 30),\n",
       "       datetime.datetime(2015, 4, 1, 17, 30),\n",
       "       datetime.datetime(2015, 4, 1, 18, 30),\n",
       "       datetime.datetime(2015, 4, 1, 19, 30),\n",
       "       datetime.datetime(2015, 4, 1, 20, 30),\n",
       "       datetime.datetime(2015, 4, 1, 21, 30),\n",
       "       datetime.datetime(2015, 4, 1, 22, 30),\n",
       "       datetime.datetime(2015, 4, 1, 23, 30)], dtype=object)"
      ]
     },
     "execution_count": 13,
     "metadata": {},
     "output_type": "execute_result"
    }
   ],
   "source": [
    "times"
   ]
  },
  {
   "cell_type": "code",
   "execution_count": 14,
   "metadata": {},
   "outputs": [
    {
     "name": "stdout",
     "output_type": "stream",
     "text": [
      "dict_keys(['nav_lon', 'nav_lat', 'time_counter', 'tmask', 'umask', 'vmask', 'fmask', 'tmaskutil', 'umaskutil', 'vmaskutil', 'fmaskutil', 'glamt', 'glamu', 'glamv', 'glamf', 'gphit', 'gphiu', 'gphiv', 'gphif', 'e1t', 'e1u', 'e1v', 'e1f', 'e2t', 'e2u', 'e2v', 'e2f', 'ff', 'mbathy', 'misf', 'isfdraft', 'e3t_0', 'e3u_0', 'e3v_0', 'e3w_0', 'gdept_0', 'gdepu', 'gdepv', 'gdepw_0', 'gdept_1d', 'gdepw_1d', 'e3t_1d', 'e3w_1d'])\n"
     ]
    }
   ],
   "source": [
    "# load model mesh\n",
    "with nc.Dataset('/data/eolson/results/MEOPAR/NEMO-forcing-new/grid/mesh_mask201702.nc') as fm:\n",
    "    print(fm.variables.keys())\n",
    "    tmask=fm.variables['tmask'][:,:,:,:]\n",
    "    navlon=fm.variables['nav_lon'][:,:]\n",
    "    navlat=fm.variables['nav_lat'][:,:]"
   ]
  },
  {
   "cell_type": "markdown",
   "metadata": {},
   "source": [
    "### Dept Profile"
   ]
  },
  {
   "cell_type": "code",
   "execution_count": 17,
   "metadata": {},
   "outputs": [
    {
     "data": {
      "text/plain": [
       "Text(0.5, 0, 'Concentration ($\\\\mu$M)')"
      ]
     },
     "execution_count": 17,
     "metadata": {},
     "output_type": "execute_result"
    },
    {
     "data": {
      "image/png": "[encoded data removed]",
      "text/plain": [
       "<Figure size 432x432 with 2 Axes>"
      ]
     },
     "metadata": {
      "needs_background": "light"
     },
     "output_type": "display_data"
    }
   ],
   "source": [
    "fig,ax=plt.subplots(1,2,figsize=(6,6))\n",
    "fig.subplots_adjust(wspace=.5) # space the axes out more\n",
    "il=12\n",
    "# use location 'S3'\n",
    "ij,ii=places.PLACES['S3']['NEMO grid ji']\n",
    "ax[0].plot(np.ma.masked_where(tmask[0,:,ij,ii]==0,\n",
    "                             f.variables['microzooplankton'][il,:,ij,ii]),\n",
    "          f.variables['deptht'][:],'b-x',label='microzo')\n",
    "ax[0].plot(np.ma.masked_where(tmask[0,:,ij,ii]==0,f.variables['diatoms'][il,:,ij,ii]),f.variables['deptht'][:],'g-x',label='diatoms')\n",
    "ax[0].set_ylim(300,0)\n",
    "ax[0].legend()\n",
    "ax[0].set_xlabel('Concentration ($\\mu$M)')\n",
    "ax[0].set_ylabel('Depth (m)')\n",
    "ax[1].plot(np.ma.masked_where(tmask[0,:,ij,ii]==0,f.variables['nitrate'][il,:,ij,ii]),f.variables['deptht'][:],'-x',color='orange',label='NO$_3$')\n",
    "ax[1].plot(np.ma.masked_where(tmask[0,:,ij,ii]==0,f.variables['silicon'][il,:,ij,ii]),f.variables['deptht'][:],'-x',color='r',label='dissolved Si')\n",
    "ax[1].set_ylim(300,0)\n",
    "ax[1].set_ylabel('Depth (m)')\n",
    "ax[1].legend()\n",
    "ax[1].set_xlabel('Concentration ($\\mu$M)')"
   ]
  },
  {
   "cell_type": "code",
   "execution_count": null,
   "metadata": {},
   "outputs": [],
   "source": []
  }
 ],
 "metadata": {
  "kernelspec": {
   "display_name": "Python (py39)",
   "language": "python",
   "name": "py39"
  },
  "language_info": {
   "codemirror_mode": {
    "name": "ipython",
    "version": 3
   },
   "file_extension": ".py",
   "mimetype": "text/x-python",
   "name": "python",
   "nbconvert_exporter": "python",
   "pygments_lexer": "ipython3",
   "version": "3.8.5"
  }
 },
 "nbformat": 4,
 "nbformat_minor": 4
}
