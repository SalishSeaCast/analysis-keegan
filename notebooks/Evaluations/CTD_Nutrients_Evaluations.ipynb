{
 "cells": [
  {
   "cell_type": "markdown",
   "metadata": {},
   "source": [
    "This script contains a variety of scatter plots in order to show the correlation between model data and observational and how environmental variables can effect the error of the model data. It also contains many tables which list the bias, root mean square error, and Wilmot skill score of model-observational comparisons of various variables. "
   ]
  },
  {
   "cell_type": "code",
   "execution_count": 1,
   "metadata": {},
   "outputs": [],
   "source": [
    "import numpy as np\n",
    "import matplotlib.pyplot as plt\n",
    "import os\n",
    "import pandas as pd\n",
    "import netCDF4 as nc\n",
    "import datetime as dt\n",
    "from salishsea_tools import evaltools as et, viz_tools\n",
    "import gsw \n",
    "import matplotlib.gridspec as gridspec\n",
    "import matplotlib as mpl\n",
    "import matplotlib.dates as mdates\n",
    "import cmocean as cmo\n",
    "import scipy.interpolate as sinterp\n",
    "import pickle\n",
    "import cmocean\n",
    "import json\n",
    "import f90nml\n",
    "from collections import OrderedDict\n",
    "\n",
    "fs=16\n",
    "mpl.rc('xtick', labelsize=fs)\n",
    "mpl.rc('ytick', labelsize=fs)\n",
    "mpl.rc('legend', fontsize=fs)\n",
    "mpl.rc('axes', titlesize=fs)\n",
    "mpl.rc('axes', labelsize=fs)\n",
    "mpl.rc('figure', titlesize=fs)\n",
    "mpl.rc('font', size=fs)\n",
    "mpl.rc('font', family='sans-serif', weight='normal', style='normal')\n",
    "\n",
    "import warnings\n",
    "#warnings.filterwarnings('ignore')\n",
    "from IPython.display import Markdown, display\n",
    "\n",
    "%matplotlib inline"
   ]
  },
  {
   "cell_type": "raw",
   "metadata": {},
   "source": [
    "from IPython.display import HTML\n",
    "\n",
    "HTML('''<script>\n",
    "code_show=true; \n",
    "function code_toggle() {\n",
    " if (code_show){\n",
    " $('div.input').hide();\n",
    " } else {\n",
    " $('div.input').show();\n",
    " }\n",
    " code_show = !code_show\n",
    "} \n",
    "$( document ).ready(code_toggle);\n",
    "</script>\n",
    "\n",
    "<form action=\"javascript:code_toggle()\"><input type=\"submit\" value=\"Click here to toggle on/off the raw code.\"></form>''')\n"
   ]
  },
  {
   "cell_type": "code",
   "execution_count": 2,
   "metadata": {},
   "outputs": [],
   "source": [
    "year=2009\n",
    "PATH= '/results2/SalishSea/nowcast-green.201905/'\n",
    "datadir='/ocean/eolson/MEOPAR/obs/WADE/ptools_data/ecology'"
   ]
  },
  {
   "cell_type": "code",
   "execution_count": 3,
   "metadata": {},
   "outputs": [
    {
     "data": {
      "text/markdown": [
       "## Year: 2009"
      ],
      "text/plain": [
       "<IPython.core.display.Markdown object>"
      ]
     },
     "metadata": {},
     "output_type": "display_data"
    }
   ],
   "source": [
    "display(Markdown('''## Year: '''+ str(year)))"
   ]
  },
  {
   "cell_type": "code",
   "execution_count": 4,
   "metadata": {},
   "outputs": [
    {
     "data": {
      "text/markdown": [
       "### Model output: /results2/SalishSea/nowcast-green.201905/"
      ],
      "text/plain": [
       "<IPython.core.display.Markdown object>"
      ]
     },
     "metadata": {},
     "output_type": "display_data"
    }
   ],
   "source": [
    "display(Markdown('''### Model output: '''+ PATH))"
   ]
  },
  {
   "cell_type": "markdown",
   "metadata": {},
   "source": [
    "## Yearly model-data comparisons of nutrients, chlorophyll, temperature and salinity between 201905 runs and WADE observations"
   ]
  },
  {
   "cell_type": "markdown",
   "metadata": {},
   "source": [
    "### load observations"
   ]
  },
  {
   "cell_type": "code",
   "execution_count": 5,
   "metadata": {},
   "outputs": [],
   "source": [
    "dfSta=pickle.load(open(os.path.join(datadir,'sta_df.p'),'rb'))"
   ]
  },
  {
   "cell_type": "code",
   "execution_count": 6,
   "metadata": {},
   "outputs": [
    {
     "data": {
      "text/html": [
       "<div>\n",
       "<style scoped>\n",
       "    .dataframe tbody tr th:only-of-type {\n",
       "        vertical-align: middle;\n",
       "    }\n",
       "\n",
       "    .dataframe tbody tr th {\n",
       "        vertical-align: top;\n",
       "    }\n",
       "\n",
       "    .dataframe thead th {\n",
       "        text-align: right;\n",
       "    }\n",
       "</style>\n",
       "<table border=\"1\" class=\"dataframe\">\n",
       "  <thead>\n",
       "    <tr style=\"text-align: right;\">\n",
       "      <th></th>\n",
       "      <th>Desig</th>\n",
       "      <th>Descrip</th>\n",
       "      <th>Basin</th>\n",
       "      <th>Max_Depth</th>\n",
       "      <th>Latitude</th>\n",
       "      <th>Longitude</th>\n",
       "    </tr>\n",
       "    <tr>\n",
       "      <th>Station</th>\n",
       "      <th></th>\n",
       "      <th></th>\n",
       "      <th></th>\n",
       "      <th></th>\n",
       "      <th></th>\n",
       "      <th></th>\n",
       "    </tr>\n",
       "  </thead>\n",
       "  <tbody>\n",
       "    <tr>\n",
       "      <th>ADM001</th>\n",
       "      <td>C</td>\n",
       "      <td>Admiralty Inlet - Bush Pt.</td>\n",
       "      <td>Admiralty Inlet</td>\n",
       "      <td>114</td>\n",
       "      <td>48.029813</td>\n",
       "      <td>-122.617933</td>\n",
       "    </tr>\n",
       "    <tr>\n",
       "      <th>ADM002</th>\n",
       "      <td>C</td>\n",
       "      <td>Admiralty Inlet (north) - Quimper Pn.</td>\n",
       "      <td>Admiralty Inlet</td>\n",
       "      <td>79</td>\n",
       "      <td>48.187318</td>\n",
       "      <td>-122.842950</td>\n",
       "    </tr>\n",
       "    <tr>\n",
       "      <th>ADM003</th>\n",
       "      <td>C</td>\n",
       "      <td>Admiralty Inlet (south)</td>\n",
       "      <td>Admiralty Inlet</td>\n",
       "      <td>118</td>\n",
       "      <td>47.878983</td>\n",
       "      <td>-122.483195</td>\n",
       "    </tr>\n",
       "    <tr>\n",
       "      <th>BLL009</th>\n",
       "      <td>C</td>\n",
       "      <td>Bellingham Bay - Pt. Frances</td>\n",
       "      <td>Strait of Georgia</td>\n",
       "      <td>31</td>\n",
       "      <td>48.685940</td>\n",
       "      <td>-122.599618</td>\n",
       "    </tr>\n",
       "    <tr>\n",
       "      <th>BUD005</th>\n",
       "      <td>C</td>\n",
       "      <td>Budd Inlet - Olympia Shoal</td>\n",
       "      <td>South Basin</td>\n",
       "      <td>22</td>\n",
       "      <td>47.092040</td>\n",
       "      <td>-122.918197</td>\n",
       "    </tr>\n",
       "  </tbody>\n",
       "</table>\n",
       "</div>"
      ],
      "text/plain": [
       "        Desig                                Descrip              Basin  \\\n",
       "Station                                                                   \n",
       "ADM001      C             Admiralty Inlet - Bush Pt.    Admiralty Inlet   \n",
       "ADM002      C  Admiralty Inlet (north) - Quimper Pn.    Admiralty Inlet   \n",
       "ADM003      C                Admiralty Inlet (south)    Admiralty Inlet   \n",
       "BLL009      C           Bellingham Bay - Pt. Frances  Strait of Georgia   \n",
       "BUD005      C             Budd Inlet - Olympia Shoal        South Basin   \n",
       "\n",
       "         Max_Depth   Latitude   Longitude  \n",
       "Station                                    \n",
       "ADM001         114  48.029813 -122.617933  \n",
       "ADM002          79  48.187318 -122.842950  \n",
       "ADM003         118  47.878983 -122.483195  \n",
       "BLL009          31  48.685940 -122.599618  \n",
       "BUD005          22  47.092040 -122.918197  "
      ]
     },
     "execution_count": 6,
     "metadata": {},
     "output_type": "execute_result"
    }
   ],
   "source": [
    "dfSta.head()"
   ]
  },
  {
   "cell_type": "code",
   "execution_count": 7,
   "metadata": {},
   "outputs": [],
   "source": [
    "dfBot=pickle.load(open(os.path.join(datadir,f'Bottles_{str(year)}.p'),'rb'))"
   ]
  },
  {
   "cell_type": "code",
   "execution_count": 8,
   "metadata": {},
   "outputs": [
    {
     "data": {
      "text/html": [
       "<div>\n",
       "<style scoped>\n",
       "    .dataframe tbody tr th:only-of-type {\n",
       "        vertical-align: middle;\n",
       "    }\n",
       "\n",
       "    .dataframe tbody tr th {\n",
       "        vertical-align: top;\n",
       "    }\n",
       "\n",
       "    .dataframe thead th {\n",
       "        text-align: right;\n",
       "    }\n",
       "</style>\n",
       "<table border=\"1\" class=\"dataframe\">\n",
       "  <thead>\n",
       "    <tr style=\"text-align: right;\">\n",
       "      <th></th>\n",
       "      <th>Station</th>\n",
       "      <th>Date</th>\n",
       "      <th>UTCDateTime</th>\n",
       "      <th>Z</th>\n",
       "      <th>PO4(uM)D</th>\n",
       "      <th>SiOH4(uM)D</th>\n",
       "      <th>NO3(uM)D</th>\n",
       "      <th>NO2(uM)D</th>\n",
       "      <th>NH4(uM)D</th>\n",
       "      <th>DIN</th>\n",
       "      <th>Znom</th>\n",
       "    </tr>\n",
       "  </thead>\n",
       "  <tbody>\n",
       "    <tr>\n",
       "      <th>0</th>\n",
       "      <td>ADM001</td>\n",
       "      <td>2009-04-06</td>\n",
       "      <td>2009-04-06 19:02:00.000004</td>\n",
       "      <td>-29.737</td>\n",
       "      <td>2.326720</td>\n",
       "      <td>54.957096</td>\n",
       "      <td>26.395241</td>\n",
       "      <td>0.420664</td>\n",
       "      <td>0.994396</td>\n",
       "      <td>27.810301</td>\n",
       "      <td>-30.0</td>\n",
       "    </tr>\n",
       "    <tr>\n",
       "      <th>1</th>\n",
       "      <td>ADM001</td>\n",
       "      <td>2009-04-06</td>\n",
       "      <td>2009-04-06 19:02:00.000004</td>\n",
       "      <td>-9.866</td>\n",
       "      <td>2.329884</td>\n",
       "      <td>54.869972</td>\n",
       "      <td>26.359756</td>\n",
       "      <td>0.427531</td>\n",
       "      <td>0.887487</td>\n",
       "      <td>27.674774</td>\n",
       "      <td>-10.0</td>\n",
       "    </tr>\n",
       "    <tr>\n",
       "      <th>2</th>\n",
       "      <td>ADM001</td>\n",
       "      <td>2009-04-06</td>\n",
       "      <td>2009-04-06 19:02:00.000004</td>\n",
       "      <td>-1.014</td>\n",
       "      <td>2.321841</td>\n",
       "      <td>55.717751</td>\n",
       "      <td>26.358368</td>\n",
       "      <td>0.424185</td>\n",
       "      <td>0.767900</td>\n",
       "      <td>27.550453</td>\n",
       "      <td>-0.0</td>\n",
       "    </tr>\n",
       "    <tr>\n",
       "      <th>3</th>\n",
       "      <td>ADM001</td>\n",
       "      <td>2009-05-20</td>\n",
       "      <td>2009-05-20 19:34:59.999998</td>\n",
       "      <td>-29.652</td>\n",
       "      <td>1.857458</td>\n",
       "      <td>43.407459</td>\n",
       "      <td>17.997786</td>\n",
       "      <td>0.340660</td>\n",
       "      <td>2.840845</td>\n",
       "      <td>21.179290</td>\n",
       "      <td>-30.0</td>\n",
       "    </tr>\n",
       "    <tr>\n",
       "      <th>4</th>\n",
       "      <td>ADM001</td>\n",
       "      <td>2009-05-20</td>\n",
       "      <td>2009-05-20 19:34:59.999998</td>\n",
       "      <td>-9.818</td>\n",
       "      <td>1.412211</td>\n",
       "      <td>44.223774</td>\n",
       "      <td>13.289508</td>\n",
       "      <td>0.283774</td>\n",
       "      <td>1.721990</td>\n",
       "      <td>15.295271</td>\n",
       "      <td>-10.0</td>\n",
       "    </tr>\n",
       "  </tbody>\n",
       "</table>\n",
       "</div>"
      ],
      "text/plain": [
       "  Station       Date                UTCDateTime       Z  PO4(uM)D  SiOH4(uM)D  \\\n",
       "0  ADM001 2009-04-06 2009-04-06 19:02:00.000004 -29.737  2.326720   54.957096   \n",
       "1  ADM001 2009-04-06 2009-04-06 19:02:00.000004  -9.866  2.329884   54.869972   \n",
       "2  ADM001 2009-04-06 2009-04-06 19:02:00.000004  -1.014  2.321841   55.717751   \n",
       "3  ADM001 2009-05-20 2009-05-20 19:34:59.999998 -29.652  1.857458   43.407459   \n",
       "4  ADM001 2009-05-20 2009-05-20 19:34:59.999998  -9.818  1.412211   44.223774   \n",
       "\n",
       "    NO3(uM)D  NO2(uM)D  NH4(uM)D        DIN  Znom  \n",
       "0  26.395241  0.420664  0.994396  27.810301 -30.0  \n",
       "1  26.359756  0.427531  0.887487  27.674774 -10.0  \n",
       "2  26.358368  0.424185  0.767900  27.550453  -0.0  \n",
       "3  17.997786  0.340660  2.840845  21.179290 -30.0  \n",
       "4  13.289508  0.283774  1.721990  15.295271 -10.0  "
      ]
     },
     "execution_count": 8,
     "metadata": {},
     "output_type": "execute_result"
    }
   ],
   "source": [
    "dfBot.head()"
   ]
  },
  {
   "cell_type": "code",
   "execution_count": 9,
   "metadata": {
    "scrolled": true
   },
   "outputs": [
    {
     "data": {
      "text/html": [
       "<div>\n",
       "<style scoped>\n",
       "    .dataframe tbody tr th:only-of-type {\n",
       "        vertical-align: middle;\n",
       "    }\n",
       "\n",
       "    .dataframe tbody tr th {\n",
       "        vertical-align: top;\n",
       "    }\n",
       "\n",
       "    .dataframe thead th {\n",
       "        text-align: right;\n",
       "    }\n",
       "</style>\n",
       "<table border=\"1\" class=\"dataframe\">\n",
       "  <thead>\n",
       "    <tr style=\"text-align: right;\">\n",
       "      <th></th>\n",
       "      <th>Station</th>\n",
       "      <th>Desig</th>\n",
       "      <th>Descrip</th>\n",
       "      <th>Basin</th>\n",
       "      <th>Max_Depth</th>\n",
       "      <th>Latitude</th>\n",
       "      <th>Longitude</th>\n",
       "      <th>Date</th>\n",
       "      <th>UTCDateTime</th>\n",
       "      <th>Z</th>\n",
       "      <th>PO4(uM)D</th>\n",
       "      <th>SiOH4(uM)D</th>\n",
       "      <th>NO3(uM)D</th>\n",
       "      <th>NO2(uM)D</th>\n",
       "      <th>NH4(uM)D</th>\n",
       "      <th>DIN</th>\n",
       "      <th>Znom</th>\n",
       "    </tr>\n",
       "  </thead>\n",
       "  <tbody>\n",
       "    <tr>\n",
       "      <th>0</th>\n",
       "      <td>ADM001</td>\n",
       "      <td>C</td>\n",
       "      <td>Admiralty Inlet - Bush Pt.</td>\n",
       "      <td>Admiralty Inlet</td>\n",
       "      <td>114</td>\n",
       "      <td>48.029813</td>\n",
       "      <td>-122.617933</td>\n",
       "      <td>2009-04-06</td>\n",
       "      <td>2009-04-06 19:02:00.000004</td>\n",
       "      <td>-29.737</td>\n",
       "      <td>2.326720</td>\n",
       "      <td>54.957096</td>\n",
       "      <td>26.395241</td>\n",
       "      <td>0.420664</td>\n",
       "      <td>0.994396</td>\n",
       "      <td>27.810301</td>\n",
       "      <td>-30.0</td>\n",
       "    </tr>\n",
       "    <tr>\n",
       "      <th>1</th>\n",
       "      <td>ADM001</td>\n",
       "      <td>C</td>\n",
       "      <td>Admiralty Inlet - Bush Pt.</td>\n",
       "      <td>Admiralty Inlet</td>\n",
       "      <td>114</td>\n",
       "      <td>48.029813</td>\n",
       "      <td>-122.617933</td>\n",
       "      <td>2009-04-06</td>\n",
       "      <td>2009-04-06 19:02:00.000004</td>\n",
       "      <td>-9.866</td>\n",
       "      <td>2.329884</td>\n",
       "      <td>54.869972</td>\n",
       "      <td>26.359756</td>\n",
       "      <td>0.427531</td>\n",
       "      <td>0.887487</td>\n",
       "      <td>27.674774</td>\n",
       "      <td>-10.0</td>\n",
       "    </tr>\n",
       "    <tr>\n",
       "      <th>2</th>\n",
       "      <td>ADM001</td>\n",
       "      <td>C</td>\n",
       "      <td>Admiralty Inlet - Bush Pt.</td>\n",
       "      <td>Admiralty Inlet</td>\n",
       "      <td>114</td>\n",
       "      <td>48.029813</td>\n",
       "      <td>-122.617933</td>\n",
       "      <td>2009-04-06</td>\n",
       "      <td>2009-04-06 19:02:00.000004</td>\n",
       "      <td>-1.014</td>\n",
       "      <td>2.321841</td>\n",
       "      <td>55.717751</td>\n",
       "      <td>26.358368</td>\n",
       "      <td>0.424185</td>\n",
       "      <td>0.767900</td>\n",
       "      <td>27.550453</td>\n",
       "      <td>-0.0</td>\n",
       "    </tr>\n",
       "    <tr>\n",
       "      <th>3</th>\n",
       "      <td>ADM001</td>\n",
       "      <td>C</td>\n",
       "      <td>Admiralty Inlet - Bush Pt.</td>\n",
       "      <td>Admiralty Inlet</td>\n",
       "      <td>114</td>\n",
       "      <td>48.029813</td>\n",
       "      <td>-122.617933</td>\n",
       "      <td>2009-05-20</td>\n",
       "      <td>2009-05-20 19:34:59.999998</td>\n",
       "      <td>-29.652</td>\n",
       "      <td>1.857458</td>\n",
       "      <td>43.407459</td>\n",
       "      <td>17.997786</td>\n",
       "      <td>0.340660</td>\n",
       "      <td>2.840845</td>\n",
       "      <td>21.179290</td>\n",
       "      <td>-30.0</td>\n",
       "    </tr>\n",
       "    <tr>\n",
       "      <th>4</th>\n",
       "      <td>ADM001</td>\n",
       "      <td>C</td>\n",
       "      <td>Admiralty Inlet - Bush Pt.</td>\n",
       "      <td>Admiralty Inlet</td>\n",
       "      <td>114</td>\n",
       "      <td>48.029813</td>\n",
       "      <td>-122.617933</td>\n",
       "      <td>2009-05-20</td>\n",
       "      <td>2009-05-20 19:34:59.999998</td>\n",
       "      <td>-9.818</td>\n",
       "      <td>1.412211</td>\n",
       "      <td>44.223774</td>\n",
       "      <td>13.289508</td>\n",
       "      <td>0.283774</td>\n",
       "      <td>1.721990</td>\n",
       "      <td>15.295271</td>\n",
       "      <td>-10.0</td>\n",
       "    </tr>\n",
       "  </tbody>\n",
       "</table>\n",
       "</div>"
      ],
      "text/plain": [
       "  Station Desig                     Descrip            Basin  Max_Depth  \\\n",
       "0  ADM001     C  Admiralty Inlet - Bush Pt.  Admiralty Inlet        114   \n",
       "1  ADM001     C  Admiralty Inlet - Bush Pt.  Admiralty Inlet        114   \n",
       "2  ADM001     C  Admiralty Inlet - Bush Pt.  Admiralty Inlet        114   \n",
       "3  ADM001     C  Admiralty Inlet - Bush Pt.  Admiralty Inlet        114   \n",
       "4  ADM001     C  Admiralty Inlet - Bush Pt.  Admiralty Inlet        114   \n",
       "\n",
       "    Latitude   Longitude       Date                UTCDateTime       Z  \\\n",
       "0  48.029813 -122.617933 2009-04-06 2009-04-06 19:02:00.000004 -29.737   \n",
       "1  48.029813 -122.617933 2009-04-06 2009-04-06 19:02:00.000004  -9.866   \n",
       "2  48.029813 -122.617933 2009-04-06 2009-04-06 19:02:00.000004  -1.014   \n",
       "3  48.029813 -122.617933 2009-05-20 2009-05-20 19:34:59.999998 -29.652   \n",
       "4  48.029813 -122.617933 2009-05-20 2009-05-20 19:34:59.999998  -9.818   \n",
       "\n",
       "   PO4(uM)D  SiOH4(uM)D   NO3(uM)D  NO2(uM)D  NH4(uM)D        DIN  Znom  \n",
       "0  2.326720   54.957096  26.395241  0.420664  0.994396  27.810301 -30.0  \n",
       "1  2.329884   54.869972  26.359756  0.427531  0.887487  27.674774 -10.0  \n",
       "2  2.321841   55.717751  26.358368  0.424185  0.767900  27.550453  -0.0  \n",
       "3  1.857458   43.407459  17.997786  0.340660  2.840845  21.179290 -30.0  \n",
       "4  1.412211   44.223774  13.289508  0.283774  1.721990  15.295271 -10.0  "
      ]
     },
     "execution_count": 9,
     "metadata": {},
     "output_type": "execute_result"
    }
   ],
   "source": [
    "df1=pd.merge(left=dfSta,right=dfBot,how='right',\n",
    "             left_on='Station',right_on='Station')\n",
    "#right join means all rows in right table (dfBot) are included in output\n",
    "df1.head()"
   ]
  },
  {
   "cell_type": "code",
   "execution_count": 10,
   "metadata": {},
   "outputs": [
    {
     "data": {
      "text/html": [
       "<div>\n",
       "<style scoped>\n",
       "    .dataframe tbody tr th:only-of-type {\n",
       "        vertical-align: middle;\n",
       "    }\n",
       "\n",
       "    .dataframe tbody tr th {\n",
       "        vertical-align: top;\n",
       "    }\n",
       "\n",
       "    .dataframe thead th {\n",
       "        text-align: right;\n",
       "    }\n",
       "</style>\n",
       "<table border=\"1\" class=\"dataframe\">\n",
       "  <thead>\n",
       "    <tr style=\"text-align: right;\">\n",
       "      <th></th>\n",
       "      <th>Station</th>\n",
       "      <th>Desig</th>\n",
       "      <th>Descrip</th>\n",
       "      <th>Basin</th>\n",
       "      <th>Max_Depth</th>\n",
       "      <th>Latitude</th>\n",
       "      <th>Longitude</th>\n",
       "      <th>Date</th>\n",
       "      <th>UTCDateTime</th>\n",
       "      <th>Z</th>\n",
       "      <th>PO4(uM)D</th>\n",
       "      <th>SiOH4(uM)D</th>\n",
       "      <th>NO3(uM)D</th>\n",
       "      <th>NO2(uM)D</th>\n",
       "      <th>NH4(uM)D</th>\n",
       "      <th>DIN</th>\n",
       "      <th>Znom</th>\n",
       "    </tr>\n",
       "  </thead>\n",
       "  <tbody>\n",
       "  </tbody>\n",
       "</table>\n",
       "</div>"
      ],
      "text/plain": [
       "Empty DataFrame\n",
       "Columns: [Station, Desig, Descrip, Basin, Max_Depth, Latitude, Longitude, Date, UTCDateTime, Z, PO4(uM)D, SiOH4(uM)D, NO3(uM)D, NO2(uM)D, NH4(uM)D, DIN, Znom]\n",
       "Index: []"
      ]
     },
     "execution_count": 10,
     "metadata": {},
     "output_type": "execute_result"
    }
   ],
   "source": [
    "# check that there are no stations without lat and lon:\n",
    "df1.loc[pd.isnull(df1['Latitude'])]"
   ]
  },
  {
   "cell_type": "code",
   "execution_count": 11,
   "metadata": {},
   "outputs": [
    {
     "data": {
      "text/plain": [
       "(571, 571, 39)"
      ]
     },
     "execution_count": 11,
     "metadata": {},
     "output_type": "execute_result"
    }
   ],
   "source": [
    "# check one to one matches:\n",
    "len(df1),len(dfBot), len(dfSta)"
   ]
  },
  {
   "cell_type": "code",
   "execution_count": 12,
   "metadata": {},
   "outputs": [
    {
     "data": {
      "text/html": [
       "<div>\n",
       "<style scoped>\n",
       "    .dataframe tbody tr th:only-of-type {\n",
       "        vertical-align: middle;\n",
       "    }\n",
       "\n",
       "    .dataframe tbody tr th {\n",
       "        vertical-align: top;\n",
       "    }\n",
       "\n",
       "    .dataframe thead th {\n",
       "        text-align: right;\n",
       "    }\n",
       "</style>\n",
       "<table border=\"1\" class=\"dataframe\">\n",
       "  <thead>\n",
       "    <tr style=\"text-align: right;\">\n",
       "      <th></th>\n",
       "      <th>Station</th>\n",
       "      <th>Desig</th>\n",
       "      <th>Descrip</th>\n",
       "      <th>Basin</th>\n",
       "      <th>Max_Depth</th>\n",
       "      <th>Lat</th>\n",
       "      <th>Lon</th>\n",
       "      <th>Date</th>\n",
       "      <th>dtUTC</th>\n",
       "      <th>Z</th>\n",
       "      <th>PO4(uM)D</th>\n",
       "      <th>SiOH4(uM)D</th>\n",
       "      <th>NO3(uM)D</th>\n",
       "      <th>NO2(uM)D</th>\n",
       "      <th>NH4(uM)D</th>\n",
       "      <th>DIN</th>\n",
       "      <th>Znom</th>\n",
       "    </tr>\n",
       "  </thead>\n",
       "  <tbody>\n",
       "    <tr>\n",
       "      <th>0</th>\n",
       "      <td>ADM001</td>\n",
       "      <td>C</td>\n",
       "      <td>Admiralty Inlet - Bush Pt.</td>\n",
       "      <td>Admiralty Inlet</td>\n",
       "      <td>114</td>\n",
       "      <td>48.029813</td>\n",
       "      <td>-122.617933</td>\n",
       "      <td>2009-04-06</td>\n",
       "      <td>2009-04-06 19:02:00.000004</td>\n",
       "      <td>29.737</td>\n",
       "      <td>2.326720</td>\n",
       "      <td>54.957096</td>\n",
       "      <td>26.395241</td>\n",
       "      <td>0.420664</td>\n",
       "      <td>0.994396</td>\n",
       "      <td>27.810301</td>\n",
       "      <td>-30.0</td>\n",
       "    </tr>\n",
       "    <tr>\n",
       "      <th>1</th>\n",
       "      <td>ADM001</td>\n",
       "      <td>C</td>\n",
       "      <td>Admiralty Inlet - Bush Pt.</td>\n",
       "      <td>Admiralty Inlet</td>\n",
       "      <td>114</td>\n",
       "      <td>48.029813</td>\n",
       "      <td>-122.617933</td>\n",
       "      <td>2009-04-06</td>\n",
       "      <td>2009-04-06 19:02:00.000004</td>\n",
       "      <td>9.866</td>\n",
       "      <td>2.329884</td>\n",
       "      <td>54.869972</td>\n",
       "      <td>26.359756</td>\n",
       "      <td>0.427531</td>\n",
       "      <td>0.887487</td>\n",
       "      <td>27.674774</td>\n",
       "      <td>-10.0</td>\n",
       "    </tr>\n",
       "    <tr>\n",
       "      <th>2</th>\n",
       "      <td>ADM001</td>\n",
       "      <td>C</td>\n",
       "      <td>Admiralty Inlet - Bush Pt.</td>\n",
       "      <td>Admiralty Inlet</td>\n",
       "      <td>114</td>\n",
       "      <td>48.029813</td>\n",
       "      <td>-122.617933</td>\n",
       "      <td>2009-04-06</td>\n",
       "      <td>2009-04-06 19:02:00.000004</td>\n",
       "      <td>1.014</td>\n",
       "      <td>2.321841</td>\n",
       "      <td>55.717751</td>\n",
       "      <td>26.358368</td>\n",
       "      <td>0.424185</td>\n",
       "      <td>0.767900</td>\n",
       "      <td>27.550453</td>\n",
       "      <td>-0.0</td>\n",
       "    </tr>\n",
       "    <tr>\n",
       "      <th>3</th>\n",
       "      <td>ADM001</td>\n",
       "      <td>C</td>\n",
       "      <td>Admiralty Inlet - Bush Pt.</td>\n",
       "      <td>Admiralty Inlet</td>\n",
       "      <td>114</td>\n",
       "      <td>48.029813</td>\n",
       "      <td>-122.617933</td>\n",
       "      <td>2009-05-20</td>\n",
       "      <td>2009-05-20 19:34:59.999998</td>\n",
       "      <td>29.652</td>\n",
       "      <td>1.857458</td>\n",
       "      <td>43.407459</td>\n",
       "      <td>17.997786</td>\n",
       "      <td>0.340660</td>\n",
       "      <td>2.840845</td>\n",
       "      <td>21.179290</td>\n",
       "      <td>-30.0</td>\n",
       "    </tr>\n",
       "    <tr>\n",
       "      <th>4</th>\n",
       "      <td>ADM001</td>\n",
       "      <td>C</td>\n",
       "      <td>Admiralty Inlet - Bush Pt.</td>\n",
       "      <td>Admiralty Inlet</td>\n",
       "      <td>114</td>\n",
       "      <td>48.029813</td>\n",
       "      <td>-122.617933</td>\n",
       "      <td>2009-05-20</td>\n",
       "      <td>2009-05-20 19:34:59.999998</td>\n",
       "      <td>9.818</td>\n",
       "      <td>1.412211</td>\n",
       "      <td>44.223774</td>\n",
       "      <td>13.289508</td>\n",
       "      <td>0.283774</td>\n",
       "      <td>1.721990</td>\n",
       "      <td>15.295271</td>\n",
       "      <td>-10.0</td>\n",
       "    </tr>\n",
       "  </tbody>\n",
       "</table>\n",
       "</div>"
      ],
      "text/plain": [
       "  Station Desig                     Descrip            Basin  Max_Depth  \\\n",
       "0  ADM001     C  Admiralty Inlet - Bush Pt.  Admiralty Inlet        114   \n",
       "1  ADM001     C  Admiralty Inlet - Bush Pt.  Admiralty Inlet        114   \n",
       "2  ADM001     C  Admiralty Inlet - Bush Pt.  Admiralty Inlet        114   \n",
       "3  ADM001     C  Admiralty Inlet - Bush Pt.  Admiralty Inlet        114   \n",
       "4  ADM001     C  Admiralty Inlet - Bush Pt.  Admiralty Inlet        114   \n",
       "\n",
       "         Lat         Lon       Date                      dtUTC       Z  \\\n",
       "0  48.029813 -122.617933 2009-04-06 2009-04-06 19:02:00.000004  29.737   \n",
       "1  48.029813 -122.617933 2009-04-06 2009-04-06 19:02:00.000004   9.866   \n",
       "2  48.029813 -122.617933 2009-04-06 2009-04-06 19:02:00.000004   1.014   \n",
       "3  48.029813 -122.617933 2009-05-20 2009-05-20 19:34:59.999998  29.652   \n",
       "4  48.029813 -122.617933 2009-05-20 2009-05-20 19:34:59.999998   9.818   \n",
       "\n",
       "   PO4(uM)D  SiOH4(uM)D   NO3(uM)D  NO2(uM)D  NH4(uM)D        DIN  Znom  \n",
       "0  2.326720   54.957096  26.395241  0.420664  0.994396  27.810301 -30.0  \n",
       "1  2.329884   54.869972  26.359756  0.427531  0.887487  27.674774 -10.0  \n",
       "2  2.321841   55.717751  26.358368  0.424185  0.767900  27.550453  -0.0  \n",
       "3  1.857458   43.407459  17.997786  0.340660  2.840845  21.179290 -30.0  \n",
       "4  1.412211   44.223774  13.289508  0.283774  1.721990  15.295271 -10.0  "
      ]
     },
     "execution_count": 12,
     "metadata": {},
     "output_type": "execute_result"
    }
   ],
   "source": [
    "# We require the following columns:\n",
    "#    dtUTC datetime\n",
    "#    Lat   Latitude\n",
    "#    Lon   Longitude\n",
    "#    Z     Depth, increasing downward (positive)\n",
    "df1.rename(columns={'UTCDateTime':'dtUTC','Latitude':'Lat','Longitude':'Lon'},inplace=True)\n",
    "df1['Z']=-1*df1['Z']\n",
    "df1.head()"
   ]
  },
  {
   "cell_type": "code",
   "execution_count": 13,
   "metadata": {},
   "outputs": [],
   "source": [
    "# It will also be useful to add/rename the following columns:\n",
    "df1['NO23']=df1['NO3(uM)D']+df1['NO2(uM)D'] # the model does not distinguish between NO2 and NO3\n",
    "df1['Amm']=df1['NH4(uM)D']\n",
    "df1['Si']=df1['SiOH4(uM)D']\n",
    "df1['Year']=[ii.year for ii in df1['dtUTC']]\n",
    "df1['YD']=et.datetimeToYD(df1['dtUTC'])"
   ]
  },
  {
   "cell_type": "markdown",
   "metadata": {},
   "source": [
    "## load CTD data and add CT and SA to nutrient data set"
   ]
  },
  {
   "cell_type": "code",
   "execution_count": 14,
   "metadata": {},
   "outputs": [],
   "source": [
    "dfCTD0=pickle.load(open(os.path.join(datadir,f'Casts_{str(year)}.p'),'rb'))\n",
    "dfCTD=pd.merge(left=dfSta,right=dfCTD0,how='right',\n",
    "             left_on='Station',right_on='Station')\n",
    "dfCTD['dtUTC']=[iiD+dt.timedelta(hours=20) for iiD in dfCTD['Date']] #Does this mean it also has that flaw where we are not sure when the data was collected?\n",
    "dfCTD.rename(columns={'Latitude':'Lat','Longitude':'Lon'},inplace=True)\n",
    "dfCTD['Z']=-1*dfCTD['Z']\n",
    "# Calculate Absolute (Reference) Salinity (g/kg) and Conservative Temperature (deg C) from \n",
    "# Salinity (psu) and Temperature (deg C):\n",
    "press=gsw.p_from_z(-1*dfCTD['Z'],dfCTD['Lat'])\n",
    "dfCTD['SA']=gsw.SA_from_SP(dfCTD['Salinity'],press,\n",
    "                           dfCTD['Lon'],dfCTD['Lat'])\n",
    "dfCTD['CT']=gsw.CT_from_t(dfCTD['SA'],dfCTD['Temperature'],press)\n",
    "\n",
    "dfCTD['Year']=[ii.year for ii in dfCTD['dtUTC']]\n",
    "dfCTD['YD']=et.datetimeToYD(dfCTD['dtUTC'])"
   ]
  },
  {
   "cell_type": "code",
   "execution_count": 15,
   "metadata": {},
   "outputs": [
    {
     "data": {
      "text/plain": [
       "Index(['Station', 'Desig', 'Descrip', 'Basin', 'Max_Depth', 'Lat', 'Lon',\n",
       "       'Salinity', 'Temperature', 'Sigma', 'Chl', 'DO', 'Turb', 'Z', 'Date',\n",
       "       'dtUTC', 'SA', 'CT', 'Year', 'YD'],\n",
       "      dtype='object')"
      ]
     },
     "execution_count": 15,
     "metadata": {},
     "output_type": "execute_result"
    }
   ],
   "source": [
    "dfCTD.keys()"
   ]
  },
  {
   "cell_type": "code",
   "execution_count": 16,
   "metadata": {},
   "outputs": [
    {
     "name": "stdout",
     "output_type": "stream",
     "text": [
      "this should be 1:  [1]\n"
     ]
    }
   ],
   "source": [
    "# check that there is never more than one ctd cast per station per day:\n",
    "test=dfCTD.groupby(['Station','Year','YD','Z']).count()\n",
    "print('this should be 1: ',test['Date'].unique())"
   ]
  },
  {
   "cell_type": "code",
   "execution_count": 17,
   "metadata": {},
   "outputs": [],
   "source": [
    "def interpCTDvar(sta,yr,yd,ztarget,ctdvar):\n",
    "    ctdlocs=(dfCTD.Station==sta)&(dfCTD.Year==yr)&(dfCTD.YD==yd)\n",
    "    if np.sum(ctdlocs)==0:\n",
    "        print(f'Warning: Station {sta}, Year {yr}, year day {yd} not found in dfCTD')\n",
    "        return np.nan\n",
    "    else:\n",
    "        val=np.interp(ztarget,dfCTD.loc[ctdlocs,['Z']].values.flatten(),\n",
    "                  dfCTD.loc[ctdlocs,[ctdvar]].values.flatten())\n",
    "        return val"
   ]
  },
  {
   "cell_type": "code",
   "execution_count": 18,
   "metadata": {},
   "outputs": [
    {
     "data": {
      "text/plain": [
       "array([110, 138, 159, 201, 230, 257, 285, 336])"
      ]
     },
     "execution_count": 18,
     "metadata": {},
     "output_type": "execute_result"
    }
   ],
   "source": [
    "dfCTD.loc[dfCTD.Station=='PSS019']['YD'].unique()"
   ]
  },
  {
   "cell_type": "code",
   "execution_count": 19,
   "metadata": {},
   "outputs": [
    {
     "data": {
      "text/plain": [
       "array([110, 138, 159, 201, 230, 258, 285, 336])"
      ]
     },
     "execution_count": 19,
     "metadata": {},
     "output_type": "execute_result"
    }
   ],
   "source": [
    "df1.loc[df1.Station=='PSS019']['YD'].unique()"
   ]
  },
  {
   "cell_type": "code",
   "execution_count": 20,
   "metadata": {},
   "outputs": [
    {
     "name": "stdout",
     "output_type": "stream",
     "text": [
      "Warning: Station PSS019, Year 2009, year day 258 not found in dfCTD\n",
      "Warning: Station PSS019, Year 2009, year day 258 not found in dfCTD\n",
      "Warning: Station PSS019, Year 2009, year day 258 not found in dfCTD\n",
      "Warning: Station WPA001, Year 2009, year day 111 not found in dfCTD\n"
     ]
    }
   ],
   "source": [
    "df1['SA']=[interpCTDvar(sta,yr,yd,ztarget,'SA') for sta, yr, yd, ztarget \\\n",
    "           in zip(df1['Station'],df1['Year'],df1['YD'],df1['Z'])]"
   ]
  },
  {
   "cell_type": "code",
   "execution_count": 21,
   "metadata": {},
   "outputs": [
    {
     "name": "stdout",
     "output_type": "stream",
     "text": [
      "Warning: Station PSS019, Year 2009, year day 258 not found in dfCTD\n",
      "Warning: Station PSS019, Year 2009, year day 258 not found in dfCTD\n",
      "Warning: Station PSS019, Year 2009, year day 258 not found in dfCTD\n",
      "Warning: Station WPA001, Year 2009, year day 111 not found in dfCTD\n"
     ]
    }
   ],
   "source": [
    "df1['CT']=[interpCTDvar(sta,yr,yd,ztarget,'CT') for sta, yr, yd, ztarget \\\n",
    "           in zip(df1['Station'],df1['Year'],df1['YD'],df1['Z'])]"
   ]
  },
  {
   "cell_type": "markdown",
   "metadata": {},
   "source": [
    "### set up variables for model-data matching"
   ]
  },
  {
   "cell_type": "code",
   "execution_count": 22,
   "metadata": {},
   "outputs": [],
   "source": [
    "fdict={'ptrc_T':1,'grid_T':1}\n",
    "# start_date and end_date are the first and last dates that will \n",
    "#  be included in the matched data set\n",
    "start_date = dt.datetime(year,1,1)\n",
    "end_date = dt.datetime(year,12,31)\n",
    "flen=1 # number of days per model output file. always 1 for 201905 and 201812 model runs\n",
    "namfmt='nowcast' # for 201905 and 201812 model runs, this should always be 'nowcast'\n",
    "# filemap is dictionary of the form variableName: fileType, where variableName is the name\n",
    "# of the variable you want to extract and fileType designates the type of \n",
    "# model output file it can be found in (usually ptrc_T for biology, grid_T for temperature and \n",
    "# salinity)\n",
    "filemap={'nitrate':'ptrc_T','silicon':'ptrc_T','ammonium':'ptrc_T','diatoms':'ptrc_T',\n",
    "         'ciliates':'ptrc_T','flagellates':'ptrc_T','votemper':'grid_T','vosaline':'grid_T'}\n",
    "# fdict is a dictionary mappy file type to its time resolution. Here, 1 means hourly output\n",
    "# (1h file) and 24 means daily output (1d file). In certain runs, multiple time resolutions \n",
    "# are available\n",
    "fdict={'ptrc_T':1,'grid_T':1}\n",
    "# Note: to switch between 201812 and 201905 model results, change PATH\n",
    "# to switch from hourly to daily model output, change fdict values from 1 to 24 (but daily \n",
    "#  files are not available for some runs and file types)"
   ]
  },
  {
   "cell_type": "code",
   "execution_count": 23,
   "metadata": {},
   "outputs": [
    {
     "name": "stdout",
     "output_type": "stream",
     "text": [
      "(Lat,Lon)= 46.54537666666667 -123.98016166666666  not matched to domain\n",
      "(Lat,Lon)= 46.644 -123.993  not matched to domain\n",
      "(Lat,Lon)= 46.68676333333333 -123.9735  not matched to domain\n",
      "(Lat,Lon)= 46.68732166666667 -123.74988166666667  not matched to domain\n",
      "(Lat,Lon)= 46.703986666666665 -123.837385  not matched to domain\n",
      "(Lat,Lon)= 46.937313333333336 -123.91322333333333  not matched to domain\n",
      "(Lat,Lon)= 46.953421666666664 -124.09295  not matched to domain\n",
      "(Lat,Lon)= 46.97787 -123.78461  not matched to domain\n",
      "(Lat,Lon)= 47.21342666666666 -123.07765  not matched to domain\n"
     ]
    }
   ],
   "source": [
    "data=et.matchData(df1,filemap,fdict,start_date,end_date,'nowcast',PATH,1,quiet=False);"
   ]
  },
  {
   "cell_type": "code",
   "execution_count": 24,
   "metadata": {},
   "outputs": [],
   "source": [
    "cm1=cmocean.cm.thermal\n",
    "with nc.Dataset('/data/eolson/results/MEOPAR/NEMO-forcing-new/grid/bathymetry_201702.nc') as bathy:\n",
    "    bathylon=np.copy(bathy.variables['nav_lon'][:,:])\n",
    "    bathylat=np.copy(bathy.variables['nav_lat'][:,:])\n",
    "    bathyZ=np.copy(bathy.variables['Bathymetry'][:,:])"
   ]
  },
  {
   "cell_type": "code",
   "execution_count": 25,
   "metadata": {},
   "outputs": [
    {
     "data": {
      "image/png": "[encoded data removed]",
      "text/plain": [
       "<Figure size 432x432 with 1 Axes>"
      ]
     },
     "metadata": {
      "needs_background": "light"
     },
     "output_type": "display_data"
    }
   ],
   "source": [
    "fig, ax = plt.subplots(1,1,figsize = (6,6))\n",
    "with nc.Dataset('/data/vdo/MEOPAR/NEMO-forcing/grid/bathymetry_201702.nc') as grid:\n",
    "    viz_tools.plot_coastline(ax, grid, coords = 'map',isobath=.1)\n",
    "colors=('teal','green','firebrick','darkorange','darkviolet','fuchsia',\n",
    "        'royalblue','darkgoldenrod','mediumspringgreen','deepskyblue')\n",
    "datreg=dict()\n",
    "for ind, iregion in enumerate(data.Basin.unique()):\n",
    "    datreg[iregion] = data.loc[data.Basin==iregion]\n",
    "    ax.plot(datreg[iregion]['Lon'], datreg[iregion]['Lat'],'.',\n",
    "            color = colors[ind], label=iregion)\n",
    "ax.set_ylim(47, 49)\n",
    "ax.legend(bbox_to_anchor=[1,.6,0,0])\n",
    "ax.set_xlim(-124, -122);\n",
    "ax.set_title('Observation Locations');\n",
    "\n",
    "iz=(data.Z<15)\n",
    "JFM=data.loc[iz&(data.dtUTC<=dt.datetime(year,4,1)),:]\n",
    "Apr=data.loc[iz&(data.dtUTC<=dt.datetime(year,5,1))&(data.dtUTC>dt.datetime(year,4,1)),:]\n",
    "MJJA=data.loc[iz&(data.dtUTC<=dt.datetime(year,9,1))&(data.dtUTC>dt.datetime(year,5,1)),:]\n",
    "SOND=data.loc[iz&(data.dtUTC>dt.datetime(year,9,1)),:]"
   ]
  },
  {
   "cell_type": "code",
   "execution_count": 26,
   "metadata": {},
   "outputs": [],
   "source": [
    "def byDepth(ax,obsvar,modvar,lims):\n",
    "    ps=et.varvarPlot(ax,data,obsvar,modvar,'Z',(15,22),'z','m',('mediumseagreen','darkturquoise','navy'))\n",
    "    l=ax.legend(handles=ps)\n",
    "    ax.set_xlabel('Obs')\n",
    "    ax.set_ylabel('Model')\n",
    "    ax.plot(lims,lims,'k-',alpha=.5)\n",
    "    ax.set_xlim(lims)\n",
    "    ax.set_ylim(lims)\n",
    "    ax.set_aspect(1)\n",
    "    return ps,l\n",
    "\n",
    "def byRegion(ax,obsvar,modvar,lims):\n",
    "    ps=[]\n",
    "    for ind, iregion in enumerate(data.Basin.unique()):\n",
    "        ax.plot(datreg[iregion]['Lon'], datreg[iregion]['Lat'],'.',\n",
    "                color = colors[ind], label=iregion)\n",
    "        ps0=et.varvarPlot(ax,datreg[iregion],obsvar,modvar,\n",
    "                          cols=(colors[ind],),lname=iregion)\n",
    "        ps.append(ps0)\n",
    "    l=ax.legend(handles=[ip[0][0] for ip in ps])\n",
    "    ax.set_xlabel('Obs')\n",
    "    ax.set_ylabel('Model')\n",
    "    ax.plot(lims,lims,'k-',alpha=.5)\n",
    "    ax.set_xlim(lims)\n",
    "    ax.set_ylim(lims)\n",
    "    ax.set_aspect(1)\n",
    "    return ps,l\n",
    "\n",
    "def bySeason(ax,obsvar,modvar,lims):\n",
    "    for axi in ax:\n",
    "        axi.plot(lims,lims,'k-')\n",
    "        axi.set_xlim(lims)\n",
    "        axi.set_ylim(lims)\n",
    "        axi.set_aspect(1)\n",
    "        axi.set_xlabel('Obs')\n",
    "        axi.set_ylabel('Model')\n",
    "    ps=et.varvarPlot(ax[0],JFM,obsvar,modvar,cols=('crimson','darkturquoise','navy'))\n",
    "    ax[0].set_title('Jan-Mar')\n",
    "    ps=et.varvarPlot(ax[1],Apr,obsvar,modvar,cols=('crimson','darkturquoise','navy'))\n",
    "    ax[1].set_title('Apr')\n",
    "    ps=et.varvarPlot(ax[2],MJJA,obsvar,modvar,cols=('crimson','darkturquoise','navy'))\n",
    "    ax[2].set_title('May-Aug')\n",
    "    ps=et.varvarPlot(ax[3],SOND,obsvar,modvar,cols=('crimson','darkturquoise','navy'))\n",
    "    ax[3].set_title('Sep-Dec')\n",
    "    return \n",
    "\n",
    "def ErrErr(fig,ax,obsvar1,modvar1,obsvar2,modvar2,lims1,lims2):\n",
    "    m=ax.scatter(data[modvar1]-data[obsvar1],data[modvar2]-data[obsvar2],c=data['Z'],s=1,cmap='gnuplot')\n",
    "    cb=fig.colorbar(m,ax=ax,label='Depth (m)')\n",
    "    ax.set_xlim(lims1)\n",
    "    ax.set_ylim(lims2)\n",
    "    ax.set_aspect((lims1[1]-lims1[0])/(lims2[1]-lims2[0]))\n",
    "    return m,cb"
   ]
  },
  {
   "cell_type": "markdown",
   "metadata": {},
   "source": [
    "### Error vs Temperature."
   ]
  },
  {
   "cell_type": "code",
   "execution_count": 28,
   "metadata": {},
   "outputs": [
    {
     "data": {
      "text/plain": [
       "Text(0, 0.5, 'NH4 Error ($\\\\mu$M) Error')"
      ]
     },
     "execution_count": 28,
     "metadata": {},
     "output_type": "execute_result"
    },
    {
     "data": {
      "image/png": "[encoded data removed]",
      "text/plain": [
       "<Figure size 864x216 with 6 Axes>"
      ]
     },
     "metadata": {
      "needs_background": "light"
     },
     "output_type": "display_data"
    }
   ],
   "source": [
    "fig,ax=plt.subplots(1,3,figsize=(12,3))\n",
    "fig.subplots_adjust(wspace=.6)\n",
    "m=ax[0].scatter(data['CT'],data['mod_nitrate']-data['NO23'],c=data['Z'],s=1,cmap='gnuplot') # what is a gnuplot and what are the other options for this?\n",
    "cb=fig.colorbar(m,ax=ax[0],label='Depth (m)')\n",
    "ax[0].set_xlabel('Obs Temperature (g kg$^{-1}$)',fontsize=12)\n",
    "ax[0].set_ylabel('NO2+NO3 Error ($\\mu$M)',fontsize=12)\n",
    "\n",
    "m=ax[1].scatter(data['CT'],data['mod_silicon']-data['Si'],c=data['Z'],s=1,cmap='gnuplot')\n",
    "cb=fig.colorbar(m,ax=ax[1],label='Depth (m)')\n",
    "ax[1].set_xlabel('Obs Temperature (g kg$^{-1}$)',fontsize=12)\n",
    "ax[1].set_ylabel('DSi Error ($\\mu$M) Error',fontsize=12)\n",
    "\n",
    "m=ax[2].scatter(data['CT'],data['mod_ammonium']-data['Amm'],c=data['Z'],s=1,cmap='gnuplot')\n",
    "cb=fig.colorbar(m,ax=ax[2],label='Depth (m)')\n",
    "ax[2].set_xlabel('Obs Temperature (g kg$^{-1}$)',fontsize=12)\n",
    "ax[2].set_ylabel('NH4 Error ($\\mu$M) Error',fontsize=12)"
   ]
  },
  {
   "cell_type": "markdown",
   "metadata": {},
   "source": [
    "How could I do something that could show if there is actually a trend to all of these data points (I do not think there is one with the exception of possibly ammonia but it would be interesting to check.) "
   ]
  },
  {
   "cell_type": "markdown",
   "metadata": {},
   "source": [
    "I would also like to try to calculate actual correlation values for these plots that I am making rather than just looking at lines and dots. "
   ]
  },
  {
   "cell_type": "markdown",
   "metadata": {},
   "source": [
    "### Chlorophyll/model phytoplankton and Temperature. "
   ]
  },
  {
   "cell_type": "code",
   "execution_count": 29,
   "metadata": {},
   "outputs": [
    {
     "data": {
      "text/plain": [
       "Index(['Station', 'Desig', 'Descrip', 'Basin', 'Max_Depth', 'Lat', 'Lon',\n",
       "       'Date', 'dtUTC', 'Z', 'PO4(uM)D', 'SiOH4(uM)D', 'NO3(uM)D', 'NO2(uM)D',\n",
       "       'NH4(uM)D', 'DIN', 'Znom', 'NO23', 'Amm', 'Si', 'Year', 'YD', 'SA',\n",
       "       'CT', 'j', 'i', 'mod_nitrate', 'mod_silicon', 'mod_ammonium',\n",
       "       'mod_diatoms', 'mod_ciliates', 'mod_flagellates', 'mod_votemper',\n",
       "       'mod_vosaline', 'k'],\n",
       "      dtype='object')"
      ]
     },
     "execution_count": 29,
     "metadata": {},
     "output_type": "execute_result"
    }
   ],
   "source": [
    "data.columns"
   ]
  },
  {
   "cell_type": "markdown",
   "metadata": {},
   "source": [
    "### Chlorophyll vs model phytoplankton"
   ]
  },
  {
   "cell_type": "code",
   "execution_count": null,
   "metadata": {},
   "outputs": [],
   "source": []
  }
 ],
 "metadata": {
  "anaconda-cloud": {},
  "kernelspec": {
   "display_name": "Python (py39)",
   "language": "python",
   "name": "py39"
  },
  "language_info": {
   "codemirror_mode": {
    "name": "ipython",
    "version": 3
   },
   "file_extension": ".py",
   "mimetype": "text/x-python",
   "name": "python",
   "nbconvert_exporter": "python",
   "pygments_lexer": "ipython3",
   "version": "3.9.1"
  }
 },
 "nbformat": 4,
 "nbformat_minor": 4
}
