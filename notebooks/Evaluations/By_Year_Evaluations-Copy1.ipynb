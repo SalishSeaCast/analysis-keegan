{
 "cells": [
  {
   "cell_type": "markdown",
   "metadata": {},
   "source": [
    "This script contains a variety of scatter plots in order to show the correlation between model data and observational and how environmental variables can effect the error of the model data. It specifically focuses on "
   ]
  },
  {
   "cell_type": "code",
   "execution_count": 1,
   "metadata": {},
   "outputs": [],
   "source": [
    "import numpy as np\n",
    "import matplotlib.pyplot as plt\n",
    "import os\n",
    "import pandas as pd\n",
    "import netCDF4 as nc\n",
    "import datetime as dt\n",
    "from salishsea_tools import evaltools as et, viz_tools\n",
    "import gsw \n",
    "import matplotlib.gridspec as gridspec\n",
    "import matplotlib as mpl\n",
    "import matplotlib.dates as mdates\n",
    "import cmocean as cmo\n",
    "import scipy.interpolate as sinterp\n",
    "import pickle\n",
    "import cmocean\n",
    "import json\n",
    "import f90nml\n",
    "import xarray as xr\n",
    "import datetime as dt\n",
    "from collections import OrderedDict\n",
    "\n",
    "fs=16\n",
    "mpl.rc('xtick', labelsize=fs)\n",
    "mpl.rc('ytick', labelsize=fs)\n",
    "mpl.rc('legend', fontsize=fs)\n",
    "mpl.rc('axes', titlesize=fs)\n",
    "mpl.rc('axes', labelsize=fs)\n",
    "mpl.rc('figure', titlesize=fs)\n",
    "mpl.rc('font', size=fs)\n",
    "mpl.rc('font', family='sans-serif', weight='normal', style='normal')\n",
    "\n",
    "import warnings\n",
    "#warnings.filterwarnings('ignore')\n",
    "from IPython.display import Markdown, display\n",
    "\n",
    "%matplotlib inline"
   ]
  },
  {
   "cell_type": "raw",
   "metadata": {},
   "source": [
    "from IPython.display import HTML\n",
    "\n",
    "HTML('''<script>\n",
    "code_show=true; \n",
    "function code_toggle() {\n",
    " if (code_show){\n",
    " $('div.input').hide();\n",
    " } else {\n",
    " $('div.input').show();\n",
    " }\n",
    " code_show = !code_show\n",
    "} \n",
    "$( document ).ready(code_toggle);\n",
    "</script>\n",
    "\n",
    "<form action=\"javascript:code_toggle()\"><input type=\"submit\" value=\"Click here to toggle on/off the raw code.\"></form>''')\n"
   ]
  },
  {
   "cell_type": "code",
   "execution_count": 2,
   "metadata": {},
   "outputs": [],
   "source": [
    "years=[2015,2016,2017]\n",
    "PATH= '/results2/SalishSea/nowcast-green.201905/'\n",
    "datadir='/ocean/eolson/MEOPAR/obs/WADE/ptools_data/ecology'"
   ]
  },
  {
   "cell_type": "code",
   "execution_count": 3,
   "metadata": {},
   "outputs": [
    {
     "ename": "NameError",
     "evalue": "name 'year' is not defined",
     "output_type": "error",
     "traceback": [
      "\u001b[0;31m---------------------------------------------------------------------------\u001b[0m",
      "\u001b[0;31mNameError\u001b[0m                                 Traceback (most recent call last)",
      "\u001b[0;32m<ipython-input-3-d45ddb421c48>\u001b[0m in \u001b[0;36m<module>\u001b[0;34m\u001b[0m\n\u001b[0;32m----> 1\u001b[0;31m \u001b[0mdisplay\u001b[0m\u001b[0;34m(\u001b[0m\u001b[0mMarkdown\u001b[0m\u001b[0;34m(\u001b[0m\u001b[0;34m'''## Year: '''\u001b[0m\u001b[0;34m+\u001b[0m \u001b[0mstr\u001b[0m\u001b[0;34m(\u001b[0m\u001b[0myear\u001b[0m\u001b[0;34m)\u001b[0m\u001b[0;34m)\u001b[0m\u001b[0;34m)\u001b[0m\u001b[0;34m\u001b[0m\u001b[0;34m\u001b[0m\u001b[0m\n\u001b[0m",
      "\u001b[0;31mNameError\u001b[0m: name 'year' is not defined"
     ]
    }
   ],
   "source": [
    "display(Markdown('''## Year: '''+ str(year)))"
   ]
  },
  {
   "cell_type": "code",
   "execution_count": 8,
   "metadata": {},
   "outputs": [
    {
     "data": {
      "text/markdown": [
       "### Model output: /results2/SalishSea/nowcast-green.201905/"
      ],
      "text/plain": [
       "<IPython.core.display.Markdown object>"
      ]
     },
     "metadata": {},
     "output_type": "display_data"
    }
   ],
   "source": [
    "display(Markdown('''### Model output: '''+ PATH))"
   ]
  },
  {
   "cell_type": "markdown",
   "metadata": {},
   "source": [
    "\n",
    "## Yearly model-data comparisons of nutrients, chlorophyll, temperature and salinity between 201905 runs and WADE observations"
   ]
  },
  {
   "cell_type": "markdown",
   "metadata": {},
   "source": [
    "### load observations"
   ]
  },
  {
   "cell_type": "code",
   "execution_count": 9,
   "metadata": {},
   "outputs": [],
   "source": [
    "dfSta=pickle.load(open(os.path.join(datadir,'sta_df.p'),'rb'))"
   ]
  },
  {
   "cell_type": "code",
   "execution_count": 10,
   "metadata": {},
   "outputs": [
    {
     "data": {
      "text/html": [
       "<div>\n",
       "<style scoped>\n",
       "    .dataframe tbody tr th:only-of-type {\n",
       "        vertical-align: middle;\n",
       "    }\n",
       "\n",
       "    .dataframe tbody tr th {\n",
       "        vertical-align: top;\n",
       "    }\n",
       "\n",
       "    .dataframe thead th {\n",
       "        text-align: right;\n",
       "    }\n",
       "</style>\n",
       "<table border=\"1\" class=\"dataframe\">\n",
       "  <thead>\n",
       "    <tr style=\"text-align: right;\">\n",
       "      <th></th>\n",
       "      <th>Desig</th>\n",
       "      <th>Descrip</th>\n",
       "      <th>Basin</th>\n",
       "      <th>Max_Depth</th>\n",
       "      <th>Latitude</th>\n",
       "      <th>Longitude</th>\n",
       "    </tr>\n",
       "    <tr>\n",
       "      <th>Station</th>\n",
       "      <th></th>\n",
       "      <th></th>\n",
       "      <th></th>\n",
       "      <th></th>\n",
       "      <th></th>\n",
       "      <th></th>\n",
       "    </tr>\n",
       "  </thead>\n",
       "  <tbody>\n",
       "    <tr>\n",
       "      <th>ADM001</th>\n",
       "      <td>C</td>\n",
       "      <td>Admiralty Inlet - Bush Pt.</td>\n",
       "      <td>Admiralty Inlet</td>\n",
       "      <td>114</td>\n",
       "      <td>48.029813</td>\n",
       "      <td>-122.617933</td>\n",
       "    </tr>\n",
       "    <tr>\n",
       "      <th>ADM002</th>\n",
       "      <td>C</td>\n",
       "      <td>Admiralty Inlet (north) - Quimper Pn.</td>\n",
       "      <td>Admiralty Inlet</td>\n",
       "      <td>79</td>\n",
       "      <td>48.187318</td>\n",
       "      <td>-122.842950</td>\n",
       "    </tr>\n",
       "    <tr>\n",
       "      <th>ADM003</th>\n",
       "      <td>C</td>\n",
       "      <td>Admiralty Inlet (south)</td>\n",
       "      <td>Admiralty Inlet</td>\n",
       "      <td>118</td>\n",
       "      <td>47.878983</td>\n",
       "      <td>-122.483195</td>\n",
       "    </tr>\n",
       "    <tr>\n",
       "      <th>BLL009</th>\n",
       "      <td>C</td>\n",
       "      <td>Bellingham Bay - Pt. Frances</td>\n",
       "      <td>Strait of Georgia</td>\n",
       "      <td>31</td>\n",
       "      <td>48.685940</td>\n",
       "      <td>-122.599618</td>\n",
       "    </tr>\n",
       "    <tr>\n",
       "      <th>BUD005</th>\n",
       "      <td>C</td>\n",
       "      <td>Budd Inlet - Olympia Shoal</td>\n",
       "      <td>South Basin</td>\n",
       "      <td>22</td>\n",
       "      <td>47.092040</td>\n",
       "      <td>-122.918197</td>\n",
       "    </tr>\n",
       "  </tbody>\n",
       "</table>\n",
       "</div>"
      ],
      "text/plain": [
       "        Desig                                Descrip              Basin  \\\n",
       "Station                                                                   \n",
       "ADM001      C             Admiralty Inlet - Bush Pt.    Admiralty Inlet   \n",
       "ADM002      C  Admiralty Inlet (north) - Quimper Pn.    Admiralty Inlet   \n",
       "ADM003      C                Admiralty Inlet (south)    Admiralty Inlet   \n",
       "BLL009      C           Bellingham Bay - Pt. Frances  Strait of Georgia   \n",
       "BUD005      C             Budd Inlet - Olympia Shoal        South Basin   \n",
       "\n",
       "         Max_Depth   Latitude   Longitude  \n",
       "Station                                    \n",
       "ADM001         114  48.029813 -122.617933  \n",
       "ADM002          79  48.187318 -122.842950  \n",
       "ADM003         118  47.878983 -122.483195  \n",
       "BLL009          31  48.685940 -122.599618  \n",
       "BUD005          22  47.092040 -122.918197  "
      ]
     },
     "execution_count": 10,
     "metadata": {},
     "output_type": "execute_result"
    }
   ],
   "source": [
    "dfSta.head()"
   ]
  },
  {
   "cell_type": "code",
   "execution_count": 11,
   "metadata": {},
   "outputs": [],
   "source": [
    "dictBot={}\n",
    "for i in years:\n",
    "    dictBot[i]=pickle.load(open(os.path.join(datadir,f'Bottles_{str(i)}.p'),'rb'))"
   ]
  },
  {
   "cell_type": "code",
   "execution_count": 12,
   "metadata": {},
   "outputs": [
    {
     "data": {
      "text/html": [
       "<div>\n",
       "<style scoped>\n",
       "    .dataframe tbody tr th:only-of-type {\n",
       "        vertical-align: middle;\n",
       "    }\n",
       "\n",
       "    .dataframe tbody tr th {\n",
       "        vertical-align: top;\n",
       "    }\n",
       "\n",
       "    .dataframe thead th {\n",
       "        text-align: right;\n",
       "    }\n",
       "</style>\n",
       "<table border=\"1\" class=\"dataframe\">\n",
       "  <thead>\n",
       "    <tr style=\"text-align: right;\">\n",
       "      <th></th>\n",
       "      <th>Station</th>\n",
       "      <th>Date</th>\n",
       "      <th>UTCDateTime</th>\n",
       "      <th>Z</th>\n",
       "      <th>PO4(uM)D</th>\n",
       "      <th>SiOH4(uM)D</th>\n",
       "      <th>NO3(uM)D</th>\n",
       "      <th>NO2(uM)D</th>\n",
       "      <th>NH4(uM)D</th>\n",
       "      <th>DIN</th>\n",
       "      <th>Znom</th>\n",
       "    </tr>\n",
       "  </thead>\n",
       "  <tbody>\n",
       "    <tr>\n",
       "      <th>0</th>\n",
       "      <td>ADM001</td>\n",
       "      <td>2015-01-20</td>\n",
       "      <td>NaN</td>\n",
       "      <td>-27.590000</td>\n",
       "      <td>2.307022</td>\n",
       "      <td>53.343590</td>\n",
       "      <td>24.632721</td>\n",
       "      <td>0.110040</td>\n",
       "      <td>0.010113</td>\n",
       "      <td>24.752874</td>\n",
       "      <td>-30.0</td>\n",
       "    </tr>\n",
       "    <tr>\n",
       "      <th>1</th>\n",
       "      <td>ADM001</td>\n",
       "      <td>2015-01-20</td>\n",
       "      <td>NaN</td>\n",
       "      <td>-10.266000</td>\n",
       "      <td>2.353272</td>\n",
       "      <td>54.585922</td>\n",
       "      <td>24.874546</td>\n",
       "      <td>0.094585</td>\n",
       "      <td>0.010489</td>\n",
       "      <td>24.979620</td>\n",
       "      <td>-10.0</td>\n",
       "    </tr>\n",
       "    <tr>\n",
       "      <th>2</th>\n",
       "      <td>ADM001</td>\n",
       "      <td>2015-01-20</td>\n",
       "      <td>NaN</td>\n",
       "      <td>-1.084000</td>\n",
       "      <td>2.353988</td>\n",
       "      <td>56.163105</td>\n",
       "      <td>24.932785</td>\n",
       "      <td>0.098777</td>\n",
       "      <td>0.015908</td>\n",
       "      <td>25.047470</td>\n",
       "      <td>-0.0</td>\n",
       "    </tr>\n",
       "    <tr>\n",
       "      <th>3</th>\n",
       "      <td>ADM001</td>\n",
       "      <td>2015-02-12</td>\n",
       "      <td>NaN</td>\n",
       "      <td>-30.497999</td>\n",
       "      <td>2.371619</td>\n",
       "      <td>56.665092</td>\n",
       "      <td>26.514471</td>\n",
       "      <td>0.186773</td>\n",
       "      <td>0.021147</td>\n",
       "      <td>26.722391</td>\n",
       "      <td>-30.0</td>\n",
       "    </tr>\n",
       "    <tr>\n",
       "      <th>4</th>\n",
       "      <td>ADM001</td>\n",
       "      <td>2015-02-12</td>\n",
       "      <td>NaN</td>\n",
       "      <td>-8.286000</td>\n",
       "      <td>2.376519</td>\n",
       "      <td>56.184971</td>\n",
       "      <td>26.554394</td>\n",
       "      <td>0.174875</td>\n",
       "      <td>0.026230</td>\n",
       "      <td>26.755498</td>\n",
       "      <td>-10.0</td>\n",
       "    </tr>\n",
       "    <tr>\n",
       "      <th>...</th>\n",
       "      <td>...</td>\n",
       "      <td>...</td>\n",
       "      <td>...</td>\n",
       "      <td>...</td>\n",
       "      <td>...</td>\n",
       "      <td>...</td>\n",
       "      <td>...</td>\n",
       "      <td>...</td>\n",
       "      <td>...</td>\n",
       "      <td>...</td>\n",
       "      <td>...</td>\n",
       "    </tr>\n",
       "    <tr>\n",
       "      <th>2669</th>\n",
       "      <td>WPA113</td>\n",
       "      <td>2017-08-22</td>\n",
       "      <td>NaN</td>\n",
       "      <td>-1.227000</td>\n",
       "      <td>1.349180</td>\n",
       "      <td>21.115160</td>\n",
       "      <td>4.627939</td>\n",
       "      <td>0.237786</td>\n",
       "      <td>3.256187</td>\n",
       "      <td>8.121912</td>\n",
       "      <td>-0.0</td>\n",
       "    </tr>\n",
       "    <tr>\n",
       "      <th>2670</th>\n",
       "      <td>WPA113</td>\n",
       "      <td>2017-10-31</td>\n",
       "      <td>NaN</td>\n",
       "      <td>-7.294000</td>\n",
       "      <td>0.604521</td>\n",
       "      <td>14.247242</td>\n",
       "      <td>4.434829</td>\n",
       "      <td>0.250806</td>\n",
       "      <td>0.587332</td>\n",
       "      <td>5.272968</td>\n",
       "      <td>-10.0</td>\n",
       "    </tr>\n",
       "    <tr>\n",
       "      <th>2671</th>\n",
       "      <td>WPA113</td>\n",
       "      <td>2017-10-31</td>\n",
       "      <td>NaN</td>\n",
       "      <td>-1.187000</td>\n",
       "      <td>0.599338</td>\n",
       "      <td>14.292512</td>\n",
       "      <td>4.360970</td>\n",
       "      <td>0.243950</td>\n",
       "      <td>0.703639</td>\n",
       "      <td>5.308559</td>\n",
       "      <td>-0.0</td>\n",
       "    </tr>\n",
       "    <tr>\n",
       "      <th>2672</th>\n",
       "      <td>WPA113</td>\n",
       "      <td>2017-12-12</td>\n",
       "      <td>NaN</td>\n",
       "      <td>-8.053000</td>\n",
       "      <td>0.840222</td>\n",
       "      <td>44.465313</td>\n",
       "      <td>10.468182</td>\n",
       "      <td>0.342512</td>\n",
       "      <td>1.267931</td>\n",
       "      <td>12.078624</td>\n",
       "      <td>-10.0</td>\n",
       "    </tr>\n",
       "    <tr>\n",
       "      <th>2673</th>\n",
       "      <td>WPA113</td>\n",
       "      <td>2017-12-12</td>\n",
       "      <td>NaN</td>\n",
       "      <td>-1.016000</td>\n",
       "      <td>0.861495</td>\n",
       "      <td>45.002991</td>\n",
       "      <td>10.590431</td>\n",
       "      <td>0.347753</td>\n",
       "      <td>1.254589</td>\n",
       "      <td>12.192773</td>\n",
       "      <td>-0.0</td>\n",
       "    </tr>\n",
       "  </tbody>\n",
       "</table>\n",
       "<p>2674 rows × 11 columns</p>\n",
       "</div>"
      ],
      "text/plain": [
       "     Station       Date  UTCDateTime          Z  PO4(uM)D  SiOH4(uM)D  \\\n",
       "0     ADM001 2015-01-20          NaN -27.590000  2.307022   53.343590   \n",
       "1     ADM001 2015-01-20          NaN -10.266000  2.353272   54.585922   \n",
       "2     ADM001 2015-01-20          NaN  -1.084000  2.353988   56.163105   \n",
       "3     ADM001 2015-02-12          NaN -30.497999  2.371619   56.665092   \n",
       "4     ADM001 2015-02-12          NaN  -8.286000  2.376519   56.184971   \n",
       "...      ...        ...          ...        ...       ...         ...   \n",
       "2669  WPA113 2017-08-22          NaN  -1.227000  1.349180   21.115160   \n",
       "2670  WPA113 2017-10-31          NaN  -7.294000  0.604521   14.247242   \n",
       "2671  WPA113 2017-10-31          NaN  -1.187000  0.599338   14.292512   \n",
       "2672  WPA113 2017-12-12          NaN  -8.053000  0.840222   44.465313   \n",
       "2673  WPA113 2017-12-12          NaN  -1.016000  0.861495   45.002991   \n",
       "\n",
       "       NO3(uM)D  NO2(uM)D  NH4(uM)D        DIN  Znom  \n",
       "0     24.632721  0.110040  0.010113  24.752874 -30.0  \n",
       "1     24.874546  0.094585  0.010489  24.979620 -10.0  \n",
       "2     24.932785  0.098777  0.015908  25.047470  -0.0  \n",
       "3     26.514471  0.186773  0.021147  26.722391 -30.0  \n",
       "4     26.554394  0.174875  0.026230  26.755498 -10.0  \n",
       "...         ...       ...       ...        ...   ...  \n",
       "2669   4.627939  0.237786  3.256187   8.121912  -0.0  \n",
       "2670   4.434829  0.250806  0.587332   5.272968 -10.0  \n",
       "2671   4.360970  0.243950  0.703639   5.308559  -0.0  \n",
       "2672  10.468182  0.342512  1.267931  12.078624 -10.0  \n",
       "2673  10.590431  0.347753  1.254589  12.192773  -0.0  \n",
       "\n",
       "[2674 rows x 11 columns]"
      ]
     },
     "execution_count": 12,
     "metadata": {},
     "output_type": "execute_result"
    }
   ],
   "source": [
    "dfBot=pd.concat(dictBot.values(), ignore_index=True)\n",
    "dfBot"
   ]
  },
  {
   "cell_type": "code",
   "execution_count": 13,
   "metadata": {
    "scrolled": true
   },
   "outputs": [
    {
     "data": {
      "text/html": [
       "<div>\n",
       "<style scoped>\n",
       "    .dataframe tbody tr th:only-of-type {\n",
       "        vertical-align: middle;\n",
       "    }\n",
       "\n",
       "    .dataframe tbody tr th {\n",
       "        vertical-align: top;\n",
       "    }\n",
       "\n",
       "    .dataframe thead th {\n",
       "        text-align: right;\n",
       "    }\n",
       "</style>\n",
       "<table border=\"1\" class=\"dataframe\">\n",
       "  <thead>\n",
       "    <tr style=\"text-align: right;\">\n",
       "      <th></th>\n",
       "      <th>Station</th>\n",
       "      <th>Desig</th>\n",
       "      <th>Descrip</th>\n",
       "      <th>Basin</th>\n",
       "      <th>Max_Depth</th>\n",
       "      <th>Latitude</th>\n",
       "      <th>Longitude</th>\n",
       "      <th>Date</th>\n",
       "      <th>UTCDateTime</th>\n",
       "      <th>Z</th>\n",
       "      <th>PO4(uM)D</th>\n",
       "      <th>SiOH4(uM)D</th>\n",
       "      <th>NO3(uM)D</th>\n",
       "      <th>NO2(uM)D</th>\n",
       "      <th>NH4(uM)D</th>\n",
       "      <th>DIN</th>\n",
       "      <th>Znom</th>\n",
       "    </tr>\n",
       "  </thead>\n",
       "  <tbody>\n",
       "    <tr>\n",
       "      <th>0</th>\n",
       "      <td>ADM001</td>\n",
       "      <td>C</td>\n",
       "      <td>Admiralty Inlet - Bush Pt.</td>\n",
       "      <td>Admiralty Inlet</td>\n",
       "      <td>114</td>\n",
       "      <td>48.029813</td>\n",
       "      <td>-122.617933</td>\n",
       "      <td>2015-01-20</td>\n",
       "      <td>NaN</td>\n",
       "      <td>-27.590000</td>\n",
       "      <td>2.307022</td>\n",
       "      <td>53.343590</td>\n",
       "      <td>24.632721</td>\n",
       "      <td>0.110040</td>\n",
       "      <td>0.010113</td>\n",
       "      <td>24.752874</td>\n",
       "      <td>-30.0</td>\n",
       "    </tr>\n",
       "    <tr>\n",
       "      <th>1</th>\n",
       "      <td>ADM001</td>\n",
       "      <td>C</td>\n",
       "      <td>Admiralty Inlet - Bush Pt.</td>\n",
       "      <td>Admiralty Inlet</td>\n",
       "      <td>114</td>\n",
       "      <td>48.029813</td>\n",
       "      <td>-122.617933</td>\n",
       "      <td>2015-01-20</td>\n",
       "      <td>NaN</td>\n",
       "      <td>-10.266000</td>\n",
       "      <td>2.353272</td>\n",
       "      <td>54.585922</td>\n",
       "      <td>24.874546</td>\n",
       "      <td>0.094585</td>\n",
       "      <td>0.010489</td>\n",
       "      <td>24.979620</td>\n",
       "      <td>-10.0</td>\n",
       "    </tr>\n",
       "    <tr>\n",
       "      <th>2</th>\n",
       "      <td>ADM001</td>\n",
       "      <td>C</td>\n",
       "      <td>Admiralty Inlet - Bush Pt.</td>\n",
       "      <td>Admiralty Inlet</td>\n",
       "      <td>114</td>\n",
       "      <td>48.029813</td>\n",
       "      <td>-122.617933</td>\n",
       "      <td>2015-01-20</td>\n",
       "      <td>NaN</td>\n",
       "      <td>-1.084000</td>\n",
       "      <td>2.353988</td>\n",
       "      <td>56.163105</td>\n",
       "      <td>24.932785</td>\n",
       "      <td>0.098777</td>\n",
       "      <td>0.015908</td>\n",
       "      <td>25.047470</td>\n",
       "      <td>-0.0</td>\n",
       "    </tr>\n",
       "    <tr>\n",
       "      <th>3</th>\n",
       "      <td>ADM001</td>\n",
       "      <td>C</td>\n",
       "      <td>Admiralty Inlet - Bush Pt.</td>\n",
       "      <td>Admiralty Inlet</td>\n",
       "      <td>114</td>\n",
       "      <td>48.029813</td>\n",
       "      <td>-122.617933</td>\n",
       "      <td>2015-02-12</td>\n",
       "      <td>NaN</td>\n",
       "      <td>-30.497999</td>\n",
       "      <td>2.371619</td>\n",
       "      <td>56.665092</td>\n",
       "      <td>26.514471</td>\n",
       "      <td>0.186773</td>\n",
       "      <td>0.021147</td>\n",
       "      <td>26.722391</td>\n",
       "      <td>-30.0</td>\n",
       "    </tr>\n",
       "    <tr>\n",
       "      <th>4</th>\n",
       "      <td>ADM001</td>\n",
       "      <td>C</td>\n",
       "      <td>Admiralty Inlet - Bush Pt.</td>\n",
       "      <td>Admiralty Inlet</td>\n",
       "      <td>114</td>\n",
       "      <td>48.029813</td>\n",
       "      <td>-122.617933</td>\n",
       "      <td>2015-02-12</td>\n",
       "      <td>NaN</td>\n",
       "      <td>-8.286000</td>\n",
       "      <td>2.376519</td>\n",
       "      <td>56.184971</td>\n",
       "      <td>26.554394</td>\n",
       "      <td>0.174875</td>\n",
       "      <td>0.026230</td>\n",
       "      <td>26.755498</td>\n",
       "      <td>-10.0</td>\n",
       "    </tr>\n",
       "  </tbody>\n",
       "</table>\n",
       "</div>"
      ],
      "text/plain": [
       "  Station Desig                     Descrip            Basin  Max_Depth  \\\n",
       "0  ADM001     C  Admiralty Inlet - Bush Pt.  Admiralty Inlet        114   \n",
       "1  ADM001     C  Admiralty Inlet - Bush Pt.  Admiralty Inlet        114   \n",
       "2  ADM001     C  Admiralty Inlet - Bush Pt.  Admiralty Inlet        114   \n",
       "3  ADM001     C  Admiralty Inlet - Bush Pt.  Admiralty Inlet        114   \n",
       "4  ADM001     C  Admiralty Inlet - Bush Pt.  Admiralty Inlet        114   \n",
       "\n",
       "    Latitude   Longitude       Date  UTCDateTime          Z  PO4(uM)D  \\\n",
       "0  48.029813 -122.617933 2015-01-20          NaN -27.590000  2.307022   \n",
       "1  48.029813 -122.617933 2015-01-20          NaN -10.266000  2.353272   \n",
       "2  48.029813 -122.617933 2015-01-20          NaN  -1.084000  2.353988   \n",
       "3  48.029813 -122.617933 2015-02-12          NaN -30.497999  2.371619   \n",
       "4  48.029813 -122.617933 2015-02-12          NaN  -8.286000  2.376519   \n",
       "\n",
       "   SiOH4(uM)D   NO3(uM)D  NO2(uM)D  NH4(uM)D        DIN  Znom  \n",
       "0   53.343590  24.632721  0.110040  0.010113  24.752874 -30.0  \n",
       "1   54.585922  24.874546  0.094585  0.010489  24.979620 -10.0  \n",
       "2   56.163105  24.932785  0.098777  0.015908  25.047470  -0.0  \n",
       "3   56.665092  26.514471  0.186773  0.021147  26.722391 -30.0  \n",
       "4   56.184971  26.554394  0.174875  0.026230  26.755498 -10.0  "
      ]
     },
     "execution_count": 13,
     "metadata": {},
     "output_type": "execute_result"
    }
   ],
   "source": [
    "df1=pd.merge(left=dfSta,right=dfBot,how='right',\n",
    "             left_on='Station',right_on='Station')\n",
    "#right join means all rows in right table (dfBot) are included in output\n",
    "df1.head()"
   ]
  },
  {
   "cell_type": "code",
   "execution_count": 14,
   "metadata": {},
   "outputs": [
    {
     "data": {
      "text/html": [
       "<div>\n",
       "<style scoped>\n",
       "    .dataframe tbody tr th:only-of-type {\n",
       "        vertical-align: middle;\n",
       "    }\n",
       "\n",
       "    .dataframe tbody tr th {\n",
       "        vertical-align: top;\n",
       "    }\n",
       "\n",
       "    .dataframe thead th {\n",
       "        text-align: right;\n",
       "    }\n",
       "</style>\n",
       "<table border=\"1\" class=\"dataframe\">\n",
       "  <thead>\n",
       "    <tr style=\"text-align: right;\">\n",
       "      <th></th>\n",
       "      <th>Station</th>\n",
       "      <th>Desig</th>\n",
       "      <th>Descrip</th>\n",
       "      <th>Basin</th>\n",
       "      <th>Max_Depth</th>\n",
       "      <th>Latitude</th>\n",
       "      <th>Longitude</th>\n",
       "      <th>Date</th>\n",
       "      <th>UTCDateTime</th>\n",
       "      <th>Z</th>\n",
       "      <th>PO4(uM)D</th>\n",
       "      <th>SiOH4(uM)D</th>\n",
       "      <th>NO3(uM)D</th>\n",
       "      <th>NO2(uM)D</th>\n",
       "      <th>NH4(uM)D</th>\n",
       "      <th>DIN</th>\n",
       "      <th>Znom</th>\n",
       "    </tr>\n",
       "  </thead>\n",
       "  <tbody>\n",
       "  </tbody>\n",
       "</table>\n",
       "</div>"
      ],
      "text/plain": [
       "Empty DataFrame\n",
       "Columns: [Station, Desig, Descrip, Basin, Max_Depth, Latitude, Longitude, Date, UTCDateTime, Z, PO4(uM)D, SiOH4(uM)D, NO3(uM)D, NO2(uM)D, NH4(uM)D, DIN, Znom]\n",
       "Index: []"
      ]
     },
     "execution_count": 14,
     "metadata": {},
     "output_type": "execute_result"
    }
   ],
   "source": [
    "# check that there are no stations without lat and lon:\n",
    "df1.loc[pd.isnull(df1['Latitude'])]"
   ]
  },
  {
   "cell_type": "code",
   "execution_count": 15,
   "metadata": {},
   "outputs": [
    {
     "data": {
      "text/plain": [
       "(2674, 2674, 39)"
      ]
     },
     "execution_count": 15,
     "metadata": {},
     "output_type": "execute_result"
    }
   ],
   "source": [
    "# check one to one matches:\n",
    "len(df1),len(dfBot), len(dfSta)"
   ]
  },
  {
   "cell_type": "code",
   "execution_count": 16,
   "metadata": {},
   "outputs": [],
   "source": [
    "# where no time is provided, set time to midday Pacific time = ~ 20:00 UTC for now\n",
    "# (most sampling takes place during the day)\n",
    "# accurate times will be provided at a later date\n",
    "# the code below takes advantage of all elements in 'Date' having a time component \n",
    "# set to midnight\n",
    "df1['UTCDateTime']=[iiD+dt.timedelta(hours=20) if pd.isnull(iiU) \\\n",
    "                    else iiU for iiU,iiD in \\\n",
    "                    zip(df1['UTCDateTime'],df1['Date'])]"
   ]
  },
  {
   "cell_type": "code",
   "execution_count": 17,
   "metadata": {},
   "outputs": [
    {
     "data": {
      "text/html": [
       "<div>\n",
       "<style scoped>\n",
       "    .dataframe tbody tr th:only-of-type {\n",
       "        vertical-align: middle;\n",
       "    }\n",
       "\n",
       "    .dataframe tbody tr th {\n",
       "        vertical-align: top;\n",
       "    }\n",
       "\n",
       "    .dataframe thead th {\n",
       "        text-align: right;\n",
       "    }\n",
       "</style>\n",
       "<table border=\"1\" class=\"dataframe\">\n",
       "  <thead>\n",
       "    <tr style=\"text-align: right;\">\n",
       "      <th></th>\n",
       "      <th>Station</th>\n",
       "      <th>Desig</th>\n",
       "      <th>Descrip</th>\n",
       "      <th>Basin</th>\n",
       "      <th>Max_Depth</th>\n",
       "      <th>Lat</th>\n",
       "      <th>Lon</th>\n",
       "      <th>Date</th>\n",
       "      <th>dtUTC</th>\n",
       "      <th>Z</th>\n",
       "      <th>PO4(uM)D</th>\n",
       "      <th>SiOH4(uM)D</th>\n",
       "      <th>NO3(uM)D</th>\n",
       "      <th>NO2(uM)D</th>\n",
       "      <th>NH4(uM)D</th>\n",
       "      <th>DIN</th>\n",
       "      <th>Znom</th>\n",
       "    </tr>\n",
       "  </thead>\n",
       "  <tbody>\n",
       "    <tr>\n",
       "      <th>0</th>\n",
       "      <td>ADM001</td>\n",
       "      <td>C</td>\n",
       "      <td>Admiralty Inlet - Bush Pt.</td>\n",
       "      <td>Admiralty Inlet</td>\n",
       "      <td>114</td>\n",
       "      <td>48.029813</td>\n",
       "      <td>-122.617933</td>\n",
       "      <td>2015-01-20</td>\n",
       "      <td>2015-01-20 20:00:00</td>\n",
       "      <td>27.590000</td>\n",
       "      <td>2.307022</td>\n",
       "      <td>53.343590</td>\n",
       "      <td>24.632721</td>\n",
       "      <td>0.110040</td>\n",
       "      <td>0.010113</td>\n",
       "      <td>24.752874</td>\n",
       "      <td>-30.0</td>\n",
       "    </tr>\n",
       "    <tr>\n",
       "      <th>1</th>\n",
       "      <td>ADM001</td>\n",
       "      <td>C</td>\n",
       "      <td>Admiralty Inlet - Bush Pt.</td>\n",
       "      <td>Admiralty Inlet</td>\n",
       "      <td>114</td>\n",
       "      <td>48.029813</td>\n",
       "      <td>-122.617933</td>\n",
       "      <td>2015-01-20</td>\n",
       "      <td>2015-01-20 20:00:00</td>\n",
       "      <td>10.266000</td>\n",
       "      <td>2.353272</td>\n",
       "      <td>54.585922</td>\n",
       "      <td>24.874546</td>\n",
       "      <td>0.094585</td>\n",
       "      <td>0.010489</td>\n",
       "      <td>24.979620</td>\n",
       "      <td>-10.0</td>\n",
       "    </tr>\n",
       "    <tr>\n",
       "      <th>2</th>\n",
       "      <td>ADM001</td>\n",
       "      <td>C</td>\n",
       "      <td>Admiralty Inlet - Bush Pt.</td>\n",
       "      <td>Admiralty Inlet</td>\n",
       "      <td>114</td>\n",
       "      <td>48.029813</td>\n",
       "      <td>-122.617933</td>\n",
       "      <td>2015-01-20</td>\n",
       "      <td>2015-01-20 20:00:00</td>\n",
       "      <td>1.084000</td>\n",
       "      <td>2.353988</td>\n",
       "      <td>56.163105</td>\n",
       "      <td>24.932785</td>\n",
       "      <td>0.098777</td>\n",
       "      <td>0.015908</td>\n",
       "      <td>25.047470</td>\n",
       "      <td>-0.0</td>\n",
       "    </tr>\n",
       "    <tr>\n",
       "      <th>3</th>\n",
       "      <td>ADM001</td>\n",
       "      <td>C</td>\n",
       "      <td>Admiralty Inlet - Bush Pt.</td>\n",
       "      <td>Admiralty Inlet</td>\n",
       "      <td>114</td>\n",
       "      <td>48.029813</td>\n",
       "      <td>-122.617933</td>\n",
       "      <td>2015-02-12</td>\n",
       "      <td>2015-02-12 20:00:00</td>\n",
       "      <td>30.497999</td>\n",
       "      <td>2.371619</td>\n",
       "      <td>56.665092</td>\n",
       "      <td>26.514471</td>\n",
       "      <td>0.186773</td>\n",
       "      <td>0.021147</td>\n",
       "      <td>26.722391</td>\n",
       "      <td>-30.0</td>\n",
       "    </tr>\n",
       "    <tr>\n",
       "      <th>4</th>\n",
       "      <td>ADM001</td>\n",
       "      <td>C</td>\n",
       "      <td>Admiralty Inlet - Bush Pt.</td>\n",
       "      <td>Admiralty Inlet</td>\n",
       "      <td>114</td>\n",
       "      <td>48.029813</td>\n",
       "      <td>-122.617933</td>\n",
       "      <td>2015-02-12</td>\n",
       "      <td>2015-02-12 20:00:00</td>\n",
       "      <td>8.286000</td>\n",
       "      <td>2.376519</td>\n",
       "      <td>56.184971</td>\n",
       "      <td>26.554394</td>\n",
       "      <td>0.174875</td>\n",
       "      <td>0.026230</td>\n",
       "      <td>26.755498</td>\n",
       "      <td>-10.0</td>\n",
       "    </tr>\n",
       "  </tbody>\n",
       "</table>\n",
       "</div>"
      ],
      "text/plain": [
       "  Station Desig                     Descrip            Basin  Max_Depth  \\\n",
       "0  ADM001     C  Admiralty Inlet - Bush Pt.  Admiralty Inlet        114   \n",
       "1  ADM001     C  Admiralty Inlet - Bush Pt.  Admiralty Inlet        114   \n",
       "2  ADM001     C  Admiralty Inlet - Bush Pt.  Admiralty Inlet        114   \n",
       "3  ADM001     C  Admiralty Inlet - Bush Pt.  Admiralty Inlet        114   \n",
       "4  ADM001     C  Admiralty Inlet - Bush Pt.  Admiralty Inlet        114   \n",
       "\n",
       "         Lat         Lon       Date               dtUTC          Z  PO4(uM)D  \\\n",
       "0  48.029813 -122.617933 2015-01-20 2015-01-20 20:00:00  27.590000  2.307022   \n",
       "1  48.029813 -122.617933 2015-01-20 2015-01-20 20:00:00  10.266000  2.353272   \n",
       "2  48.029813 -122.617933 2015-01-20 2015-01-20 20:00:00   1.084000  2.353988   \n",
       "3  48.029813 -122.617933 2015-02-12 2015-02-12 20:00:00  30.497999  2.371619   \n",
       "4  48.029813 -122.617933 2015-02-12 2015-02-12 20:00:00   8.286000  2.376519   \n",
       "\n",
       "   SiOH4(uM)D   NO3(uM)D  NO2(uM)D  NH4(uM)D        DIN  Znom  \n",
       "0   53.343590  24.632721  0.110040  0.010113  24.752874 -30.0  \n",
       "1   54.585922  24.874546  0.094585  0.010489  24.979620 -10.0  \n",
       "2   56.163105  24.932785  0.098777  0.015908  25.047470  -0.0  \n",
       "3   56.665092  26.514471  0.186773  0.021147  26.722391 -30.0  \n",
       "4   56.184971  26.554394  0.174875  0.026230  26.755498 -10.0  "
      ]
     },
     "execution_count": 17,
     "metadata": {},
     "output_type": "execute_result"
    }
   ],
   "source": [
    "# We require the following columns:\n",
    "#    dtUTC datetime\n",
    "#    Lat   Latitude\n",
    "#    Lon   Longitude\n",
    "#    Z     Depth, increasing downward (positive)\n",
    "df1.rename(columns={'UTCDateTime':'dtUTC','Latitude':'Lat','Longitude':'Lon'},inplace=True)\n",
    "df1['Z']=-1*df1['Z']\n",
    "df1.head()"
   ]
  },
  {
   "cell_type": "code",
   "execution_count": 18,
   "metadata": {},
   "outputs": [],
   "source": [
    "# It will also be useful to add/rename the following columns:\n",
    "df1['NO23']=df1['NO3(uM)D']+df1['NO2(uM)D'] # the model does not distinguish between NO2 and NO3\n",
    "df1['Amm']=df1['NH4(uM)D']\n",
    "df1['Si']=df1['SiOH4(uM)D']\n",
    "df1['Year']=[ii.year for ii in df1['dtUTC']]\n",
    "df1['YD']=et.datetimeToYD(df1['dtUTC'])"
   ]
  },
  {
   "cell_type": "markdown",
   "metadata": {},
   "source": [
    "## load CTD data and add CT and SA to nutrient data set"
   ]
  },
  {
   "cell_type": "code",
   "execution_count": 19,
   "metadata": {},
   "outputs": [],
   "source": [
    "dictCTD=dict()\n",
    "for i in years:\n",
    "    dictCTD[i]=pickle.load(open(os.path.join(datadir,f'Casts_{str(i)}.p'),'rb'))\n",
    "dfCTD0=pd.concat(dictCTD.values(), ignore_index=True)\n",
    "dfCTD=pd.merge(left=dfSta,right=dfCTD0,how='right',\n",
    "             left_on='Station',right_on='Station')\n",
    "dfCTD['dtUTC']=[iiD+dt.timedelta(hours=20) for iiD in dfCTD['Date']] #Does this mean it also has that flaw where we are not sure when the data was collected?\n",
    "dfCTD.rename(columns={'Latitude':'Lat','Longitude':'Lon'},inplace=True)\n",
    "dfCTD['Z']=-1*dfCTD['Z']\n",
    "# Calculate Absolute (Reference) Salinity (g/kg) and Conservative Temperature (deg C) from \n",
    "# Salinity (psu) and Temperature (deg C):\n",
    "press=gsw.p_from_z(-1*dfCTD['Z'],dfCTD['Lat'])\n",
    "dfCTD['SA']=gsw.SA_from_SP(dfCTD['Salinity'],press,\n",
    "                           dfCTD['Lon'],dfCTD['Lat'])\n",
    "dfCTD['CT']=gsw.CT_from_t(dfCTD['SA'],dfCTD['Temperature'],press)\n",
    "\n",
    "dfCTD['Year']=[ii.year for ii in dfCTD['dtUTC']]\n",
    "dfCTD['YD']=et.datetimeToYD(dfCTD['dtUTC'])"
   ]
  },
  {
   "cell_type": "code",
   "execution_count": 20,
   "metadata": {},
   "outputs": [
    {
     "data": {
      "text/plain": [
       "Index(['Station', 'Desig', 'Descrip', 'Basin', 'Max_Depth', 'Lat', 'Lon',\n",
       "       'Salinity', 'Temperature', 'Sigma', 'Chl', 'DO', 'Turb', 'Z', 'Date',\n",
       "       'dtUTC', 'SA', 'CT', 'Year', 'YD'],\n",
       "      dtype='object')"
      ]
     },
     "execution_count": 20,
     "metadata": {},
     "output_type": "execute_result"
    }
   ],
   "source": [
    "dfCTD.keys()"
   ]
  },
  {
   "cell_type": "code",
   "execution_count": 21,
   "metadata": {},
   "outputs": [
    {
     "name": "stdout",
     "output_type": "stream",
     "text": [
      "this should be 1:  [1]\n"
     ]
    }
   ],
   "source": [
    "# check that there is never more than one ctd cast per station per day:\n",
    "test=dfCTD.groupby(['Station','Year','YD','Z']).count()\n",
    "print('this should be 1: ',test['Date'].unique())"
   ]
  },
  {
   "cell_type": "code",
   "execution_count": 22,
   "metadata": {},
   "outputs": [],
   "source": [
    "def interpCTDvar(sta,yr,yd,ztarget,ctdvar):\n",
    "    ctdlocs=(dfCTD.Station==sta)&(dfCTD.Year==yr)&(dfCTD.YD==yd)\n",
    "    if np.sum(ctdlocs)==0:\n",
    "        print(f'Warning: Station {sta}, Year {yr}, year day {yd} not found in dfCTD')\n",
    "        return np.nan\n",
    "    else:\n",
    "        val=np.interp(ztarget,dfCTD.loc[ctdlocs,['Z']].values.flatten(),\n",
    "                  dfCTD.loc[ctdlocs,[ctdvar]].values.flatten())\n",
    "        return val"
   ]
  },
  {
   "cell_type": "code",
   "execution_count": 23,
   "metadata": {},
   "outputs": [
    {
     "data": {
      "text/plain": [
       "array([ 21,  55,  83, 119, 166, 187, 223, 264, 327, 350,  25,  53,  82,\n",
       "       109, 138, 188, 236, 256, 326,  54,  94, 129, 165, 199, 228, 296,\n",
       "       341])"
      ]
     },
     "execution_count": 23,
     "metadata": {},
     "output_type": "execute_result"
    }
   ],
   "source": [
    "dfCTD.loc[dfCTD.Station=='PSS019']['YD'].unique() # lets you view the different dates data was callected on."
   ]
  },
  {
   "cell_type": "code",
   "execution_count": 24,
   "metadata": {},
   "outputs": [
    {
     "data": {
      "text/plain": [
       "array([ 21,  55,  83, 119, 166, 187, 223, 264, 327, 350,  25,  53,  82,\n",
       "       109, 138, 188, 236, 256, 326,  54,  94, 129, 165, 199, 228, 296,\n",
       "       341])"
      ]
     },
     "execution_count": 24,
     "metadata": {},
     "output_type": "execute_result"
    }
   ],
   "source": [
    "df1.loc[df1.Station=='PSS019']['YD'].unique()"
   ]
  },
  {
   "cell_type": "code",
   "execution_count": 25,
   "metadata": {},
   "outputs": [
    {
     "name": "stdout",
     "output_type": "stream",
     "text": [
      "Warning: Station GYS008, Year 2016, year day 39 not found in dfCTD\n",
      "Warning: Station WPA004, Year 2016, year day 39 not found in dfCTD\n"
     ]
    }
   ],
   "source": [
    "df1['SA']=[interpCTDvar(sta,yr,yd,ztarget,'SA') for sta, yr, yd, ztarget \\\n",
    "           in zip(df1['Station'],df1['Year'],df1['YD'],df1['Z'])]"
   ]
  },
  {
   "cell_type": "code",
   "execution_count": 26,
   "metadata": {},
   "outputs": [
    {
     "name": "stdout",
     "output_type": "stream",
     "text": [
      "Warning: Station GYS008, Year 2016, year day 39 not found in dfCTD\n",
      "Warning: Station WPA004, Year 2016, year day 39 not found in dfCTD\n"
     ]
    }
   ],
   "source": [
    "df1['CT']=[interpCTDvar(sta,yr,yd,ztarget,'CT') for sta, yr, yd, ztarget \\\n",
    "           in zip(df1['Station'],df1['Year'],df1['YD'],df1['Z'])]"
   ]
  },
  {
   "cell_type": "markdown",
   "metadata": {},
   "source": [
    "### set up variables for model-data matching"
   ]
  },
  {
   "cell_type": "code",
   "execution_count": 28,
   "metadata": {},
   "outputs": [],
   "source": [
    "fdict={'ptrc_T':1,'grid_T':1}\n",
    "# start_date and end_date are the first and last dates that will \n",
    "#  be included in the matched data set\n",
    "start_date = dt.datetime(years[0],1,1)\n",
    "end_date = dt.datetime(years[-1],12,31)\n",
    "flen=1 # number of days per model output file. always 1 for 201905 and 201812 model runs\n",
    "namfmt='nowcast' # for 201905 and 201812 model runs, this should always be 'nowcast'\n",
    "# filemap is dictionary of the form variableName: fileType, where variableName is the name\n",
    "# of the variable you want to extract and fileType designates the type of \n",
    "# model output file it can be found in (usually ptrc_T for biology, grid_T for temperature and \n",
    "# salinity)\n",
    "filemap={'nitrate':'ptrc_T','silicon':'ptrc_T','ammonium':'ptrc_T','diatoms':'ptrc_T',\n",
    "         'ciliates':'ptrc_T','flagellates':'ptrc_T','votemper':'grid_T','vosaline':'grid_T'}\n",
    "# fdict is a dictionary mappy file type to its time resolution. Here, 1 means hourly output\n",
    "# (1h file) and 24 means daily output (1d file). In certain runs, multiple time resolutions \n",
    "# are available\n",
    "fdict={'ptrc_T':1,'grid_T':1}\n",
    "# Note: to switch between 201812 and 201905 model results, change PATH\n",
    "# to switch from hourly to daily model output, change fdict values from 1 to 24 (but daily \n",
    "#  files are not available for some runs and file types)"
   ]
  },
  {
   "cell_type": "code",
   "execution_count": 29,
   "metadata": {},
   "outputs": [
    {
     "name": "stdout",
     "output_type": "stream",
     "text": [
      "(Lat,Lon)= 46.453155 -124.00960333333333  not matched to domain\n",
      "(Lat,Lon)= 46.463155 -123.94126833333334  not matched to domain\n",
      "(Lat,Lon)= 46.54537666666667 -123.98016166666666  not matched to domain\n",
      "(Lat,Lon)= 46.644 -123.993  not matched to domain\n",
      "(Lat,Lon)= 46.68676333333333 -123.9735  not matched to domain\n",
      "(Lat,Lon)= 46.703986666666665 -123.837385  not matched to domain\n",
      "(Lat,Lon)= 46.937313333333336 -123.91322333333333  not matched to domain\n",
      "(Lat,Lon)= 46.953421666666664 -124.09295  not matched to domain\n",
      "(Lat,Lon)= 47.21342666666666 -123.07765  not matched to domain\n"
     ]
    }
   ],
   "source": [
    "data=et.matchData(df1,filemap,fdict,start_date,end_date,'nowcast',PATH,1,quiet=False);"
   ]
  },
  {
   "cell_type": "code",
   "execution_count": null,
   "metadata": {},
   "outputs": [],
   "source": [
    "cm1=cmocean.cm.thermal\n",
    "with nc.Dataset('/data/eolson/results/MEOPAR/NEMO-forcing-new/grid/bathymetry_201702.nc') as bathy:\n",
    "    bathylon=np.copy(bathy.variables['nav_lon'][:,:])\n",
    "    bathylat=np.copy(bathy.variables['nav_lat'][:,:])\n",
    "    bathyZ=np.copy(bathy.variables['Bathymetry'][:,:])"
   ]
  },
  {
   "cell_type": "code",
   "execution_count": null,
   "metadata": {},
   "outputs": [],
   "source": [
    "fig, ax = plt.subplots(1,1,figsize = (6,6))\n",
    "with nc.Dataset('/data/vdo/MEOPAR/NEMO-forcing/grid/bathymetry_201702.nc') as grid:\n",
    "    viz_tools.plot_coastline(ax, grid, coords = 'map',isobath=.1)\n",
    "colors=('blue','green','firebrick','darkorange','darkviolet','fuchsia',\n",
    "        'royalblue','darkgoldenrod','mediumspringgreen','deepskyblue')\n",
    "datreg=dict()\n",
    "for ind, iregion in enumerate(data.Basin.unique()):\n",
    "    datreg[iregion] = data.loc[data.Basin==iregion]\n",
    "    ax.plot(datreg[iregion]['Lon'], datreg[iregion]['Lat'],'.',\n",
    "            color = colors[ind], label=iregion)\n",
    "ax.set_ylim(47, 49)\n",
    "ax.legend(bbox_to_anchor=[1,.6,0,0])\n",
    "ax.set_xlim(-124, -122);\n",
    "ax.set_title('Observation Locations');\n",
    "\n",
    "iz=(data.Z<15)\n",
    "JFMd=dict()\n",
    "Aprd=dict()\n",
    "MJJAd=dict()\n",
    "SONDd=dict()\n",
    "for i in years:\n",
    "    JFMd[i]=data.loc[iz&(data.dtUTC<=dt.datetime(i,4,1)),:]\n",
    "    Aprd[i]=data.loc[iz&(data.dtUTC<=dt.datetime(i,5,1))&(data.dtUTC>dt.datetime(i,4,1)),:]\n",
    "    MJJAd[i]=data.loc[iz&(data.dtUTC<=dt.datetime(i,9,1))&(data.dtUTC>dt.datetime(i,5,1)),:]\n",
    "    SONDd[i]=data.loc[iz&(data.dtUTC>dt.datetime(i,9,1)),:]\n",
    "JFM=pd.concat(JFMd.values(), ignore_index=True)\n",
    "Apr=pd.concat(Aprd.values(), ignore_index=True)\n",
    "MJJA=pd.concat(MJJAd.values(), ignore_index=True)\n",
    "SOND=pd.concat(SONDd.values(), ignore_index=True)"
   ]
  },
  {
   "cell_type": "markdown",
   "metadata": {},
   "source": [
    "These two new dictionaries make it easier to call upon graphs for different years. "
   ]
  },
  {
   "cell_type": "code",
   "execution_count": null,
   "metadata": {},
   "outputs": [],
   "source": [
    "datstat=dict()\n",
    "for ind, istation in enumerate(data.Station.unique()):\n",
    "    datstat[istation]=data.loc[data.Station == istation]\n",
    "    \n",
    "datyear=dict()\n",
    "for ind, iyear in enumerate(data.dtUTC.dt.year.unique()):\n",
    "    datyear[iyear] = data.loc[data.dtUTC.dt.year==iyear]"
   ]
  },
  {
   "cell_type": "code",
   "execution_count": null,
   "metadata": {},
   "outputs": [],
   "source": [
    "def byDepth(ax,obsvar,modvar,lims):\n",
    "    ps=et.varvarPlot(ax,data,obsvar,modvar,'Z',(15,22),'z','m',('mediumseagreen','darkturquoise','navy'))\n",
    "    l=ax.legend(handles=ps)\n",
    "    ax.set_xlabel('Obs')\n",
    "    ax.set_ylabel('Model')\n",
    "    ax.plot(lims,lims,'k-',alpha=.5)\n",
    "    ax.set_xlim(lims)\n",
    "    ax.set_ylim(lims)\n",
    "    ax.set_aspect(1)\n",
    "    return ps,l\n",
    "\n",
    "def byRegion(ax,obsvar,modvar,lims,sep = False,region = 'not'):\n",
    "    ps=[]\n",
    "    if sep == False:\n",
    "        for ind, iregion in enumerate(data.Basin.unique()):\n",
    "            ax.plot(datreg[iregion]['Lon'], datreg[iregion]['Lat'],'.',\n",
    "                    color = colors[ind], label=iregion)\n",
    "            ps0=et.varvarPlot(ax,datreg[iregion],obsvar,modvar,\n",
    "                              cols=(colors[ind],),lname=iregion)\n",
    "            ps.append(ps0)\n",
    "    elif sep == True:\n",
    "        ax.plot(datreg[region]['Lon'], datreg[region]['Lat'],'.',\n",
    "                    color = colors[np.random.randint(0,10)], label=region)\n",
    "        ps0=et.varvarPlot(ax,datreg[region],obsvar,modvar,\n",
    "                          cols=(colors[np.random.randint(0,10)],),lname=region)\n",
    "        ps.append(ps0)\n",
    "    l=ax.legend(handles=[ip[0][0] for ip in ps])\n",
    "    ax.set_xlabel('Obs')\n",
    "    ax.set_ylabel('Model')\n",
    "    ax.plot(lims,lims,'k-',alpha=.5)\n",
    "    ax.set_xlim(lims)\n",
    "    ax.set_ylim(lims)\n",
    "    ax.set_aspect(1)\n",
    "    return ps,l\n",
    "\n",
    "def byStation(ax,obsvar,modvar,lims,region):\n",
    "    ps=[]\n",
    "    for ind, istation in enumerate(data[data['Basin'] == region].Station.unique()):\n",
    "        ax.plot(datstat[istation]['Lon'], datstat[istation]['Lat'],'.',\n",
    "                    color = colors[ind], label=istation)\n",
    "        ps0=et.varvarPlot(ax,datstat[istation],obsvar,modvar,\n",
    "                            cols=(colors[ind],),lname=istation)\n",
    "        ps.append(ps0)\n",
    "    l=ax.legend(handles=[ip[0][0] for ip in ps])\n",
    "    ax.set_xlabel('Obs')\n",
    "    ax.set_ylabel('Model')\n",
    "    ax.plot(lims,lims,'k-',alpha=.5)\n",
    "    ax.set_xlim(lims)\n",
    "    ax.set_ylim(lims)\n",
    "    ax.set_aspect(1)\n",
    "    return ps,l\n",
    "\n",
    "def bySeason(ax,obsvar,modvar,lims):\n",
    "    for axi in ax:\n",
    "        axi.plot(lims,lims,'k-')\n",
    "        axi.set_xlim(lims)\n",
    "        axi.set_ylim(lims)\n",
    "        axi.set_aspect(1)\n",
    "        axi.set_xlabel('Obs')\n",
    "        axi.set_ylabel('Model')\n",
    "    ps=et.varvarPlot(ax[0],JFM,obsvar,modvar,cols=('crimson','darkturquoise','navy'))\n",
    "    ax[0].set_title('Jan-Mar')\n",
    "    ps=et.varvarPlot(ax[1],Apr,obsvar,modvar,cols=('crimson','darkturquoise','navy'))\n",
    "    ax[1].set_title('Apr')\n",
    "    ps=et.varvarPlot(ax[2],MJJA,obsvar,modvar,cols=('crimson','darkturquoise','navy'))\n",
    "    ax[2].set_title('May-Aug')\n",
    "    ps=et.varvarPlot(ax[3],SOND,obsvar,modvar,cols=('crimson','darkturquoise','navy'))\n",
    "    ax[3].set_title('Sep-Dec')\n",
    "    return \n",
    "\n",
    "def ErrErr(fig,ax,obsvar1,modvar1,obsvar2,modvar2,lims1,lims2):\n",
    "    m=ax.scatter(data[modvar1]-data[obsvar1],data[modvar2]-data[obsvar2],c=data['Z'],s=1,cmap='gnuplot')\n",
    "    cb=fig.colorbar(m,ax=ax,label='Depth (m)')\n",
    "    ax.set_xlim(lims1)\n",
    "    ax.set_ylim(lims2)\n",
    "    ax.set_aspect((lims1[1]-lims1[0])/(lims2[1]-lims2[0]))\n",
    "    return m,cb"
   ]
  },
  {
   "cell_type": "markdown",
   "metadata": {},
   "source": [
    "### Error vs Temperature for years 2015-2017"
   ]
  },
  {
   "cell_type": "code",
   "execution_count": null,
   "metadata": {},
   "outputs": [],
   "source": [
    "def multi_env_graph(down,across,figsize,years,envvar,envvar_name):\n",
    "    fig,ax=plt.subplots(down,across,figsize=figsize)\n",
    "    for d,Y in zip(range(down),years):\n",
    "        for a,v in zip(range(across),envvar):\n",
    "            m=ax[d][a].scatter(datyear[Y][v[0]],datyear[Y][v[1]]-datyear[Y][v[2]],c=datyear[Y]['Z'],s=1,cmap='gnuplot') \n",
    "            cb=fig.colorbar(m,ax=ax[d][a],label='Depth (m)')\n",
    "            ax[d][a].set_xlabel(f'Obs {envvar_name} (g kg$^{-1}$)',fontsize=12)\n",
    "            ax[d][a].set_ylabel(f'{v[2]} Error ($\\mu$M)',fontsize=12)\n",
    "            ax[d][a].set_title(str(Y))\n",
    "    plt.tight_layout()"
   ]
  },
  {
   "cell_type": "code",
   "execution_count": null,
   "metadata": {},
   "outputs": [],
   "source": [
    "down=3\n",
    "across=3\n",
    "figsize=(12,10)\n",
    "var=[['CT','mod_nitrate','NO23'],['CT','mod_silicon','Si'],['CT','mod_ammonium','Amm']]\n",
    "\n",
    "multi_env_graph(down,across,figsize,years,var,'Temperature')"
   ]
  },
  {
   "cell_type": "markdown",
   "metadata": {},
   "source": [
    "### Error vs Salinity for years 2015-2017"
   ]
  },
  {
   "cell_type": "code",
   "execution_count": null,
   "metadata": {},
   "outputs": [],
   "source": [
    "down=3\n",
    "across=3\n",
    "figsize=(12,10)\n",
    "var=[['SA','mod_nitrate','NO23'],['SA','mod_silicon','Si'],['SA','mod_ammonium','Amm']]\n",
    "\n",
    "multi_env_graph(down,across,figsize,years,var,'Salinity')"
   ]
  },
  {
   "cell_type": "markdown",
   "metadata": {},
   "source": [
    "How could I do something that could show if there is actually a trend to all of these data points (I do not think there is one with the exception of possibly ammonia but it would be interesting to check.) "
   ]
  },
  {
   "cell_type": "markdown",
   "metadata": {},
   "source": [
    "I would also like to try to calculate actual correlation values for these plots that I am making rather than just looking at lines and dots. "
   ]
  }
 ],
 "metadata": {
  "anaconda-cloud": {},
  "kernelspec": {
   "display_name": "Python (py39)",
   "language": "python",
   "name": "py39"
  },
  "language_info": {
   "codemirror_mode": {
    "name": "ipython",
    "version": 3
   },
   "file_extension": ".py",
   "mimetype": "text/x-python",
   "name": "python",
   "nbconvert_exporter": "python",
   "pygments_lexer": "ipython3",
   "version": "3.9.1"
  }
 },
 "nbformat": 4,
 "nbformat_minor": 4
}
